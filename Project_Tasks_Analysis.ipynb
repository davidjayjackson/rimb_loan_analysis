{
  "cells": [
    {
      "cell_type": "code",
      "execution_count": null,
      "id": "dcd01797-eac7-4ce4-bdb0-e73212126991",
      "metadata": {
        "ExecuteTime": {
          "end_time": "2023-10-10T18:42:53.927860+00:00",
          "start_time": "2023-10-10T18:42:53.685441+00:00"
        },
        "datalink": {
          "4c667491-5562-4615-9f91-d96f7f108115": {
            "applied_filters": [],
            "dataframe_info": {
              "default_index_used": false,
              "orig_num_cols": 22,
              "orig_num_rows": 5,
              "orig_size_bytes": 920,
              "truncated_num_cols": 22,
              "truncated_num_rows": 5,
              "truncated_size_bytes": 920,
              "truncated_string_columns": []
            },
            "display_id": "4c667491-5562-4615-9f91-d96f7f108115",
            "dx_settings": {
              "ALLOW_NOTEABLE_ATTRS": true,
              "COLUMN_SAMPLING_METHOD": "outer",
              "DB_LOCATION": ":memory:",
              "DEV_MODE": false,
              "DISPLAY_MAX_COLUMNS": 100,
              "DISPLAY_MAX_ROWS": 50000,
              "DISPLAY_MODE": "simple",
              "ENABLE_ASSIGNMENT": true,
              "ENABLE_DATALINK": true,
              "FLATTEN_COLUMN_VALUES": true,
              "FLATTEN_INDEX_VALUES": false,
              "GENERATE_DEX_METADATA": false,
              "HTML_TABLE_SCHEMA": false,
              "LOG_LEVEL": 30,
              "MAX_RENDER_SIZE_BYTES": 104857600,
              "MAX_STRING_LENGTH": 250,
              "NUM_PAST_SAMPLES_TRACKED": 3,
              "RANDOM_STATE": 12648430,
              "RESET_INDEX_VALUES": false,
              "ROW_SAMPLING_METHOD": "random",
              "SAMPLING_FACTOR": 0.1,
              "SAMPLING_METHOD": "random",
              "STRINGIFY_COLUMN_VALUES": true,
              "STRINGIFY_INDEX_VALUES": false
            },
            "sample_history": [],
            "sampling_time": "2023-10-10T18:42:53.760987",
            "user_variable_name": null,
            "variable_name": "unk_dataframe_7be38013af2e4ae0a67a0fbe8e36c103"
          }
        },
        "noteable": {
          "cell_type": "code"
        }
      },
      "outputs": [
        {
          "data": {
            "application/vnd.dataresource+json": {
              "data": [
                {
                  "A_Accepted": 1,
                  "A_Cancelled": 1,
                  "A_Complete": 1,
                  "A_Concept": 1,
                  "A_Create Application": 1,
                  "A_Denied": 0,
                  "A_Incomplete": 0,
                  "A_Pending": 0,
                  "A_Submitted": 1,
                  "A_Validating": 0,
                  "O_Accepted": 0,
                  "O_Cancelled": 2,
                  "O_Create Offer": 2,
                  "O_Created": 2,
                  "O_Refused": 0,
                  "O_Returned": 0,
                  "O_Sent (mail and online)": 2,
                  "W_Call after offers": 1,
                  "W_Call incomplete files": 0,
                  "W_Complete application": 1,
                  "W_Handle leads": 0,
                  "W_Validate application": 0,
                  "case_id": "Application_1085880569"
                },
                {
                  "A_Accepted": 1,
                  "A_Cancelled": 1,
                  "A_Complete": 1,
                  "A_Concept": 1,
                  "A_Create Application": 1,
                  "A_Denied": 0,
                  "A_Incomplete": 1,
                  "A_Pending": 0,
                  "A_Submitted": 1,
                  "A_Validating": 1,
                  "O_Accepted": 0,
                  "O_Cancelled": 1,
                  "O_Create Offer": 1,
                  "O_Created": 1,
                  "O_Refused": 0,
                  "O_Returned": 1,
                  "O_Sent (mail and online)": 1,
                  "W_Call after offers": 1,
                  "W_Call incomplete files": 1,
                  "W_Complete application": 1,
                  "W_Handle leads": 0,
                  "W_Validate application": 1,
                  "case_id": "Application_1266995739"
                },
                {
                  "A_Accepted": 1,
                  "A_Cancelled": 0,
                  "A_Complete": 1,
                  "A_Concept": 1,
                  "A_Create Application": 1,
                  "A_Denied": 1,
                  "A_Incomplete": 0,
                  "A_Pending": 0,
                  "A_Submitted": 1,
                  "A_Validating": 1,
                  "O_Accepted": 0,
                  "O_Cancelled": 0,
                  "O_Create Offer": 1,
                  "O_Created": 1,
                  "O_Refused": 1,
                  "O_Returned": 0,
                  "O_Sent (mail and online)": 1,
                  "W_Call after offers": 1,
                  "W_Call incomplete files": 0,
                  "W_Complete application": 1,
                  "W_Handle leads": 0,
                  "W_Validate application": 1,
                  "case_id": "Application_1691306052"
                },
                {
                  "A_Accepted": 1,
                  "A_Cancelled": 0,
                  "A_Complete": 0,
                  "A_Concept": 1,
                  "A_Create Application": 1,
                  "A_Denied": 0,
                  "A_Incomplete": 0,
                  "A_Pending": 0,
                  "A_Submitted": 1,
                  "A_Validating": 0,
                  "O_Accepted": 0,
                  "O_Cancelled": 0,
                  "O_Create Offer": 1,
                  "O_Created": 1,
                  "O_Refused": 0,
                  "O_Returned": 0,
                  "O_Sent (mail and online)": 1,
                  "W_Call after offers": 0,
                  "W_Call incomplete files": 0,
                  "W_Complete application": 1,
                  "W_Handle leads": 0,
                  "W_Validate application": 0,
                  "case_id": "Application_1710223761"
                },
                {
                  "A_Accepted": 1,
                  "A_Cancelled": 0,
                  "A_Complete": 1,
                  "A_Concept": 1,
                  "A_Create Application": 1,
                  "A_Denied": 0,
                  "A_Incomplete": 2,
                  "A_Pending": 1,
                  "A_Submitted": 1,
                  "A_Validating": 3,
                  "O_Accepted": 1,
                  "O_Cancelled": 1,
                  "O_Create Offer": 2,
                  "O_Created": 2,
                  "O_Refused": 0,
                  "O_Returned": 1,
                  "O_Sent (mail and online)": 2,
                  "W_Call after offers": 1,
                  "W_Call incomplete files": 2,
                  "W_Complete application": 1,
                  "W_Handle leads": 1,
                  "W_Validate application": 3,
                  "case_id": "Application_1746793196"
                }
              ],
              "datalink": {
                "display_id": "4c667491-5562-4615-9f91-d96f7f108115"
              },
              "schema": {
                "fields": [
                  {
                    "name": "case_id",
                    "type": "string"
                  },
                  {
                    "name": "A_Accepted",
                    "type": "integer"
                  },
                  {
                    "name": "A_Cancelled",
                    "type": "integer"
                  },
                  {
                    "name": "A_Complete",
                    "type": "integer"
                  },
                  {
                    "name": "A_Concept",
                    "type": "integer"
                  },
                  {
                    "name": "A_Create Application",
                    "type": "integer"
                  },
                  {
                    "name": "A_Denied",
                    "type": "integer"
                  },
                  {
                    "name": "A_Incomplete",
                    "type": "integer"
                  },
                  {
                    "name": "A_Pending",
                    "type": "integer"
                  },
                  {
                    "name": "A_Submitted",
                    "type": "integer"
                  },
                  {
                    "name": "A_Validating",
                    "type": "integer"
                  },
                  {
                    "name": "O_Accepted",
                    "type": "integer"
                  },
                  {
                    "name": "O_Cancelled",
                    "type": "integer"
                  },
                  {
                    "name": "O_Create Offer",
                    "type": "integer"
                  },
                  {
                    "name": "O_Created",
                    "type": "integer"
                  },
                  {
                    "name": "O_Refused",
                    "type": "integer"
                  },
                  {
                    "name": "O_Returned",
                    "type": "integer"
                  },
                  {
                    "name": "O_Sent (mail and online)",
                    "type": "integer"
                  },
                  {
                    "name": "W_Call after offers",
                    "type": "integer"
                  },
                  {
                    "name": "W_Call incomplete files",
                    "type": "integer"
                  },
                  {
                    "name": "W_Complete application",
                    "type": "integer"
                  },
                  {
                    "name": "W_Handle leads",
                    "type": "integer"
                  },
                  {
                    "name": "W_Validate application",
                    "type": "integer"
                  }
                ],
                "pandas_version": "1.4.0",
                "primaryKey": [
                  "case_id"
                ]
              }
            }
          },
          "metadata": {
            "application/vnd.dataresource+json": {
              "datalink": {
                "applied_filters": [],
                "dataframe_info": {
                  "default_index_used": false,
                  "orig_num_cols": 22,
                  "orig_num_rows": 5,
                  "orig_size_bytes": 920,
                  "truncated_num_cols": 22,
                  "truncated_num_rows": 5,
                  "truncated_size_bytes": 920,
                  "truncated_string_columns": []
                },
                "display_id": "4c667491-5562-4615-9f91-d96f7f108115",
                "dx_settings": {
                  "ALLOW_NOTEABLE_ATTRS": true,
                  "COLUMN_SAMPLING_METHOD": "outer",
                  "DB_LOCATION": ":memory:",
                  "DEV_MODE": false,
                  "DISPLAY_MAX_COLUMNS": 100,
                  "DISPLAY_MAX_ROWS": 50000,
                  "DISPLAY_MODE": "simple",
                  "ENABLE_ASSIGNMENT": true,
                  "ENABLE_DATALINK": true,
                  "FLATTEN_COLUMN_VALUES": true,
                  "FLATTEN_INDEX_VALUES": false,
                  "GENERATE_DEX_METADATA": false,
                  "HTML_TABLE_SCHEMA": false,
                  "LOG_LEVEL": 30,
                  "MAX_RENDER_SIZE_BYTES": 104857600,
                  "MAX_STRING_LENGTH": 250,
                  "NUM_PAST_SAMPLES_TRACKED": 3,
                  "RANDOM_STATE": 12648430,
                  "RESET_INDEX_VALUES": false,
                  "ROW_SAMPLING_METHOD": "random",
                  "SAMPLING_FACTOR": 0.1,
                  "SAMPLING_METHOD": "random",
                  "STRINGIFY_COLUMN_VALUES": true,
                  "STRINGIFY_INDEX_VALUES": false
                },
                "sample_history": [],
                "sampling_time": "2023-10-10T18:42:53.760987",
                "user_variable_name": null,
                "variable_name": "unk_dataframe_7be38013af2e4ae0a67a0fbe8e36c103"
              },
              "display_id": "4c667491-5562-4615-9f91-d96f7f108115"
            }
          },
          "output_type": "display_data"
        }
      ],
      "source": [
        "# Display the Activity Tracker Frequency Matrix for inclusion in the final report\n",
        "activity_frequency_matrix.head()"
      ]
    },
    {
      "cell_type": "code",
      "execution_count": null,
      "id": "c8750e43-aa94-4965-98e5-1d622286856b",
      "metadata": {
        "jupyter": {
          "outputs_hidden": false,
          "source_hidden": false
        },
        "noteable": {
          "cell_type": "code"
        }
      },
      "outputs": [],
      "source": []
    },
    {
      "cell_type": "code",
      "execution_count": null,
      "id": "0218abf8-f7ee-4076-9931-ef8c47353556",
      "metadata": {
        "ExecuteTime": {
          "end_time": "2023-10-10T00:09:06.475216+00:00",
          "start_time": "2023-10-10T00:09:06.175912+00:00"
        },
        "noteable": {
          "cell_type": "code"
        }
      },
      "outputs": [],
      "source": [
        "# Importing the required libraries to read the PDF document\n",
        "import PyPDF2\n",
        "\n",
        "# Define a function to read the PDF document\n",
        "def read_pdf(file_path):\n",
        "    with open(file_path, 'rb') as file:\n",
        "        reader = PyPDF2.PdfFileReader(file)\n",
        "        text = ''\n",
        "        for i in range(reader.numPages):\n",
        "            page = reader.getPage(i)\n",
        "            text += page.extractText()\n",
        "    return text\n",
        "\n",
        "# File path to the PDF document\n",
        "pdf_file_path = 'project_requirments.pdf'\n",
        "\n",
        "# Read the document and print the content\n",
        "project_requirements = read_pdf(pdf_file_path)\n",
        "print(project_requirements)"
      ]
    },
    {
      "cell_type": "code",
      "execution_count": null,
      "id": "fc376b62-eeef-448c-a029-5f7aec76e665",
      "metadata": {
        "ExecuteTime": {
          "end_time": "2023-10-10T00:08:37.471515+00:00",
          "start_time": "2023-10-10T00:08:34.832696+00:00"
        },
        "noteable": {
          "cell_type": "code"
        }
      },
      "outputs": [],
      "source": [
        "# Installing the required library to read PDF documents\n",
        "!pip install PyPDF2"
      ]
    },
    {
      "cell_type": "code",
      "execution_count": null,
      "id": "827c4751-05ed-4b2b-be11-e00c917874c5",
      "metadata": {
        "ExecuteTime": {
          "end_time": "2023-10-10T00:10:16.236399+00:00",
          "start_time": "2023-10-10T00:10:16.060895+00:00"
        },
        "noteable": {
          "cell_type": "code"
        }
      },
      "outputs": [
        {
          "name": "stdout",
          "output_type": "stream",
          "text": [
            "Advanced  Learning\n",
            "rania.  kallel  @  spirit.  tn\n",
            "wiem.  trabelsi  @  esprit.  tnWeb  Mining\n",
            "DS  TeamMachine Translated by GoogleExplanation  of  the  problem\n",
            "InterpretationsTechnical  details  of  the  method\n",
            "Wiem  Trabelsi  ©  Advanced  Learning  for  Text  &  Graph  DataReport  of  the  session\n",
            "ResultPresentation  of  the  proposed  solution\n",
            "2Machine Translated by GoogleFor  several  years,  platformthere\n",
            "provides  real-world  datasets  and  \n",
            "activity  questions  for  Data  Science  \n",
            "enthusiasts  to  solve,  known  as:  \n",
            "Kaggle  Challenge.\n",
            "Wiem  Trabelsi  ©  Advanced  Learning  for  Text  &  Graph  DataExplanation  of  the  problem  (1/2)\n",
            "3Machine Translated by GoogleÿThis  practical  will  be  described  as  a  Kaggle  challenge  for  Web  Mining.\n",
            "ÿThe  data  that  will  be  used  are  real  (anonymous)  data  from  a  bank  credit  application.\n",
            "ÿFrom  a  log  file  you  carry  out  an  analysis  by  going  through  the  following  steps:  ÿ  \n",
            "Transform  the  data  into  an  eventlog.  \n",
            "ÿ  Overview  of  Eventlog  \n",
            "(summary).  ÿ  \n",
            "Frequency  of  activities.  ÿ  Show  processes  where  an  \n",
            "activity  must  be  present.  ÿ  Generate  the  \n",
            "process  map  graph.  ÿ  Generate  a  matrix  with  an  overview  of  activity  tracker  \n",
            "frequency.  ÿ  Generate  and  explore  \n",
            "the  activity  trace.  ÿ  Show  processing  time  in  hours  by  \n",
            "application  type.  ÿ  Show  processing  time  in  hours  per  loan  (credit)  purpose.\n",
            "4Explanation  of  the  problem  (2/2)\n",
            "Wiem  Trabelsi  ©  Advanced  Learning  for  Text  &  Graph  DataMachine Translated by GoogleWiem  Trabelsi  ©  Advanced  Learning  for  Text  &  Graph  Data 5Machine Translated by Google\n"
          ]
        }
      ],
      "source": [
        "# Updating the code to use the new PdfReader class\n",
        "from PyPDF2 import PdfReader\n",
        "\n",
        "# Define a function to read the PDF document\n",
        "def read_pdf(file_path):\n",
        "    with open(file_path, 'rb') as file:\n",
        "        reader = PdfReader(file)\n",
        "        text = ''\n",
        "        for i in range(len(reader.pages)):\n",
        "            page = reader.pages[i]\n",
        "            text += page.extract_text()\n",
        "    return text\n",
        "\n",
        "# File path to the PDF document\n",
        "pdf_file_path = 'project_requirments.pdf'\n",
        "\n",
        "# Read the document and print the content\n",
        "project_requirements = read_pdf(pdf_file_path)\n",
        "print(project_requirements)"
      ]
    },
    {
      "cell_type": "code",
      "execution_count": null,
      "id": "9d367d26-b203-4244-b8fe-e132d32506d5",
      "metadata": {
        "ExecuteTime": {
          "end_time": "2023-10-10T00:11:51.733903+00:00",
          "start_time": "2023-10-10T00:11:51.359062+00:00"
        },
        "datalink": {
          "e3e8c418-efb7-44d6-9cdd-d350557c4aaf": {
            "applied_filters": [],
            "dataframe_info": {
              "default_index_used": true,
              "orig_num_cols": 24,
              "orig_num_rows": 5,
              "orig_size_bytes": 1000,
              "truncated_num_cols": 24,
              "truncated_num_rows": 5,
              "truncated_size_bytes": 1000,
              "truncated_string_columns": []
            },
            "display_id": "e3e8c418-efb7-44d6-9cdd-d350557c4aaf",
            "dx_settings": {
              "ALLOW_NOTEABLE_ATTRS": true,
              "COLUMN_SAMPLING_METHOD": "outer",
              "DB_LOCATION": ":memory:",
              "DEV_MODE": false,
              "DISPLAY_MAX_COLUMNS": 100,
              "DISPLAY_MAX_ROWS": 50000,
              "DISPLAY_MODE": "simple",
              "ENABLE_ASSIGNMENT": true,
              "ENABLE_DATALINK": true,
              "FLATTEN_COLUMN_VALUES": true,
              "FLATTEN_INDEX_VALUES": false,
              "GENERATE_DEX_METADATA": false,
              "HTML_TABLE_SCHEMA": false,
              "LOG_LEVEL": 30,
              "MAX_RENDER_SIZE_BYTES": 104857600,
              "MAX_STRING_LENGTH": 250,
              "NUM_PAST_SAMPLES_TRACKED": 3,
              "RANDOM_STATE": 12648430,
              "RESET_INDEX_VALUES": false,
              "ROW_SAMPLING_METHOD": "random",
              "SAMPLING_FACTOR": 0.1,
              "SAMPLING_METHOD": "random",
              "STRINGIFY_COLUMN_VALUES": true,
              "STRINGIFY_INDEX_VALUES": false
            },
            "sample_history": [],
            "sampling_time": "2023-10-10T00:11:51.561115",
            "user_variable_name": null,
            "variable_name": "unk_dataframe_b476d52509ae42a9abc41b8330c066a4"
          }
        },
        "noteable": {
          "cell_type": "code"
        }
      },
      "outputs": [
        {
          "data": {
            "application/vnd.dataresource+json": {
              "data": [
                {
                  "Accepted": null,
                  "Action": "Created",
                  "Activity": "A_Create Application",
                  "Case_ID": "Application_652823628",
                  "Complete_Timestamp": "2016-01-01T10:51:15.304000Z",
                  "CreditScore": null,
                  "EventID": "Application_652823628",
                  "EventOrigin": "Application",
                  "FirstWithdrawalAmount": null,
                  "MonthlyCost": null,
                  "NumberOfTerms": null,
                  "OfferID": null,
                  "OfferedAmount": null,
                  "Resource": "User_1",
                  "Selected": null,
                  "Start_Timestamp": "2016-01-01T10:51:15.304000Z",
                  "Variant": "Variant 2",
                  "Variant_index": 2,
                  "case_ApplicationType": "New credit",
                  "case_RequestedAmount": "2,00E+04",
                  "case_creditGoal": "Existing credit takeover",
                  "endtimestamp": "2016-01-01T09:51:15Z",
                  "index": 0,
                  "lifecycle:transition": "complete",
                  "starttimestamp": "2016-01-01T09:51:15Z"
                },
                {
                  "Accepted": null,
                  "Action": "statechange",
                  "Activity": "A_Submitted",
                  "Case_ID": "Application_652823628",
                  "Complete_Timestamp": "2016-01-01T10:51:15.352000Z",
                  "CreditScore": null,
                  "EventID": "ApplState_1582051990",
                  "EventOrigin": "Application",
                  "FirstWithdrawalAmount": null,
                  "MonthlyCost": null,
                  "NumberOfTerms": null,
                  "OfferID": null,
                  "OfferedAmount": null,
                  "Resource": "User_1",
                  "Selected": null,
                  "Start_Timestamp": "2016-01-01T10:51:15.352000Z",
                  "Variant": "Variant 2",
                  "Variant_index": 2,
                  "case_ApplicationType": "New credit",
                  "case_RequestedAmount": "2,00E+04",
                  "case_creditGoal": "Existing credit takeover",
                  "endtimestamp": "2016-01-01T09:51:15Z",
                  "index": 1,
                  "lifecycle:transition": "complete",
                  "starttimestamp": "2016-01-01T09:51:15Z"
                },
                {
                  "Accepted": null,
                  "Action": "statechange",
                  "Activity": "A_Concept",
                  "Case_ID": "Application_652823628",
                  "Complete_Timestamp": "2016-01-01T10:52:36.413000Z",
                  "CreditScore": null,
                  "EventID": "ApplState_642383566",
                  "EventOrigin": "Application",
                  "FirstWithdrawalAmount": null,
                  "MonthlyCost": null,
                  "NumberOfTerms": null,
                  "OfferID": null,
                  "OfferedAmount": null,
                  "Resource": "User_1",
                  "Selected": null,
                  "Start_Timestamp": "2016-01-01T10:52:36.413000Z",
                  "Variant": "Variant 2",
                  "Variant_index": 2,
                  "case_ApplicationType": "New credit",
                  "case_RequestedAmount": "2,00E+04",
                  "case_creditGoal": "Existing credit takeover",
                  "endtimestamp": "2016-01-01T09:52:36Z",
                  "index": 2,
                  "lifecycle:transition": "complete",
                  "starttimestamp": "2016-01-01T09:52:36Z"
                },
                {
                  "Accepted": null,
                  "Action": "Obtained",
                  "Activity": "W_Complete application",
                  "Case_ID": "Application_652823628",
                  "Complete_Timestamp": "2016-01-02T11:45:22.429000Z",
                  "CreditScore": null,
                  "EventID": "Workitem_1875340971",
                  "EventOrigin": "Workflow",
                  "FirstWithdrawalAmount": null,
                  "MonthlyCost": null,
                  "NumberOfTerms": null,
                  "OfferID": null,
                  "OfferedAmount": null,
                  "Resource": "User_17",
                  "Selected": null,
                  "Start_Timestamp": "2016-01-02T11:45:22.429000Z",
                  "Variant": "Variant 2",
                  "Variant_index": 2,
                  "case_ApplicationType": "New credit",
                  "case_RequestedAmount": "2,00E+04",
                  "case_creditGoal": "Existing credit takeover",
                  "endtimestamp": "2016-01-02T10:45:22Z",
                  "index": 3,
                  "lifecycle:transition": "start",
                  "starttimestamp": "2016-01-02T10:45:22Z"
                },
                {
                  "Accepted": null,
                  "Action": "statechange",
                  "Activity": "A_Accepted",
                  "Case_ID": "Application_652823628",
                  "Complete_Timestamp": "2016-01-02T12:23:04.299000Z",
                  "CreditScore": null,
                  "EventID": "ApplState_99568828",
                  "EventOrigin": "Application",
                  "FirstWithdrawalAmount": null,
                  "MonthlyCost": null,
                  "NumberOfTerms": null,
                  "OfferID": null,
                  "OfferedAmount": null,
                  "Resource": "User_52",
                  "Selected": null,
                  "Start_Timestamp": "2016-01-02T12:23:04.299000Z",
                  "Variant": "Variant 2",
                  "Variant_index": 2,
                  "case_ApplicationType": "New credit",
                  "case_RequestedAmount": "2,00E+04",
                  "case_creditGoal": "Existing credit takeover",
                  "endtimestamp": "2016-01-02T11:23:04Z",
                  "index": 4,
                  "lifecycle:transition": "complete",
                  "starttimestamp": "2016-01-02T11:23:04Z"
                }
              ],
              "datalink": {
                "display_id": "e3e8c418-efb7-44d6-9cdd-d350557c4aaf"
              },
              "schema": {
                "fields": [
                  {
                    "name": "index",
                    "type": "integer"
                  },
                  {
                    "name": "Case_ID",
                    "type": "string"
                  },
                  {
                    "name": "Activity",
                    "type": "string"
                  },
                  {
                    "name": "Resource",
                    "type": "string"
                  },
                  {
                    "name": "Start_Timestamp",
                    "type": "datetime"
                  },
                  {
                    "name": "Complete_Timestamp",
                    "type": "datetime"
                  },
                  {
                    "name": "Variant",
                    "type": "string"
                  },
                  {
                    "name": "Variant_index",
                    "type": "integer"
                  },
                  {
                    "name": "case_ApplicationType",
                    "type": "string"
                  },
                  {
                    "name": "case_creditGoal",
                    "type": "string"
                  },
                  {
                    "name": "case_RequestedAmount",
                    "type": "string"
                  },
                  {
                    "name": "Accepted",
                    "type": "number"
                  },
                  {
                    "name": "Action",
                    "type": "string"
                  },
                  {
                    "name": "CreditScore",
                    "type": "number"
                  },
                  {
                    "name": "EventID",
                    "type": "string"
                  },
                  {
                    "name": "EventOrigin",
                    "type": "string"
                  },
                  {
                    "name": "FirstWithdrawalAmount",
                    "type": "string"
                  },
                  {
                    "name": "MonthlyCost",
                    "type": "number"
                  },
                  {
                    "name": "NumberOfTerms",
                    "type": "number"
                  },
                  {
                    "name": "OfferID",
                    "type": "string"
                  },
                  {
                    "name": "OfferedAmount",
                    "type": "string"
                  },
                  {
                    "name": "Selected",
                    "type": "number"
                  },
                  {
                    "name": "lifecycle:transition",
                    "type": "string"
                  },
                  {
                    "name": "starttimestamp",
                    "type": "string"
                  },
                  {
                    "name": "endtimestamp",
                    "type": "string"
                  }
                ],
                "pandas_version": "1.4.0",
                "primaryKey": [
                  "index"
                ]
              }
            }
          },
          "metadata": {
            "application/vnd.dataresource+json": {
              "datalink": {
                "applied_filters": [],
                "dataframe_info": {
                  "default_index_used": true,
                  "orig_num_cols": 24,
                  "orig_num_rows": 5,
                  "orig_size_bytes": 1000,
                  "truncated_num_cols": 24,
                  "truncated_num_rows": 5,
                  "truncated_size_bytes": 1000,
                  "truncated_string_columns": []
                },
                "display_id": "e3e8c418-efb7-44d6-9cdd-d350557c4aaf",
                "dx_settings": {
                  "ALLOW_NOTEABLE_ATTRS": true,
                  "COLUMN_SAMPLING_METHOD": "outer",
                  "DB_LOCATION": ":memory:",
                  "DEV_MODE": false,
                  "DISPLAY_MAX_COLUMNS": 100,
                  "DISPLAY_MAX_ROWS": 50000,
                  "DISPLAY_MODE": "simple",
                  "ENABLE_ASSIGNMENT": true,
                  "ENABLE_DATALINK": true,
                  "FLATTEN_COLUMN_VALUES": true,
                  "FLATTEN_INDEX_VALUES": false,
                  "GENERATE_DEX_METADATA": false,
                  "HTML_TABLE_SCHEMA": false,
                  "LOG_LEVEL": 30,
                  "MAX_RENDER_SIZE_BYTES": 104857600,
                  "MAX_STRING_LENGTH": 250,
                  "NUM_PAST_SAMPLES_TRACKED": 3,
                  "RANDOM_STATE": 12648430,
                  "RESET_INDEX_VALUES": false,
                  "ROW_SAMPLING_METHOD": "random",
                  "SAMPLING_FACTOR": 0.1,
                  "SAMPLING_METHOD": "random",
                  "STRINGIFY_COLUMN_VALUES": true,
                  "STRINGIFY_INDEX_VALUES": false
                },
                "sample_history": [],
                "sampling_time": "2023-10-10T00:11:51.561115",
                "user_variable_name": null,
                "variable_name": "unk_dataframe_b476d52509ae42a9abc41b8330c066a4"
              },
              "display_id": "e3e8c418-efb7-44d6-9cdd-d350557c4aaf"
            }
          },
          "output_type": "display_data"
        }
      ],
      "source": [
        "# Importing the required libraries to read the Excel file\n",
        "import pandas as pd\n",
        "\n",
        "# Define a function to read the Excel file\n",
        "def read_excel(file_path):\n",
        "    return pd.read_excel(file_path)\n",
        "\n",
        "# File path to the Excel file\n",
        "excel_file_path = 'credit_fil.xlsx'\n",
        "\n",
        "# Read the Excel file and display the first few rows\n",
        "credit_data = read_excel(excel_file_path)\n",
        "credit_data.head()"
      ]
    },
    {
      "cell_type": "code",
      "execution_count": null,
      "id": "3a8b4a82-263a-4db6-9425-5a858114c6b3",
      "metadata": {
        "ExecuteTime": {
          "end_time": "2023-10-10T00:12:48.491627+00:00",
          "start_time": "2023-10-10T00:12:47.864335+00:00"
        },
        "noteable": {
          "cell_type": "code"
        }
      },
      "outputs": [
        {
          "ename": "ValueError",
          "evalue": "mixed datetimes and integers in passed array",
          "output_type": "error",
          "traceback": [
            "\u001b[0;31m---------------------------------------------------------------------------\u001b[0m",
            "\u001b[0;31mValueError\u001b[0m                                Traceback (most recent call last)",
            "File \u001b[0;32m/opt/conda/lib/python3.9/site-packages/dx/formatters/main.py:101\u001b[0m, in \u001b[0;36mhandle_format\u001b[0;34m(obj, with_ipython_display, ipython_shell, extra_metadata)\u001b[0m\n\u001b[1;32m    100\u001b[0m \u001b[38;5;28;01mtry\u001b[39;00m:\n\u001b[0;32m--> 101\u001b[0m     payload, metadata \u001b[38;5;241m=\u001b[39m \u001b[43mdatalink_processing\u001b[49m\u001b[43m(\u001b[49m\n\u001b[1;32m    102\u001b[0m \u001b[43m        \u001b[49m\u001b[43mdf\u001b[49m\u001b[43m,\u001b[49m\n\u001b[1;32m    103\u001b[0m \u001b[43m        \u001b[49m\u001b[43mdefault_index_used\u001b[49m\u001b[43m,\u001b[49m\n\u001b[1;32m    104\u001b[0m \u001b[43m        \u001b[49m\u001b[43mipython_shell\u001b[49m\u001b[38;5;241;43m=\u001b[39;49m\u001b[43mipython\u001b[49m\u001b[43m,\u001b[49m\n\u001b[1;32m    105\u001b[0m \u001b[43m        \u001b[49m\u001b[43mwith_ipython_display\u001b[49m\u001b[38;5;241;43m=\u001b[39;49m\u001b[43mwith_ipython_display\u001b[49m\u001b[43m,\u001b[49m\n\u001b[1;32m    106\u001b[0m \u001b[43m        \u001b[49m\u001b[43mextra_metadata\u001b[49m\u001b[38;5;241;43m=\u001b[39;49m\u001b[43mextra_metadata\u001b[49m\u001b[43m,\u001b[49m\n\u001b[1;32m    107\u001b[0m \u001b[43m    \u001b[49m\u001b[43m)\u001b[49m\n\u001b[1;32m    108\u001b[0m \u001b[38;5;28;01mexcept\u001b[39;00m \u001b[38;5;167;01mException\u001b[39;00m \u001b[38;5;28;01mas\u001b[39;00m e:\n",
            "File \u001b[0;32m/opt/conda/lib/python3.9/site-packages/dx/formatters/main.py:50\u001b[0m, in \u001b[0;36mdatalink_processing\u001b[0;34m(df, default_index_used, ipython_shell, with_ipython_display, extra_metadata)\u001b[0m\n\u001b[1;32m     43\u001b[0m \u001b[38;5;28;01mdef\u001b[39;00m \u001b[38;5;21mdatalink_processing\u001b[39m(\n\u001b[1;32m     44\u001b[0m     df: pd\u001b[38;5;241m.\u001b[39mDataFrame,\n\u001b[1;32m     45\u001b[0m     default_index_used: \u001b[38;5;28mbool\u001b[39m,\n\u001b[0;32m   (...)\u001b[0m\n\u001b[1;32m     48\u001b[0m     extra_metadata: Optional[\u001b[38;5;28mdict\u001b[39m] \u001b[38;5;241m=\u001b[39m \u001b[38;5;28;01mNone\u001b[39;00m,\n\u001b[1;32m     49\u001b[0m ):\n\u001b[0;32m---> 50\u001b[0m     dxdf \u001b[38;5;241m=\u001b[39m \u001b[43mDXDataFrame\u001b[49m\u001b[43m(\u001b[49m\u001b[43mdf\u001b[49m\u001b[43m)\u001b[49m\n\u001b[1;32m     51\u001b[0m     parent_display_id \u001b[38;5;241m=\u001b[39m determine_parent_display_id(dxdf)\n",
            "File \u001b[0;32m/opt/conda/lib/python3.9/site-packages/dx/utils/tracking.py:73\u001b[0m, in \u001b[0;36mDXDataFrame.__init__\u001b[0;34m(self, df, ipython_shell)\u001b[0m\n\u001b[1;32m     71\u001b[0m \u001b[38;5;28mself\u001b[39m\u001b[38;5;241m.\u001b[39mindex_name \u001b[38;5;241m=\u001b[39m get_df_index(df\u001b[38;5;241m.\u001b[39mindex)\n\u001b[0;32m---> 73\u001b[0m \u001b[38;5;28mself\u001b[39m\u001b[38;5;241m.\u001b[39mdf \u001b[38;5;241m=\u001b[39m \u001b[43mnormalize_index_and_columns\u001b[49m\u001b[43m(\u001b[49m\u001b[43mdf\u001b[49m\u001b[43m)\u001b[49m\n\u001b[1;32m     74\u001b[0m \u001b[38;5;28mself\u001b[39m\u001b[38;5;241m.\u001b[39mhash \u001b[38;5;241m=\u001b[39m generate_df_hash(\u001b[38;5;28mself\u001b[39m\u001b[38;5;241m.\u001b[39mdf)\n",
            "File \u001b[0;32m/opt/conda/lib/python3.9/site-packages/dx/utils/formatting.py:188\u001b[0m, in \u001b[0;36mnormalize_index_and_columns\u001b[0;34m(df)\u001b[0m\n\u001b[1;32m    187\u001b[0m df \u001b[38;5;241m=\u001b[39m normalize_index(df)\n\u001b[0;32m--> 188\u001b[0m df \u001b[38;5;241m=\u001b[39m \u001b[43mnormalize_columns\u001b[49m\u001b[43m(\u001b[49m\u001b[43mdf\u001b[49m\u001b[43m)\u001b[49m\n\u001b[1;32m    189\u001b[0m df \u001b[38;5;241m=\u001b[39m deconflict_index_and_column_names(df)\n",
            "File \u001b[0;32m/opt/conda/lib/python3.9/site-packages/dx/utils/formatting.py:254\u001b[0m, in \u001b[0;36mnormalize_columns\u001b[0;34m(df)\u001b[0m\n\u001b[1;32m    253\u001b[0m \u001b[38;5;28;01mfor\u001b[39;00m column \u001b[38;5;129;01min\u001b[39;00m df\u001b[38;5;241m.\u001b[39mcolumns:\n\u001b[0;32m--> 254\u001b[0m     df[column] \u001b[38;5;241m=\u001b[39m \u001b[43mclean_series_values\u001b[49m\u001b[43m(\u001b[49m\u001b[43mdf\u001b[49m\u001b[43m[\u001b[49m\u001b[43mcolumn\u001b[49m\u001b[43m]\u001b[49m\u001b[43m)\u001b[49m\n\u001b[1;32m    255\u001b[0m \u001b[38;5;28;01mreturn\u001b[39;00m df\n",
            "File \u001b[0;32m/opt/conda/lib/python3.9/site-packages/dx/utils/formatting.py:291\u001b[0m, in \u001b[0;36mclean_series_values\u001b[0;34m(s)\u001b[0m\n\u001b[1;32m    290\u001b[0m s \u001b[38;5;241m=\u001b[39m date_time\u001b[38;5;241m.\u001b[39mhandle_time_delta_series(s)\n\u001b[0;32m--> 291\u001b[0m s \u001b[38;5;241m=\u001b[39m \u001b[43mdate_time\u001b[49m\u001b[38;5;241;43m.\u001b[39;49m\u001b[43mhandle_datetime_series\u001b[49m\u001b[43m(\u001b[49m\u001b[43ms\u001b[49m\u001b[43m)\u001b[49m\n\u001b[1;32m    293\u001b[0m s \u001b[38;5;241m=\u001b[39m numeric\u001b[38;5;241m.\u001b[39mhandle_decimal_series(s)\n",
            "File \u001b[0;32m/opt/conda/lib/python3.9/site-packages/dx/datatypes/date_time.py:186\u001b[0m, in \u001b[0;36mhandle_datetime_series\u001b[0;34m(s)\u001b[0m\n\u001b[1;32m    182\u001b[0m     logger\u001b[38;5;241m.\u001b[39mdebug(\n\u001b[1;32m    183\u001b[0m         \u001b[38;5;124mf\u001b[39m\u001b[38;5;124m\"\u001b[39m\u001b[38;5;124mseries `\u001b[39m\u001b[38;5;132;01m{\u001b[39;00ms\u001b[38;5;241m.\u001b[39mname\u001b[38;5;132;01m}\u001b[39;00m\u001b[38;5;124m` has datetime values; converting with pd.to_datetime()\u001b[39m\u001b[38;5;124m\"\u001b[39m,\n\u001b[1;32m    184\u001b[0m         utc\u001b[38;5;241m=\u001b[39mhas_tzinfo\u001b[38;5;241m.\u001b[39many(),\n\u001b[1;32m    185\u001b[0m     )\n\u001b[0;32m--> 186\u001b[0m     s \u001b[38;5;241m=\u001b[39m \u001b[43mpd\u001b[49m\u001b[38;5;241;43m.\u001b[39;49m\u001b[43mto_datetime\u001b[49m\u001b[43m(\u001b[49m\u001b[43ms\u001b[49m\u001b[43m,\u001b[49m\u001b[43m \u001b[49m\u001b[43mutc\u001b[49m\u001b[38;5;241;43m=\u001b[39;49m\u001b[43mhas_tzinfo\u001b[49m\u001b[38;5;241;43m.\u001b[39;49m\u001b[43many\u001b[49m\u001b[43m(\u001b[49m\u001b[43m)\u001b[49m\u001b[43m)\u001b[49m\n\u001b[1;32m    187\u001b[0m \u001b[38;5;28;01mreturn\u001b[39;00m s\n",
            "File \u001b[0;32m/opt/conda/lib/python3.9/site-packages/pandas/core/tools/datetimes.py:1068\u001b[0m, in \u001b[0;36mto_datetime\u001b[0;34m(arg, errors, dayfirst, yearfirst, utc, format, exact, unit, infer_datetime_format, origin, cache)\u001b[0m\n\u001b[1;32m   1067\u001b[0m \u001b[38;5;28;01melse\u001b[39;00m:\n\u001b[0;32m-> 1068\u001b[0m     values \u001b[38;5;241m=\u001b[39m \u001b[43mconvert_listlike\u001b[49m\u001b[43m(\u001b[49m\u001b[43marg\u001b[49m\u001b[38;5;241;43m.\u001b[39;49m\u001b[43m_values\u001b[49m\u001b[43m,\u001b[49m\u001b[43m \u001b[49m\u001b[38;5;28;43mformat\u001b[39;49m\u001b[43m)\u001b[49m\n\u001b[1;32m   1069\u001b[0m     result \u001b[38;5;241m=\u001b[39m arg\u001b[38;5;241m.\u001b[39m_constructor(values, index\u001b[38;5;241m=\u001b[39marg\u001b[38;5;241m.\u001b[39mindex, name\u001b[38;5;241m=\u001b[39marg\u001b[38;5;241m.\u001b[39mname)\n",
            "File \u001b[0;32m/opt/conda/lib/python3.9/site-packages/pandas/core/tools/datetimes.py:438\u001b[0m, in \u001b[0;36m_convert_listlike_datetimes\u001b[0;34m(arg, format, name, tz, unit, errors, infer_datetime_format, dayfirst, yearfirst, exact)\u001b[0m\n\u001b[1;32m    437\u001b[0m utc \u001b[38;5;241m=\u001b[39m tz \u001b[38;5;241m==\u001b[39m \u001b[38;5;124m\"\u001b[39m\u001b[38;5;124mutc\u001b[39m\u001b[38;5;124m\"\u001b[39m\n\u001b[0;32m--> 438\u001b[0m result, tz_parsed \u001b[38;5;241m=\u001b[39m \u001b[43mobjects_to_datetime64ns\u001b[49m\u001b[43m(\u001b[49m\n\u001b[1;32m    439\u001b[0m \u001b[43m    \u001b[49m\u001b[43marg\u001b[49m\u001b[43m,\u001b[49m\n\u001b[1;32m    440\u001b[0m \u001b[43m    \u001b[49m\u001b[43mdayfirst\u001b[49m\u001b[38;5;241;43m=\u001b[39;49m\u001b[43mdayfirst\u001b[49m\u001b[43m,\u001b[49m\n\u001b[1;32m    441\u001b[0m \u001b[43m    \u001b[49m\u001b[43myearfirst\u001b[49m\u001b[38;5;241;43m=\u001b[39;49m\u001b[43myearfirst\u001b[49m\u001b[43m,\u001b[49m\n\u001b[1;32m    442\u001b[0m \u001b[43m    \u001b[49m\u001b[43mutc\u001b[49m\u001b[38;5;241;43m=\u001b[39;49m\u001b[43mutc\u001b[49m\u001b[43m,\u001b[49m\n\u001b[1;32m    443\u001b[0m \u001b[43m    \u001b[49m\u001b[43merrors\u001b[49m\u001b[38;5;241;43m=\u001b[39;49m\u001b[43merrors\u001b[49m\u001b[43m,\u001b[49m\n\u001b[1;32m    444\u001b[0m \u001b[43m    \u001b[49m\u001b[43mrequire_iso8601\u001b[49m\u001b[38;5;241;43m=\u001b[39;49m\u001b[43mrequire_iso8601\u001b[49m\u001b[43m,\u001b[49m\n\u001b[1;32m    445\u001b[0m \u001b[43m    \u001b[49m\u001b[43mallow_object\u001b[49m\u001b[38;5;241;43m=\u001b[39;49m\u001b[38;5;28;43;01mTrue\u001b[39;49;00m\u001b[43m,\u001b[49m\n\u001b[1;32m    446\u001b[0m \u001b[43m\u001b[49m\u001b[43m)\u001b[49m\n\u001b[1;32m    448\u001b[0m \u001b[38;5;28;01mif\u001b[39;00m tz_parsed \u001b[38;5;129;01mis\u001b[39;00m \u001b[38;5;129;01mnot\u001b[39;00m \u001b[38;5;28;01mNone\u001b[39;00m:\n\u001b[1;32m    449\u001b[0m     \u001b[38;5;66;03m# We can take a shortcut since the datetime64 numpy array\u001b[39;00m\n\u001b[1;32m    450\u001b[0m     \u001b[38;5;66;03m# is in UTC\u001b[39;00m\n",
            "File \u001b[0;32m/opt/conda/lib/python3.9/site-packages/pandas/core/arrays/datetimes.py:2177\u001b[0m, in \u001b[0;36mobjects_to_datetime64ns\u001b[0;34m(data, dayfirst, yearfirst, utc, errors, require_iso8601, allow_object, allow_mixed)\u001b[0m\n\u001b[1;32m   2176\u001b[0m \u001b[38;5;28;01mtry\u001b[39;00m:\n\u001b[0;32m-> 2177\u001b[0m     result, tz_parsed \u001b[38;5;241m=\u001b[39m \u001b[43mtslib\u001b[49m\u001b[38;5;241;43m.\u001b[39;49m\u001b[43marray_to_datetime\u001b[49m\u001b[43m(\u001b[49m\n\u001b[1;32m   2178\u001b[0m \u001b[43m        \u001b[49m\u001b[43mdata\u001b[49m\u001b[38;5;241;43m.\u001b[39;49m\u001b[43mravel\u001b[49m\u001b[43m(\u001b[49m\u001b[38;5;124;43m\"\u001b[39;49m\u001b[38;5;124;43mK\u001b[39;49m\u001b[38;5;124;43m\"\u001b[39;49m\u001b[43m)\u001b[49m\u001b[43m,\u001b[49m\n\u001b[1;32m   2179\u001b[0m \u001b[43m        \u001b[49m\u001b[43merrors\u001b[49m\u001b[38;5;241;43m=\u001b[39;49m\u001b[43merrors\u001b[49m\u001b[43m,\u001b[49m\n\u001b[1;32m   2180\u001b[0m \u001b[43m        \u001b[49m\u001b[43mutc\u001b[49m\u001b[38;5;241;43m=\u001b[39;49m\u001b[43mutc\u001b[49m\u001b[43m,\u001b[49m\n\u001b[1;32m   2181\u001b[0m \u001b[43m        \u001b[49m\u001b[43mdayfirst\u001b[49m\u001b[38;5;241;43m=\u001b[39;49m\u001b[43mdayfirst\u001b[49m\u001b[43m,\u001b[49m\n\u001b[1;32m   2182\u001b[0m \u001b[43m        \u001b[49m\u001b[43myearfirst\u001b[49m\u001b[38;5;241;43m=\u001b[39;49m\u001b[43myearfirst\u001b[49m\u001b[43m,\u001b[49m\n\u001b[1;32m   2183\u001b[0m \u001b[43m        \u001b[49m\u001b[43mrequire_iso8601\u001b[49m\u001b[38;5;241;43m=\u001b[39;49m\u001b[43mrequire_iso8601\u001b[49m\u001b[43m,\u001b[49m\n\u001b[1;32m   2184\u001b[0m \u001b[43m        \u001b[49m\u001b[43mallow_mixed\u001b[49m\u001b[38;5;241;43m=\u001b[39;49m\u001b[43mallow_mixed\u001b[49m\u001b[43m,\u001b[49m\n\u001b[1;32m   2185\u001b[0m \u001b[43m    \u001b[49m\u001b[43m)\u001b[49m\n\u001b[1;32m   2186\u001b[0m     result \u001b[38;5;241m=\u001b[39m result\u001b[38;5;241m.\u001b[39mreshape(data\u001b[38;5;241m.\u001b[39mshape, order\u001b[38;5;241m=\u001b[39morder)\n",
            "File \u001b[0;32m/opt/conda/lib/python3.9/site-packages/pandas/_libs/tslib.pyx:427\u001b[0m, in \u001b[0;36mpandas._libs.tslib.array_to_datetime\u001b[0;34m()\u001b[0m\n",
            "File \u001b[0;32m/opt/conda/lib/python3.9/site-packages/pandas/_libs/tslib.pyx:698\u001b[0m, in \u001b[0;36mpandas._libs.tslib.array_to_datetime\u001b[0;34m()\u001b[0m\n",
            "\u001b[0;31mValueError\u001b[0m: mixed datetimes and integers in passed array",
            "\nDuring handling of the above exception, another exception occurred:\n",
            "\u001b[0;31mValueError\u001b[0m                                Traceback (most recent call last)",
            "Cell \u001b[0;32mIn[9], line 3\u001b[0m\n\u001b[1;32m      1\u001b[0m \u001b[38;5;66;03m# Generating an overview summary of the event log\u001b[39;00m\n\u001b[1;32m      2\u001b[0m event_log_summary \u001b[38;5;241m=\u001b[39m credit_data\u001b[38;5;241m.\u001b[39mdescribe(include\u001b[38;5;241m=\u001b[39m\u001b[38;5;124m'\u001b[39m\u001b[38;5;124mall\u001b[39m\u001b[38;5;124m'\u001b[39m)\n\u001b[0;32m----> 3\u001b[0m event_log_summary\n",
            "File \u001b[0;32m/opt/conda/lib/python3.9/site-packages/IPython/core/displayhook.py:268\u001b[0m, in \u001b[0;36mDisplayHook.__call__\u001b[0;34m(self, result)\u001b[0m\n\u001b[1;32m    266\u001b[0m \u001b[38;5;28mself\u001b[39m\u001b[38;5;241m.\u001b[39mstart_displayhook()\n\u001b[1;32m    267\u001b[0m \u001b[38;5;28mself\u001b[39m\u001b[38;5;241m.\u001b[39mwrite_output_prompt()\n\u001b[0;32m--> 268\u001b[0m format_dict, md_dict \u001b[38;5;241m=\u001b[39m \u001b[38;5;28;43mself\u001b[39;49m\u001b[38;5;241;43m.\u001b[39;49m\u001b[43mcompute_format_data\u001b[49m\u001b[43m(\u001b[49m\u001b[43mresult\u001b[49m\u001b[43m)\u001b[49m\n\u001b[1;32m    269\u001b[0m \u001b[38;5;28mself\u001b[39m\u001b[38;5;241m.\u001b[39mupdate_user_ns(result)\n\u001b[1;32m    270\u001b[0m \u001b[38;5;28mself\u001b[39m\u001b[38;5;241m.\u001b[39mfill_exec_result(result)\n",
            "File \u001b[0;32m/opt/conda/lib/python3.9/site-packages/IPython/core/displayhook.py:157\u001b[0m, in \u001b[0;36mDisplayHook.compute_format_data\u001b[0;34m(self, result)\u001b[0m\n\u001b[1;32m    127\u001b[0m \u001b[38;5;28;01mdef\u001b[39;00m \u001b[38;5;21mcompute_format_data\u001b[39m(\u001b[38;5;28mself\u001b[39m, result):\n\u001b[1;32m    128\u001b[0m \u001b[38;5;250m    \u001b[39m\u001b[38;5;124;03m\"\"\"Compute format data of the object to be displayed.\u001b[39;00m\n\u001b[1;32m    129\u001b[0m \n\u001b[1;32m    130\u001b[0m \u001b[38;5;124;03m    The format data is a generalization of the :func:`repr` of an object.\u001b[39;00m\n\u001b[0;32m   (...)\u001b[0m\n\u001b[1;32m    155\u001b[0m \n\u001b[1;32m    156\u001b[0m \u001b[38;5;124;03m    \"\"\"\u001b[39;00m\n\u001b[0;32m--> 157\u001b[0m     \u001b[38;5;28;01mreturn\u001b[39;00m \u001b[38;5;28;43mself\u001b[39;49m\u001b[38;5;241;43m.\u001b[39;49m\u001b[43mshell\u001b[49m\u001b[38;5;241;43m.\u001b[39;49m\u001b[43mdisplay_formatter\u001b[49m\u001b[38;5;241;43m.\u001b[39;49m\u001b[43mformat\u001b[49m\u001b[43m(\u001b[49m\u001b[43mresult\u001b[49m\u001b[43m)\u001b[49m\n",
            "File \u001b[0;32m/opt/conda/lib/python3.9/site-packages/dx/formatters/main.py:127\u001b[0m, in \u001b[0;36mDXDisplayFormatter.format\u001b[0;34m(self, obj, **kwargs)\u001b[0m\n\u001b[1;32m    125\u001b[0m \u001b[38;5;28;01mdef\u001b[39;00m \u001b[38;5;21mformat\u001b[39m(\u001b[38;5;28mself\u001b[39m, obj, \u001b[38;5;241m*\u001b[39m\u001b[38;5;241m*\u001b[39mkwargs):\n\u001b[1;32m    126\u001b[0m     \u001b[38;5;28;01mif\u001b[39;00m IN_NOTEBOOK_ENV \u001b[38;5;129;01mand\u001b[39;00m \u001b[38;5;28misinstance\u001b[39m(obj, \u001b[38;5;28mtuple\u001b[39m(settings\u001b[38;5;241m.\u001b[39mget_renderable_types())):\n\u001b[0;32m--> 127\u001b[0m         \u001b[43mhandle_format\u001b[49m\u001b[43m(\u001b[49m\u001b[43mobj\u001b[49m\u001b[43m)\u001b[49m\n\u001b[1;32m    128\u001b[0m         \u001b[38;5;28;01mreturn\u001b[39;00m ({}, {})\n\u001b[1;32m    130\u001b[0m     \u001b[38;5;28;01mreturn\u001b[39;00m DEFAULT_IPYTHON_DISPLAY_FORMATTER\u001b[38;5;241m.\u001b[39mformat(obj, \u001b[38;5;241m*\u001b[39m\u001b[38;5;241m*\u001b[39mkwargs)\n",
            "File \u001b[0;32m/opt/conda/lib/python3.9/site-packages/dx/formatters/main.py:111\u001b[0m, in \u001b[0;36mhandle_format\u001b[0;34m(obj, with_ipython_display, ipython_shell, extra_metadata)\u001b[0m\n\u001b[1;32m    109\u001b[0m     logger\u001b[38;5;241m.\u001b[39mdebug(\u001b[38;5;124mf\u001b[39m\u001b[38;5;124m\"\u001b[39m\u001b[38;5;124mError in datalink_processing: \u001b[39m\u001b[38;5;132;01m{\u001b[39;00me\u001b[38;5;132;01m}\u001b[39;00m\u001b[38;5;124m\"\u001b[39m)\n\u001b[1;32m    110\u001b[0m     \u001b[38;5;66;03m# fall back to default processing\u001b[39;00m\n\u001b[0;32m--> 111\u001b[0m     df \u001b[38;5;241m=\u001b[39m \u001b[43mnormalize_index_and_columns\u001b[49m\u001b[43m(\u001b[49m\u001b[43mdf\u001b[49m\u001b[43m)\u001b[49m\n\u001b[1;32m    112\u001b[0m     payload, metadata \u001b[38;5;241m=\u001b[39m format_output(\n\u001b[1;32m    113\u001b[0m         df,\n\u001b[1;32m    114\u001b[0m         default_index_used\u001b[38;5;241m=\u001b[39mdefault_index_used,\n\u001b[1;32m    115\u001b[0m         with_ipython_display\u001b[38;5;241m=\u001b[39mwith_ipython_display,\n\u001b[1;32m    116\u001b[0m         extra_metadata\u001b[38;5;241m=\u001b[39mextra_metadata,\n\u001b[1;32m    117\u001b[0m     )\n\u001b[1;32m    119\u001b[0m \u001b[38;5;28;01mreturn\u001b[39;00m payload, metadata\n",
            "File \u001b[0;32m/opt/conda/lib/python3.9/site-packages/dx/utils/formatting.py:188\u001b[0m, in \u001b[0;36mnormalize_index_and_columns\u001b[0;34m(df)\u001b[0m\n\u001b[1;32m    183\u001b[0m \u001b[38;5;250m\u001b[39m\u001b[38;5;124;03m\"\"\"\u001b[39;00m\n\u001b[1;32m    184\u001b[0m \u001b[38;5;124;03mAny additional formatting that needs to happen to the index,\u001b[39;00m\n\u001b[1;32m    185\u001b[0m \u001b[38;5;124;03mthe columns, or the data itself should be done here.\u001b[39;00m\n\u001b[1;32m    186\u001b[0m \u001b[38;5;124;03m\"\"\"\u001b[39;00m\n\u001b[1;32m    187\u001b[0m df \u001b[38;5;241m=\u001b[39m normalize_index(df)\n\u001b[0;32m--> 188\u001b[0m df \u001b[38;5;241m=\u001b[39m \u001b[43mnormalize_columns\u001b[49m\u001b[43m(\u001b[49m\u001b[43mdf\u001b[49m\u001b[43m)\u001b[49m\n\u001b[1;32m    189\u001b[0m df \u001b[38;5;241m=\u001b[39m deconflict_index_and_column_names(df)\n\u001b[1;32m    190\u001b[0m \u001b[38;5;28;01mreturn\u001b[39;00m df\n",
            "File \u001b[0;32m/opt/conda/lib/python3.9/site-packages/dx/utils/formatting.py:254\u001b[0m, in \u001b[0;36mnormalize_columns\u001b[0;34m(df)\u001b[0m\n\u001b[1;32m    252\u001b[0m logger\u001b[38;5;241m.\u001b[39mdebug(\u001b[38;5;124m\"\u001b[39m\u001b[38;5;124m-- cleaning columns before display --\u001b[39m\u001b[38;5;124m\"\u001b[39m)\n\u001b[1;32m    253\u001b[0m \u001b[38;5;28;01mfor\u001b[39;00m column \u001b[38;5;129;01min\u001b[39;00m df\u001b[38;5;241m.\u001b[39mcolumns:\n\u001b[0;32m--> 254\u001b[0m     df[column] \u001b[38;5;241m=\u001b[39m \u001b[43mclean_series_values\u001b[49m\u001b[43m(\u001b[49m\u001b[43mdf\u001b[49m\u001b[43m[\u001b[49m\u001b[43mcolumn\u001b[49m\u001b[43m]\u001b[49m\u001b[43m)\u001b[49m\n\u001b[1;32m    255\u001b[0m \u001b[38;5;28;01mreturn\u001b[39;00m df\n",
            "File \u001b[0;32m/opt/conda/lib/python3.9/site-packages/dx/utils/formatting.py:291\u001b[0m, in \u001b[0;36mclean_series_values\u001b[0;34m(s)\u001b[0m\n\u001b[1;32m    289\u001b[0m s \u001b[38;5;241m=\u001b[39m date_time\u001b[38;5;241m.\u001b[39mhandle_time_period_series(s)\n\u001b[1;32m    290\u001b[0m s \u001b[38;5;241m=\u001b[39m date_time\u001b[38;5;241m.\u001b[39mhandle_time_delta_series(s)\n\u001b[0;32m--> 291\u001b[0m s \u001b[38;5;241m=\u001b[39m \u001b[43mdate_time\u001b[49m\u001b[38;5;241;43m.\u001b[39;49m\u001b[43mhandle_datetime_series\u001b[49m\u001b[43m(\u001b[49m\u001b[43ms\u001b[49m\u001b[43m)\u001b[49m\n\u001b[1;32m    293\u001b[0m s \u001b[38;5;241m=\u001b[39m numeric\u001b[38;5;241m.\u001b[39mhandle_decimal_series(s)\n\u001b[1;32m    294\u001b[0m s \u001b[38;5;241m=\u001b[39m numeric\u001b[38;5;241m.\u001b[39mhandle_complex_number_series(s)\n",
            "File \u001b[0;32m/opt/conda/lib/python3.9/site-packages/dx/datatypes/date_time.py:186\u001b[0m, in \u001b[0;36mhandle_datetime_series\u001b[0;34m(s)\u001b[0m\n\u001b[1;32m    181\u001b[0m \u001b[38;5;28;01mif\u001b[39;00m \u001b[38;5;28many\u001b[39m(\u001b[38;5;28misinstance\u001b[39m(v, types) \u001b[38;5;28;01mfor\u001b[39;00m v \u001b[38;5;129;01min\u001b[39;00m sample_rows\u001b[38;5;241m.\u001b[39mvalues):\n\u001b[1;32m    182\u001b[0m     logger\u001b[38;5;241m.\u001b[39mdebug(\n\u001b[1;32m    183\u001b[0m         \u001b[38;5;124mf\u001b[39m\u001b[38;5;124m\"\u001b[39m\u001b[38;5;124mseries `\u001b[39m\u001b[38;5;132;01m{\u001b[39;00ms\u001b[38;5;241m.\u001b[39mname\u001b[38;5;132;01m}\u001b[39;00m\u001b[38;5;124m` has datetime values; converting with pd.to_datetime()\u001b[39m\u001b[38;5;124m\"\u001b[39m,\n\u001b[1;32m    184\u001b[0m         utc\u001b[38;5;241m=\u001b[39mhas_tzinfo\u001b[38;5;241m.\u001b[39many(),\n\u001b[1;32m    185\u001b[0m     )\n\u001b[0;32m--> 186\u001b[0m     s \u001b[38;5;241m=\u001b[39m \u001b[43mpd\u001b[49m\u001b[38;5;241;43m.\u001b[39;49m\u001b[43mto_datetime\u001b[49m\u001b[43m(\u001b[49m\u001b[43ms\u001b[49m\u001b[43m,\u001b[49m\u001b[43m \u001b[49m\u001b[43mutc\u001b[49m\u001b[38;5;241;43m=\u001b[39;49m\u001b[43mhas_tzinfo\u001b[49m\u001b[38;5;241;43m.\u001b[39;49m\u001b[43many\u001b[49m\u001b[43m(\u001b[49m\u001b[43m)\u001b[49m\u001b[43m)\u001b[49m\n\u001b[1;32m    187\u001b[0m \u001b[38;5;28;01mreturn\u001b[39;00m s\n",
            "File \u001b[0;32m/opt/conda/lib/python3.9/site-packages/pandas/core/tools/datetimes.py:1068\u001b[0m, in \u001b[0;36mto_datetime\u001b[0;34m(arg, errors, dayfirst, yearfirst, utc, format, exact, unit, infer_datetime_format, origin, cache)\u001b[0m\n\u001b[1;32m   1066\u001b[0m         result \u001b[38;5;241m=\u001b[39m arg\u001b[38;5;241m.\u001b[39mmap(cache_array)\n\u001b[1;32m   1067\u001b[0m     \u001b[38;5;28;01melse\u001b[39;00m:\n\u001b[0;32m-> 1068\u001b[0m         values \u001b[38;5;241m=\u001b[39m \u001b[43mconvert_listlike\u001b[49m\u001b[43m(\u001b[49m\u001b[43marg\u001b[49m\u001b[38;5;241;43m.\u001b[39;49m\u001b[43m_values\u001b[49m\u001b[43m,\u001b[49m\u001b[43m \u001b[49m\u001b[38;5;28;43mformat\u001b[39;49m\u001b[43m)\u001b[49m\n\u001b[1;32m   1069\u001b[0m         result \u001b[38;5;241m=\u001b[39m arg\u001b[38;5;241m.\u001b[39m_constructor(values, index\u001b[38;5;241m=\u001b[39marg\u001b[38;5;241m.\u001b[39mindex, name\u001b[38;5;241m=\u001b[39marg\u001b[38;5;241m.\u001b[39mname)\n\u001b[1;32m   1070\u001b[0m \u001b[38;5;28;01melif\u001b[39;00m \u001b[38;5;28misinstance\u001b[39m(arg, (ABCDataFrame, abc\u001b[38;5;241m.\u001b[39mMutableMapping)):\n",
            "File \u001b[0;32m/opt/conda/lib/python3.9/site-packages/pandas/core/tools/datetimes.py:438\u001b[0m, in \u001b[0;36m_convert_listlike_datetimes\u001b[0;34m(arg, format, name, tz, unit, errors, infer_datetime_format, dayfirst, yearfirst, exact)\u001b[0m\n\u001b[1;32m    436\u001b[0m \u001b[38;5;28;01massert\u001b[39;00m \u001b[38;5;28mformat\u001b[39m \u001b[38;5;129;01mis\u001b[39;00m \u001b[38;5;28;01mNone\u001b[39;00m \u001b[38;5;129;01mor\u001b[39;00m infer_datetime_format\n\u001b[1;32m    437\u001b[0m utc \u001b[38;5;241m=\u001b[39m tz \u001b[38;5;241m==\u001b[39m \u001b[38;5;124m\"\u001b[39m\u001b[38;5;124mutc\u001b[39m\u001b[38;5;124m\"\u001b[39m\n\u001b[0;32m--> 438\u001b[0m result, tz_parsed \u001b[38;5;241m=\u001b[39m \u001b[43mobjects_to_datetime64ns\u001b[49m\u001b[43m(\u001b[49m\n\u001b[1;32m    439\u001b[0m \u001b[43m    \u001b[49m\u001b[43marg\u001b[49m\u001b[43m,\u001b[49m\n\u001b[1;32m    440\u001b[0m \u001b[43m    \u001b[49m\u001b[43mdayfirst\u001b[49m\u001b[38;5;241;43m=\u001b[39;49m\u001b[43mdayfirst\u001b[49m\u001b[43m,\u001b[49m\n\u001b[1;32m    441\u001b[0m \u001b[43m    \u001b[49m\u001b[43myearfirst\u001b[49m\u001b[38;5;241;43m=\u001b[39;49m\u001b[43myearfirst\u001b[49m\u001b[43m,\u001b[49m\n\u001b[1;32m    442\u001b[0m \u001b[43m    \u001b[49m\u001b[43mutc\u001b[49m\u001b[38;5;241;43m=\u001b[39;49m\u001b[43mutc\u001b[49m\u001b[43m,\u001b[49m\n\u001b[1;32m    443\u001b[0m \u001b[43m    \u001b[49m\u001b[43merrors\u001b[49m\u001b[38;5;241;43m=\u001b[39;49m\u001b[43merrors\u001b[49m\u001b[43m,\u001b[49m\n\u001b[1;32m    444\u001b[0m \u001b[43m    \u001b[49m\u001b[43mrequire_iso8601\u001b[49m\u001b[38;5;241;43m=\u001b[39;49m\u001b[43mrequire_iso8601\u001b[49m\u001b[43m,\u001b[49m\n\u001b[1;32m    445\u001b[0m \u001b[43m    \u001b[49m\u001b[43mallow_object\u001b[49m\u001b[38;5;241;43m=\u001b[39;49m\u001b[38;5;28;43;01mTrue\u001b[39;49;00m\u001b[43m,\u001b[49m\n\u001b[1;32m    446\u001b[0m \u001b[43m\u001b[49m\u001b[43m)\u001b[49m\n\u001b[1;32m    448\u001b[0m \u001b[38;5;28;01mif\u001b[39;00m tz_parsed \u001b[38;5;129;01mis\u001b[39;00m \u001b[38;5;129;01mnot\u001b[39;00m \u001b[38;5;28;01mNone\u001b[39;00m:\n\u001b[1;32m    449\u001b[0m     \u001b[38;5;66;03m# We can take a shortcut since the datetime64 numpy array\u001b[39;00m\n\u001b[1;32m    450\u001b[0m     \u001b[38;5;66;03m# is in UTC\u001b[39;00m\n\u001b[1;32m    451\u001b[0m     dta \u001b[38;5;241m=\u001b[39m DatetimeArray(result, dtype\u001b[38;5;241m=\u001b[39mtz_to_dtype(tz_parsed))\n",
            "File \u001b[0;32m/opt/conda/lib/python3.9/site-packages/pandas/core/arrays/datetimes.py:2177\u001b[0m, in \u001b[0;36mobjects_to_datetime64ns\u001b[0;34m(data, dayfirst, yearfirst, utc, errors, require_iso8601, allow_object, allow_mixed)\u001b[0m\n\u001b[1;32m   2175\u001b[0m order: Literal[\u001b[38;5;124m\"\u001b[39m\u001b[38;5;124mF\u001b[39m\u001b[38;5;124m\"\u001b[39m, \u001b[38;5;124m\"\u001b[39m\u001b[38;5;124mC\u001b[39m\u001b[38;5;124m\"\u001b[39m] \u001b[38;5;241m=\u001b[39m \u001b[38;5;124m\"\u001b[39m\u001b[38;5;124mF\u001b[39m\u001b[38;5;124m\"\u001b[39m \u001b[38;5;28;01mif\u001b[39;00m flags\u001b[38;5;241m.\u001b[39mf_contiguous \u001b[38;5;28;01melse\u001b[39;00m \u001b[38;5;124m\"\u001b[39m\u001b[38;5;124mC\u001b[39m\u001b[38;5;124m\"\u001b[39m\n\u001b[1;32m   2176\u001b[0m \u001b[38;5;28;01mtry\u001b[39;00m:\n\u001b[0;32m-> 2177\u001b[0m     result, tz_parsed \u001b[38;5;241m=\u001b[39m \u001b[43mtslib\u001b[49m\u001b[38;5;241;43m.\u001b[39;49m\u001b[43marray_to_datetime\u001b[49m\u001b[43m(\u001b[49m\n\u001b[1;32m   2178\u001b[0m \u001b[43m        \u001b[49m\u001b[43mdata\u001b[49m\u001b[38;5;241;43m.\u001b[39;49m\u001b[43mravel\u001b[49m\u001b[43m(\u001b[49m\u001b[38;5;124;43m\"\u001b[39;49m\u001b[38;5;124;43mK\u001b[39;49m\u001b[38;5;124;43m\"\u001b[39;49m\u001b[43m)\u001b[49m\u001b[43m,\u001b[49m\n\u001b[1;32m   2179\u001b[0m \u001b[43m        \u001b[49m\u001b[43merrors\u001b[49m\u001b[38;5;241;43m=\u001b[39;49m\u001b[43merrors\u001b[49m\u001b[43m,\u001b[49m\n\u001b[1;32m   2180\u001b[0m \u001b[43m        \u001b[49m\u001b[43mutc\u001b[49m\u001b[38;5;241;43m=\u001b[39;49m\u001b[43mutc\u001b[49m\u001b[43m,\u001b[49m\n\u001b[1;32m   2181\u001b[0m \u001b[43m        \u001b[49m\u001b[43mdayfirst\u001b[49m\u001b[38;5;241;43m=\u001b[39;49m\u001b[43mdayfirst\u001b[49m\u001b[43m,\u001b[49m\n\u001b[1;32m   2182\u001b[0m \u001b[43m        \u001b[49m\u001b[43myearfirst\u001b[49m\u001b[38;5;241;43m=\u001b[39;49m\u001b[43myearfirst\u001b[49m\u001b[43m,\u001b[49m\n\u001b[1;32m   2183\u001b[0m \u001b[43m        \u001b[49m\u001b[43mrequire_iso8601\u001b[49m\u001b[38;5;241;43m=\u001b[39;49m\u001b[43mrequire_iso8601\u001b[49m\u001b[43m,\u001b[49m\n\u001b[1;32m   2184\u001b[0m \u001b[43m        \u001b[49m\u001b[43mallow_mixed\u001b[49m\u001b[38;5;241;43m=\u001b[39;49m\u001b[43mallow_mixed\u001b[49m\u001b[43m,\u001b[49m\n\u001b[1;32m   2185\u001b[0m \u001b[43m    \u001b[49m\u001b[43m)\u001b[49m\n\u001b[1;32m   2186\u001b[0m     result \u001b[38;5;241m=\u001b[39m result\u001b[38;5;241m.\u001b[39mreshape(data\u001b[38;5;241m.\u001b[39mshape, order\u001b[38;5;241m=\u001b[39morder)\n\u001b[1;32m   2187\u001b[0m \u001b[38;5;28;01mexcept\u001b[39;00m \u001b[38;5;167;01mOverflowError\u001b[39;00m \u001b[38;5;28;01mas\u001b[39;00m err:\n\u001b[1;32m   2188\u001b[0m     \u001b[38;5;66;03m# Exception is raised when a part of date is greater than 32 bit signed int\u001b[39;00m\n",
            "File \u001b[0;32m/opt/conda/lib/python3.9/site-packages/pandas/_libs/tslib.pyx:427\u001b[0m, in \u001b[0;36mpandas._libs.tslib.array_to_datetime\u001b[0;34m()\u001b[0m\n",
            "File \u001b[0;32m/opt/conda/lib/python3.9/site-packages/pandas/_libs/tslib.pyx:698\u001b[0m, in \u001b[0;36mpandas._libs.tslib.array_to_datetime\u001b[0;34m()\u001b[0m\n",
            "\u001b[0;31mValueError\u001b[0m: mixed datetimes and integers in passed array"
          ]
        }
      ],
      "source": [
        "# Generating an overview summary of the event log\n",
        "event_log_summary = credit_data.describe(include='all')\n",
        "event_log_summary"
      ]
    },
    {
      "cell_type": "code",
      "execution_count": null,
      "id": "6042dc15-21e1-4982-a781-a9ef55b574f4",
      "metadata": {
        "ExecuteTime": {
          "end_time": "2023-10-10T00:13:45.412489+00:00",
          "start_time": "2023-10-10T00:13:45.039255+00:00"
        },
        "noteable": {
          "cell_type": "code"
        }
      },
      "outputs": [
        {
          "ename": "ValueError",
          "evalue": "mixed datetimes and integers in passed array",
          "output_type": "error",
          "traceback": [
            "\u001b[0;31m---------------------------------------------------------------------------\u001b[0m",
            "\u001b[0;31mValueError\u001b[0m                                Traceback (most recent call last)",
            "File \u001b[0;32m/opt/conda/lib/python3.9/site-packages/dx/formatters/main.py:101\u001b[0m, in \u001b[0;36mhandle_format\u001b[0;34m(obj, with_ipython_display, ipython_shell, extra_metadata)\u001b[0m\n\u001b[1;32m    100\u001b[0m \u001b[38;5;28;01mtry\u001b[39;00m:\n\u001b[0;32m--> 101\u001b[0m     payload, metadata \u001b[38;5;241m=\u001b[39m \u001b[43mdatalink_processing\u001b[49m\u001b[43m(\u001b[49m\n\u001b[1;32m    102\u001b[0m \u001b[43m        \u001b[49m\u001b[43mdf\u001b[49m\u001b[43m,\u001b[49m\n\u001b[1;32m    103\u001b[0m \u001b[43m        \u001b[49m\u001b[43mdefault_index_used\u001b[49m\u001b[43m,\u001b[49m\n\u001b[1;32m    104\u001b[0m \u001b[43m        \u001b[49m\u001b[43mipython_shell\u001b[49m\u001b[38;5;241;43m=\u001b[39;49m\u001b[43mipython\u001b[49m\u001b[43m,\u001b[49m\n\u001b[1;32m    105\u001b[0m \u001b[43m        \u001b[49m\u001b[43mwith_ipython_display\u001b[49m\u001b[38;5;241;43m=\u001b[39;49m\u001b[43mwith_ipython_display\u001b[49m\u001b[43m,\u001b[49m\n\u001b[1;32m    106\u001b[0m \u001b[43m        \u001b[49m\u001b[43mextra_metadata\u001b[49m\u001b[38;5;241;43m=\u001b[39;49m\u001b[43mextra_metadata\u001b[49m\u001b[43m,\u001b[49m\n\u001b[1;32m    107\u001b[0m \u001b[43m    \u001b[49m\u001b[43m)\u001b[49m\n\u001b[1;32m    108\u001b[0m \u001b[38;5;28;01mexcept\u001b[39;00m \u001b[38;5;167;01mException\u001b[39;00m \u001b[38;5;28;01mas\u001b[39;00m e:\n",
            "File \u001b[0;32m/opt/conda/lib/python3.9/site-packages/dx/formatters/main.py:50\u001b[0m, in \u001b[0;36mdatalink_processing\u001b[0;34m(df, default_index_used, ipython_shell, with_ipython_display, extra_metadata)\u001b[0m\n\u001b[1;32m     43\u001b[0m \u001b[38;5;28;01mdef\u001b[39;00m \u001b[38;5;21mdatalink_processing\u001b[39m(\n\u001b[1;32m     44\u001b[0m     df: pd\u001b[38;5;241m.\u001b[39mDataFrame,\n\u001b[1;32m     45\u001b[0m     default_index_used: \u001b[38;5;28mbool\u001b[39m,\n\u001b[0;32m   (...)\u001b[0m\n\u001b[1;32m     48\u001b[0m     extra_metadata: Optional[\u001b[38;5;28mdict\u001b[39m] \u001b[38;5;241m=\u001b[39m \u001b[38;5;28;01mNone\u001b[39;00m,\n\u001b[1;32m     49\u001b[0m ):\n\u001b[0;32m---> 50\u001b[0m     dxdf \u001b[38;5;241m=\u001b[39m \u001b[43mDXDataFrame\u001b[49m\u001b[43m(\u001b[49m\u001b[43mdf\u001b[49m\u001b[43m)\u001b[49m\n\u001b[1;32m     51\u001b[0m     parent_display_id \u001b[38;5;241m=\u001b[39m determine_parent_display_id(dxdf)\n",
            "File \u001b[0;32m/opt/conda/lib/python3.9/site-packages/dx/utils/tracking.py:73\u001b[0m, in \u001b[0;36mDXDataFrame.__init__\u001b[0;34m(self, df, ipython_shell)\u001b[0m\n\u001b[1;32m     71\u001b[0m \u001b[38;5;28mself\u001b[39m\u001b[38;5;241m.\u001b[39mindex_name \u001b[38;5;241m=\u001b[39m get_df_index(df\u001b[38;5;241m.\u001b[39mindex)\n\u001b[0;32m---> 73\u001b[0m \u001b[38;5;28mself\u001b[39m\u001b[38;5;241m.\u001b[39mdf \u001b[38;5;241m=\u001b[39m \u001b[43mnormalize_index_and_columns\u001b[49m\u001b[43m(\u001b[49m\u001b[43mdf\u001b[49m\u001b[43m)\u001b[49m\n\u001b[1;32m     74\u001b[0m \u001b[38;5;28mself\u001b[39m\u001b[38;5;241m.\u001b[39mhash \u001b[38;5;241m=\u001b[39m generate_df_hash(\u001b[38;5;28mself\u001b[39m\u001b[38;5;241m.\u001b[39mdf)\n",
            "File \u001b[0;32m/opt/conda/lib/python3.9/site-packages/dx/utils/formatting.py:188\u001b[0m, in \u001b[0;36mnormalize_index_and_columns\u001b[0;34m(df)\u001b[0m\n\u001b[1;32m    187\u001b[0m df \u001b[38;5;241m=\u001b[39m normalize_index(df)\n\u001b[0;32m--> 188\u001b[0m df \u001b[38;5;241m=\u001b[39m \u001b[43mnormalize_columns\u001b[49m\u001b[43m(\u001b[49m\u001b[43mdf\u001b[49m\u001b[43m)\u001b[49m\n\u001b[1;32m    189\u001b[0m df \u001b[38;5;241m=\u001b[39m deconflict_index_and_column_names(df)\n",
            "File \u001b[0;32m/opt/conda/lib/python3.9/site-packages/dx/utils/formatting.py:254\u001b[0m, in \u001b[0;36mnormalize_columns\u001b[0;34m(df)\u001b[0m\n\u001b[1;32m    253\u001b[0m \u001b[38;5;28;01mfor\u001b[39;00m column \u001b[38;5;129;01min\u001b[39;00m df\u001b[38;5;241m.\u001b[39mcolumns:\n\u001b[0;32m--> 254\u001b[0m     df[column] \u001b[38;5;241m=\u001b[39m \u001b[43mclean_series_values\u001b[49m\u001b[43m(\u001b[49m\u001b[43mdf\u001b[49m\u001b[43m[\u001b[49m\u001b[43mcolumn\u001b[49m\u001b[43m]\u001b[49m\u001b[43m)\u001b[49m\n\u001b[1;32m    255\u001b[0m \u001b[38;5;28;01mreturn\u001b[39;00m df\n",
            "File \u001b[0;32m/opt/conda/lib/python3.9/site-packages/dx/utils/formatting.py:291\u001b[0m, in \u001b[0;36mclean_series_values\u001b[0;34m(s)\u001b[0m\n\u001b[1;32m    290\u001b[0m s \u001b[38;5;241m=\u001b[39m date_time\u001b[38;5;241m.\u001b[39mhandle_time_delta_series(s)\n\u001b[0;32m--> 291\u001b[0m s \u001b[38;5;241m=\u001b[39m \u001b[43mdate_time\u001b[49m\u001b[38;5;241;43m.\u001b[39;49m\u001b[43mhandle_datetime_series\u001b[49m\u001b[43m(\u001b[49m\u001b[43ms\u001b[49m\u001b[43m)\u001b[49m\n\u001b[1;32m    293\u001b[0m s \u001b[38;5;241m=\u001b[39m numeric\u001b[38;5;241m.\u001b[39mhandle_decimal_series(s)\n",
            "File \u001b[0;32m/opt/conda/lib/python3.9/site-packages/dx/datatypes/date_time.py:186\u001b[0m, in \u001b[0;36mhandle_datetime_series\u001b[0;34m(s)\u001b[0m\n\u001b[1;32m    182\u001b[0m     logger\u001b[38;5;241m.\u001b[39mdebug(\n\u001b[1;32m    183\u001b[0m         \u001b[38;5;124mf\u001b[39m\u001b[38;5;124m\"\u001b[39m\u001b[38;5;124mseries `\u001b[39m\u001b[38;5;132;01m{\u001b[39;00ms\u001b[38;5;241m.\u001b[39mname\u001b[38;5;132;01m}\u001b[39;00m\u001b[38;5;124m` has datetime values; converting with pd.to_datetime()\u001b[39m\u001b[38;5;124m\"\u001b[39m,\n\u001b[1;32m    184\u001b[0m         utc\u001b[38;5;241m=\u001b[39mhas_tzinfo\u001b[38;5;241m.\u001b[39many(),\n\u001b[1;32m    185\u001b[0m     )\n\u001b[0;32m--> 186\u001b[0m     s \u001b[38;5;241m=\u001b[39m \u001b[43mpd\u001b[49m\u001b[38;5;241;43m.\u001b[39;49m\u001b[43mto_datetime\u001b[49m\u001b[43m(\u001b[49m\u001b[43ms\u001b[49m\u001b[43m,\u001b[49m\u001b[43m \u001b[49m\u001b[43mutc\u001b[49m\u001b[38;5;241;43m=\u001b[39;49m\u001b[43mhas_tzinfo\u001b[49m\u001b[38;5;241;43m.\u001b[39;49m\u001b[43many\u001b[49m\u001b[43m(\u001b[49m\u001b[43m)\u001b[49m\u001b[43m)\u001b[49m\n\u001b[1;32m    187\u001b[0m \u001b[38;5;28;01mreturn\u001b[39;00m s\n",
            "File \u001b[0;32m/opt/conda/lib/python3.9/site-packages/pandas/core/tools/datetimes.py:1068\u001b[0m, in \u001b[0;36mto_datetime\u001b[0;34m(arg, errors, dayfirst, yearfirst, utc, format, exact, unit, infer_datetime_format, origin, cache)\u001b[0m\n\u001b[1;32m   1067\u001b[0m \u001b[38;5;28;01melse\u001b[39;00m:\n\u001b[0;32m-> 1068\u001b[0m     values \u001b[38;5;241m=\u001b[39m \u001b[43mconvert_listlike\u001b[49m\u001b[43m(\u001b[49m\u001b[43marg\u001b[49m\u001b[38;5;241;43m.\u001b[39;49m\u001b[43m_values\u001b[49m\u001b[43m,\u001b[49m\u001b[43m \u001b[49m\u001b[38;5;28;43mformat\u001b[39;49m\u001b[43m)\u001b[49m\n\u001b[1;32m   1069\u001b[0m     result \u001b[38;5;241m=\u001b[39m arg\u001b[38;5;241m.\u001b[39m_constructor(values, index\u001b[38;5;241m=\u001b[39marg\u001b[38;5;241m.\u001b[39mindex, name\u001b[38;5;241m=\u001b[39marg\u001b[38;5;241m.\u001b[39mname)\n",
            "File \u001b[0;32m/opt/conda/lib/python3.9/site-packages/pandas/core/tools/datetimes.py:438\u001b[0m, in \u001b[0;36m_convert_listlike_datetimes\u001b[0;34m(arg, format, name, tz, unit, errors, infer_datetime_format, dayfirst, yearfirst, exact)\u001b[0m\n\u001b[1;32m    437\u001b[0m utc \u001b[38;5;241m=\u001b[39m tz \u001b[38;5;241m==\u001b[39m \u001b[38;5;124m\"\u001b[39m\u001b[38;5;124mutc\u001b[39m\u001b[38;5;124m\"\u001b[39m\n\u001b[0;32m--> 438\u001b[0m result, tz_parsed \u001b[38;5;241m=\u001b[39m \u001b[43mobjects_to_datetime64ns\u001b[49m\u001b[43m(\u001b[49m\n\u001b[1;32m    439\u001b[0m \u001b[43m    \u001b[49m\u001b[43marg\u001b[49m\u001b[43m,\u001b[49m\n\u001b[1;32m    440\u001b[0m \u001b[43m    \u001b[49m\u001b[43mdayfirst\u001b[49m\u001b[38;5;241;43m=\u001b[39;49m\u001b[43mdayfirst\u001b[49m\u001b[43m,\u001b[49m\n\u001b[1;32m    441\u001b[0m \u001b[43m    \u001b[49m\u001b[43myearfirst\u001b[49m\u001b[38;5;241;43m=\u001b[39;49m\u001b[43myearfirst\u001b[49m\u001b[43m,\u001b[49m\n\u001b[1;32m    442\u001b[0m \u001b[43m    \u001b[49m\u001b[43mutc\u001b[49m\u001b[38;5;241;43m=\u001b[39;49m\u001b[43mutc\u001b[49m\u001b[43m,\u001b[49m\n\u001b[1;32m    443\u001b[0m \u001b[43m    \u001b[49m\u001b[43merrors\u001b[49m\u001b[38;5;241;43m=\u001b[39;49m\u001b[43merrors\u001b[49m\u001b[43m,\u001b[49m\n\u001b[1;32m    444\u001b[0m \u001b[43m    \u001b[49m\u001b[43mrequire_iso8601\u001b[49m\u001b[38;5;241;43m=\u001b[39;49m\u001b[43mrequire_iso8601\u001b[49m\u001b[43m,\u001b[49m\n\u001b[1;32m    445\u001b[0m \u001b[43m    \u001b[49m\u001b[43mallow_object\u001b[49m\u001b[38;5;241;43m=\u001b[39;49m\u001b[38;5;28;43;01mTrue\u001b[39;49;00m\u001b[43m,\u001b[49m\n\u001b[1;32m    446\u001b[0m \u001b[43m\u001b[49m\u001b[43m)\u001b[49m\n\u001b[1;32m    448\u001b[0m \u001b[38;5;28;01mif\u001b[39;00m tz_parsed \u001b[38;5;129;01mis\u001b[39;00m \u001b[38;5;129;01mnot\u001b[39;00m \u001b[38;5;28;01mNone\u001b[39;00m:\n\u001b[1;32m    449\u001b[0m     \u001b[38;5;66;03m# We can take a shortcut since the datetime64 numpy array\u001b[39;00m\n\u001b[1;32m    450\u001b[0m     \u001b[38;5;66;03m# is in UTC\u001b[39;00m\n",
            "File \u001b[0;32m/opt/conda/lib/python3.9/site-packages/pandas/core/arrays/datetimes.py:2177\u001b[0m, in \u001b[0;36mobjects_to_datetime64ns\u001b[0;34m(data, dayfirst, yearfirst, utc, errors, require_iso8601, allow_object, allow_mixed)\u001b[0m\n\u001b[1;32m   2176\u001b[0m \u001b[38;5;28;01mtry\u001b[39;00m:\n\u001b[0;32m-> 2177\u001b[0m     result, tz_parsed \u001b[38;5;241m=\u001b[39m \u001b[43mtslib\u001b[49m\u001b[38;5;241;43m.\u001b[39;49m\u001b[43marray_to_datetime\u001b[49m\u001b[43m(\u001b[49m\n\u001b[1;32m   2178\u001b[0m \u001b[43m        \u001b[49m\u001b[43mdata\u001b[49m\u001b[38;5;241;43m.\u001b[39;49m\u001b[43mravel\u001b[49m\u001b[43m(\u001b[49m\u001b[38;5;124;43m\"\u001b[39;49m\u001b[38;5;124;43mK\u001b[39;49m\u001b[38;5;124;43m\"\u001b[39;49m\u001b[43m)\u001b[49m\u001b[43m,\u001b[49m\n\u001b[1;32m   2179\u001b[0m \u001b[43m        \u001b[49m\u001b[43merrors\u001b[49m\u001b[38;5;241;43m=\u001b[39;49m\u001b[43merrors\u001b[49m\u001b[43m,\u001b[49m\n\u001b[1;32m   2180\u001b[0m \u001b[43m        \u001b[49m\u001b[43mutc\u001b[49m\u001b[38;5;241;43m=\u001b[39;49m\u001b[43mutc\u001b[49m\u001b[43m,\u001b[49m\n\u001b[1;32m   2181\u001b[0m \u001b[43m        \u001b[49m\u001b[43mdayfirst\u001b[49m\u001b[38;5;241;43m=\u001b[39;49m\u001b[43mdayfirst\u001b[49m\u001b[43m,\u001b[49m\n\u001b[1;32m   2182\u001b[0m \u001b[43m        \u001b[49m\u001b[43myearfirst\u001b[49m\u001b[38;5;241;43m=\u001b[39;49m\u001b[43myearfirst\u001b[49m\u001b[43m,\u001b[49m\n\u001b[1;32m   2183\u001b[0m \u001b[43m        \u001b[49m\u001b[43mrequire_iso8601\u001b[49m\u001b[38;5;241;43m=\u001b[39;49m\u001b[43mrequire_iso8601\u001b[49m\u001b[43m,\u001b[49m\n\u001b[1;32m   2184\u001b[0m \u001b[43m        \u001b[49m\u001b[43mallow_mixed\u001b[49m\u001b[38;5;241;43m=\u001b[39;49m\u001b[43mallow_mixed\u001b[49m\u001b[43m,\u001b[49m\n\u001b[1;32m   2185\u001b[0m \u001b[43m    \u001b[49m\u001b[43m)\u001b[49m\n\u001b[1;32m   2186\u001b[0m     result \u001b[38;5;241m=\u001b[39m result\u001b[38;5;241m.\u001b[39mreshape(data\u001b[38;5;241m.\u001b[39mshape, order\u001b[38;5;241m=\u001b[39morder)\n",
            "File \u001b[0;32m/opt/conda/lib/python3.9/site-packages/pandas/_libs/tslib.pyx:427\u001b[0m, in \u001b[0;36mpandas._libs.tslib.array_to_datetime\u001b[0;34m()\u001b[0m\n",
            "File \u001b[0;32m/opt/conda/lib/python3.9/site-packages/pandas/_libs/tslib.pyx:698\u001b[0m, in \u001b[0;36mpandas._libs.tslib.array_to_datetime\u001b[0;34m()\u001b[0m\n",
            "\u001b[0;31mValueError\u001b[0m: mixed datetimes and integers in passed array",
            "\nDuring handling of the above exception, another exception occurred:\n",
            "\u001b[0;31mValueError\u001b[0m                                Traceback (most recent call last)",
            "Cell \u001b[0;32mIn[10], line 11\u001b[0m\n\u001b[1;32m      9\u001b[0m \u001b[38;5;66;03m# Generating an overview summary of the cleaned event log\u001b[39;00m\n\u001b[1;32m     10\u001b[0m event_log_summary_cleaned \u001b[38;5;241m=\u001b[39m credit_data\u001b[38;5;241m.\u001b[39mdescribe(include\u001b[38;5;241m=\u001b[39m\u001b[38;5;124m'\u001b[39m\u001b[38;5;124mall\u001b[39m\u001b[38;5;124m'\u001b[39m)\n\u001b[0;32m---> 11\u001b[0m event_log_summary_cleaned\n",
            "File \u001b[0;32m/opt/conda/lib/python3.9/site-packages/IPython/core/displayhook.py:268\u001b[0m, in \u001b[0;36mDisplayHook.__call__\u001b[0;34m(self, result)\u001b[0m\n\u001b[1;32m    266\u001b[0m \u001b[38;5;28mself\u001b[39m\u001b[38;5;241m.\u001b[39mstart_displayhook()\n\u001b[1;32m    267\u001b[0m \u001b[38;5;28mself\u001b[39m\u001b[38;5;241m.\u001b[39mwrite_output_prompt()\n\u001b[0;32m--> 268\u001b[0m format_dict, md_dict \u001b[38;5;241m=\u001b[39m \u001b[38;5;28;43mself\u001b[39;49m\u001b[38;5;241;43m.\u001b[39;49m\u001b[43mcompute_format_data\u001b[49m\u001b[43m(\u001b[49m\u001b[43mresult\u001b[49m\u001b[43m)\u001b[49m\n\u001b[1;32m    269\u001b[0m \u001b[38;5;28mself\u001b[39m\u001b[38;5;241m.\u001b[39mupdate_user_ns(result)\n\u001b[1;32m    270\u001b[0m \u001b[38;5;28mself\u001b[39m\u001b[38;5;241m.\u001b[39mfill_exec_result(result)\n",
            "File \u001b[0;32m/opt/conda/lib/python3.9/site-packages/IPython/core/displayhook.py:157\u001b[0m, in \u001b[0;36mDisplayHook.compute_format_data\u001b[0;34m(self, result)\u001b[0m\n\u001b[1;32m    127\u001b[0m \u001b[38;5;28;01mdef\u001b[39;00m \u001b[38;5;21mcompute_format_data\u001b[39m(\u001b[38;5;28mself\u001b[39m, result):\n\u001b[1;32m    128\u001b[0m \u001b[38;5;250m    \u001b[39m\u001b[38;5;124;03m\"\"\"Compute format data of the object to be displayed.\u001b[39;00m\n\u001b[1;32m    129\u001b[0m \n\u001b[1;32m    130\u001b[0m \u001b[38;5;124;03m    The format data is a generalization of the :func:`repr` of an object.\u001b[39;00m\n\u001b[0;32m   (...)\u001b[0m\n\u001b[1;32m    155\u001b[0m \n\u001b[1;32m    156\u001b[0m \u001b[38;5;124;03m    \"\"\"\u001b[39;00m\n\u001b[0;32m--> 157\u001b[0m     \u001b[38;5;28;01mreturn\u001b[39;00m \u001b[38;5;28;43mself\u001b[39;49m\u001b[38;5;241;43m.\u001b[39;49m\u001b[43mshell\u001b[49m\u001b[38;5;241;43m.\u001b[39;49m\u001b[43mdisplay_formatter\u001b[49m\u001b[38;5;241;43m.\u001b[39;49m\u001b[43mformat\u001b[49m\u001b[43m(\u001b[49m\u001b[43mresult\u001b[49m\u001b[43m)\u001b[49m\n",
            "File \u001b[0;32m/opt/conda/lib/python3.9/site-packages/dx/formatters/main.py:127\u001b[0m, in \u001b[0;36mDXDisplayFormatter.format\u001b[0;34m(self, obj, **kwargs)\u001b[0m\n\u001b[1;32m    125\u001b[0m \u001b[38;5;28;01mdef\u001b[39;00m \u001b[38;5;21mformat\u001b[39m(\u001b[38;5;28mself\u001b[39m, obj, \u001b[38;5;241m*\u001b[39m\u001b[38;5;241m*\u001b[39mkwargs):\n\u001b[1;32m    126\u001b[0m     \u001b[38;5;28;01mif\u001b[39;00m IN_NOTEBOOK_ENV \u001b[38;5;129;01mand\u001b[39;00m \u001b[38;5;28misinstance\u001b[39m(obj, \u001b[38;5;28mtuple\u001b[39m(settings\u001b[38;5;241m.\u001b[39mget_renderable_types())):\n\u001b[0;32m--> 127\u001b[0m         \u001b[43mhandle_format\u001b[49m\u001b[43m(\u001b[49m\u001b[43mobj\u001b[49m\u001b[43m)\u001b[49m\n\u001b[1;32m    128\u001b[0m         \u001b[38;5;28;01mreturn\u001b[39;00m ({}, {})\n\u001b[1;32m    130\u001b[0m     \u001b[38;5;28;01mreturn\u001b[39;00m DEFAULT_IPYTHON_DISPLAY_FORMATTER\u001b[38;5;241m.\u001b[39mformat(obj, \u001b[38;5;241m*\u001b[39m\u001b[38;5;241m*\u001b[39mkwargs)\n",
            "File \u001b[0;32m/opt/conda/lib/python3.9/site-packages/dx/formatters/main.py:111\u001b[0m, in \u001b[0;36mhandle_format\u001b[0;34m(obj, with_ipython_display, ipython_shell, extra_metadata)\u001b[0m\n\u001b[1;32m    109\u001b[0m     logger\u001b[38;5;241m.\u001b[39mdebug(\u001b[38;5;124mf\u001b[39m\u001b[38;5;124m\"\u001b[39m\u001b[38;5;124mError in datalink_processing: \u001b[39m\u001b[38;5;132;01m{\u001b[39;00me\u001b[38;5;132;01m}\u001b[39;00m\u001b[38;5;124m\"\u001b[39m)\n\u001b[1;32m    110\u001b[0m     \u001b[38;5;66;03m# fall back to default processing\u001b[39;00m\n\u001b[0;32m--> 111\u001b[0m     df \u001b[38;5;241m=\u001b[39m \u001b[43mnormalize_index_and_columns\u001b[49m\u001b[43m(\u001b[49m\u001b[43mdf\u001b[49m\u001b[43m)\u001b[49m\n\u001b[1;32m    112\u001b[0m     payload, metadata \u001b[38;5;241m=\u001b[39m format_output(\n\u001b[1;32m    113\u001b[0m         df,\n\u001b[1;32m    114\u001b[0m         default_index_used\u001b[38;5;241m=\u001b[39mdefault_index_used,\n\u001b[1;32m    115\u001b[0m         with_ipython_display\u001b[38;5;241m=\u001b[39mwith_ipython_display,\n\u001b[1;32m    116\u001b[0m         extra_metadata\u001b[38;5;241m=\u001b[39mextra_metadata,\n\u001b[1;32m    117\u001b[0m     )\n\u001b[1;32m    119\u001b[0m \u001b[38;5;28;01mreturn\u001b[39;00m payload, metadata\n",
            "File \u001b[0;32m/opt/conda/lib/python3.9/site-packages/dx/utils/formatting.py:188\u001b[0m, in \u001b[0;36mnormalize_index_and_columns\u001b[0;34m(df)\u001b[0m\n\u001b[1;32m    183\u001b[0m \u001b[38;5;250m\u001b[39m\u001b[38;5;124;03m\"\"\"\u001b[39;00m\n\u001b[1;32m    184\u001b[0m \u001b[38;5;124;03mAny additional formatting that needs to happen to the index,\u001b[39;00m\n\u001b[1;32m    185\u001b[0m \u001b[38;5;124;03mthe columns, or the data itself should be done here.\u001b[39;00m\n\u001b[1;32m    186\u001b[0m \u001b[38;5;124;03m\"\"\"\u001b[39;00m\n\u001b[1;32m    187\u001b[0m df \u001b[38;5;241m=\u001b[39m normalize_index(df)\n\u001b[0;32m--> 188\u001b[0m df \u001b[38;5;241m=\u001b[39m \u001b[43mnormalize_columns\u001b[49m\u001b[43m(\u001b[49m\u001b[43mdf\u001b[49m\u001b[43m)\u001b[49m\n\u001b[1;32m    189\u001b[0m df \u001b[38;5;241m=\u001b[39m deconflict_index_and_column_names(df)\n\u001b[1;32m    190\u001b[0m \u001b[38;5;28;01mreturn\u001b[39;00m df\n",
            "File \u001b[0;32m/opt/conda/lib/python3.9/site-packages/dx/utils/formatting.py:254\u001b[0m, in \u001b[0;36mnormalize_columns\u001b[0;34m(df)\u001b[0m\n\u001b[1;32m    252\u001b[0m logger\u001b[38;5;241m.\u001b[39mdebug(\u001b[38;5;124m\"\u001b[39m\u001b[38;5;124m-- cleaning columns before display --\u001b[39m\u001b[38;5;124m\"\u001b[39m)\n\u001b[1;32m    253\u001b[0m \u001b[38;5;28;01mfor\u001b[39;00m column \u001b[38;5;129;01min\u001b[39;00m df\u001b[38;5;241m.\u001b[39mcolumns:\n\u001b[0;32m--> 254\u001b[0m     df[column] \u001b[38;5;241m=\u001b[39m \u001b[43mclean_series_values\u001b[49m\u001b[43m(\u001b[49m\u001b[43mdf\u001b[49m\u001b[43m[\u001b[49m\u001b[43mcolumn\u001b[49m\u001b[43m]\u001b[49m\u001b[43m)\u001b[49m\n\u001b[1;32m    255\u001b[0m \u001b[38;5;28;01mreturn\u001b[39;00m df\n",
            "File \u001b[0;32m/opt/conda/lib/python3.9/site-packages/dx/utils/formatting.py:291\u001b[0m, in \u001b[0;36mclean_series_values\u001b[0;34m(s)\u001b[0m\n\u001b[1;32m    289\u001b[0m s \u001b[38;5;241m=\u001b[39m date_time\u001b[38;5;241m.\u001b[39mhandle_time_period_series(s)\n\u001b[1;32m    290\u001b[0m s \u001b[38;5;241m=\u001b[39m date_time\u001b[38;5;241m.\u001b[39mhandle_time_delta_series(s)\n\u001b[0;32m--> 291\u001b[0m s \u001b[38;5;241m=\u001b[39m \u001b[43mdate_time\u001b[49m\u001b[38;5;241;43m.\u001b[39;49m\u001b[43mhandle_datetime_series\u001b[49m\u001b[43m(\u001b[49m\u001b[43ms\u001b[49m\u001b[43m)\u001b[49m\n\u001b[1;32m    293\u001b[0m s \u001b[38;5;241m=\u001b[39m numeric\u001b[38;5;241m.\u001b[39mhandle_decimal_series(s)\n\u001b[1;32m    294\u001b[0m s \u001b[38;5;241m=\u001b[39m numeric\u001b[38;5;241m.\u001b[39mhandle_complex_number_series(s)\n",
            "File \u001b[0;32m/opt/conda/lib/python3.9/site-packages/dx/datatypes/date_time.py:186\u001b[0m, in \u001b[0;36mhandle_datetime_series\u001b[0;34m(s)\u001b[0m\n\u001b[1;32m    181\u001b[0m \u001b[38;5;28;01mif\u001b[39;00m \u001b[38;5;28many\u001b[39m(\u001b[38;5;28misinstance\u001b[39m(v, types) \u001b[38;5;28;01mfor\u001b[39;00m v \u001b[38;5;129;01min\u001b[39;00m sample_rows\u001b[38;5;241m.\u001b[39mvalues):\n\u001b[1;32m    182\u001b[0m     logger\u001b[38;5;241m.\u001b[39mdebug(\n\u001b[1;32m    183\u001b[0m         \u001b[38;5;124mf\u001b[39m\u001b[38;5;124m\"\u001b[39m\u001b[38;5;124mseries `\u001b[39m\u001b[38;5;132;01m{\u001b[39;00ms\u001b[38;5;241m.\u001b[39mname\u001b[38;5;132;01m}\u001b[39;00m\u001b[38;5;124m` has datetime values; converting with pd.to_datetime()\u001b[39m\u001b[38;5;124m\"\u001b[39m,\n\u001b[1;32m    184\u001b[0m         utc\u001b[38;5;241m=\u001b[39mhas_tzinfo\u001b[38;5;241m.\u001b[39many(),\n\u001b[1;32m    185\u001b[0m     )\n\u001b[0;32m--> 186\u001b[0m     s \u001b[38;5;241m=\u001b[39m \u001b[43mpd\u001b[49m\u001b[38;5;241;43m.\u001b[39;49m\u001b[43mto_datetime\u001b[49m\u001b[43m(\u001b[49m\u001b[43ms\u001b[49m\u001b[43m,\u001b[49m\u001b[43m \u001b[49m\u001b[43mutc\u001b[49m\u001b[38;5;241;43m=\u001b[39;49m\u001b[43mhas_tzinfo\u001b[49m\u001b[38;5;241;43m.\u001b[39;49m\u001b[43many\u001b[49m\u001b[43m(\u001b[49m\u001b[43m)\u001b[49m\u001b[43m)\u001b[49m\n\u001b[1;32m    187\u001b[0m \u001b[38;5;28;01mreturn\u001b[39;00m s\n",
            "File \u001b[0;32m/opt/conda/lib/python3.9/site-packages/pandas/core/tools/datetimes.py:1068\u001b[0m, in \u001b[0;36mto_datetime\u001b[0;34m(arg, errors, dayfirst, yearfirst, utc, format, exact, unit, infer_datetime_format, origin, cache)\u001b[0m\n\u001b[1;32m   1066\u001b[0m         result \u001b[38;5;241m=\u001b[39m arg\u001b[38;5;241m.\u001b[39mmap(cache_array)\n\u001b[1;32m   1067\u001b[0m     \u001b[38;5;28;01melse\u001b[39;00m:\n\u001b[0;32m-> 1068\u001b[0m         values \u001b[38;5;241m=\u001b[39m \u001b[43mconvert_listlike\u001b[49m\u001b[43m(\u001b[49m\u001b[43marg\u001b[49m\u001b[38;5;241;43m.\u001b[39;49m\u001b[43m_values\u001b[49m\u001b[43m,\u001b[49m\u001b[43m \u001b[49m\u001b[38;5;28;43mformat\u001b[39;49m\u001b[43m)\u001b[49m\n\u001b[1;32m   1069\u001b[0m         result \u001b[38;5;241m=\u001b[39m arg\u001b[38;5;241m.\u001b[39m_constructor(values, index\u001b[38;5;241m=\u001b[39marg\u001b[38;5;241m.\u001b[39mindex, name\u001b[38;5;241m=\u001b[39marg\u001b[38;5;241m.\u001b[39mname)\n\u001b[1;32m   1070\u001b[0m \u001b[38;5;28;01melif\u001b[39;00m \u001b[38;5;28misinstance\u001b[39m(arg, (ABCDataFrame, abc\u001b[38;5;241m.\u001b[39mMutableMapping)):\n",
            "File \u001b[0;32m/opt/conda/lib/python3.9/site-packages/pandas/core/tools/datetimes.py:438\u001b[0m, in \u001b[0;36m_convert_listlike_datetimes\u001b[0;34m(arg, format, name, tz, unit, errors, infer_datetime_format, dayfirst, yearfirst, exact)\u001b[0m\n\u001b[1;32m    436\u001b[0m \u001b[38;5;28;01massert\u001b[39;00m \u001b[38;5;28mformat\u001b[39m \u001b[38;5;129;01mis\u001b[39;00m \u001b[38;5;28;01mNone\u001b[39;00m \u001b[38;5;129;01mor\u001b[39;00m infer_datetime_format\n\u001b[1;32m    437\u001b[0m utc \u001b[38;5;241m=\u001b[39m tz \u001b[38;5;241m==\u001b[39m \u001b[38;5;124m\"\u001b[39m\u001b[38;5;124mutc\u001b[39m\u001b[38;5;124m\"\u001b[39m\n\u001b[0;32m--> 438\u001b[0m result, tz_parsed \u001b[38;5;241m=\u001b[39m \u001b[43mobjects_to_datetime64ns\u001b[49m\u001b[43m(\u001b[49m\n\u001b[1;32m    439\u001b[0m \u001b[43m    \u001b[49m\u001b[43marg\u001b[49m\u001b[43m,\u001b[49m\n\u001b[1;32m    440\u001b[0m \u001b[43m    \u001b[49m\u001b[43mdayfirst\u001b[49m\u001b[38;5;241;43m=\u001b[39;49m\u001b[43mdayfirst\u001b[49m\u001b[43m,\u001b[49m\n\u001b[1;32m    441\u001b[0m \u001b[43m    \u001b[49m\u001b[43myearfirst\u001b[49m\u001b[38;5;241;43m=\u001b[39;49m\u001b[43myearfirst\u001b[49m\u001b[43m,\u001b[49m\n\u001b[1;32m    442\u001b[0m \u001b[43m    \u001b[49m\u001b[43mutc\u001b[49m\u001b[38;5;241;43m=\u001b[39;49m\u001b[43mutc\u001b[49m\u001b[43m,\u001b[49m\n\u001b[1;32m    443\u001b[0m \u001b[43m    \u001b[49m\u001b[43merrors\u001b[49m\u001b[38;5;241;43m=\u001b[39;49m\u001b[43merrors\u001b[49m\u001b[43m,\u001b[49m\n\u001b[1;32m    444\u001b[0m \u001b[43m    \u001b[49m\u001b[43mrequire_iso8601\u001b[49m\u001b[38;5;241;43m=\u001b[39;49m\u001b[43mrequire_iso8601\u001b[49m\u001b[43m,\u001b[49m\n\u001b[1;32m    445\u001b[0m \u001b[43m    \u001b[49m\u001b[43mallow_object\u001b[49m\u001b[38;5;241;43m=\u001b[39;49m\u001b[38;5;28;43;01mTrue\u001b[39;49;00m\u001b[43m,\u001b[49m\n\u001b[1;32m    446\u001b[0m \u001b[43m\u001b[49m\u001b[43m)\u001b[49m\n\u001b[1;32m    448\u001b[0m \u001b[38;5;28;01mif\u001b[39;00m tz_parsed \u001b[38;5;129;01mis\u001b[39;00m \u001b[38;5;129;01mnot\u001b[39;00m \u001b[38;5;28;01mNone\u001b[39;00m:\n\u001b[1;32m    449\u001b[0m     \u001b[38;5;66;03m# We can take a shortcut since the datetime64 numpy array\u001b[39;00m\n\u001b[1;32m    450\u001b[0m     \u001b[38;5;66;03m# is in UTC\u001b[39;00m\n\u001b[1;32m    451\u001b[0m     dta \u001b[38;5;241m=\u001b[39m DatetimeArray(result, dtype\u001b[38;5;241m=\u001b[39mtz_to_dtype(tz_parsed))\n",
            "File \u001b[0;32m/opt/conda/lib/python3.9/site-packages/pandas/core/arrays/datetimes.py:2177\u001b[0m, in \u001b[0;36mobjects_to_datetime64ns\u001b[0;34m(data, dayfirst, yearfirst, utc, errors, require_iso8601, allow_object, allow_mixed)\u001b[0m\n\u001b[1;32m   2175\u001b[0m order: Literal[\u001b[38;5;124m\"\u001b[39m\u001b[38;5;124mF\u001b[39m\u001b[38;5;124m\"\u001b[39m, \u001b[38;5;124m\"\u001b[39m\u001b[38;5;124mC\u001b[39m\u001b[38;5;124m\"\u001b[39m] \u001b[38;5;241m=\u001b[39m \u001b[38;5;124m\"\u001b[39m\u001b[38;5;124mF\u001b[39m\u001b[38;5;124m\"\u001b[39m \u001b[38;5;28;01mif\u001b[39;00m flags\u001b[38;5;241m.\u001b[39mf_contiguous \u001b[38;5;28;01melse\u001b[39;00m \u001b[38;5;124m\"\u001b[39m\u001b[38;5;124mC\u001b[39m\u001b[38;5;124m\"\u001b[39m\n\u001b[1;32m   2176\u001b[0m \u001b[38;5;28;01mtry\u001b[39;00m:\n\u001b[0;32m-> 2177\u001b[0m     result, tz_parsed \u001b[38;5;241m=\u001b[39m \u001b[43mtslib\u001b[49m\u001b[38;5;241;43m.\u001b[39;49m\u001b[43marray_to_datetime\u001b[49m\u001b[43m(\u001b[49m\n\u001b[1;32m   2178\u001b[0m \u001b[43m        \u001b[49m\u001b[43mdata\u001b[49m\u001b[38;5;241;43m.\u001b[39;49m\u001b[43mravel\u001b[49m\u001b[43m(\u001b[49m\u001b[38;5;124;43m\"\u001b[39;49m\u001b[38;5;124;43mK\u001b[39;49m\u001b[38;5;124;43m\"\u001b[39;49m\u001b[43m)\u001b[49m\u001b[43m,\u001b[49m\n\u001b[1;32m   2179\u001b[0m \u001b[43m        \u001b[49m\u001b[43merrors\u001b[49m\u001b[38;5;241;43m=\u001b[39;49m\u001b[43merrors\u001b[49m\u001b[43m,\u001b[49m\n\u001b[1;32m   2180\u001b[0m \u001b[43m        \u001b[49m\u001b[43mutc\u001b[49m\u001b[38;5;241;43m=\u001b[39;49m\u001b[43mutc\u001b[49m\u001b[43m,\u001b[49m\n\u001b[1;32m   2181\u001b[0m \u001b[43m        \u001b[49m\u001b[43mdayfirst\u001b[49m\u001b[38;5;241;43m=\u001b[39;49m\u001b[43mdayfirst\u001b[49m\u001b[43m,\u001b[49m\n\u001b[1;32m   2182\u001b[0m \u001b[43m        \u001b[49m\u001b[43myearfirst\u001b[49m\u001b[38;5;241;43m=\u001b[39;49m\u001b[43myearfirst\u001b[49m\u001b[43m,\u001b[49m\n\u001b[1;32m   2183\u001b[0m \u001b[43m        \u001b[49m\u001b[43mrequire_iso8601\u001b[49m\u001b[38;5;241;43m=\u001b[39;49m\u001b[43mrequire_iso8601\u001b[49m\u001b[43m,\u001b[49m\n\u001b[1;32m   2184\u001b[0m \u001b[43m        \u001b[49m\u001b[43mallow_mixed\u001b[49m\u001b[38;5;241;43m=\u001b[39;49m\u001b[43mallow_mixed\u001b[49m\u001b[43m,\u001b[49m\n\u001b[1;32m   2185\u001b[0m \u001b[43m    \u001b[49m\u001b[43m)\u001b[49m\n\u001b[1;32m   2186\u001b[0m     result \u001b[38;5;241m=\u001b[39m result\u001b[38;5;241m.\u001b[39mreshape(data\u001b[38;5;241m.\u001b[39mshape, order\u001b[38;5;241m=\u001b[39morder)\n\u001b[1;32m   2187\u001b[0m \u001b[38;5;28;01mexcept\u001b[39;00m \u001b[38;5;167;01mOverflowError\u001b[39;00m \u001b[38;5;28;01mas\u001b[39;00m err:\n\u001b[1;32m   2188\u001b[0m     \u001b[38;5;66;03m# Exception is raised when a part of date is greater than 32 bit signed int\u001b[39;00m\n",
            "File \u001b[0;32m/opt/conda/lib/python3.9/site-packages/pandas/_libs/tslib.pyx:427\u001b[0m, in \u001b[0;36mpandas._libs.tslib.array_to_datetime\u001b[0;34m()\u001b[0m\n",
            "File \u001b[0;32m/opt/conda/lib/python3.9/site-packages/pandas/_libs/tslib.pyx:698\u001b[0m, in \u001b[0;36mpandas._libs.tslib.array_to_datetime\u001b[0;34m()\u001b[0m\n",
            "\u001b[0;31mValueError\u001b[0m: mixed datetimes and integers in passed array"
          ]
        }
      ],
      "source": [
        "# Cleaning the data to resolve mixed data types issue\n",
        "# Converting timestamps to datetime format\n",
        "credit_data['Start_Timestamp'] = pd.to_datetime(credit_data['Start_Timestamp'], errors='coerce')\n",
        "credit_data['Complete_Timestamp'] = pd.to_datetime(credit_data['Complete_Timestamp'], errors='coerce')\n",
        "\n",
        "# Dropping rows with invalid timestamps\n",
        "credit_data.dropna(subset=['Start_Timestamp', 'Complete_Timestamp'], inplace=True)\n",
        "\n",
        "# Generating an overview summary of the cleaned event log\n",
        "event_log_summary_cleaned = credit_data.describe(include='all')\n",
        "event_log_summary_cleaned"
      ]
    },
    {
      "cell_type": "code",
      "execution_count": null,
      "id": "6a68113e-f486-4679-9ace-2c0fbf612804",
      "metadata": {
        "ExecuteTime": {
          "end_time": "2023-10-10T00:14:20.873247+00:00",
          "start_time": "2023-10-10T00:14:20.635949+00:00"
        },
        "datalink": {
          "46f9e2a9-c4f4-41f7-9da1-7b460bf43c57": {
            "applied_filters": [],
            "dataframe_info": {
              "default_index_used": true,
              "orig_num_cols": 24,
              "orig_num_rows": 5,
              "orig_size_bytes": 1000,
              "truncated_num_cols": 24,
              "truncated_num_rows": 5,
              "truncated_size_bytes": 1000,
              "truncated_string_columns": []
            },
            "display_id": "46f9e2a9-c4f4-41f7-9da1-7b460bf43c57",
            "dx_settings": {
              "ALLOW_NOTEABLE_ATTRS": true,
              "COLUMN_SAMPLING_METHOD": "outer",
              "DB_LOCATION": ":memory:",
              "DEV_MODE": false,
              "DISPLAY_MAX_COLUMNS": 100,
              "DISPLAY_MAX_ROWS": 50000,
              "DISPLAY_MODE": "simple",
              "ENABLE_ASSIGNMENT": true,
              "ENABLE_DATALINK": true,
              "FLATTEN_COLUMN_VALUES": true,
              "FLATTEN_INDEX_VALUES": false,
              "GENERATE_DEX_METADATA": false,
              "HTML_TABLE_SCHEMA": false,
              "LOG_LEVEL": 30,
              "MAX_RENDER_SIZE_BYTES": 104857600,
              "MAX_STRING_LENGTH": 250,
              "NUM_PAST_SAMPLES_TRACKED": 3,
              "RANDOM_STATE": 12648430,
              "RESET_INDEX_VALUES": false,
              "ROW_SAMPLING_METHOD": "random",
              "SAMPLING_FACTOR": 0.1,
              "SAMPLING_METHOD": "random",
              "STRINGIFY_COLUMN_VALUES": true,
              "STRINGIFY_INDEX_VALUES": false
            },
            "sample_history": [],
            "sampling_time": "2023-10-10T00:14:20.705843",
            "user_variable_name": null,
            "variable_name": "unk_dataframe_59d7182ac8114a99927731f97775c126"
          }
        },
        "noteable": {
          "cell_type": "code"
        }
      },
      "outputs": [
        {
          "data": {
            "application/vnd.dataresource+json": {
              "data": [
                {
                  "Accepted": null,
                  "Action": "Created",
                  "Activity": "A_Create Application",
                  "Case_ID": "Application_652823628",
                  "Complete_Timestamp": "2016-01-01T10:51:15.304000Z",
                  "CreditScore": null,
                  "EventID": "Application_652823628",
                  "EventOrigin": "Application",
                  "FirstWithdrawalAmount": null,
                  "MonthlyCost": null,
                  "NumberOfTerms": null,
                  "OfferID": null,
                  "OfferedAmount": null,
                  "Resource": "User_1",
                  "Selected": null,
                  "Start_Timestamp": "2016-01-01T10:51:15.304000Z",
                  "Variant": "Variant 2",
                  "Variant_index": 2,
                  "case_ApplicationType": "New credit",
                  "case_RequestedAmount": "2,00E+04",
                  "case_creditGoal": "Existing credit takeover",
                  "endtimestamp": "2016-01-01T09:51:15Z",
                  "index": 0,
                  "lifecycle:transition": "complete",
                  "starttimestamp": "2016-01-01T09:51:15Z"
                },
                {
                  "Accepted": null,
                  "Action": "statechange",
                  "Activity": "A_Submitted",
                  "Case_ID": "Application_652823628",
                  "Complete_Timestamp": "2016-01-01T10:51:15.352000Z",
                  "CreditScore": null,
                  "EventID": "ApplState_1582051990",
                  "EventOrigin": "Application",
                  "FirstWithdrawalAmount": null,
                  "MonthlyCost": null,
                  "NumberOfTerms": null,
                  "OfferID": null,
                  "OfferedAmount": null,
                  "Resource": "User_1",
                  "Selected": null,
                  "Start_Timestamp": "2016-01-01T10:51:15.352000Z",
                  "Variant": "Variant 2",
                  "Variant_index": 2,
                  "case_ApplicationType": "New credit",
                  "case_RequestedAmount": "2,00E+04",
                  "case_creditGoal": "Existing credit takeover",
                  "endtimestamp": "2016-01-01T09:51:15Z",
                  "index": 1,
                  "lifecycle:transition": "complete",
                  "starttimestamp": "2016-01-01T09:51:15Z"
                },
                {
                  "Accepted": null,
                  "Action": "statechange",
                  "Activity": "A_Concept",
                  "Case_ID": "Application_652823628",
                  "Complete_Timestamp": "2016-01-01T10:52:36.413000Z",
                  "CreditScore": null,
                  "EventID": "ApplState_642383566",
                  "EventOrigin": "Application",
                  "FirstWithdrawalAmount": null,
                  "MonthlyCost": null,
                  "NumberOfTerms": null,
                  "OfferID": null,
                  "OfferedAmount": null,
                  "Resource": "User_1",
                  "Selected": null,
                  "Start_Timestamp": "2016-01-01T10:52:36.413000Z",
                  "Variant": "Variant 2",
                  "Variant_index": 2,
                  "case_ApplicationType": "New credit",
                  "case_RequestedAmount": "2,00E+04",
                  "case_creditGoal": "Existing credit takeover",
                  "endtimestamp": "2016-01-01T09:52:36Z",
                  "index": 2,
                  "lifecycle:transition": "complete",
                  "starttimestamp": "2016-01-01T09:52:36Z"
                },
                {
                  "Accepted": null,
                  "Action": "Obtained",
                  "Activity": "W_Complete application",
                  "Case_ID": "Application_652823628",
                  "Complete_Timestamp": "2016-01-02T11:45:22.429000Z",
                  "CreditScore": null,
                  "EventID": "Workitem_1875340971",
                  "EventOrigin": "Workflow",
                  "FirstWithdrawalAmount": null,
                  "MonthlyCost": null,
                  "NumberOfTerms": null,
                  "OfferID": null,
                  "OfferedAmount": null,
                  "Resource": "User_17",
                  "Selected": null,
                  "Start_Timestamp": "2016-01-02T11:45:22.429000Z",
                  "Variant": "Variant 2",
                  "Variant_index": 2,
                  "case_ApplicationType": "New credit",
                  "case_RequestedAmount": "2,00E+04",
                  "case_creditGoal": "Existing credit takeover",
                  "endtimestamp": "2016-01-02T10:45:22Z",
                  "index": 3,
                  "lifecycle:transition": "start",
                  "starttimestamp": "2016-01-02T10:45:22Z"
                },
                {
                  "Accepted": null,
                  "Action": "statechange",
                  "Activity": "A_Accepted",
                  "Case_ID": "Application_652823628",
                  "Complete_Timestamp": "2016-01-02T12:23:04.299000Z",
                  "CreditScore": null,
                  "EventID": "ApplState_99568828",
                  "EventOrigin": "Application",
                  "FirstWithdrawalAmount": null,
                  "MonthlyCost": null,
                  "NumberOfTerms": null,
                  "OfferID": null,
                  "OfferedAmount": null,
                  "Resource": "User_52",
                  "Selected": null,
                  "Start_Timestamp": "2016-01-02T12:23:04.299000Z",
                  "Variant": "Variant 2",
                  "Variant_index": 2,
                  "case_ApplicationType": "New credit",
                  "case_RequestedAmount": "2,00E+04",
                  "case_creditGoal": "Existing credit takeover",
                  "endtimestamp": "2016-01-02T11:23:04Z",
                  "index": 4,
                  "lifecycle:transition": "complete",
                  "starttimestamp": "2016-01-02T11:23:04Z"
                }
              ],
              "datalink": {
                "display_id": "46f9e2a9-c4f4-41f7-9da1-7b460bf43c57"
              },
              "schema": {
                "fields": [
                  {
                    "name": "index",
                    "type": "integer"
                  },
                  {
                    "name": "Case_ID",
                    "type": "string"
                  },
                  {
                    "name": "Activity",
                    "type": "string"
                  },
                  {
                    "name": "Resource",
                    "type": "string"
                  },
                  {
                    "name": "Start_Timestamp",
                    "type": "datetime"
                  },
                  {
                    "name": "Complete_Timestamp",
                    "type": "datetime"
                  },
                  {
                    "name": "Variant",
                    "type": "string"
                  },
                  {
                    "name": "Variant_index",
                    "type": "integer"
                  },
                  {
                    "name": "case_ApplicationType",
                    "type": "string"
                  },
                  {
                    "name": "case_creditGoal",
                    "type": "string"
                  },
                  {
                    "name": "case_RequestedAmount",
                    "type": "string"
                  },
                  {
                    "name": "Accepted",
                    "type": "number"
                  },
                  {
                    "name": "Action",
                    "type": "string"
                  },
                  {
                    "name": "CreditScore",
                    "type": "number"
                  },
                  {
                    "name": "EventID",
                    "type": "string"
                  },
                  {
                    "name": "EventOrigin",
                    "type": "string"
                  },
                  {
                    "name": "FirstWithdrawalAmount",
                    "type": "string"
                  },
                  {
                    "name": "MonthlyCost",
                    "type": "number"
                  },
                  {
                    "name": "NumberOfTerms",
                    "type": "number"
                  },
                  {
                    "name": "OfferID",
                    "type": "string"
                  },
                  {
                    "name": "OfferedAmount",
                    "type": "string"
                  },
                  {
                    "name": "Selected",
                    "type": "number"
                  },
                  {
                    "name": "lifecycle:transition",
                    "type": "string"
                  },
                  {
                    "name": "starttimestamp",
                    "type": "string"
                  },
                  {
                    "name": "endtimestamp",
                    "type": "string"
                  }
                ],
                "pandas_version": "1.4.0",
                "primaryKey": [
                  "index"
                ]
              }
            }
          },
          "metadata": {
            "application/vnd.dataresource+json": {
              "datalink": {
                "applied_filters": [],
                "dataframe_info": {
                  "default_index_used": true,
                  "orig_num_cols": 24,
                  "orig_num_rows": 5,
                  "orig_size_bytes": 1000,
                  "truncated_num_cols": 24,
                  "truncated_num_rows": 5,
                  "truncated_size_bytes": 1000,
                  "truncated_string_columns": []
                },
                "display_id": "46f9e2a9-c4f4-41f7-9da1-7b460bf43c57",
                "dx_settings": {
                  "ALLOW_NOTEABLE_ATTRS": true,
                  "COLUMN_SAMPLING_METHOD": "outer",
                  "DB_LOCATION": ":memory:",
                  "DEV_MODE": false,
                  "DISPLAY_MAX_COLUMNS": 100,
                  "DISPLAY_MAX_ROWS": 50000,
                  "DISPLAY_MODE": "simple",
                  "ENABLE_ASSIGNMENT": true,
                  "ENABLE_DATALINK": true,
                  "FLATTEN_COLUMN_VALUES": true,
                  "FLATTEN_INDEX_VALUES": false,
                  "GENERATE_DEX_METADATA": false,
                  "HTML_TABLE_SCHEMA": false,
                  "LOG_LEVEL": 30,
                  "MAX_RENDER_SIZE_BYTES": 104857600,
                  "MAX_STRING_LENGTH": 250,
                  "NUM_PAST_SAMPLES_TRACKED": 3,
                  "RANDOM_STATE": 12648430,
                  "RESET_INDEX_VALUES": false,
                  "ROW_SAMPLING_METHOD": "random",
                  "SAMPLING_FACTOR": 0.1,
                  "SAMPLING_METHOD": "random",
                  "STRINGIFY_COLUMN_VALUES": true,
                  "STRINGIFY_INDEX_VALUES": false
                },
                "sample_history": [],
                "sampling_time": "2023-10-10T00:14:20.705843",
                "user_variable_name": null,
                "variable_name": "unk_dataframe_59d7182ac8114a99927731f97775c126"
              },
              "display_id": "46f9e2a9-c4f4-41f7-9da1-7b460bf43c57"
            }
          },
          "output_type": "display_data"
        }
      ],
      "source": [
        "# Identifying rows with problematic data types in timestamp columns\n",
        "problematic_rows = credit_data.loc[credit_data['Start_Timestamp'].apply(lambda x: not isinstance(x, str)) |\n",
        "                                    credit_data['Complete_Timestamp'].apply(lambda x: not isinstance(x, str))]\n",
        "problematic_rows.head()"
      ]
    },
    {
      "cell_type": "code",
      "execution_count": null,
      "id": "0c28db1a-5c69-4823-b340-b3ad8fae71af",
      "metadata": {
        "ExecuteTime": {
          "end_time": "2023-10-10T00:16:02.605438+00:00",
          "start_time": "2023-10-10T00:16:02.256134+00:00"
        },
        "noteable": {
          "cell_type": "code"
        }
      },
      "outputs": [
        {
          "ename": "ValueError",
          "evalue": "mixed datetimes and integers in passed array",
          "output_type": "error",
          "traceback": [
            "\u001b[0;31m---------------------------------------------------------------------------\u001b[0m",
            "\u001b[0;31mValueError\u001b[0m                                Traceback (most recent call last)",
            "File \u001b[0;32m/opt/conda/lib/python3.9/site-packages/dx/formatters/main.py:101\u001b[0m, in \u001b[0;36mhandle_format\u001b[0;34m(obj, with_ipython_display, ipython_shell, extra_metadata)\u001b[0m\n\u001b[1;32m    100\u001b[0m \u001b[38;5;28;01mtry\u001b[39;00m:\n\u001b[0;32m--> 101\u001b[0m     payload, metadata \u001b[38;5;241m=\u001b[39m \u001b[43mdatalink_processing\u001b[49m\u001b[43m(\u001b[49m\n\u001b[1;32m    102\u001b[0m \u001b[43m        \u001b[49m\u001b[43mdf\u001b[49m\u001b[43m,\u001b[49m\n\u001b[1;32m    103\u001b[0m \u001b[43m        \u001b[49m\u001b[43mdefault_index_used\u001b[49m\u001b[43m,\u001b[49m\n\u001b[1;32m    104\u001b[0m \u001b[43m        \u001b[49m\u001b[43mipython_shell\u001b[49m\u001b[38;5;241;43m=\u001b[39;49m\u001b[43mipython\u001b[49m\u001b[43m,\u001b[49m\n\u001b[1;32m    105\u001b[0m \u001b[43m        \u001b[49m\u001b[43mwith_ipython_display\u001b[49m\u001b[38;5;241;43m=\u001b[39;49m\u001b[43mwith_ipython_display\u001b[49m\u001b[43m,\u001b[49m\n\u001b[1;32m    106\u001b[0m \u001b[43m        \u001b[49m\u001b[43mextra_metadata\u001b[49m\u001b[38;5;241;43m=\u001b[39;49m\u001b[43mextra_metadata\u001b[49m\u001b[43m,\u001b[49m\n\u001b[1;32m    107\u001b[0m \u001b[43m    \u001b[49m\u001b[43m)\u001b[49m\n\u001b[1;32m    108\u001b[0m \u001b[38;5;28;01mexcept\u001b[39;00m \u001b[38;5;167;01mException\u001b[39;00m \u001b[38;5;28;01mas\u001b[39;00m e:\n",
            "File \u001b[0;32m/opt/conda/lib/python3.9/site-packages/dx/formatters/main.py:50\u001b[0m, in \u001b[0;36mdatalink_processing\u001b[0;34m(df, default_index_used, ipython_shell, with_ipython_display, extra_metadata)\u001b[0m\n\u001b[1;32m     43\u001b[0m \u001b[38;5;28;01mdef\u001b[39;00m \u001b[38;5;21mdatalink_processing\u001b[39m(\n\u001b[1;32m     44\u001b[0m     df: pd\u001b[38;5;241m.\u001b[39mDataFrame,\n\u001b[1;32m     45\u001b[0m     default_index_used: \u001b[38;5;28mbool\u001b[39m,\n\u001b[0;32m   (...)\u001b[0m\n\u001b[1;32m     48\u001b[0m     extra_metadata: Optional[\u001b[38;5;28mdict\u001b[39m] \u001b[38;5;241m=\u001b[39m \u001b[38;5;28;01mNone\u001b[39;00m,\n\u001b[1;32m     49\u001b[0m ):\n\u001b[0;32m---> 50\u001b[0m     dxdf \u001b[38;5;241m=\u001b[39m \u001b[43mDXDataFrame\u001b[49m\u001b[43m(\u001b[49m\u001b[43mdf\u001b[49m\u001b[43m)\u001b[49m\n\u001b[1;32m     51\u001b[0m     parent_display_id \u001b[38;5;241m=\u001b[39m determine_parent_display_id(dxdf)\n",
            "File \u001b[0;32m/opt/conda/lib/python3.9/site-packages/dx/utils/tracking.py:73\u001b[0m, in \u001b[0;36mDXDataFrame.__init__\u001b[0;34m(self, df, ipython_shell)\u001b[0m\n\u001b[1;32m     71\u001b[0m \u001b[38;5;28mself\u001b[39m\u001b[38;5;241m.\u001b[39mindex_name \u001b[38;5;241m=\u001b[39m get_df_index(df\u001b[38;5;241m.\u001b[39mindex)\n\u001b[0;32m---> 73\u001b[0m \u001b[38;5;28mself\u001b[39m\u001b[38;5;241m.\u001b[39mdf \u001b[38;5;241m=\u001b[39m \u001b[43mnormalize_index_and_columns\u001b[49m\u001b[43m(\u001b[49m\u001b[43mdf\u001b[49m\u001b[43m)\u001b[49m\n\u001b[1;32m     74\u001b[0m \u001b[38;5;28mself\u001b[39m\u001b[38;5;241m.\u001b[39mhash \u001b[38;5;241m=\u001b[39m generate_df_hash(\u001b[38;5;28mself\u001b[39m\u001b[38;5;241m.\u001b[39mdf)\n",
            "File \u001b[0;32m/opt/conda/lib/python3.9/site-packages/dx/utils/formatting.py:188\u001b[0m, in \u001b[0;36mnormalize_index_and_columns\u001b[0;34m(df)\u001b[0m\n\u001b[1;32m    187\u001b[0m df \u001b[38;5;241m=\u001b[39m normalize_index(df)\n\u001b[0;32m--> 188\u001b[0m df \u001b[38;5;241m=\u001b[39m \u001b[43mnormalize_columns\u001b[49m\u001b[43m(\u001b[49m\u001b[43mdf\u001b[49m\u001b[43m)\u001b[49m\n\u001b[1;32m    189\u001b[0m df \u001b[38;5;241m=\u001b[39m deconflict_index_and_column_names(df)\n",
            "File \u001b[0;32m/opt/conda/lib/python3.9/site-packages/dx/utils/formatting.py:254\u001b[0m, in \u001b[0;36mnormalize_columns\u001b[0;34m(df)\u001b[0m\n\u001b[1;32m    253\u001b[0m \u001b[38;5;28;01mfor\u001b[39;00m column \u001b[38;5;129;01min\u001b[39;00m df\u001b[38;5;241m.\u001b[39mcolumns:\n\u001b[0;32m--> 254\u001b[0m     df[column] \u001b[38;5;241m=\u001b[39m \u001b[43mclean_series_values\u001b[49m\u001b[43m(\u001b[49m\u001b[43mdf\u001b[49m\u001b[43m[\u001b[49m\u001b[43mcolumn\u001b[49m\u001b[43m]\u001b[49m\u001b[43m)\u001b[49m\n\u001b[1;32m    255\u001b[0m \u001b[38;5;28;01mreturn\u001b[39;00m df\n",
            "File \u001b[0;32m/opt/conda/lib/python3.9/site-packages/dx/utils/formatting.py:291\u001b[0m, in \u001b[0;36mclean_series_values\u001b[0;34m(s)\u001b[0m\n\u001b[1;32m    290\u001b[0m s \u001b[38;5;241m=\u001b[39m date_time\u001b[38;5;241m.\u001b[39mhandle_time_delta_series(s)\n\u001b[0;32m--> 291\u001b[0m s \u001b[38;5;241m=\u001b[39m \u001b[43mdate_time\u001b[49m\u001b[38;5;241;43m.\u001b[39;49m\u001b[43mhandle_datetime_series\u001b[49m\u001b[43m(\u001b[49m\u001b[43ms\u001b[49m\u001b[43m)\u001b[49m\n\u001b[1;32m    293\u001b[0m s \u001b[38;5;241m=\u001b[39m numeric\u001b[38;5;241m.\u001b[39mhandle_decimal_series(s)\n",
            "File \u001b[0;32m/opt/conda/lib/python3.9/site-packages/dx/datatypes/date_time.py:186\u001b[0m, in \u001b[0;36mhandle_datetime_series\u001b[0;34m(s)\u001b[0m\n\u001b[1;32m    182\u001b[0m     logger\u001b[38;5;241m.\u001b[39mdebug(\n\u001b[1;32m    183\u001b[0m         \u001b[38;5;124mf\u001b[39m\u001b[38;5;124m\"\u001b[39m\u001b[38;5;124mseries `\u001b[39m\u001b[38;5;132;01m{\u001b[39;00ms\u001b[38;5;241m.\u001b[39mname\u001b[38;5;132;01m}\u001b[39;00m\u001b[38;5;124m` has datetime values; converting with pd.to_datetime()\u001b[39m\u001b[38;5;124m\"\u001b[39m,\n\u001b[1;32m    184\u001b[0m         utc\u001b[38;5;241m=\u001b[39mhas_tzinfo\u001b[38;5;241m.\u001b[39many(),\n\u001b[1;32m    185\u001b[0m     )\n\u001b[0;32m--> 186\u001b[0m     s \u001b[38;5;241m=\u001b[39m \u001b[43mpd\u001b[49m\u001b[38;5;241;43m.\u001b[39;49m\u001b[43mto_datetime\u001b[49m\u001b[43m(\u001b[49m\u001b[43ms\u001b[49m\u001b[43m,\u001b[49m\u001b[43m \u001b[49m\u001b[43mutc\u001b[49m\u001b[38;5;241;43m=\u001b[39;49m\u001b[43mhas_tzinfo\u001b[49m\u001b[38;5;241;43m.\u001b[39;49m\u001b[43many\u001b[49m\u001b[43m(\u001b[49m\u001b[43m)\u001b[49m\u001b[43m)\u001b[49m\n\u001b[1;32m    187\u001b[0m \u001b[38;5;28;01mreturn\u001b[39;00m s\n",
            "File \u001b[0;32m/opt/conda/lib/python3.9/site-packages/pandas/core/tools/datetimes.py:1068\u001b[0m, in \u001b[0;36mto_datetime\u001b[0;34m(arg, errors, dayfirst, yearfirst, utc, format, exact, unit, infer_datetime_format, origin, cache)\u001b[0m\n\u001b[1;32m   1067\u001b[0m \u001b[38;5;28;01melse\u001b[39;00m:\n\u001b[0;32m-> 1068\u001b[0m     values \u001b[38;5;241m=\u001b[39m \u001b[43mconvert_listlike\u001b[49m\u001b[43m(\u001b[49m\u001b[43marg\u001b[49m\u001b[38;5;241;43m.\u001b[39;49m\u001b[43m_values\u001b[49m\u001b[43m,\u001b[49m\u001b[43m \u001b[49m\u001b[38;5;28;43mformat\u001b[39;49m\u001b[43m)\u001b[49m\n\u001b[1;32m   1069\u001b[0m     result \u001b[38;5;241m=\u001b[39m arg\u001b[38;5;241m.\u001b[39m_constructor(values, index\u001b[38;5;241m=\u001b[39marg\u001b[38;5;241m.\u001b[39mindex, name\u001b[38;5;241m=\u001b[39marg\u001b[38;5;241m.\u001b[39mname)\n",
            "File \u001b[0;32m/opt/conda/lib/python3.9/site-packages/pandas/core/tools/datetimes.py:438\u001b[0m, in \u001b[0;36m_convert_listlike_datetimes\u001b[0;34m(arg, format, name, tz, unit, errors, infer_datetime_format, dayfirst, yearfirst, exact)\u001b[0m\n\u001b[1;32m    437\u001b[0m utc \u001b[38;5;241m=\u001b[39m tz \u001b[38;5;241m==\u001b[39m \u001b[38;5;124m\"\u001b[39m\u001b[38;5;124mutc\u001b[39m\u001b[38;5;124m\"\u001b[39m\n\u001b[0;32m--> 438\u001b[0m result, tz_parsed \u001b[38;5;241m=\u001b[39m \u001b[43mobjects_to_datetime64ns\u001b[49m\u001b[43m(\u001b[49m\n\u001b[1;32m    439\u001b[0m \u001b[43m    \u001b[49m\u001b[43marg\u001b[49m\u001b[43m,\u001b[49m\n\u001b[1;32m    440\u001b[0m \u001b[43m    \u001b[49m\u001b[43mdayfirst\u001b[49m\u001b[38;5;241;43m=\u001b[39;49m\u001b[43mdayfirst\u001b[49m\u001b[43m,\u001b[49m\n\u001b[1;32m    441\u001b[0m \u001b[43m    \u001b[49m\u001b[43myearfirst\u001b[49m\u001b[38;5;241;43m=\u001b[39;49m\u001b[43myearfirst\u001b[49m\u001b[43m,\u001b[49m\n\u001b[1;32m    442\u001b[0m \u001b[43m    \u001b[49m\u001b[43mutc\u001b[49m\u001b[38;5;241;43m=\u001b[39;49m\u001b[43mutc\u001b[49m\u001b[43m,\u001b[49m\n\u001b[1;32m    443\u001b[0m \u001b[43m    \u001b[49m\u001b[43merrors\u001b[49m\u001b[38;5;241;43m=\u001b[39;49m\u001b[43merrors\u001b[49m\u001b[43m,\u001b[49m\n\u001b[1;32m    444\u001b[0m \u001b[43m    \u001b[49m\u001b[43mrequire_iso8601\u001b[49m\u001b[38;5;241;43m=\u001b[39;49m\u001b[43mrequire_iso8601\u001b[49m\u001b[43m,\u001b[49m\n\u001b[1;32m    445\u001b[0m \u001b[43m    \u001b[49m\u001b[43mallow_object\u001b[49m\u001b[38;5;241;43m=\u001b[39;49m\u001b[38;5;28;43;01mTrue\u001b[39;49;00m\u001b[43m,\u001b[49m\n\u001b[1;32m    446\u001b[0m \u001b[43m\u001b[49m\u001b[43m)\u001b[49m\n\u001b[1;32m    448\u001b[0m \u001b[38;5;28;01mif\u001b[39;00m tz_parsed \u001b[38;5;129;01mis\u001b[39;00m \u001b[38;5;129;01mnot\u001b[39;00m \u001b[38;5;28;01mNone\u001b[39;00m:\n\u001b[1;32m    449\u001b[0m     \u001b[38;5;66;03m# We can take a shortcut since the datetime64 numpy array\u001b[39;00m\n\u001b[1;32m    450\u001b[0m     \u001b[38;5;66;03m# is in UTC\u001b[39;00m\n",
            "File \u001b[0;32m/opt/conda/lib/python3.9/site-packages/pandas/core/arrays/datetimes.py:2177\u001b[0m, in \u001b[0;36mobjects_to_datetime64ns\u001b[0;34m(data, dayfirst, yearfirst, utc, errors, require_iso8601, allow_object, allow_mixed)\u001b[0m\n\u001b[1;32m   2176\u001b[0m \u001b[38;5;28;01mtry\u001b[39;00m:\n\u001b[0;32m-> 2177\u001b[0m     result, tz_parsed \u001b[38;5;241m=\u001b[39m \u001b[43mtslib\u001b[49m\u001b[38;5;241;43m.\u001b[39;49m\u001b[43marray_to_datetime\u001b[49m\u001b[43m(\u001b[49m\n\u001b[1;32m   2178\u001b[0m \u001b[43m        \u001b[49m\u001b[43mdata\u001b[49m\u001b[38;5;241;43m.\u001b[39;49m\u001b[43mravel\u001b[49m\u001b[43m(\u001b[49m\u001b[38;5;124;43m\"\u001b[39;49m\u001b[38;5;124;43mK\u001b[39;49m\u001b[38;5;124;43m\"\u001b[39;49m\u001b[43m)\u001b[49m\u001b[43m,\u001b[49m\n\u001b[1;32m   2179\u001b[0m \u001b[43m        \u001b[49m\u001b[43merrors\u001b[49m\u001b[38;5;241;43m=\u001b[39;49m\u001b[43merrors\u001b[49m\u001b[43m,\u001b[49m\n\u001b[1;32m   2180\u001b[0m \u001b[43m        \u001b[49m\u001b[43mutc\u001b[49m\u001b[38;5;241;43m=\u001b[39;49m\u001b[43mutc\u001b[49m\u001b[43m,\u001b[49m\n\u001b[1;32m   2181\u001b[0m \u001b[43m        \u001b[49m\u001b[43mdayfirst\u001b[49m\u001b[38;5;241;43m=\u001b[39;49m\u001b[43mdayfirst\u001b[49m\u001b[43m,\u001b[49m\n\u001b[1;32m   2182\u001b[0m \u001b[43m        \u001b[49m\u001b[43myearfirst\u001b[49m\u001b[38;5;241;43m=\u001b[39;49m\u001b[43myearfirst\u001b[49m\u001b[43m,\u001b[49m\n\u001b[1;32m   2183\u001b[0m \u001b[43m        \u001b[49m\u001b[43mrequire_iso8601\u001b[49m\u001b[38;5;241;43m=\u001b[39;49m\u001b[43mrequire_iso8601\u001b[49m\u001b[43m,\u001b[49m\n\u001b[1;32m   2184\u001b[0m \u001b[43m        \u001b[49m\u001b[43mallow_mixed\u001b[49m\u001b[38;5;241;43m=\u001b[39;49m\u001b[43mallow_mixed\u001b[49m\u001b[43m,\u001b[49m\n\u001b[1;32m   2185\u001b[0m \u001b[43m    \u001b[49m\u001b[43m)\u001b[49m\n\u001b[1;32m   2186\u001b[0m     result \u001b[38;5;241m=\u001b[39m result\u001b[38;5;241m.\u001b[39mreshape(data\u001b[38;5;241m.\u001b[39mshape, order\u001b[38;5;241m=\u001b[39morder)\n",
            "File \u001b[0;32m/opt/conda/lib/python3.9/site-packages/pandas/_libs/tslib.pyx:427\u001b[0m, in \u001b[0;36mpandas._libs.tslib.array_to_datetime\u001b[0;34m()\u001b[0m\n",
            "File \u001b[0;32m/opt/conda/lib/python3.9/site-packages/pandas/_libs/tslib.pyx:698\u001b[0m, in \u001b[0;36mpandas._libs.tslib.array_to_datetime\u001b[0;34m()\u001b[0m\n",
            "\u001b[0;31mValueError\u001b[0m: mixed datetimes and integers in passed array",
            "\nDuring handling of the above exception, another exception occurred:\n",
            "\u001b[0;31mValueError\u001b[0m                                Traceback (most recent call last)",
            "Cell \u001b[0;32mIn[12], line 12\u001b[0m\n\u001b[1;32m     10\u001b[0m \u001b[38;5;66;03m# Generating an overview summary of the cleaned event log\u001b[39;00m\n\u001b[1;32m     11\u001b[0m event_log_summary_cleaned \u001b[38;5;241m=\u001b[39m credit_data\u001b[38;5;241m.\u001b[39mdescribe(include\u001b[38;5;241m=\u001b[39m\u001b[38;5;124m'\u001b[39m\u001b[38;5;124mall\u001b[39m\u001b[38;5;124m'\u001b[39m)\n\u001b[0;32m---> 12\u001b[0m event_log_summary_cleaned\n",
            "File \u001b[0;32m/opt/conda/lib/python3.9/site-packages/IPython/core/displayhook.py:268\u001b[0m, in \u001b[0;36mDisplayHook.__call__\u001b[0;34m(self, result)\u001b[0m\n\u001b[1;32m    266\u001b[0m \u001b[38;5;28mself\u001b[39m\u001b[38;5;241m.\u001b[39mstart_displayhook()\n\u001b[1;32m    267\u001b[0m \u001b[38;5;28mself\u001b[39m\u001b[38;5;241m.\u001b[39mwrite_output_prompt()\n\u001b[0;32m--> 268\u001b[0m format_dict, md_dict \u001b[38;5;241m=\u001b[39m \u001b[38;5;28;43mself\u001b[39;49m\u001b[38;5;241;43m.\u001b[39;49m\u001b[43mcompute_format_data\u001b[49m\u001b[43m(\u001b[49m\u001b[43mresult\u001b[49m\u001b[43m)\u001b[49m\n\u001b[1;32m    269\u001b[0m \u001b[38;5;28mself\u001b[39m\u001b[38;5;241m.\u001b[39mupdate_user_ns(result)\n\u001b[1;32m    270\u001b[0m \u001b[38;5;28mself\u001b[39m\u001b[38;5;241m.\u001b[39mfill_exec_result(result)\n",
            "File \u001b[0;32m/opt/conda/lib/python3.9/site-packages/IPython/core/displayhook.py:157\u001b[0m, in \u001b[0;36mDisplayHook.compute_format_data\u001b[0;34m(self, result)\u001b[0m\n\u001b[1;32m    127\u001b[0m \u001b[38;5;28;01mdef\u001b[39;00m \u001b[38;5;21mcompute_format_data\u001b[39m(\u001b[38;5;28mself\u001b[39m, result):\n\u001b[1;32m    128\u001b[0m \u001b[38;5;250m    \u001b[39m\u001b[38;5;124;03m\"\"\"Compute format data of the object to be displayed.\u001b[39;00m\n\u001b[1;32m    129\u001b[0m \n\u001b[1;32m    130\u001b[0m \u001b[38;5;124;03m    The format data is a generalization of the :func:`repr` of an object.\u001b[39;00m\n\u001b[0;32m   (...)\u001b[0m\n\u001b[1;32m    155\u001b[0m \n\u001b[1;32m    156\u001b[0m \u001b[38;5;124;03m    \"\"\"\u001b[39;00m\n\u001b[0;32m--> 157\u001b[0m     \u001b[38;5;28;01mreturn\u001b[39;00m \u001b[38;5;28;43mself\u001b[39;49m\u001b[38;5;241;43m.\u001b[39;49m\u001b[43mshell\u001b[49m\u001b[38;5;241;43m.\u001b[39;49m\u001b[43mdisplay_formatter\u001b[49m\u001b[38;5;241;43m.\u001b[39;49m\u001b[43mformat\u001b[49m\u001b[43m(\u001b[49m\u001b[43mresult\u001b[49m\u001b[43m)\u001b[49m\n",
            "File \u001b[0;32m/opt/conda/lib/python3.9/site-packages/dx/formatters/main.py:127\u001b[0m, in \u001b[0;36mDXDisplayFormatter.format\u001b[0;34m(self, obj, **kwargs)\u001b[0m\n\u001b[1;32m    125\u001b[0m \u001b[38;5;28;01mdef\u001b[39;00m \u001b[38;5;21mformat\u001b[39m(\u001b[38;5;28mself\u001b[39m, obj, \u001b[38;5;241m*\u001b[39m\u001b[38;5;241m*\u001b[39mkwargs):\n\u001b[1;32m    126\u001b[0m     \u001b[38;5;28;01mif\u001b[39;00m IN_NOTEBOOK_ENV \u001b[38;5;129;01mand\u001b[39;00m \u001b[38;5;28misinstance\u001b[39m(obj, \u001b[38;5;28mtuple\u001b[39m(settings\u001b[38;5;241m.\u001b[39mget_renderable_types())):\n\u001b[0;32m--> 127\u001b[0m         \u001b[43mhandle_format\u001b[49m\u001b[43m(\u001b[49m\u001b[43mobj\u001b[49m\u001b[43m)\u001b[49m\n\u001b[1;32m    128\u001b[0m         \u001b[38;5;28;01mreturn\u001b[39;00m ({}, {})\n\u001b[1;32m    130\u001b[0m     \u001b[38;5;28;01mreturn\u001b[39;00m DEFAULT_IPYTHON_DISPLAY_FORMATTER\u001b[38;5;241m.\u001b[39mformat(obj, \u001b[38;5;241m*\u001b[39m\u001b[38;5;241m*\u001b[39mkwargs)\n",
            "File \u001b[0;32m/opt/conda/lib/python3.9/site-packages/dx/formatters/main.py:111\u001b[0m, in \u001b[0;36mhandle_format\u001b[0;34m(obj, with_ipython_display, ipython_shell, extra_metadata)\u001b[0m\n\u001b[1;32m    109\u001b[0m     logger\u001b[38;5;241m.\u001b[39mdebug(\u001b[38;5;124mf\u001b[39m\u001b[38;5;124m\"\u001b[39m\u001b[38;5;124mError in datalink_processing: \u001b[39m\u001b[38;5;132;01m{\u001b[39;00me\u001b[38;5;132;01m}\u001b[39;00m\u001b[38;5;124m\"\u001b[39m)\n\u001b[1;32m    110\u001b[0m     \u001b[38;5;66;03m# fall back to default processing\u001b[39;00m\n\u001b[0;32m--> 111\u001b[0m     df \u001b[38;5;241m=\u001b[39m \u001b[43mnormalize_index_and_columns\u001b[49m\u001b[43m(\u001b[49m\u001b[43mdf\u001b[49m\u001b[43m)\u001b[49m\n\u001b[1;32m    112\u001b[0m     payload, metadata \u001b[38;5;241m=\u001b[39m format_output(\n\u001b[1;32m    113\u001b[0m         df,\n\u001b[1;32m    114\u001b[0m         default_index_used\u001b[38;5;241m=\u001b[39mdefault_index_used,\n\u001b[1;32m    115\u001b[0m         with_ipython_display\u001b[38;5;241m=\u001b[39mwith_ipython_display,\n\u001b[1;32m    116\u001b[0m         extra_metadata\u001b[38;5;241m=\u001b[39mextra_metadata,\n\u001b[1;32m    117\u001b[0m     )\n\u001b[1;32m    119\u001b[0m \u001b[38;5;28;01mreturn\u001b[39;00m payload, metadata\n",
            "File \u001b[0;32m/opt/conda/lib/python3.9/site-packages/dx/utils/formatting.py:188\u001b[0m, in \u001b[0;36mnormalize_index_and_columns\u001b[0;34m(df)\u001b[0m\n\u001b[1;32m    183\u001b[0m \u001b[38;5;250m\u001b[39m\u001b[38;5;124;03m\"\"\"\u001b[39;00m\n\u001b[1;32m    184\u001b[0m \u001b[38;5;124;03mAny additional formatting that needs to happen to the index,\u001b[39;00m\n\u001b[1;32m    185\u001b[0m \u001b[38;5;124;03mthe columns, or the data itself should be done here.\u001b[39;00m\n\u001b[1;32m    186\u001b[0m \u001b[38;5;124;03m\"\"\"\u001b[39;00m\n\u001b[1;32m    187\u001b[0m df \u001b[38;5;241m=\u001b[39m normalize_index(df)\n\u001b[0;32m--> 188\u001b[0m df \u001b[38;5;241m=\u001b[39m \u001b[43mnormalize_columns\u001b[49m\u001b[43m(\u001b[49m\u001b[43mdf\u001b[49m\u001b[43m)\u001b[49m\n\u001b[1;32m    189\u001b[0m df \u001b[38;5;241m=\u001b[39m deconflict_index_and_column_names(df)\n\u001b[1;32m    190\u001b[0m \u001b[38;5;28;01mreturn\u001b[39;00m df\n",
            "File \u001b[0;32m/opt/conda/lib/python3.9/site-packages/dx/utils/formatting.py:254\u001b[0m, in \u001b[0;36mnormalize_columns\u001b[0;34m(df)\u001b[0m\n\u001b[1;32m    252\u001b[0m logger\u001b[38;5;241m.\u001b[39mdebug(\u001b[38;5;124m\"\u001b[39m\u001b[38;5;124m-- cleaning columns before display --\u001b[39m\u001b[38;5;124m\"\u001b[39m)\n\u001b[1;32m    253\u001b[0m \u001b[38;5;28;01mfor\u001b[39;00m column \u001b[38;5;129;01min\u001b[39;00m df\u001b[38;5;241m.\u001b[39mcolumns:\n\u001b[0;32m--> 254\u001b[0m     df[column] \u001b[38;5;241m=\u001b[39m \u001b[43mclean_series_values\u001b[49m\u001b[43m(\u001b[49m\u001b[43mdf\u001b[49m\u001b[43m[\u001b[49m\u001b[43mcolumn\u001b[49m\u001b[43m]\u001b[49m\u001b[43m)\u001b[49m\n\u001b[1;32m    255\u001b[0m \u001b[38;5;28;01mreturn\u001b[39;00m df\n",
            "File \u001b[0;32m/opt/conda/lib/python3.9/site-packages/dx/utils/formatting.py:291\u001b[0m, in \u001b[0;36mclean_series_values\u001b[0;34m(s)\u001b[0m\n\u001b[1;32m    289\u001b[0m s \u001b[38;5;241m=\u001b[39m date_time\u001b[38;5;241m.\u001b[39mhandle_time_period_series(s)\n\u001b[1;32m    290\u001b[0m s \u001b[38;5;241m=\u001b[39m date_time\u001b[38;5;241m.\u001b[39mhandle_time_delta_series(s)\n\u001b[0;32m--> 291\u001b[0m s \u001b[38;5;241m=\u001b[39m \u001b[43mdate_time\u001b[49m\u001b[38;5;241;43m.\u001b[39;49m\u001b[43mhandle_datetime_series\u001b[49m\u001b[43m(\u001b[49m\u001b[43ms\u001b[49m\u001b[43m)\u001b[49m\n\u001b[1;32m    293\u001b[0m s \u001b[38;5;241m=\u001b[39m numeric\u001b[38;5;241m.\u001b[39mhandle_decimal_series(s)\n\u001b[1;32m    294\u001b[0m s \u001b[38;5;241m=\u001b[39m numeric\u001b[38;5;241m.\u001b[39mhandle_complex_number_series(s)\n",
            "File \u001b[0;32m/opt/conda/lib/python3.9/site-packages/dx/datatypes/date_time.py:186\u001b[0m, in \u001b[0;36mhandle_datetime_series\u001b[0;34m(s)\u001b[0m\n\u001b[1;32m    181\u001b[0m \u001b[38;5;28;01mif\u001b[39;00m \u001b[38;5;28many\u001b[39m(\u001b[38;5;28misinstance\u001b[39m(v, types) \u001b[38;5;28;01mfor\u001b[39;00m v \u001b[38;5;129;01min\u001b[39;00m sample_rows\u001b[38;5;241m.\u001b[39mvalues):\n\u001b[1;32m    182\u001b[0m     logger\u001b[38;5;241m.\u001b[39mdebug(\n\u001b[1;32m    183\u001b[0m         \u001b[38;5;124mf\u001b[39m\u001b[38;5;124m\"\u001b[39m\u001b[38;5;124mseries `\u001b[39m\u001b[38;5;132;01m{\u001b[39;00ms\u001b[38;5;241m.\u001b[39mname\u001b[38;5;132;01m}\u001b[39;00m\u001b[38;5;124m` has datetime values; converting with pd.to_datetime()\u001b[39m\u001b[38;5;124m\"\u001b[39m,\n\u001b[1;32m    184\u001b[0m         utc\u001b[38;5;241m=\u001b[39mhas_tzinfo\u001b[38;5;241m.\u001b[39many(),\n\u001b[1;32m    185\u001b[0m     )\n\u001b[0;32m--> 186\u001b[0m     s \u001b[38;5;241m=\u001b[39m \u001b[43mpd\u001b[49m\u001b[38;5;241;43m.\u001b[39;49m\u001b[43mto_datetime\u001b[49m\u001b[43m(\u001b[49m\u001b[43ms\u001b[49m\u001b[43m,\u001b[49m\u001b[43m \u001b[49m\u001b[43mutc\u001b[49m\u001b[38;5;241;43m=\u001b[39;49m\u001b[43mhas_tzinfo\u001b[49m\u001b[38;5;241;43m.\u001b[39;49m\u001b[43many\u001b[49m\u001b[43m(\u001b[49m\u001b[43m)\u001b[49m\u001b[43m)\u001b[49m\n\u001b[1;32m    187\u001b[0m \u001b[38;5;28;01mreturn\u001b[39;00m s\n",
            "File \u001b[0;32m/opt/conda/lib/python3.9/site-packages/pandas/core/tools/datetimes.py:1068\u001b[0m, in \u001b[0;36mto_datetime\u001b[0;34m(arg, errors, dayfirst, yearfirst, utc, format, exact, unit, infer_datetime_format, origin, cache)\u001b[0m\n\u001b[1;32m   1066\u001b[0m         result \u001b[38;5;241m=\u001b[39m arg\u001b[38;5;241m.\u001b[39mmap(cache_array)\n\u001b[1;32m   1067\u001b[0m     \u001b[38;5;28;01melse\u001b[39;00m:\n\u001b[0;32m-> 1068\u001b[0m         values \u001b[38;5;241m=\u001b[39m \u001b[43mconvert_listlike\u001b[49m\u001b[43m(\u001b[49m\u001b[43marg\u001b[49m\u001b[38;5;241;43m.\u001b[39;49m\u001b[43m_values\u001b[49m\u001b[43m,\u001b[49m\u001b[43m \u001b[49m\u001b[38;5;28;43mformat\u001b[39;49m\u001b[43m)\u001b[49m\n\u001b[1;32m   1069\u001b[0m         result \u001b[38;5;241m=\u001b[39m arg\u001b[38;5;241m.\u001b[39m_constructor(values, index\u001b[38;5;241m=\u001b[39marg\u001b[38;5;241m.\u001b[39mindex, name\u001b[38;5;241m=\u001b[39marg\u001b[38;5;241m.\u001b[39mname)\n\u001b[1;32m   1070\u001b[0m \u001b[38;5;28;01melif\u001b[39;00m \u001b[38;5;28misinstance\u001b[39m(arg, (ABCDataFrame, abc\u001b[38;5;241m.\u001b[39mMutableMapping)):\n",
            "File \u001b[0;32m/opt/conda/lib/python3.9/site-packages/pandas/core/tools/datetimes.py:438\u001b[0m, in \u001b[0;36m_convert_listlike_datetimes\u001b[0;34m(arg, format, name, tz, unit, errors, infer_datetime_format, dayfirst, yearfirst, exact)\u001b[0m\n\u001b[1;32m    436\u001b[0m \u001b[38;5;28;01massert\u001b[39;00m \u001b[38;5;28mformat\u001b[39m \u001b[38;5;129;01mis\u001b[39;00m \u001b[38;5;28;01mNone\u001b[39;00m \u001b[38;5;129;01mor\u001b[39;00m infer_datetime_format\n\u001b[1;32m    437\u001b[0m utc \u001b[38;5;241m=\u001b[39m tz \u001b[38;5;241m==\u001b[39m \u001b[38;5;124m\"\u001b[39m\u001b[38;5;124mutc\u001b[39m\u001b[38;5;124m\"\u001b[39m\n\u001b[0;32m--> 438\u001b[0m result, tz_parsed \u001b[38;5;241m=\u001b[39m \u001b[43mobjects_to_datetime64ns\u001b[49m\u001b[43m(\u001b[49m\n\u001b[1;32m    439\u001b[0m \u001b[43m    \u001b[49m\u001b[43marg\u001b[49m\u001b[43m,\u001b[49m\n\u001b[1;32m    440\u001b[0m \u001b[43m    \u001b[49m\u001b[43mdayfirst\u001b[49m\u001b[38;5;241;43m=\u001b[39;49m\u001b[43mdayfirst\u001b[49m\u001b[43m,\u001b[49m\n\u001b[1;32m    441\u001b[0m \u001b[43m    \u001b[49m\u001b[43myearfirst\u001b[49m\u001b[38;5;241;43m=\u001b[39;49m\u001b[43myearfirst\u001b[49m\u001b[43m,\u001b[49m\n\u001b[1;32m    442\u001b[0m \u001b[43m    \u001b[49m\u001b[43mutc\u001b[49m\u001b[38;5;241;43m=\u001b[39;49m\u001b[43mutc\u001b[49m\u001b[43m,\u001b[49m\n\u001b[1;32m    443\u001b[0m \u001b[43m    \u001b[49m\u001b[43merrors\u001b[49m\u001b[38;5;241;43m=\u001b[39;49m\u001b[43merrors\u001b[49m\u001b[43m,\u001b[49m\n\u001b[1;32m    444\u001b[0m \u001b[43m    \u001b[49m\u001b[43mrequire_iso8601\u001b[49m\u001b[38;5;241;43m=\u001b[39;49m\u001b[43mrequire_iso8601\u001b[49m\u001b[43m,\u001b[49m\n\u001b[1;32m    445\u001b[0m \u001b[43m    \u001b[49m\u001b[43mallow_object\u001b[49m\u001b[38;5;241;43m=\u001b[39;49m\u001b[38;5;28;43;01mTrue\u001b[39;49;00m\u001b[43m,\u001b[49m\n\u001b[1;32m    446\u001b[0m \u001b[43m\u001b[49m\u001b[43m)\u001b[49m\n\u001b[1;32m    448\u001b[0m \u001b[38;5;28;01mif\u001b[39;00m tz_parsed \u001b[38;5;129;01mis\u001b[39;00m \u001b[38;5;129;01mnot\u001b[39;00m \u001b[38;5;28;01mNone\u001b[39;00m:\n\u001b[1;32m    449\u001b[0m     \u001b[38;5;66;03m# We can take a shortcut since the datetime64 numpy array\u001b[39;00m\n\u001b[1;32m    450\u001b[0m     \u001b[38;5;66;03m# is in UTC\u001b[39;00m\n\u001b[1;32m    451\u001b[0m     dta \u001b[38;5;241m=\u001b[39m DatetimeArray(result, dtype\u001b[38;5;241m=\u001b[39mtz_to_dtype(tz_parsed))\n",
            "File \u001b[0;32m/opt/conda/lib/python3.9/site-packages/pandas/core/arrays/datetimes.py:2177\u001b[0m, in \u001b[0;36mobjects_to_datetime64ns\u001b[0;34m(data, dayfirst, yearfirst, utc, errors, require_iso8601, allow_object, allow_mixed)\u001b[0m\n\u001b[1;32m   2175\u001b[0m order: Literal[\u001b[38;5;124m\"\u001b[39m\u001b[38;5;124mF\u001b[39m\u001b[38;5;124m\"\u001b[39m, \u001b[38;5;124m\"\u001b[39m\u001b[38;5;124mC\u001b[39m\u001b[38;5;124m\"\u001b[39m] \u001b[38;5;241m=\u001b[39m \u001b[38;5;124m\"\u001b[39m\u001b[38;5;124mF\u001b[39m\u001b[38;5;124m\"\u001b[39m \u001b[38;5;28;01mif\u001b[39;00m flags\u001b[38;5;241m.\u001b[39mf_contiguous \u001b[38;5;28;01melse\u001b[39;00m \u001b[38;5;124m\"\u001b[39m\u001b[38;5;124mC\u001b[39m\u001b[38;5;124m\"\u001b[39m\n\u001b[1;32m   2176\u001b[0m \u001b[38;5;28;01mtry\u001b[39;00m:\n\u001b[0;32m-> 2177\u001b[0m     result, tz_parsed \u001b[38;5;241m=\u001b[39m \u001b[43mtslib\u001b[49m\u001b[38;5;241;43m.\u001b[39;49m\u001b[43marray_to_datetime\u001b[49m\u001b[43m(\u001b[49m\n\u001b[1;32m   2178\u001b[0m \u001b[43m        \u001b[49m\u001b[43mdata\u001b[49m\u001b[38;5;241;43m.\u001b[39;49m\u001b[43mravel\u001b[49m\u001b[43m(\u001b[49m\u001b[38;5;124;43m\"\u001b[39;49m\u001b[38;5;124;43mK\u001b[39;49m\u001b[38;5;124;43m\"\u001b[39;49m\u001b[43m)\u001b[49m\u001b[43m,\u001b[49m\n\u001b[1;32m   2179\u001b[0m \u001b[43m        \u001b[49m\u001b[43merrors\u001b[49m\u001b[38;5;241;43m=\u001b[39;49m\u001b[43merrors\u001b[49m\u001b[43m,\u001b[49m\n\u001b[1;32m   2180\u001b[0m \u001b[43m        \u001b[49m\u001b[43mutc\u001b[49m\u001b[38;5;241;43m=\u001b[39;49m\u001b[43mutc\u001b[49m\u001b[43m,\u001b[49m\n\u001b[1;32m   2181\u001b[0m \u001b[43m        \u001b[49m\u001b[43mdayfirst\u001b[49m\u001b[38;5;241;43m=\u001b[39;49m\u001b[43mdayfirst\u001b[49m\u001b[43m,\u001b[49m\n\u001b[1;32m   2182\u001b[0m \u001b[43m        \u001b[49m\u001b[43myearfirst\u001b[49m\u001b[38;5;241;43m=\u001b[39;49m\u001b[43myearfirst\u001b[49m\u001b[43m,\u001b[49m\n\u001b[1;32m   2183\u001b[0m \u001b[43m        \u001b[49m\u001b[43mrequire_iso8601\u001b[49m\u001b[38;5;241;43m=\u001b[39;49m\u001b[43mrequire_iso8601\u001b[49m\u001b[43m,\u001b[49m\n\u001b[1;32m   2184\u001b[0m \u001b[43m        \u001b[49m\u001b[43mallow_mixed\u001b[49m\u001b[38;5;241;43m=\u001b[39;49m\u001b[43mallow_mixed\u001b[49m\u001b[43m,\u001b[49m\n\u001b[1;32m   2185\u001b[0m \u001b[43m    \u001b[49m\u001b[43m)\u001b[49m\n\u001b[1;32m   2186\u001b[0m     result \u001b[38;5;241m=\u001b[39m result\u001b[38;5;241m.\u001b[39mreshape(data\u001b[38;5;241m.\u001b[39mshape, order\u001b[38;5;241m=\u001b[39morder)\n\u001b[1;32m   2187\u001b[0m \u001b[38;5;28;01mexcept\u001b[39;00m \u001b[38;5;167;01mOverflowError\u001b[39;00m \u001b[38;5;28;01mas\u001b[39;00m err:\n\u001b[1;32m   2188\u001b[0m     \u001b[38;5;66;03m# Exception is raised when a part of date is greater than 32 bit signed int\u001b[39;00m\n",
            "File \u001b[0;32m/opt/conda/lib/python3.9/site-packages/pandas/_libs/tslib.pyx:427\u001b[0m, in \u001b[0;36mpandas._libs.tslib.array_to_datetime\u001b[0;34m()\u001b[0m\n",
            "File \u001b[0;32m/opt/conda/lib/python3.9/site-packages/pandas/_libs/tslib.pyx:698\u001b[0m, in \u001b[0;36mpandas._libs.tslib.array_to_datetime\u001b[0;34m()\u001b[0m\n",
            "\u001b[0;31mValueError\u001b[0m: mixed datetimes and integers in passed array"
          ]
        }
      ],
      "source": [
        "# Cleaning missing values in the dataset\n",
        "# Filling missing numerical values with 0\n",
        "numerical_columns = ['Accepted', 'CreditScore', 'MonthlyCost', 'NumberOfTerms', 'Selected']\n",
        "credit_data[numerical_columns] = credit_data[numerical_columns].fillna(0)\n",
        "\n",
        "# Filling missing object values with 'Unknown'\n",
        "object_columns = ['FirstWithdrawalAmount', 'OfferID', 'OfferedAmount']\n",
        "credit_data[object_columns] = credit_data[object_columns].fillna('Unknown')\n",
        "\n",
        "# Generating an overview summary of the cleaned event log\n",
        "event_log_summary_cleaned = credit_data.describe(include='all')\n",
        "event_log_summary_cleaned"
      ]
    },
    {
      "cell_type": "code",
      "execution_count": null,
      "id": "c8b872e2-af23-4263-9e37-eec72827996e",
      "metadata": {
        "ExecuteTime": {
          "end_time": "2023-10-10T00:16:59.396668+00:00",
          "start_time": "2023-10-10T00:16:59.210878+00:00"
        },
        "datalink": {
          "8f98d207-86b0-4c27-8393-216171ab92ce": {
            "applied_filters": [],
            "dataframe_info": {
              "default_index_used": false,
              "orig_num_cols": 1,
              "orig_num_rows": 24,
              "orig_size_bytes": 384,
              "truncated_num_cols": 1,
              "truncated_num_rows": 24,
              "truncated_size_bytes": 384,
              "truncated_string_columns": []
            },
            "display_id": "8f98d207-86b0-4c27-8393-216171ab92ce",
            "dx_settings": {
              "ALLOW_NOTEABLE_ATTRS": true,
              "COLUMN_SAMPLING_METHOD": "outer",
              "DB_LOCATION": ":memory:",
              "DEV_MODE": false,
              "DISPLAY_MAX_COLUMNS": 100,
              "DISPLAY_MAX_ROWS": 50000,
              "DISPLAY_MODE": "simple",
              "ENABLE_ASSIGNMENT": true,
              "ENABLE_DATALINK": true,
              "FLATTEN_COLUMN_VALUES": true,
              "FLATTEN_INDEX_VALUES": false,
              "GENERATE_DEX_METADATA": false,
              "HTML_TABLE_SCHEMA": false,
              "LOG_LEVEL": 30,
              "MAX_RENDER_SIZE_BYTES": 104857600,
              "MAX_STRING_LENGTH": 250,
              "NUM_PAST_SAMPLES_TRACKED": 3,
              "RANDOM_STATE": 12648430,
              "RESET_INDEX_VALUES": false,
              "ROW_SAMPLING_METHOD": "random",
              "SAMPLING_FACTOR": 0.1,
              "SAMPLING_METHOD": "random",
              "STRINGIFY_COLUMN_VALUES": true,
              "STRINGIFY_INDEX_VALUES": false
            },
            "sample_history": [],
            "sampling_time": "2023-10-10T00:16:59.238311",
            "user_variable_name": "column_data_types",
            "variable_name": "column_data_types"
          }
        },
        "noteable": {
          "cell_type": "code"
        }
      },
      "outputs": [
        {
          "data": {
            "application/vnd.dataresource+json": {
              "data": [
                {
                  "0": "object",
                  "index": "Case_ID"
                },
                {
                  "0": "object",
                  "index": "Activity"
                },
                {
                  "0": "object",
                  "index": "Resource"
                },
                {
                  "0": "datetime64[ns]",
                  "index": "Start_Timestamp"
                },
                {
                  "0": "datetime64[ns]",
                  "index": "Complete_Timestamp"
                },
                {
                  "0": "object",
                  "index": "Variant"
                },
                {
                  "0": "int64",
                  "index": "Variant_index"
                },
                {
                  "0": "object",
                  "index": "case_ApplicationType"
                },
                {
                  "0": "object",
                  "index": "case_creditGoal"
                },
                {
                  "0": "object",
                  "index": "case_RequestedAmount"
                },
                {
                  "0": "float64",
                  "index": "Accepted"
                },
                {
                  "0": "object",
                  "index": "Action"
                },
                {
                  "0": "float64",
                  "index": "CreditScore"
                },
                {
                  "0": "object",
                  "index": "EventID"
                },
                {
                  "0": "object",
                  "index": "EventOrigin"
                },
                {
                  "0": "object",
                  "index": "FirstWithdrawalAmount"
                },
                {
                  "0": "float64",
                  "index": "MonthlyCost"
                },
                {
                  "0": "float64",
                  "index": "NumberOfTerms"
                },
                {
                  "0": "object",
                  "index": "OfferID"
                },
                {
                  "0": "object",
                  "index": "OfferedAmount"
                },
                {
                  "0": "float64",
                  "index": "Selected"
                },
                {
                  "0": "object",
                  "index": "lifecycle:transition"
                },
                {
                  "0": "object",
                  "index": "starttimestamp"
                },
                {
                  "0": "object",
                  "index": "endtimestamp"
                }
              ],
              "datalink": {
                "display_id": "8f98d207-86b0-4c27-8393-216171ab92ce"
              },
              "schema": {
                "fields": [
                  {
                    "name": "index",
                    "type": "string"
                  },
                  {
                    "name": "0",
                    "type": "string"
                  }
                ],
                "pandas_version": "1.4.0",
                "primaryKey": [
                  "index"
                ]
              }
            }
          },
          "metadata": {
            "application/vnd.dataresource+json": {
              "datalink": {
                "applied_filters": [],
                "dataframe_info": {
                  "default_index_used": false,
                  "orig_num_cols": 1,
                  "orig_num_rows": 24,
                  "orig_size_bytes": 384,
                  "truncated_num_cols": 1,
                  "truncated_num_rows": 24,
                  "truncated_size_bytes": 384,
                  "truncated_string_columns": []
                },
                "display_id": "8f98d207-86b0-4c27-8393-216171ab92ce",
                "dx_settings": {
                  "ALLOW_NOTEABLE_ATTRS": true,
                  "COLUMN_SAMPLING_METHOD": "outer",
                  "DB_LOCATION": ":memory:",
                  "DEV_MODE": false,
                  "DISPLAY_MAX_COLUMNS": 100,
                  "DISPLAY_MAX_ROWS": 50000,
                  "DISPLAY_MODE": "simple",
                  "ENABLE_ASSIGNMENT": true,
                  "ENABLE_DATALINK": true,
                  "FLATTEN_COLUMN_VALUES": true,
                  "FLATTEN_INDEX_VALUES": false,
                  "GENERATE_DEX_METADATA": false,
                  "HTML_TABLE_SCHEMA": false,
                  "LOG_LEVEL": 30,
                  "MAX_RENDER_SIZE_BYTES": 104857600,
                  "MAX_STRING_LENGTH": 250,
                  "NUM_PAST_SAMPLES_TRACKED": 3,
                  "RANDOM_STATE": 12648430,
                  "RESET_INDEX_VALUES": false,
                  "ROW_SAMPLING_METHOD": "random",
                  "SAMPLING_FACTOR": 0.1,
                  "SAMPLING_METHOD": "random",
                  "STRINGIFY_COLUMN_VALUES": true,
                  "STRINGIFY_INDEX_VALUES": false
                },
                "sample_history": [],
                "sampling_time": "2023-10-10T00:16:59.238311",
                "user_variable_name": "column_data_types",
                "variable_name": "column_data_types"
              },
              "display_id": "8f98d207-86b0-4c27-8393-216171ab92ce"
            }
          },
          "output_type": "display_data"
        }
      ],
      "source": [
        "# Checking the data types of each column in the dataset\n",
        "column_data_types = credit_data.dtypes\n",
        "column_data_types"
      ]
    },
    {
      "cell_type": "code",
      "execution_count": null,
      "id": "187089a8-6b41-4322-b6b6-5ba3739ae169",
      "metadata": {
        "ExecuteTime": {
          "end_time": "2023-10-10T00:17:35.745000+00:00",
          "start_time": "2023-10-10T00:17:35.393431+00:00"
        },
        "noteable": {
          "cell_type": "code"
        }
      },
      "outputs": [
        {
          "ename": "ValueError",
          "evalue": "mixed datetimes and integers in passed array",
          "output_type": "error",
          "traceback": [
            "\u001b[0;31m---------------------------------------------------------------------------\u001b[0m",
            "\u001b[0;31mValueError\u001b[0m                                Traceback (most recent call last)",
            "File \u001b[0;32m/opt/conda/lib/python3.9/site-packages/dx/formatters/main.py:101\u001b[0m, in \u001b[0;36mhandle_format\u001b[0;34m(obj, with_ipython_display, ipython_shell, extra_metadata)\u001b[0m\n\u001b[1;32m    100\u001b[0m \u001b[38;5;28;01mtry\u001b[39;00m:\n\u001b[0;32m--> 101\u001b[0m     payload, metadata \u001b[38;5;241m=\u001b[39m \u001b[43mdatalink_processing\u001b[49m\u001b[43m(\u001b[49m\n\u001b[1;32m    102\u001b[0m \u001b[43m        \u001b[49m\u001b[43mdf\u001b[49m\u001b[43m,\u001b[49m\n\u001b[1;32m    103\u001b[0m \u001b[43m        \u001b[49m\u001b[43mdefault_index_used\u001b[49m\u001b[43m,\u001b[49m\n\u001b[1;32m    104\u001b[0m \u001b[43m        \u001b[49m\u001b[43mipython_shell\u001b[49m\u001b[38;5;241;43m=\u001b[39;49m\u001b[43mipython\u001b[49m\u001b[43m,\u001b[49m\n\u001b[1;32m    105\u001b[0m \u001b[43m        \u001b[49m\u001b[43mwith_ipython_display\u001b[49m\u001b[38;5;241;43m=\u001b[39;49m\u001b[43mwith_ipython_display\u001b[49m\u001b[43m,\u001b[49m\n\u001b[1;32m    106\u001b[0m \u001b[43m        \u001b[49m\u001b[43mextra_metadata\u001b[49m\u001b[38;5;241;43m=\u001b[39;49m\u001b[43mextra_metadata\u001b[49m\u001b[43m,\u001b[49m\n\u001b[1;32m    107\u001b[0m \u001b[43m    \u001b[49m\u001b[43m)\u001b[49m\n\u001b[1;32m    108\u001b[0m \u001b[38;5;28;01mexcept\u001b[39;00m \u001b[38;5;167;01mException\u001b[39;00m \u001b[38;5;28;01mas\u001b[39;00m e:\n",
            "File \u001b[0;32m/opt/conda/lib/python3.9/site-packages/dx/formatters/main.py:50\u001b[0m, in \u001b[0;36mdatalink_processing\u001b[0;34m(df, default_index_used, ipython_shell, with_ipython_display, extra_metadata)\u001b[0m\n\u001b[1;32m     43\u001b[0m \u001b[38;5;28;01mdef\u001b[39;00m \u001b[38;5;21mdatalink_processing\u001b[39m(\n\u001b[1;32m     44\u001b[0m     df: pd\u001b[38;5;241m.\u001b[39mDataFrame,\n\u001b[1;32m     45\u001b[0m     default_index_used: \u001b[38;5;28mbool\u001b[39m,\n\u001b[0;32m   (...)\u001b[0m\n\u001b[1;32m     48\u001b[0m     extra_metadata: Optional[\u001b[38;5;28mdict\u001b[39m] \u001b[38;5;241m=\u001b[39m \u001b[38;5;28;01mNone\u001b[39;00m,\n\u001b[1;32m     49\u001b[0m ):\n\u001b[0;32m---> 50\u001b[0m     dxdf \u001b[38;5;241m=\u001b[39m \u001b[43mDXDataFrame\u001b[49m\u001b[43m(\u001b[49m\u001b[43mdf\u001b[49m\u001b[43m)\u001b[49m\n\u001b[1;32m     51\u001b[0m     parent_display_id \u001b[38;5;241m=\u001b[39m determine_parent_display_id(dxdf)\n",
            "File \u001b[0;32m/opt/conda/lib/python3.9/site-packages/dx/utils/tracking.py:73\u001b[0m, in \u001b[0;36mDXDataFrame.__init__\u001b[0;34m(self, df, ipython_shell)\u001b[0m\n\u001b[1;32m     71\u001b[0m \u001b[38;5;28mself\u001b[39m\u001b[38;5;241m.\u001b[39mindex_name \u001b[38;5;241m=\u001b[39m get_df_index(df\u001b[38;5;241m.\u001b[39mindex)\n\u001b[0;32m---> 73\u001b[0m \u001b[38;5;28mself\u001b[39m\u001b[38;5;241m.\u001b[39mdf \u001b[38;5;241m=\u001b[39m \u001b[43mnormalize_index_and_columns\u001b[49m\u001b[43m(\u001b[49m\u001b[43mdf\u001b[49m\u001b[43m)\u001b[49m\n\u001b[1;32m     74\u001b[0m \u001b[38;5;28mself\u001b[39m\u001b[38;5;241m.\u001b[39mhash \u001b[38;5;241m=\u001b[39m generate_df_hash(\u001b[38;5;28mself\u001b[39m\u001b[38;5;241m.\u001b[39mdf)\n",
            "File \u001b[0;32m/opt/conda/lib/python3.9/site-packages/dx/utils/formatting.py:188\u001b[0m, in \u001b[0;36mnormalize_index_and_columns\u001b[0;34m(df)\u001b[0m\n\u001b[1;32m    187\u001b[0m df \u001b[38;5;241m=\u001b[39m normalize_index(df)\n\u001b[0;32m--> 188\u001b[0m df \u001b[38;5;241m=\u001b[39m \u001b[43mnormalize_columns\u001b[49m\u001b[43m(\u001b[49m\u001b[43mdf\u001b[49m\u001b[43m)\u001b[49m\n\u001b[1;32m    189\u001b[0m df \u001b[38;5;241m=\u001b[39m deconflict_index_and_column_names(df)\n",
            "File \u001b[0;32m/opt/conda/lib/python3.9/site-packages/dx/utils/formatting.py:254\u001b[0m, in \u001b[0;36mnormalize_columns\u001b[0;34m(df)\u001b[0m\n\u001b[1;32m    253\u001b[0m \u001b[38;5;28;01mfor\u001b[39;00m column \u001b[38;5;129;01min\u001b[39;00m df\u001b[38;5;241m.\u001b[39mcolumns:\n\u001b[0;32m--> 254\u001b[0m     df[column] \u001b[38;5;241m=\u001b[39m \u001b[43mclean_series_values\u001b[49m\u001b[43m(\u001b[49m\u001b[43mdf\u001b[49m\u001b[43m[\u001b[49m\u001b[43mcolumn\u001b[49m\u001b[43m]\u001b[49m\u001b[43m)\u001b[49m\n\u001b[1;32m    255\u001b[0m \u001b[38;5;28;01mreturn\u001b[39;00m df\n",
            "File \u001b[0;32m/opt/conda/lib/python3.9/site-packages/dx/utils/formatting.py:291\u001b[0m, in \u001b[0;36mclean_series_values\u001b[0;34m(s)\u001b[0m\n\u001b[1;32m    290\u001b[0m s \u001b[38;5;241m=\u001b[39m date_time\u001b[38;5;241m.\u001b[39mhandle_time_delta_series(s)\n\u001b[0;32m--> 291\u001b[0m s \u001b[38;5;241m=\u001b[39m \u001b[43mdate_time\u001b[49m\u001b[38;5;241;43m.\u001b[39;49m\u001b[43mhandle_datetime_series\u001b[49m\u001b[43m(\u001b[49m\u001b[43ms\u001b[49m\u001b[43m)\u001b[49m\n\u001b[1;32m    293\u001b[0m s \u001b[38;5;241m=\u001b[39m numeric\u001b[38;5;241m.\u001b[39mhandle_decimal_series(s)\n",
            "File \u001b[0;32m/opt/conda/lib/python3.9/site-packages/dx/datatypes/date_time.py:186\u001b[0m, in \u001b[0;36mhandle_datetime_series\u001b[0;34m(s)\u001b[0m\n\u001b[1;32m    182\u001b[0m     logger\u001b[38;5;241m.\u001b[39mdebug(\n\u001b[1;32m    183\u001b[0m         \u001b[38;5;124mf\u001b[39m\u001b[38;5;124m\"\u001b[39m\u001b[38;5;124mseries `\u001b[39m\u001b[38;5;132;01m{\u001b[39;00ms\u001b[38;5;241m.\u001b[39mname\u001b[38;5;132;01m}\u001b[39;00m\u001b[38;5;124m` has datetime values; converting with pd.to_datetime()\u001b[39m\u001b[38;5;124m\"\u001b[39m,\n\u001b[1;32m    184\u001b[0m         utc\u001b[38;5;241m=\u001b[39mhas_tzinfo\u001b[38;5;241m.\u001b[39many(),\n\u001b[1;32m    185\u001b[0m     )\n\u001b[0;32m--> 186\u001b[0m     s \u001b[38;5;241m=\u001b[39m \u001b[43mpd\u001b[49m\u001b[38;5;241;43m.\u001b[39;49m\u001b[43mto_datetime\u001b[49m\u001b[43m(\u001b[49m\u001b[43ms\u001b[49m\u001b[43m,\u001b[49m\u001b[43m \u001b[49m\u001b[43mutc\u001b[49m\u001b[38;5;241;43m=\u001b[39;49m\u001b[43mhas_tzinfo\u001b[49m\u001b[38;5;241;43m.\u001b[39;49m\u001b[43many\u001b[49m\u001b[43m(\u001b[49m\u001b[43m)\u001b[49m\u001b[43m)\u001b[49m\n\u001b[1;32m    187\u001b[0m \u001b[38;5;28;01mreturn\u001b[39;00m s\n",
            "File \u001b[0;32m/opt/conda/lib/python3.9/site-packages/pandas/core/tools/datetimes.py:1068\u001b[0m, in \u001b[0;36mto_datetime\u001b[0;34m(arg, errors, dayfirst, yearfirst, utc, format, exact, unit, infer_datetime_format, origin, cache)\u001b[0m\n\u001b[1;32m   1067\u001b[0m \u001b[38;5;28;01melse\u001b[39;00m:\n\u001b[0;32m-> 1068\u001b[0m     values \u001b[38;5;241m=\u001b[39m \u001b[43mconvert_listlike\u001b[49m\u001b[43m(\u001b[49m\u001b[43marg\u001b[49m\u001b[38;5;241;43m.\u001b[39;49m\u001b[43m_values\u001b[49m\u001b[43m,\u001b[49m\u001b[43m \u001b[49m\u001b[38;5;28;43mformat\u001b[39;49m\u001b[43m)\u001b[49m\n\u001b[1;32m   1069\u001b[0m     result \u001b[38;5;241m=\u001b[39m arg\u001b[38;5;241m.\u001b[39m_constructor(values, index\u001b[38;5;241m=\u001b[39marg\u001b[38;5;241m.\u001b[39mindex, name\u001b[38;5;241m=\u001b[39marg\u001b[38;5;241m.\u001b[39mname)\n",
            "File \u001b[0;32m/opt/conda/lib/python3.9/site-packages/pandas/core/tools/datetimes.py:438\u001b[0m, in \u001b[0;36m_convert_listlike_datetimes\u001b[0;34m(arg, format, name, tz, unit, errors, infer_datetime_format, dayfirst, yearfirst, exact)\u001b[0m\n\u001b[1;32m    437\u001b[0m utc \u001b[38;5;241m=\u001b[39m tz \u001b[38;5;241m==\u001b[39m \u001b[38;5;124m\"\u001b[39m\u001b[38;5;124mutc\u001b[39m\u001b[38;5;124m\"\u001b[39m\n\u001b[0;32m--> 438\u001b[0m result, tz_parsed \u001b[38;5;241m=\u001b[39m \u001b[43mobjects_to_datetime64ns\u001b[49m\u001b[43m(\u001b[49m\n\u001b[1;32m    439\u001b[0m \u001b[43m    \u001b[49m\u001b[43marg\u001b[49m\u001b[43m,\u001b[49m\n\u001b[1;32m    440\u001b[0m \u001b[43m    \u001b[49m\u001b[43mdayfirst\u001b[49m\u001b[38;5;241;43m=\u001b[39;49m\u001b[43mdayfirst\u001b[49m\u001b[43m,\u001b[49m\n\u001b[1;32m    441\u001b[0m \u001b[43m    \u001b[49m\u001b[43myearfirst\u001b[49m\u001b[38;5;241;43m=\u001b[39;49m\u001b[43myearfirst\u001b[49m\u001b[43m,\u001b[49m\n\u001b[1;32m    442\u001b[0m \u001b[43m    \u001b[49m\u001b[43mutc\u001b[49m\u001b[38;5;241;43m=\u001b[39;49m\u001b[43mutc\u001b[49m\u001b[43m,\u001b[49m\n\u001b[1;32m    443\u001b[0m \u001b[43m    \u001b[49m\u001b[43merrors\u001b[49m\u001b[38;5;241;43m=\u001b[39;49m\u001b[43merrors\u001b[49m\u001b[43m,\u001b[49m\n\u001b[1;32m    444\u001b[0m \u001b[43m    \u001b[49m\u001b[43mrequire_iso8601\u001b[49m\u001b[38;5;241;43m=\u001b[39;49m\u001b[43mrequire_iso8601\u001b[49m\u001b[43m,\u001b[49m\n\u001b[1;32m    445\u001b[0m \u001b[43m    \u001b[49m\u001b[43mallow_object\u001b[49m\u001b[38;5;241;43m=\u001b[39;49m\u001b[38;5;28;43;01mTrue\u001b[39;49;00m\u001b[43m,\u001b[49m\n\u001b[1;32m    446\u001b[0m \u001b[43m\u001b[49m\u001b[43m)\u001b[49m\n\u001b[1;32m    448\u001b[0m \u001b[38;5;28;01mif\u001b[39;00m tz_parsed \u001b[38;5;129;01mis\u001b[39;00m \u001b[38;5;129;01mnot\u001b[39;00m \u001b[38;5;28;01mNone\u001b[39;00m:\n\u001b[1;32m    449\u001b[0m     \u001b[38;5;66;03m# We can take a shortcut since the datetime64 numpy array\u001b[39;00m\n\u001b[1;32m    450\u001b[0m     \u001b[38;5;66;03m# is in UTC\u001b[39;00m\n",
            "File \u001b[0;32m/opt/conda/lib/python3.9/site-packages/pandas/core/arrays/datetimes.py:2177\u001b[0m, in \u001b[0;36mobjects_to_datetime64ns\u001b[0;34m(data, dayfirst, yearfirst, utc, errors, require_iso8601, allow_object, allow_mixed)\u001b[0m\n\u001b[1;32m   2176\u001b[0m \u001b[38;5;28;01mtry\u001b[39;00m:\n\u001b[0;32m-> 2177\u001b[0m     result, tz_parsed \u001b[38;5;241m=\u001b[39m \u001b[43mtslib\u001b[49m\u001b[38;5;241;43m.\u001b[39;49m\u001b[43marray_to_datetime\u001b[49m\u001b[43m(\u001b[49m\n\u001b[1;32m   2178\u001b[0m \u001b[43m        \u001b[49m\u001b[43mdata\u001b[49m\u001b[38;5;241;43m.\u001b[39;49m\u001b[43mravel\u001b[49m\u001b[43m(\u001b[49m\u001b[38;5;124;43m\"\u001b[39;49m\u001b[38;5;124;43mK\u001b[39;49m\u001b[38;5;124;43m\"\u001b[39;49m\u001b[43m)\u001b[49m\u001b[43m,\u001b[49m\n\u001b[1;32m   2179\u001b[0m \u001b[43m        \u001b[49m\u001b[43merrors\u001b[49m\u001b[38;5;241;43m=\u001b[39;49m\u001b[43merrors\u001b[49m\u001b[43m,\u001b[49m\n\u001b[1;32m   2180\u001b[0m \u001b[43m        \u001b[49m\u001b[43mutc\u001b[49m\u001b[38;5;241;43m=\u001b[39;49m\u001b[43mutc\u001b[49m\u001b[43m,\u001b[49m\n\u001b[1;32m   2181\u001b[0m \u001b[43m        \u001b[49m\u001b[43mdayfirst\u001b[49m\u001b[38;5;241;43m=\u001b[39;49m\u001b[43mdayfirst\u001b[49m\u001b[43m,\u001b[49m\n\u001b[1;32m   2182\u001b[0m \u001b[43m        \u001b[49m\u001b[43myearfirst\u001b[49m\u001b[38;5;241;43m=\u001b[39;49m\u001b[43myearfirst\u001b[49m\u001b[43m,\u001b[49m\n\u001b[1;32m   2183\u001b[0m \u001b[43m        \u001b[49m\u001b[43mrequire_iso8601\u001b[49m\u001b[38;5;241;43m=\u001b[39;49m\u001b[43mrequire_iso8601\u001b[49m\u001b[43m,\u001b[49m\n\u001b[1;32m   2184\u001b[0m \u001b[43m        \u001b[49m\u001b[43mallow_mixed\u001b[49m\u001b[38;5;241;43m=\u001b[39;49m\u001b[43mallow_mixed\u001b[49m\u001b[43m,\u001b[49m\n\u001b[1;32m   2185\u001b[0m \u001b[43m    \u001b[49m\u001b[43m)\u001b[49m\n\u001b[1;32m   2186\u001b[0m     result \u001b[38;5;241m=\u001b[39m result\u001b[38;5;241m.\u001b[39mreshape(data\u001b[38;5;241m.\u001b[39mshape, order\u001b[38;5;241m=\u001b[39morder)\n",
            "File \u001b[0;32m/opt/conda/lib/python3.9/site-packages/pandas/_libs/tslib.pyx:427\u001b[0m, in \u001b[0;36mpandas._libs.tslib.array_to_datetime\u001b[0;34m()\u001b[0m\n",
            "File \u001b[0;32m/opt/conda/lib/python3.9/site-packages/pandas/_libs/tslib.pyx:698\u001b[0m, in \u001b[0;36mpandas._libs.tslib.array_to_datetime\u001b[0;34m()\u001b[0m\n",
            "\u001b[0;31mValueError\u001b[0m: mixed datetimes and integers in passed array",
            "\nDuring handling of the above exception, another exception occurred:\n",
            "\u001b[0;31mValueError\u001b[0m                                Traceback (most recent call last)",
            "Cell \u001b[0;32mIn[14], line 3\u001b[0m\n\u001b[1;32m      1\u001b[0m \u001b[38;5;66;03m# Generating an overview summary of the event log\u001b[39;00m\n\u001b[1;32m      2\u001b[0m event_log_summary \u001b[38;5;241m=\u001b[39m credit_data\u001b[38;5;241m.\u001b[39mdescribe(include\u001b[38;5;241m=\u001b[39m\u001b[38;5;124m'\u001b[39m\u001b[38;5;124mall\u001b[39m\u001b[38;5;124m'\u001b[39m)\n\u001b[0;32m----> 3\u001b[0m event_log_summary\n",
            "File \u001b[0;32m/opt/conda/lib/python3.9/site-packages/IPython/core/displayhook.py:268\u001b[0m, in \u001b[0;36mDisplayHook.__call__\u001b[0;34m(self, result)\u001b[0m\n\u001b[1;32m    266\u001b[0m \u001b[38;5;28mself\u001b[39m\u001b[38;5;241m.\u001b[39mstart_displayhook()\n\u001b[1;32m    267\u001b[0m \u001b[38;5;28mself\u001b[39m\u001b[38;5;241m.\u001b[39mwrite_output_prompt()\n\u001b[0;32m--> 268\u001b[0m format_dict, md_dict \u001b[38;5;241m=\u001b[39m \u001b[38;5;28;43mself\u001b[39;49m\u001b[38;5;241;43m.\u001b[39;49m\u001b[43mcompute_format_data\u001b[49m\u001b[43m(\u001b[49m\u001b[43mresult\u001b[49m\u001b[43m)\u001b[49m\n\u001b[1;32m    269\u001b[0m \u001b[38;5;28mself\u001b[39m\u001b[38;5;241m.\u001b[39mupdate_user_ns(result)\n\u001b[1;32m    270\u001b[0m \u001b[38;5;28mself\u001b[39m\u001b[38;5;241m.\u001b[39mfill_exec_result(result)\n",
            "File \u001b[0;32m/opt/conda/lib/python3.9/site-packages/IPython/core/displayhook.py:157\u001b[0m, in \u001b[0;36mDisplayHook.compute_format_data\u001b[0;34m(self, result)\u001b[0m\n\u001b[1;32m    127\u001b[0m \u001b[38;5;28;01mdef\u001b[39;00m \u001b[38;5;21mcompute_format_data\u001b[39m(\u001b[38;5;28mself\u001b[39m, result):\n\u001b[1;32m    128\u001b[0m \u001b[38;5;250m    \u001b[39m\u001b[38;5;124;03m\"\"\"Compute format data of the object to be displayed.\u001b[39;00m\n\u001b[1;32m    129\u001b[0m \n\u001b[1;32m    130\u001b[0m \u001b[38;5;124;03m    The format data is a generalization of the :func:`repr` of an object.\u001b[39;00m\n\u001b[0;32m   (...)\u001b[0m\n\u001b[1;32m    155\u001b[0m \n\u001b[1;32m    156\u001b[0m \u001b[38;5;124;03m    \"\"\"\u001b[39;00m\n\u001b[0;32m--> 157\u001b[0m     \u001b[38;5;28;01mreturn\u001b[39;00m \u001b[38;5;28;43mself\u001b[39;49m\u001b[38;5;241;43m.\u001b[39;49m\u001b[43mshell\u001b[49m\u001b[38;5;241;43m.\u001b[39;49m\u001b[43mdisplay_formatter\u001b[49m\u001b[38;5;241;43m.\u001b[39;49m\u001b[43mformat\u001b[49m\u001b[43m(\u001b[49m\u001b[43mresult\u001b[49m\u001b[43m)\u001b[49m\n",
            "File \u001b[0;32m/opt/conda/lib/python3.9/site-packages/dx/formatters/main.py:127\u001b[0m, in \u001b[0;36mDXDisplayFormatter.format\u001b[0;34m(self, obj, **kwargs)\u001b[0m\n\u001b[1;32m    125\u001b[0m \u001b[38;5;28;01mdef\u001b[39;00m \u001b[38;5;21mformat\u001b[39m(\u001b[38;5;28mself\u001b[39m, obj, \u001b[38;5;241m*\u001b[39m\u001b[38;5;241m*\u001b[39mkwargs):\n\u001b[1;32m    126\u001b[0m     \u001b[38;5;28;01mif\u001b[39;00m IN_NOTEBOOK_ENV \u001b[38;5;129;01mand\u001b[39;00m \u001b[38;5;28misinstance\u001b[39m(obj, \u001b[38;5;28mtuple\u001b[39m(settings\u001b[38;5;241m.\u001b[39mget_renderable_types())):\n\u001b[0;32m--> 127\u001b[0m         \u001b[43mhandle_format\u001b[49m\u001b[43m(\u001b[49m\u001b[43mobj\u001b[49m\u001b[43m)\u001b[49m\n\u001b[1;32m    128\u001b[0m         \u001b[38;5;28;01mreturn\u001b[39;00m ({}, {})\n\u001b[1;32m    130\u001b[0m     \u001b[38;5;28;01mreturn\u001b[39;00m DEFAULT_IPYTHON_DISPLAY_FORMATTER\u001b[38;5;241m.\u001b[39mformat(obj, \u001b[38;5;241m*\u001b[39m\u001b[38;5;241m*\u001b[39mkwargs)\n",
            "File \u001b[0;32m/opt/conda/lib/python3.9/site-packages/dx/formatters/main.py:111\u001b[0m, in \u001b[0;36mhandle_format\u001b[0;34m(obj, with_ipython_display, ipython_shell, extra_metadata)\u001b[0m\n\u001b[1;32m    109\u001b[0m     logger\u001b[38;5;241m.\u001b[39mdebug(\u001b[38;5;124mf\u001b[39m\u001b[38;5;124m\"\u001b[39m\u001b[38;5;124mError in datalink_processing: \u001b[39m\u001b[38;5;132;01m{\u001b[39;00me\u001b[38;5;132;01m}\u001b[39;00m\u001b[38;5;124m\"\u001b[39m)\n\u001b[1;32m    110\u001b[0m     \u001b[38;5;66;03m# fall back to default processing\u001b[39;00m\n\u001b[0;32m--> 111\u001b[0m     df \u001b[38;5;241m=\u001b[39m \u001b[43mnormalize_index_and_columns\u001b[49m\u001b[43m(\u001b[49m\u001b[43mdf\u001b[49m\u001b[43m)\u001b[49m\n\u001b[1;32m    112\u001b[0m     payload, metadata \u001b[38;5;241m=\u001b[39m format_output(\n\u001b[1;32m    113\u001b[0m         df,\n\u001b[1;32m    114\u001b[0m         default_index_used\u001b[38;5;241m=\u001b[39mdefault_index_used,\n\u001b[1;32m    115\u001b[0m         with_ipython_display\u001b[38;5;241m=\u001b[39mwith_ipython_display,\n\u001b[1;32m    116\u001b[0m         extra_metadata\u001b[38;5;241m=\u001b[39mextra_metadata,\n\u001b[1;32m    117\u001b[0m     )\n\u001b[1;32m    119\u001b[0m \u001b[38;5;28;01mreturn\u001b[39;00m payload, metadata\n",
            "File \u001b[0;32m/opt/conda/lib/python3.9/site-packages/dx/utils/formatting.py:188\u001b[0m, in \u001b[0;36mnormalize_index_and_columns\u001b[0;34m(df)\u001b[0m\n\u001b[1;32m    183\u001b[0m \u001b[38;5;250m\u001b[39m\u001b[38;5;124;03m\"\"\"\u001b[39;00m\n\u001b[1;32m    184\u001b[0m \u001b[38;5;124;03mAny additional formatting that needs to happen to the index,\u001b[39;00m\n\u001b[1;32m    185\u001b[0m \u001b[38;5;124;03mthe columns, or the data itself should be done here.\u001b[39;00m\n\u001b[1;32m    186\u001b[0m \u001b[38;5;124;03m\"\"\"\u001b[39;00m\n\u001b[1;32m    187\u001b[0m df \u001b[38;5;241m=\u001b[39m normalize_index(df)\n\u001b[0;32m--> 188\u001b[0m df \u001b[38;5;241m=\u001b[39m \u001b[43mnormalize_columns\u001b[49m\u001b[43m(\u001b[49m\u001b[43mdf\u001b[49m\u001b[43m)\u001b[49m\n\u001b[1;32m    189\u001b[0m df \u001b[38;5;241m=\u001b[39m deconflict_index_and_column_names(df)\n\u001b[1;32m    190\u001b[0m \u001b[38;5;28;01mreturn\u001b[39;00m df\n",
            "File \u001b[0;32m/opt/conda/lib/python3.9/site-packages/dx/utils/formatting.py:254\u001b[0m, in \u001b[0;36mnormalize_columns\u001b[0;34m(df)\u001b[0m\n\u001b[1;32m    252\u001b[0m logger\u001b[38;5;241m.\u001b[39mdebug(\u001b[38;5;124m\"\u001b[39m\u001b[38;5;124m-- cleaning columns before display --\u001b[39m\u001b[38;5;124m\"\u001b[39m)\n\u001b[1;32m    253\u001b[0m \u001b[38;5;28;01mfor\u001b[39;00m column \u001b[38;5;129;01min\u001b[39;00m df\u001b[38;5;241m.\u001b[39mcolumns:\n\u001b[0;32m--> 254\u001b[0m     df[column] \u001b[38;5;241m=\u001b[39m \u001b[43mclean_series_values\u001b[49m\u001b[43m(\u001b[49m\u001b[43mdf\u001b[49m\u001b[43m[\u001b[49m\u001b[43mcolumn\u001b[49m\u001b[43m]\u001b[49m\u001b[43m)\u001b[49m\n\u001b[1;32m    255\u001b[0m \u001b[38;5;28;01mreturn\u001b[39;00m df\n",
            "File \u001b[0;32m/opt/conda/lib/python3.9/site-packages/dx/utils/formatting.py:291\u001b[0m, in \u001b[0;36mclean_series_values\u001b[0;34m(s)\u001b[0m\n\u001b[1;32m    289\u001b[0m s \u001b[38;5;241m=\u001b[39m date_time\u001b[38;5;241m.\u001b[39mhandle_time_period_series(s)\n\u001b[1;32m    290\u001b[0m s \u001b[38;5;241m=\u001b[39m date_time\u001b[38;5;241m.\u001b[39mhandle_time_delta_series(s)\n\u001b[0;32m--> 291\u001b[0m s \u001b[38;5;241m=\u001b[39m \u001b[43mdate_time\u001b[49m\u001b[38;5;241;43m.\u001b[39;49m\u001b[43mhandle_datetime_series\u001b[49m\u001b[43m(\u001b[49m\u001b[43ms\u001b[49m\u001b[43m)\u001b[49m\n\u001b[1;32m    293\u001b[0m s \u001b[38;5;241m=\u001b[39m numeric\u001b[38;5;241m.\u001b[39mhandle_decimal_series(s)\n\u001b[1;32m    294\u001b[0m s \u001b[38;5;241m=\u001b[39m numeric\u001b[38;5;241m.\u001b[39mhandle_complex_number_series(s)\n",
            "File \u001b[0;32m/opt/conda/lib/python3.9/site-packages/dx/datatypes/date_time.py:186\u001b[0m, in \u001b[0;36mhandle_datetime_series\u001b[0;34m(s)\u001b[0m\n\u001b[1;32m    181\u001b[0m \u001b[38;5;28;01mif\u001b[39;00m \u001b[38;5;28many\u001b[39m(\u001b[38;5;28misinstance\u001b[39m(v, types) \u001b[38;5;28;01mfor\u001b[39;00m v \u001b[38;5;129;01min\u001b[39;00m sample_rows\u001b[38;5;241m.\u001b[39mvalues):\n\u001b[1;32m    182\u001b[0m     logger\u001b[38;5;241m.\u001b[39mdebug(\n\u001b[1;32m    183\u001b[0m         \u001b[38;5;124mf\u001b[39m\u001b[38;5;124m\"\u001b[39m\u001b[38;5;124mseries `\u001b[39m\u001b[38;5;132;01m{\u001b[39;00ms\u001b[38;5;241m.\u001b[39mname\u001b[38;5;132;01m}\u001b[39;00m\u001b[38;5;124m` has datetime values; converting with pd.to_datetime()\u001b[39m\u001b[38;5;124m\"\u001b[39m,\n\u001b[1;32m    184\u001b[0m         utc\u001b[38;5;241m=\u001b[39mhas_tzinfo\u001b[38;5;241m.\u001b[39many(),\n\u001b[1;32m    185\u001b[0m     )\n\u001b[0;32m--> 186\u001b[0m     s \u001b[38;5;241m=\u001b[39m \u001b[43mpd\u001b[49m\u001b[38;5;241;43m.\u001b[39;49m\u001b[43mto_datetime\u001b[49m\u001b[43m(\u001b[49m\u001b[43ms\u001b[49m\u001b[43m,\u001b[49m\u001b[43m \u001b[49m\u001b[43mutc\u001b[49m\u001b[38;5;241;43m=\u001b[39;49m\u001b[43mhas_tzinfo\u001b[49m\u001b[38;5;241;43m.\u001b[39;49m\u001b[43many\u001b[49m\u001b[43m(\u001b[49m\u001b[43m)\u001b[49m\u001b[43m)\u001b[49m\n\u001b[1;32m    187\u001b[0m \u001b[38;5;28;01mreturn\u001b[39;00m s\n",
            "File \u001b[0;32m/opt/conda/lib/python3.9/site-packages/pandas/core/tools/datetimes.py:1068\u001b[0m, in \u001b[0;36mto_datetime\u001b[0;34m(arg, errors, dayfirst, yearfirst, utc, format, exact, unit, infer_datetime_format, origin, cache)\u001b[0m\n\u001b[1;32m   1066\u001b[0m         result \u001b[38;5;241m=\u001b[39m arg\u001b[38;5;241m.\u001b[39mmap(cache_array)\n\u001b[1;32m   1067\u001b[0m     \u001b[38;5;28;01melse\u001b[39;00m:\n\u001b[0;32m-> 1068\u001b[0m         values \u001b[38;5;241m=\u001b[39m \u001b[43mconvert_listlike\u001b[49m\u001b[43m(\u001b[49m\u001b[43marg\u001b[49m\u001b[38;5;241;43m.\u001b[39;49m\u001b[43m_values\u001b[49m\u001b[43m,\u001b[49m\u001b[43m \u001b[49m\u001b[38;5;28;43mformat\u001b[39;49m\u001b[43m)\u001b[49m\n\u001b[1;32m   1069\u001b[0m         result \u001b[38;5;241m=\u001b[39m arg\u001b[38;5;241m.\u001b[39m_constructor(values, index\u001b[38;5;241m=\u001b[39marg\u001b[38;5;241m.\u001b[39mindex, name\u001b[38;5;241m=\u001b[39marg\u001b[38;5;241m.\u001b[39mname)\n\u001b[1;32m   1070\u001b[0m \u001b[38;5;28;01melif\u001b[39;00m \u001b[38;5;28misinstance\u001b[39m(arg, (ABCDataFrame, abc\u001b[38;5;241m.\u001b[39mMutableMapping)):\n",
            "File \u001b[0;32m/opt/conda/lib/python3.9/site-packages/pandas/core/tools/datetimes.py:438\u001b[0m, in \u001b[0;36m_convert_listlike_datetimes\u001b[0;34m(arg, format, name, tz, unit, errors, infer_datetime_format, dayfirst, yearfirst, exact)\u001b[0m\n\u001b[1;32m    436\u001b[0m \u001b[38;5;28;01massert\u001b[39;00m \u001b[38;5;28mformat\u001b[39m \u001b[38;5;129;01mis\u001b[39;00m \u001b[38;5;28;01mNone\u001b[39;00m \u001b[38;5;129;01mor\u001b[39;00m infer_datetime_format\n\u001b[1;32m    437\u001b[0m utc \u001b[38;5;241m=\u001b[39m tz \u001b[38;5;241m==\u001b[39m \u001b[38;5;124m\"\u001b[39m\u001b[38;5;124mutc\u001b[39m\u001b[38;5;124m\"\u001b[39m\n\u001b[0;32m--> 438\u001b[0m result, tz_parsed \u001b[38;5;241m=\u001b[39m \u001b[43mobjects_to_datetime64ns\u001b[49m\u001b[43m(\u001b[49m\n\u001b[1;32m    439\u001b[0m \u001b[43m    \u001b[49m\u001b[43marg\u001b[49m\u001b[43m,\u001b[49m\n\u001b[1;32m    440\u001b[0m \u001b[43m    \u001b[49m\u001b[43mdayfirst\u001b[49m\u001b[38;5;241;43m=\u001b[39;49m\u001b[43mdayfirst\u001b[49m\u001b[43m,\u001b[49m\n\u001b[1;32m    441\u001b[0m \u001b[43m    \u001b[49m\u001b[43myearfirst\u001b[49m\u001b[38;5;241;43m=\u001b[39;49m\u001b[43myearfirst\u001b[49m\u001b[43m,\u001b[49m\n\u001b[1;32m    442\u001b[0m \u001b[43m    \u001b[49m\u001b[43mutc\u001b[49m\u001b[38;5;241;43m=\u001b[39;49m\u001b[43mutc\u001b[49m\u001b[43m,\u001b[49m\n\u001b[1;32m    443\u001b[0m \u001b[43m    \u001b[49m\u001b[43merrors\u001b[49m\u001b[38;5;241;43m=\u001b[39;49m\u001b[43merrors\u001b[49m\u001b[43m,\u001b[49m\n\u001b[1;32m    444\u001b[0m \u001b[43m    \u001b[49m\u001b[43mrequire_iso8601\u001b[49m\u001b[38;5;241;43m=\u001b[39;49m\u001b[43mrequire_iso8601\u001b[49m\u001b[43m,\u001b[49m\n\u001b[1;32m    445\u001b[0m \u001b[43m    \u001b[49m\u001b[43mallow_object\u001b[49m\u001b[38;5;241;43m=\u001b[39;49m\u001b[38;5;28;43;01mTrue\u001b[39;49;00m\u001b[43m,\u001b[49m\n\u001b[1;32m    446\u001b[0m \u001b[43m\u001b[49m\u001b[43m)\u001b[49m\n\u001b[1;32m    448\u001b[0m \u001b[38;5;28;01mif\u001b[39;00m tz_parsed \u001b[38;5;129;01mis\u001b[39;00m \u001b[38;5;129;01mnot\u001b[39;00m \u001b[38;5;28;01mNone\u001b[39;00m:\n\u001b[1;32m    449\u001b[0m     \u001b[38;5;66;03m# We can take a shortcut since the datetime64 numpy array\u001b[39;00m\n\u001b[1;32m    450\u001b[0m     \u001b[38;5;66;03m# is in UTC\u001b[39;00m\n\u001b[1;32m    451\u001b[0m     dta \u001b[38;5;241m=\u001b[39m DatetimeArray(result, dtype\u001b[38;5;241m=\u001b[39mtz_to_dtype(tz_parsed))\n",
            "File \u001b[0;32m/opt/conda/lib/python3.9/site-packages/pandas/core/arrays/datetimes.py:2177\u001b[0m, in \u001b[0;36mobjects_to_datetime64ns\u001b[0;34m(data, dayfirst, yearfirst, utc, errors, require_iso8601, allow_object, allow_mixed)\u001b[0m\n\u001b[1;32m   2175\u001b[0m order: Literal[\u001b[38;5;124m\"\u001b[39m\u001b[38;5;124mF\u001b[39m\u001b[38;5;124m\"\u001b[39m, \u001b[38;5;124m\"\u001b[39m\u001b[38;5;124mC\u001b[39m\u001b[38;5;124m\"\u001b[39m] \u001b[38;5;241m=\u001b[39m \u001b[38;5;124m\"\u001b[39m\u001b[38;5;124mF\u001b[39m\u001b[38;5;124m\"\u001b[39m \u001b[38;5;28;01mif\u001b[39;00m flags\u001b[38;5;241m.\u001b[39mf_contiguous \u001b[38;5;28;01melse\u001b[39;00m \u001b[38;5;124m\"\u001b[39m\u001b[38;5;124mC\u001b[39m\u001b[38;5;124m\"\u001b[39m\n\u001b[1;32m   2176\u001b[0m \u001b[38;5;28;01mtry\u001b[39;00m:\n\u001b[0;32m-> 2177\u001b[0m     result, tz_parsed \u001b[38;5;241m=\u001b[39m \u001b[43mtslib\u001b[49m\u001b[38;5;241;43m.\u001b[39;49m\u001b[43marray_to_datetime\u001b[49m\u001b[43m(\u001b[49m\n\u001b[1;32m   2178\u001b[0m \u001b[43m        \u001b[49m\u001b[43mdata\u001b[49m\u001b[38;5;241;43m.\u001b[39;49m\u001b[43mravel\u001b[49m\u001b[43m(\u001b[49m\u001b[38;5;124;43m\"\u001b[39;49m\u001b[38;5;124;43mK\u001b[39;49m\u001b[38;5;124;43m\"\u001b[39;49m\u001b[43m)\u001b[49m\u001b[43m,\u001b[49m\n\u001b[1;32m   2179\u001b[0m \u001b[43m        \u001b[49m\u001b[43merrors\u001b[49m\u001b[38;5;241;43m=\u001b[39;49m\u001b[43merrors\u001b[49m\u001b[43m,\u001b[49m\n\u001b[1;32m   2180\u001b[0m \u001b[43m        \u001b[49m\u001b[43mutc\u001b[49m\u001b[38;5;241;43m=\u001b[39;49m\u001b[43mutc\u001b[49m\u001b[43m,\u001b[49m\n\u001b[1;32m   2181\u001b[0m \u001b[43m        \u001b[49m\u001b[43mdayfirst\u001b[49m\u001b[38;5;241;43m=\u001b[39;49m\u001b[43mdayfirst\u001b[49m\u001b[43m,\u001b[49m\n\u001b[1;32m   2182\u001b[0m \u001b[43m        \u001b[49m\u001b[43myearfirst\u001b[49m\u001b[38;5;241;43m=\u001b[39;49m\u001b[43myearfirst\u001b[49m\u001b[43m,\u001b[49m\n\u001b[1;32m   2183\u001b[0m \u001b[43m        \u001b[49m\u001b[43mrequire_iso8601\u001b[49m\u001b[38;5;241;43m=\u001b[39;49m\u001b[43mrequire_iso8601\u001b[49m\u001b[43m,\u001b[49m\n\u001b[1;32m   2184\u001b[0m \u001b[43m        \u001b[49m\u001b[43mallow_mixed\u001b[49m\u001b[38;5;241;43m=\u001b[39;49m\u001b[43mallow_mixed\u001b[49m\u001b[43m,\u001b[49m\n\u001b[1;32m   2185\u001b[0m \u001b[43m    \u001b[49m\u001b[43m)\u001b[49m\n\u001b[1;32m   2186\u001b[0m     result \u001b[38;5;241m=\u001b[39m result\u001b[38;5;241m.\u001b[39mreshape(data\u001b[38;5;241m.\u001b[39mshape, order\u001b[38;5;241m=\u001b[39morder)\n\u001b[1;32m   2187\u001b[0m \u001b[38;5;28;01mexcept\u001b[39;00m \u001b[38;5;167;01mOverflowError\u001b[39;00m \u001b[38;5;28;01mas\u001b[39;00m err:\n\u001b[1;32m   2188\u001b[0m     \u001b[38;5;66;03m# Exception is raised when a part of date is greater than 32 bit signed int\u001b[39;00m\n",
            "File \u001b[0;32m/opt/conda/lib/python3.9/site-packages/pandas/_libs/tslib.pyx:427\u001b[0m, in \u001b[0;36mpandas._libs.tslib.array_to_datetime\u001b[0;34m()\u001b[0m\n",
            "File \u001b[0;32m/opt/conda/lib/python3.9/site-packages/pandas/_libs/tslib.pyx:698\u001b[0m, in \u001b[0;36mpandas._libs.tslib.array_to_datetime\u001b[0;34m()\u001b[0m\n",
            "\u001b[0;31mValueError\u001b[0m: mixed datetimes and integers in passed array"
          ]
        }
      ],
      "source": [
        "# Generating an overview summary of the event log\n",
        "event_log_summary = credit_data.describe(include='all')\n",
        "event_log_summary"
      ]
    },
    {
      "cell_type": "code",
      "execution_count": null,
      "id": "c4f625c2-bb3c-4ad1-982d-db8d4fcf145b",
      "metadata": {
        "ExecuteTime": {
          "end_time": "2023-10-10T00:18:37.617729+00:00",
          "start_time": "2023-10-10T00:18:37.357729+00:00"
        },
        "datalink": {
          "2d942b9c-bddf-4a73-a1be-4a5e9f9ef5e5": {
            "applied_filters": [],
            "dataframe_info": {
              "default_index_used": true,
              "orig_num_cols": 24,
              "orig_num_rows": 5,
              "orig_size_bytes": 1000,
              "truncated_num_cols": 24,
              "truncated_num_rows": 5,
              "truncated_size_bytes": 1000,
              "truncated_string_columns": []
            },
            "display_id": "2d942b9c-bddf-4a73-a1be-4a5e9f9ef5e5",
            "dx_settings": {
              "ALLOW_NOTEABLE_ATTRS": true,
              "COLUMN_SAMPLING_METHOD": "outer",
              "DB_LOCATION": ":memory:",
              "DEV_MODE": false,
              "DISPLAY_MAX_COLUMNS": 100,
              "DISPLAY_MAX_ROWS": 50000,
              "DISPLAY_MODE": "simple",
              "ENABLE_ASSIGNMENT": true,
              "ENABLE_DATALINK": true,
              "FLATTEN_COLUMN_VALUES": true,
              "FLATTEN_INDEX_VALUES": false,
              "GENERATE_DEX_METADATA": false,
              "HTML_TABLE_SCHEMA": false,
              "LOG_LEVEL": 30,
              "MAX_RENDER_SIZE_BYTES": 104857600,
              "MAX_STRING_LENGTH": 250,
              "NUM_PAST_SAMPLES_TRACKED": 3,
              "RANDOM_STATE": 12648430,
              "RESET_INDEX_VALUES": false,
              "ROW_SAMPLING_METHOD": "random",
              "SAMPLING_FACTOR": 0.1,
              "SAMPLING_METHOD": "random",
              "STRINGIFY_COLUMN_VALUES": true,
              "STRINGIFY_INDEX_VALUES": false
            },
            "sample_history": [],
            "sampling_time": "2023-10-10T00:18:37.450614",
            "user_variable_name": null,
            "variable_name": "unk_dataframe_9fdd9d1be5174eccb6302446c01173cd"
          }
        },
        "noteable": {
          "cell_type": "code"
        }
      },
      "outputs": [
        {
          "data": {
            "application/vnd.dataresource+json": {
              "data": [
                {
                  "Accepted": 0,
                  "Action": "Created",
                  "Activity": "A_Create Application",
                  "Case_ID": "Application_652823628",
                  "Complete_Timestamp": "2016-01-01T10:51:15.304000Z",
                  "CreditScore": 0,
                  "EventID": "Application_652823628",
                  "EventOrigin": "Application",
                  "FirstWithdrawalAmount": "Unknown",
                  "MonthlyCost": 0,
                  "NumberOfTerms": 0,
                  "OfferID": "Unknown",
                  "OfferedAmount": "Unknown",
                  "Resource": "User_1",
                  "Selected": 0,
                  "Start_Timestamp": "2016-01-01T10:51:15.304000Z",
                  "Variant": "Variant 2",
                  "Variant_index": 2,
                  "case_ApplicationType": "New credit",
                  "case_RequestedAmount": "2,00E+04",
                  "case_creditGoal": "Existing credit takeover",
                  "endtimestamp": "2016-01-01T09:51:15Z",
                  "index": 0,
                  "lifecycle:transition": "complete",
                  "starttimestamp": "2016-01-01T09:51:15Z"
                },
                {
                  "Accepted": 0,
                  "Action": "statechange",
                  "Activity": "A_Submitted",
                  "Case_ID": "Application_652823628",
                  "Complete_Timestamp": "2016-01-01T10:51:15.352000Z",
                  "CreditScore": 0,
                  "EventID": "ApplState_1582051990",
                  "EventOrigin": "Application",
                  "FirstWithdrawalAmount": "Unknown",
                  "MonthlyCost": 0,
                  "NumberOfTerms": 0,
                  "OfferID": "Unknown",
                  "OfferedAmount": "Unknown",
                  "Resource": "User_1",
                  "Selected": 0,
                  "Start_Timestamp": "2016-01-01T10:51:15.352000Z",
                  "Variant": "Variant 2",
                  "Variant_index": 2,
                  "case_ApplicationType": "New credit",
                  "case_RequestedAmount": "2,00E+04",
                  "case_creditGoal": "Existing credit takeover",
                  "endtimestamp": "2016-01-01T09:51:15Z",
                  "index": 1,
                  "lifecycle:transition": "complete",
                  "starttimestamp": "2016-01-01T09:51:15Z"
                },
                {
                  "Accepted": 0,
                  "Action": "statechange",
                  "Activity": "A_Concept",
                  "Case_ID": "Application_652823628",
                  "Complete_Timestamp": "2016-01-01T10:52:36.413000Z",
                  "CreditScore": 0,
                  "EventID": "ApplState_642383566",
                  "EventOrigin": "Application",
                  "FirstWithdrawalAmount": "Unknown",
                  "MonthlyCost": 0,
                  "NumberOfTerms": 0,
                  "OfferID": "Unknown",
                  "OfferedAmount": "Unknown",
                  "Resource": "User_1",
                  "Selected": 0,
                  "Start_Timestamp": "2016-01-01T10:52:36.413000Z",
                  "Variant": "Variant 2",
                  "Variant_index": 2,
                  "case_ApplicationType": "New credit",
                  "case_RequestedAmount": "2,00E+04",
                  "case_creditGoal": "Existing credit takeover",
                  "endtimestamp": "2016-01-01T09:52:36Z",
                  "index": 2,
                  "lifecycle:transition": "complete",
                  "starttimestamp": "2016-01-01T09:52:36Z"
                },
                {
                  "Accepted": 0,
                  "Action": "Obtained",
                  "Activity": "W_Complete application",
                  "Case_ID": "Application_652823628",
                  "Complete_Timestamp": "2016-01-02T11:45:22.429000Z",
                  "CreditScore": 0,
                  "EventID": "Workitem_1875340971",
                  "EventOrigin": "Workflow",
                  "FirstWithdrawalAmount": "Unknown",
                  "MonthlyCost": 0,
                  "NumberOfTerms": 0,
                  "OfferID": "Unknown",
                  "OfferedAmount": "Unknown",
                  "Resource": "User_17",
                  "Selected": 0,
                  "Start_Timestamp": "2016-01-02T11:45:22.429000Z",
                  "Variant": "Variant 2",
                  "Variant_index": 2,
                  "case_ApplicationType": "New credit",
                  "case_RequestedAmount": "2,00E+04",
                  "case_creditGoal": "Existing credit takeover",
                  "endtimestamp": "2016-01-02T10:45:22Z",
                  "index": 3,
                  "lifecycle:transition": "start",
                  "starttimestamp": "2016-01-02T10:45:22Z"
                },
                {
                  "Accepted": 0,
                  "Action": "statechange",
                  "Activity": "A_Accepted",
                  "Case_ID": "Application_652823628",
                  "Complete_Timestamp": "2016-01-02T12:23:04.299000Z",
                  "CreditScore": 0,
                  "EventID": "ApplState_99568828",
                  "EventOrigin": "Application",
                  "FirstWithdrawalAmount": "Unknown",
                  "MonthlyCost": 0,
                  "NumberOfTerms": 0,
                  "OfferID": "Unknown",
                  "OfferedAmount": "Unknown",
                  "Resource": "User_52",
                  "Selected": 0,
                  "Start_Timestamp": "2016-01-02T12:23:04.299000Z",
                  "Variant": "Variant 2",
                  "Variant_index": 2,
                  "case_ApplicationType": "New credit",
                  "case_RequestedAmount": "2,00E+04",
                  "case_creditGoal": "Existing credit takeover",
                  "endtimestamp": "2016-01-02T11:23:04Z",
                  "index": 4,
                  "lifecycle:transition": "complete",
                  "starttimestamp": "2016-01-02T11:23:04Z"
                }
              ],
              "datalink": {
                "display_id": "2d942b9c-bddf-4a73-a1be-4a5e9f9ef5e5"
              },
              "schema": {
                "fields": [
                  {
                    "name": "index",
                    "type": "integer"
                  },
                  {
                    "name": "Case_ID",
                    "type": "string"
                  },
                  {
                    "name": "Activity",
                    "type": "string"
                  },
                  {
                    "name": "Resource",
                    "type": "string"
                  },
                  {
                    "name": "Start_Timestamp",
                    "type": "datetime"
                  },
                  {
                    "name": "Complete_Timestamp",
                    "type": "datetime"
                  },
                  {
                    "name": "Variant",
                    "type": "string"
                  },
                  {
                    "name": "Variant_index",
                    "type": "integer"
                  },
                  {
                    "name": "case_ApplicationType",
                    "type": "string"
                  },
                  {
                    "name": "case_creditGoal",
                    "type": "string"
                  },
                  {
                    "name": "case_RequestedAmount",
                    "type": "string"
                  },
                  {
                    "name": "Accepted",
                    "type": "number"
                  },
                  {
                    "name": "Action",
                    "type": "string"
                  },
                  {
                    "name": "CreditScore",
                    "type": "number"
                  },
                  {
                    "name": "EventID",
                    "type": "string"
                  },
                  {
                    "name": "EventOrigin",
                    "type": "string"
                  },
                  {
                    "name": "FirstWithdrawalAmount",
                    "type": "string"
                  },
                  {
                    "name": "MonthlyCost",
                    "type": "number"
                  },
                  {
                    "name": "NumberOfTerms",
                    "type": "number"
                  },
                  {
                    "name": "OfferID",
                    "type": "string"
                  },
                  {
                    "name": "OfferedAmount",
                    "type": "string"
                  },
                  {
                    "name": "Selected",
                    "type": "number"
                  },
                  {
                    "name": "lifecycle:transition",
                    "type": "string"
                  },
                  {
                    "name": "starttimestamp",
                    "type": "string"
                  },
                  {
                    "name": "endtimestamp",
                    "type": "string"
                  }
                ],
                "pandas_version": "1.4.0",
                "primaryKey": [
                  "index"
                ]
              }
            }
          },
          "metadata": {
            "application/vnd.dataresource+json": {
              "datalink": {
                "applied_filters": [],
                "dataframe_info": {
                  "default_index_used": true,
                  "orig_num_cols": 24,
                  "orig_num_rows": 5,
                  "orig_size_bytes": 1000,
                  "truncated_num_cols": 24,
                  "truncated_num_rows": 5,
                  "truncated_size_bytes": 1000,
                  "truncated_string_columns": []
                },
                "display_id": "2d942b9c-bddf-4a73-a1be-4a5e9f9ef5e5",
                "dx_settings": {
                  "ALLOW_NOTEABLE_ATTRS": true,
                  "COLUMN_SAMPLING_METHOD": "outer",
                  "DB_LOCATION": ":memory:",
                  "DEV_MODE": false,
                  "DISPLAY_MAX_COLUMNS": 100,
                  "DISPLAY_MAX_ROWS": 50000,
                  "DISPLAY_MODE": "simple",
                  "ENABLE_ASSIGNMENT": true,
                  "ENABLE_DATALINK": true,
                  "FLATTEN_COLUMN_VALUES": true,
                  "FLATTEN_INDEX_VALUES": false,
                  "GENERATE_DEX_METADATA": false,
                  "HTML_TABLE_SCHEMA": false,
                  "LOG_LEVEL": 30,
                  "MAX_RENDER_SIZE_BYTES": 104857600,
                  "MAX_STRING_LENGTH": 250,
                  "NUM_PAST_SAMPLES_TRACKED": 3,
                  "RANDOM_STATE": 12648430,
                  "RESET_INDEX_VALUES": false,
                  "ROW_SAMPLING_METHOD": "random",
                  "SAMPLING_FACTOR": 0.1,
                  "SAMPLING_METHOD": "random",
                  "STRINGIFY_COLUMN_VALUES": true,
                  "STRINGIFY_INDEX_VALUES": false
                },
                "sample_history": [],
                "sampling_time": "2023-10-10T00:18:37.450614",
                "user_variable_name": null,
                "variable_name": "unk_dataframe_9fdd9d1be5174eccb6302446c01173cd"
              },
              "display_id": "2d942b9c-bddf-4a73-a1be-4a5e9f9ef5e5"
            }
          },
          "output_type": "display_data"
        }
      ],
      "source": [
        "# Identifying rows with mixed data types in the dataset\n",
        "mixed_data_types_rows = credit_data.applymap(lambda x: type(x)).nunique(axis=1)\n",
        "mixed_data_types_rows = mixed_data_types_rows[mixed_data_types_rows > 1]\n",
        "\n",
        "# Displaying a few rows with mixed data types\n",
        "credit_data.loc[mixed_data_types_rows.index].head()"
      ]
    },
    {
      "cell_type": "code",
      "execution_count": null,
      "id": "7698fcd6-396c-4a2d-99c3-039d77fd5486",
      "metadata": {
        "ExecuteTime": {
          "end_time": "2023-10-10T00:19:25.177865+00:00",
          "start_time": "2023-10-10T00:19:24.830034+00:00"
        },
        "noteable": {
          "cell_type": "code"
        }
      },
      "outputs": [
        {
          "ename": "ValueError",
          "evalue": "mixed datetimes and integers in passed array",
          "output_type": "error",
          "traceback": [
            "\u001b[0;31m---------------------------------------------------------------------------\u001b[0m",
            "\u001b[0;31mValueError\u001b[0m                                Traceback (most recent call last)",
            "File \u001b[0;32m/opt/conda/lib/python3.9/site-packages/dx/formatters/main.py:101\u001b[0m, in \u001b[0;36mhandle_format\u001b[0;34m(obj, with_ipython_display, ipython_shell, extra_metadata)\u001b[0m\n\u001b[1;32m    100\u001b[0m \u001b[38;5;28;01mtry\u001b[39;00m:\n\u001b[0;32m--> 101\u001b[0m     payload, metadata \u001b[38;5;241m=\u001b[39m \u001b[43mdatalink_processing\u001b[49m\u001b[43m(\u001b[49m\n\u001b[1;32m    102\u001b[0m \u001b[43m        \u001b[49m\u001b[43mdf\u001b[49m\u001b[43m,\u001b[49m\n\u001b[1;32m    103\u001b[0m \u001b[43m        \u001b[49m\u001b[43mdefault_index_used\u001b[49m\u001b[43m,\u001b[49m\n\u001b[1;32m    104\u001b[0m \u001b[43m        \u001b[49m\u001b[43mipython_shell\u001b[49m\u001b[38;5;241;43m=\u001b[39;49m\u001b[43mipython\u001b[49m\u001b[43m,\u001b[49m\n\u001b[1;32m    105\u001b[0m \u001b[43m        \u001b[49m\u001b[43mwith_ipython_display\u001b[49m\u001b[38;5;241;43m=\u001b[39;49m\u001b[43mwith_ipython_display\u001b[49m\u001b[43m,\u001b[49m\n\u001b[1;32m    106\u001b[0m \u001b[43m        \u001b[49m\u001b[43mextra_metadata\u001b[49m\u001b[38;5;241;43m=\u001b[39;49m\u001b[43mextra_metadata\u001b[49m\u001b[43m,\u001b[49m\n\u001b[1;32m    107\u001b[0m \u001b[43m    \u001b[49m\u001b[43m)\u001b[49m\n\u001b[1;32m    108\u001b[0m \u001b[38;5;28;01mexcept\u001b[39;00m \u001b[38;5;167;01mException\u001b[39;00m \u001b[38;5;28;01mas\u001b[39;00m e:\n",
            "File \u001b[0;32m/opt/conda/lib/python3.9/site-packages/dx/formatters/main.py:50\u001b[0m, in \u001b[0;36mdatalink_processing\u001b[0;34m(df, default_index_used, ipython_shell, with_ipython_display, extra_metadata)\u001b[0m\n\u001b[1;32m     43\u001b[0m \u001b[38;5;28;01mdef\u001b[39;00m \u001b[38;5;21mdatalink_processing\u001b[39m(\n\u001b[1;32m     44\u001b[0m     df: pd\u001b[38;5;241m.\u001b[39mDataFrame,\n\u001b[1;32m     45\u001b[0m     default_index_used: \u001b[38;5;28mbool\u001b[39m,\n\u001b[0;32m   (...)\u001b[0m\n\u001b[1;32m     48\u001b[0m     extra_metadata: Optional[\u001b[38;5;28mdict\u001b[39m] \u001b[38;5;241m=\u001b[39m \u001b[38;5;28;01mNone\u001b[39;00m,\n\u001b[1;32m     49\u001b[0m ):\n\u001b[0;32m---> 50\u001b[0m     dxdf \u001b[38;5;241m=\u001b[39m \u001b[43mDXDataFrame\u001b[49m\u001b[43m(\u001b[49m\u001b[43mdf\u001b[49m\u001b[43m)\u001b[49m\n\u001b[1;32m     51\u001b[0m     parent_display_id \u001b[38;5;241m=\u001b[39m determine_parent_display_id(dxdf)\n",
            "File \u001b[0;32m/opt/conda/lib/python3.9/site-packages/dx/utils/tracking.py:73\u001b[0m, in \u001b[0;36mDXDataFrame.__init__\u001b[0;34m(self, df, ipython_shell)\u001b[0m\n\u001b[1;32m     71\u001b[0m \u001b[38;5;28mself\u001b[39m\u001b[38;5;241m.\u001b[39mindex_name \u001b[38;5;241m=\u001b[39m get_df_index(df\u001b[38;5;241m.\u001b[39mindex)\n\u001b[0;32m---> 73\u001b[0m \u001b[38;5;28mself\u001b[39m\u001b[38;5;241m.\u001b[39mdf \u001b[38;5;241m=\u001b[39m \u001b[43mnormalize_index_and_columns\u001b[49m\u001b[43m(\u001b[49m\u001b[43mdf\u001b[49m\u001b[43m)\u001b[49m\n\u001b[1;32m     74\u001b[0m \u001b[38;5;28mself\u001b[39m\u001b[38;5;241m.\u001b[39mhash \u001b[38;5;241m=\u001b[39m generate_df_hash(\u001b[38;5;28mself\u001b[39m\u001b[38;5;241m.\u001b[39mdf)\n",
            "File \u001b[0;32m/opt/conda/lib/python3.9/site-packages/dx/utils/formatting.py:188\u001b[0m, in \u001b[0;36mnormalize_index_and_columns\u001b[0;34m(df)\u001b[0m\n\u001b[1;32m    187\u001b[0m df \u001b[38;5;241m=\u001b[39m normalize_index(df)\n\u001b[0;32m--> 188\u001b[0m df \u001b[38;5;241m=\u001b[39m \u001b[43mnormalize_columns\u001b[49m\u001b[43m(\u001b[49m\u001b[43mdf\u001b[49m\u001b[43m)\u001b[49m\n\u001b[1;32m    189\u001b[0m df \u001b[38;5;241m=\u001b[39m deconflict_index_and_column_names(df)\n",
            "File \u001b[0;32m/opt/conda/lib/python3.9/site-packages/dx/utils/formatting.py:254\u001b[0m, in \u001b[0;36mnormalize_columns\u001b[0;34m(df)\u001b[0m\n\u001b[1;32m    253\u001b[0m \u001b[38;5;28;01mfor\u001b[39;00m column \u001b[38;5;129;01min\u001b[39;00m df\u001b[38;5;241m.\u001b[39mcolumns:\n\u001b[0;32m--> 254\u001b[0m     df[column] \u001b[38;5;241m=\u001b[39m \u001b[43mclean_series_values\u001b[49m\u001b[43m(\u001b[49m\u001b[43mdf\u001b[49m\u001b[43m[\u001b[49m\u001b[43mcolumn\u001b[49m\u001b[43m]\u001b[49m\u001b[43m)\u001b[49m\n\u001b[1;32m    255\u001b[0m \u001b[38;5;28;01mreturn\u001b[39;00m df\n",
            "File \u001b[0;32m/opt/conda/lib/python3.9/site-packages/dx/utils/formatting.py:291\u001b[0m, in \u001b[0;36mclean_series_values\u001b[0;34m(s)\u001b[0m\n\u001b[1;32m    290\u001b[0m s \u001b[38;5;241m=\u001b[39m date_time\u001b[38;5;241m.\u001b[39mhandle_time_delta_series(s)\n\u001b[0;32m--> 291\u001b[0m s \u001b[38;5;241m=\u001b[39m \u001b[43mdate_time\u001b[49m\u001b[38;5;241;43m.\u001b[39;49m\u001b[43mhandle_datetime_series\u001b[49m\u001b[43m(\u001b[49m\u001b[43ms\u001b[49m\u001b[43m)\u001b[49m\n\u001b[1;32m    293\u001b[0m s \u001b[38;5;241m=\u001b[39m numeric\u001b[38;5;241m.\u001b[39mhandle_decimal_series(s)\n",
            "File \u001b[0;32m/opt/conda/lib/python3.9/site-packages/dx/datatypes/date_time.py:186\u001b[0m, in \u001b[0;36mhandle_datetime_series\u001b[0;34m(s)\u001b[0m\n\u001b[1;32m    182\u001b[0m     logger\u001b[38;5;241m.\u001b[39mdebug(\n\u001b[1;32m    183\u001b[0m         \u001b[38;5;124mf\u001b[39m\u001b[38;5;124m\"\u001b[39m\u001b[38;5;124mseries `\u001b[39m\u001b[38;5;132;01m{\u001b[39;00ms\u001b[38;5;241m.\u001b[39mname\u001b[38;5;132;01m}\u001b[39;00m\u001b[38;5;124m` has datetime values; converting with pd.to_datetime()\u001b[39m\u001b[38;5;124m\"\u001b[39m,\n\u001b[1;32m    184\u001b[0m         utc\u001b[38;5;241m=\u001b[39mhas_tzinfo\u001b[38;5;241m.\u001b[39many(),\n\u001b[1;32m    185\u001b[0m     )\n\u001b[0;32m--> 186\u001b[0m     s \u001b[38;5;241m=\u001b[39m \u001b[43mpd\u001b[49m\u001b[38;5;241;43m.\u001b[39;49m\u001b[43mto_datetime\u001b[49m\u001b[43m(\u001b[49m\u001b[43ms\u001b[49m\u001b[43m,\u001b[49m\u001b[43m \u001b[49m\u001b[43mutc\u001b[49m\u001b[38;5;241;43m=\u001b[39;49m\u001b[43mhas_tzinfo\u001b[49m\u001b[38;5;241;43m.\u001b[39;49m\u001b[43many\u001b[49m\u001b[43m(\u001b[49m\u001b[43m)\u001b[49m\u001b[43m)\u001b[49m\n\u001b[1;32m    187\u001b[0m \u001b[38;5;28;01mreturn\u001b[39;00m s\n",
            "File \u001b[0;32m/opt/conda/lib/python3.9/site-packages/pandas/core/tools/datetimes.py:1068\u001b[0m, in \u001b[0;36mto_datetime\u001b[0;34m(arg, errors, dayfirst, yearfirst, utc, format, exact, unit, infer_datetime_format, origin, cache)\u001b[0m\n\u001b[1;32m   1067\u001b[0m \u001b[38;5;28;01melse\u001b[39;00m:\n\u001b[0;32m-> 1068\u001b[0m     values \u001b[38;5;241m=\u001b[39m \u001b[43mconvert_listlike\u001b[49m\u001b[43m(\u001b[49m\u001b[43marg\u001b[49m\u001b[38;5;241;43m.\u001b[39;49m\u001b[43m_values\u001b[49m\u001b[43m,\u001b[49m\u001b[43m \u001b[49m\u001b[38;5;28;43mformat\u001b[39;49m\u001b[43m)\u001b[49m\n\u001b[1;32m   1069\u001b[0m     result \u001b[38;5;241m=\u001b[39m arg\u001b[38;5;241m.\u001b[39m_constructor(values, index\u001b[38;5;241m=\u001b[39marg\u001b[38;5;241m.\u001b[39mindex, name\u001b[38;5;241m=\u001b[39marg\u001b[38;5;241m.\u001b[39mname)\n",
            "File \u001b[0;32m/opt/conda/lib/python3.9/site-packages/pandas/core/tools/datetimes.py:438\u001b[0m, in \u001b[0;36m_convert_listlike_datetimes\u001b[0;34m(arg, format, name, tz, unit, errors, infer_datetime_format, dayfirst, yearfirst, exact)\u001b[0m\n\u001b[1;32m    437\u001b[0m utc \u001b[38;5;241m=\u001b[39m tz \u001b[38;5;241m==\u001b[39m \u001b[38;5;124m\"\u001b[39m\u001b[38;5;124mutc\u001b[39m\u001b[38;5;124m\"\u001b[39m\n\u001b[0;32m--> 438\u001b[0m result, tz_parsed \u001b[38;5;241m=\u001b[39m \u001b[43mobjects_to_datetime64ns\u001b[49m\u001b[43m(\u001b[49m\n\u001b[1;32m    439\u001b[0m \u001b[43m    \u001b[49m\u001b[43marg\u001b[49m\u001b[43m,\u001b[49m\n\u001b[1;32m    440\u001b[0m \u001b[43m    \u001b[49m\u001b[43mdayfirst\u001b[49m\u001b[38;5;241;43m=\u001b[39;49m\u001b[43mdayfirst\u001b[49m\u001b[43m,\u001b[49m\n\u001b[1;32m    441\u001b[0m \u001b[43m    \u001b[49m\u001b[43myearfirst\u001b[49m\u001b[38;5;241;43m=\u001b[39;49m\u001b[43myearfirst\u001b[49m\u001b[43m,\u001b[49m\n\u001b[1;32m    442\u001b[0m \u001b[43m    \u001b[49m\u001b[43mutc\u001b[49m\u001b[38;5;241;43m=\u001b[39;49m\u001b[43mutc\u001b[49m\u001b[43m,\u001b[49m\n\u001b[1;32m    443\u001b[0m \u001b[43m    \u001b[49m\u001b[43merrors\u001b[49m\u001b[38;5;241;43m=\u001b[39;49m\u001b[43merrors\u001b[49m\u001b[43m,\u001b[49m\n\u001b[1;32m    444\u001b[0m \u001b[43m    \u001b[49m\u001b[43mrequire_iso8601\u001b[49m\u001b[38;5;241;43m=\u001b[39;49m\u001b[43mrequire_iso8601\u001b[49m\u001b[43m,\u001b[49m\n\u001b[1;32m    445\u001b[0m \u001b[43m    \u001b[49m\u001b[43mallow_object\u001b[49m\u001b[38;5;241;43m=\u001b[39;49m\u001b[38;5;28;43;01mTrue\u001b[39;49;00m\u001b[43m,\u001b[49m\n\u001b[1;32m    446\u001b[0m \u001b[43m\u001b[49m\u001b[43m)\u001b[49m\n\u001b[1;32m    448\u001b[0m \u001b[38;5;28;01mif\u001b[39;00m tz_parsed \u001b[38;5;129;01mis\u001b[39;00m \u001b[38;5;129;01mnot\u001b[39;00m \u001b[38;5;28;01mNone\u001b[39;00m:\n\u001b[1;32m    449\u001b[0m     \u001b[38;5;66;03m# We can take a shortcut since the datetime64 numpy array\u001b[39;00m\n\u001b[1;32m    450\u001b[0m     \u001b[38;5;66;03m# is in UTC\u001b[39;00m\n",
            "File \u001b[0;32m/opt/conda/lib/python3.9/site-packages/pandas/core/arrays/datetimes.py:2177\u001b[0m, in \u001b[0;36mobjects_to_datetime64ns\u001b[0;34m(data, dayfirst, yearfirst, utc, errors, require_iso8601, allow_object, allow_mixed)\u001b[0m\n\u001b[1;32m   2176\u001b[0m \u001b[38;5;28;01mtry\u001b[39;00m:\n\u001b[0;32m-> 2177\u001b[0m     result, tz_parsed \u001b[38;5;241m=\u001b[39m \u001b[43mtslib\u001b[49m\u001b[38;5;241;43m.\u001b[39;49m\u001b[43marray_to_datetime\u001b[49m\u001b[43m(\u001b[49m\n\u001b[1;32m   2178\u001b[0m \u001b[43m        \u001b[49m\u001b[43mdata\u001b[49m\u001b[38;5;241;43m.\u001b[39;49m\u001b[43mravel\u001b[49m\u001b[43m(\u001b[49m\u001b[38;5;124;43m\"\u001b[39;49m\u001b[38;5;124;43mK\u001b[39;49m\u001b[38;5;124;43m\"\u001b[39;49m\u001b[43m)\u001b[49m\u001b[43m,\u001b[49m\n\u001b[1;32m   2179\u001b[0m \u001b[43m        \u001b[49m\u001b[43merrors\u001b[49m\u001b[38;5;241;43m=\u001b[39;49m\u001b[43merrors\u001b[49m\u001b[43m,\u001b[49m\n\u001b[1;32m   2180\u001b[0m \u001b[43m        \u001b[49m\u001b[43mutc\u001b[49m\u001b[38;5;241;43m=\u001b[39;49m\u001b[43mutc\u001b[49m\u001b[43m,\u001b[49m\n\u001b[1;32m   2181\u001b[0m \u001b[43m        \u001b[49m\u001b[43mdayfirst\u001b[49m\u001b[38;5;241;43m=\u001b[39;49m\u001b[43mdayfirst\u001b[49m\u001b[43m,\u001b[49m\n\u001b[1;32m   2182\u001b[0m \u001b[43m        \u001b[49m\u001b[43myearfirst\u001b[49m\u001b[38;5;241;43m=\u001b[39;49m\u001b[43myearfirst\u001b[49m\u001b[43m,\u001b[49m\n\u001b[1;32m   2183\u001b[0m \u001b[43m        \u001b[49m\u001b[43mrequire_iso8601\u001b[49m\u001b[38;5;241;43m=\u001b[39;49m\u001b[43mrequire_iso8601\u001b[49m\u001b[43m,\u001b[49m\n\u001b[1;32m   2184\u001b[0m \u001b[43m        \u001b[49m\u001b[43mallow_mixed\u001b[49m\u001b[38;5;241;43m=\u001b[39;49m\u001b[43mallow_mixed\u001b[49m\u001b[43m,\u001b[49m\n\u001b[1;32m   2185\u001b[0m \u001b[43m    \u001b[49m\u001b[43m)\u001b[49m\n\u001b[1;32m   2186\u001b[0m     result \u001b[38;5;241m=\u001b[39m result\u001b[38;5;241m.\u001b[39mreshape(data\u001b[38;5;241m.\u001b[39mshape, order\u001b[38;5;241m=\u001b[39morder)\n",
            "File \u001b[0;32m/opt/conda/lib/python3.9/site-packages/pandas/_libs/tslib.pyx:427\u001b[0m, in \u001b[0;36mpandas._libs.tslib.array_to_datetime\u001b[0;34m()\u001b[0m\n",
            "File \u001b[0;32m/opt/conda/lib/python3.9/site-packages/pandas/_libs/tslib.pyx:698\u001b[0m, in \u001b[0;36mpandas._libs.tslib.array_to_datetime\u001b[0;34m()\u001b[0m\n",
            "\u001b[0;31mValueError\u001b[0m: mixed datetimes and integers in passed array",
            "\nDuring handling of the above exception, another exception occurred:\n",
            "\u001b[0;31mValueError\u001b[0m                                Traceback (most recent call last)",
            "Cell \u001b[0;32mIn[16], line 3\u001b[0m\n\u001b[1;32m      1\u001b[0m \u001b[38;5;66;03m# Attempting to generate an overview summary of the event log again\u001b[39;00m\n\u001b[1;32m      2\u001b[0m event_log_summary \u001b[38;5;241m=\u001b[39m credit_data\u001b[38;5;241m.\u001b[39mdescribe(include\u001b[38;5;241m=\u001b[39m\u001b[38;5;124m'\u001b[39m\u001b[38;5;124mall\u001b[39m\u001b[38;5;124m'\u001b[39m)\n\u001b[0;32m----> 3\u001b[0m event_log_summary\n",
            "File \u001b[0;32m/opt/conda/lib/python3.9/site-packages/IPython/core/displayhook.py:268\u001b[0m, in \u001b[0;36mDisplayHook.__call__\u001b[0;34m(self, result)\u001b[0m\n\u001b[1;32m    266\u001b[0m \u001b[38;5;28mself\u001b[39m\u001b[38;5;241m.\u001b[39mstart_displayhook()\n\u001b[1;32m    267\u001b[0m \u001b[38;5;28mself\u001b[39m\u001b[38;5;241m.\u001b[39mwrite_output_prompt()\n\u001b[0;32m--> 268\u001b[0m format_dict, md_dict \u001b[38;5;241m=\u001b[39m \u001b[38;5;28;43mself\u001b[39;49m\u001b[38;5;241;43m.\u001b[39;49m\u001b[43mcompute_format_data\u001b[49m\u001b[43m(\u001b[49m\u001b[43mresult\u001b[49m\u001b[43m)\u001b[49m\n\u001b[1;32m    269\u001b[0m \u001b[38;5;28mself\u001b[39m\u001b[38;5;241m.\u001b[39mupdate_user_ns(result)\n\u001b[1;32m    270\u001b[0m \u001b[38;5;28mself\u001b[39m\u001b[38;5;241m.\u001b[39mfill_exec_result(result)\n",
            "File \u001b[0;32m/opt/conda/lib/python3.9/site-packages/IPython/core/displayhook.py:157\u001b[0m, in \u001b[0;36mDisplayHook.compute_format_data\u001b[0;34m(self, result)\u001b[0m\n\u001b[1;32m    127\u001b[0m \u001b[38;5;28;01mdef\u001b[39;00m \u001b[38;5;21mcompute_format_data\u001b[39m(\u001b[38;5;28mself\u001b[39m, result):\n\u001b[1;32m    128\u001b[0m \u001b[38;5;250m    \u001b[39m\u001b[38;5;124;03m\"\"\"Compute format data of the object to be displayed.\u001b[39;00m\n\u001b[1;32m    129\u001b[0m \n\u001b[1;32m    130\u001b[0m \u001b[38;5;124;03m    The format data is a generalization of the :func:`repr` of an object.\u001b[39;00m\n\u001b[0;32m   (...)\u001b[0m\n\u001b[1;32m    155\u001b[0m \n\u001b[1;32m    156\u001b[0m \u001b[38;5;124;03m    \"\"\"\u001b[39;00m\n\u001b[0;32m--> 157\u001b[0m     \u001b[38;5;28;01mreturn\u001b[39;00m \u001b[38;5;28;43mself\u001b[39;49m\u001b[38;5;241;43m.\u001b[39;49m\u001b[43mshell\u001b[49m\u001b[38;5;241;43m.\u001b[39;49m\u001b[43mdisplay_formatter\u001b[49m\u001b[38;5;241;43m.\u001b[39;49m\u001b[43mformat\u001b[49m\u001b[43m(\u001b[49m\u001b[43mresult\u001b[49m\u001b[43m)\u001b[49m\n",
            "File \u001b[0;32m/opt/conda/lib/python3.9/site-packages/dx/formatters/main.py:127\u001b[0m, in \u001b[0;36mDXDisplayFormatter.format\u001b[0;34m(self, obj, **kwargs)\u001b[0m\n\u001b[1;32m    125\u001b[0m \u001b[38;5;28;01mdef\u001b[39;00m \u001b[38;5;21mformat\u001b[39m(\u001b[38;5;28mself\u001b[39m, obj, \u001b[38;5;241m*\u001b[39m\u001b[38;5;241m*\u001b[39mkwargs):\n\u001b[1;32m    126\u001b[0m     \u001b[38;5;28;01mif\u001b[39;00m IN_NOTEBOOK_ENV \u001b[38;5;129;01mand\u001b[39;00m \u001b[38;5;28misinstance\u001b[39m(obj, \u001b[38;5;28mtuple\u001b[39m(settings\u001b[38;5;241m.\u001b[39mget_renderable_types())):\n\u001b[0;32m--> 127\u001b[0m         \u001b[43mhandle_format\u001b[49m\u001b[43m(\u001b[49m\u001b[43mobj\u001b[49m\u001b[43m)\u001b[49m\n\u001b[1;32m    128\u001b[0m         \u001b[38;5;28;01mreturn\u001b[39;00m ({}, {})\n\u001b[1;32m    130\u001b[0m     \u001b[38;5;28;01mreturn\u001b[39;00m DEFAULT_IPYTHON_DISPLAY_FORMATTER\u001b[38;5;241m.\u001b[39mformat(obj, \u001b[38;5;241m*\u001b[39m\u001b[38;5;241m*\u001b[39mkwargs)\n",
            "File \u001b[0;32m/opt/conda/lib/python3.9/site-packages/dx/formatters/main.py:111\u001b[0m, in \u001b[0;36mhandle_format\u001b[0;34m(obj, with_ipython_display, ipython_shell, extra_metadata)\u001b[0m\n\u001b[1;32m    109\u001b[0m     logger\u001b[38;5;241m.\u001b[39mdebug(\u001b[38;5;124mf\u001b[39m\u001b[38;5;124m\"\u001b[39m\u001b[38;5;124mError in datalink_processing: \u001b[39m\u001b[38;5;132;01m{\u001b[39;00me\u001b[38;5;132;01m}\u001b[39;00m\u001b[38;5;124m\"\u001b[39m)\n\u001b[1;32m    110\u001b[0m     \u001b[38;5;66;03m# fall back to default processing\u001b[39;00m\n\u001b[0;32m--> 111\u001b[0m     df \u001b[38;5;241m=\u001b[39m \u001b[43mnormalize_index_and_columns\u001b[49m\u001b[43m(\u001b[49m\u001b[43mdf\u001b[49m\u001b[43m)\u001b[49m\n\u001b[1;32m    112\u001b[0m     payload, metadata \u001b[38;5;241m=\u001b[39m format_output(\n\u001b[1;32m    113\u001b[0m         df,\n\u001b[1;32m    114\u001b[0m         default_index_used\u001b[38;5;241m=\u001b[39mdefault_index_used,\n\u001b[1;32m    115\u001b[0m         with_ipython_display\u001b[38;5;241m=\u001b[39mwith_ipython_display,\n\u001b[1;32m    116\u001b[0m         extra_metadata\u001b[38;5;241m=\u001b[39mextra_metadata,\n\u001b[1;32m    117\u001b[0m     )\n\u001b[1;32m    119\u001b[0m \u001b[38;5;28;01mreturn\u001b[39;00m payload, metadata\n",
            "File \u001b[0;32m/opt/conda/lib/python3.9/site-packages/dx/utils/formatting.py:188\u001b[0m, in \u001b[0;36mnormalize_index_and_columns\u001b[0;34m(df)\u001b[0m\n\u001b[1;32m    183\u001b[0m \u001b[38;5;250m\u001b[39m\u001b[38;5;124;03m\"\"\"\u001b[39;00m\n\u001b[1;32m    184\u001b[0m \u001b[38;5;124;03mAny additional formatting that needs to happen to the index,\u001b[39;00m\n\u001b[1;32m    185\u001b[0m \u001b[38;5;124;03mthe columns, or the data itself should be done here.\u001b[39;00m\n\u001b[1;32m    186\u001b[0m \u001b[38;5;124;03m\"\"\"\u001b[39;00m\n\u001b[1;32m    187\u001b[0m df \u001b[38;5;241m=\u001b[39m normalize_index(df)\n\u001b[0;32m--> 188\u001b[0m df \u001b[38;5;241m=\u001b[39m \u001b[43mnormalize_columns\u001b[49m\u001b[43m(\u001b[49m\u001b[43mdf\u001b[49m\u001b[43m)\u001b[49m\n\u001b[1;32m    189\u001b[0m df \u001b[38;5;241m=\u001b[39m deconflict_index_and_column_names(df)\n\u001b[1;32m    190\u001b[0m \u001b[38;5;28;01mreturn\u001b[39;00m df\n",
            "File \u001b[0;32m/opt/conda/lib/python3.9/site-packages/dx/utils/formatting.py:254\u001b[0m, in \u001b[0;36mnormalize_columns\u001b[0;34m(df)\u001b[0m\n\u001b[1;32m    252\u001b[0m logger\u001b[38;5;241m.\u001b[39mdebug(\u001b[38;5;124m\"\u001b[39m\u001b[38;5;124m-- cleaning columns before display --\u001b[39m\u001b[38;5;124m\"\u001b[39m)\n\u001b[1;32m    253\u001b[0m \u001b[38;5;28;01mfor\u001b[39;00m column \u001b[38;5;129;01min\u001b[39;00m df\u001b[38;5;241m.\u001b[39mcolumns:\n\u001b[0;32m--> 254\u001b[0m     df[column] \u001b[38;5;241m=\u001b[39m \u001b[43mclean_series_values\u001b[49m\u001b[43m(\u001b[49m\u001b[43mdf\u001b[49m\u001b[43m[\u001b[49m\u001b[43mcolumn\u001b[49m\u001b[43m]\u001b[49m\u001b[43m)\u001b[49m\n\u001b[1;32m    255\u001b[0m \u001b[38;5;28;01mreturn\u001b[39;00m df\n",
            "File \u001b[0;32m/opt/conda/lib/python3.9/site-packages/dx/utils/formatting.py:291\u001b[0m, in \u001b[0;36mclean_series_values\u001b[0;34m(s)\u001b[0m\n\u001b[1;32m    289\u001b[0m s \u001b[38;5;241m=\u001b[39m date_time\u001b[38;5;241m.\u001b[39mhandle_time_period_series(s)\n\u001b[1;32m    290\u001b[0m s \u001b[38;5;241m=\u001b[39m date_time\u001b[38;5;241m.\u001b[39mhandle_time_delta_series(s)\n\u001b[0;32m--> 291\u001b[0m s \u001b[38;5;241m=\u001b[39m \u001b[43mdate_time\u001b[49m\u001b[38;5;241;43m.\u001b[39;49m\u001b[43mhandle_datetime_series\u001b[49m\u001b[43m(\u001b[49m\u001b[43ms\u001b[49m\u001b[43m)\u001b[49m\n\u001b[1;32m    293\u001b[0m s \u001b[38;5;241m=\u001b[39m numeric\u001b[38;5;241m.\u001b[39mhandle_decimal_series(s)\n\u001b[1;32m    294\u001b[0m s \u001b[38;5;241m=\u001b[39m numeric\u001b[38;5;241m.\u001b[39mhandle_complex_number_series(s)\n",
            "File \u001b[0;32m/opt/conda/lib/python3.9/site-packages/dx/datatypes/date_time.py:186\u001b[0m, in \u001b[0;36mhandle_datetime_series\u001b[0;34m(s)\u001b[0m\n\u001b[1;32m    181\u001b[0m \u001b[38;5;28;01mif\u001b[39;00m \u001b[38;5;28many\u001b[39m(\u001b[38;5;28misinstance\u001b[39m(v, types) \u001b[38;5;28;01mfor\u001b[39;00m v \u001b[38;5;129;01min\u001b[39;00m sample_rows\u001b[38;5;241m.\u001b[39mvalues):\n\u001b[1;32m    182\u001b[0m     logger\u001b[38;5;241m.\u001b[39mdebug(\n\u001b[1;32m    183\u001b[0m         \u001b[38;5;124mf\u001b[39m\u001b[38;5;124m\"\u001b[39m\u001b[38;5;124mseries `\u001b[39m\u001b[38;5;132;01m{\u001b[39;00ms\u001b[38;5;241m.\u001b[39mname\u001b[38;5;132;01m}\u001b[39;00m\u001b[38;5;124m` has datetime values; converting with pd.to_datetime()\u001b[39m\u001b[38;5;124m\"\u001b[39m,\n\u001b[1;32m    184\u001b[0m         utc\u001b[38;5;241m=\u001b[39mhas_tzinfo\u001b[38;5;241m.\u001b[39many(),\n\u001b[1;32m    185\u001b[0m     )\n\u001b[0;32m--> 186\u001b[0m     s \u001b[38;5;241m=\u001b[39m \u001b[43mpd\u001b[49m\u001b[38;5;241;43m.\u001b[39;49m\u001b[43mto_datetime\u001b[49m\u001b[43m(\u001b[49m\u001b[43ms\u001b[49m\u001b[43m,\u001b[49m\u001b[43m \u001b[49m\u001b[43mutc\u001b[49m\u001b[38;5;241;43m=\u001b[39;49m\u001b[43mhas_tzinfo\u001b[49m\u001b[38;5;241;43m.\u001b[39;49m\u001b[43many\u001b[49m\u001b[43m(\u001b[49m\u001b[43m)\u001b[49m\u001b[43m)\u001b[49m\n\u001b[1;32m    187\u001b[0m \u001b[38;5;28;01mreturn\u001b[39;00m s\n",
            "File \u001b[0;32m/opt/conda/lib/python3.9/site-packages/pandas/core/tools/datetimes.py:1068\u001b[0m, in \u001b[0;36mto_datetime\u001b[0;34m(arg, errors, dayfirst, yearfirst, utc, format, exact, unit, infer_datetime_format, origin, cache)\u001b[0m\n\u001b[1;32m   1066\u001b[0m         result \u001b[38;5;241m=\u001b[39m arg\u001b[38;5;241m.\u001b[39mmap(cache_array)\n\u001b[1;32m   1067\u001b[0m     \u001b[38;5;28;01melse\u001b[39;00m:\n\u001b[0;32m-> 1068\u001b[0m         values \u001b[38;5;241m=\u001b[39m \u001b[43mconvert_listlike\u001b[49m\u001b[43m(\u001b[49m\u001b[43marg\u001b[49m\u001b[38;5;241;43m.\u001b[39;49m\u001b[43m_values\u001b[49m\u001b[43m,\u001b[49m\u001b[43m \u001b[49m\u001b[38;5;28;43mformat\u001b[39;49m\u001b[43m)\u001b[49m\n\u001b[1;32m   1069\u001b[0m         result \u001b[38;5;241m=\u001b[39m arg\u001b[38;5;241m.\u001b[39m_constructor(values, index\u001b[38;5;241m=\u001b[39marg\u001b[38;5;241m.\u001b[39mindex, name\u001b[38;5;241m=\u001b[39marg\u001b[38;5;241m.\u001b[39mname)\n\u001b[1;32m   1070\u001b[0m \u001b[38;5;28;01melif\u001b[39;00m \u001b[38;5;28misinstance\u001b[39m(arg, (ABCDataFrame, abc\u001b[38;5;241m.\u001b[39mMutableMapping)):\n",
            "File \u001b[0;32m/opt/conda/lib/python3.9/site-packages/pandas/core/tools/datetimes.py:438\u001b[0m, in \u001b[0;36m_convert_listlike_datetimes\u001b[0;34m(arg, format, name, tz, unit, errors, infer_datetime_format, dayfirst, yearfirst, exact)\u001b[0m\n\u001b[1;32m    436\u001b[0m \u001b[38;5;28;01massert\u001b[39;00m \u001b[38;5;28mformat\u001b[39m \u001b[38;5;129;01mis\u001b[39;00m \u001b[38;5;28;01mNone\u001b[39;00m \u001b[38;5;129;01mor\u001b[39;00m infer_datetime_format\n\u001b[1;32m    437\u001b[0m utc \u001b[38;5;241m=\u001b[39m tz \u001b[38;5;241m==\u001b[39m \u001b[38;5;124m\"\u001b[39m\u001b[38;5;124mutc\u001b[39m\u001b[38;5;124m\"\u001b[39m\n\u001b[0;32m--> 438\u001b[0m result, tz_parsed \u001b[38;5;241m=\u001b[39m \u001b[43mobjects_to_datetime64ns\u001b[49m\u001b[43m(\u001b[49m\n\u001b[1;32m    439\u001b[0m \u001b[43m    \u001b[49m\u001b[43marg\u001b[49m\u001b[43m,\u001b[49m\n\u001b[1;32m    440\u001b[0m \u001b[43m    \u001b[49m\u001b[43mdayfirst\u001b[49m\u001b[38;5;241;43m=\u001b[39;49m\u001b[43mdayfirst\u001b[49m\u001b[43m,\u001b[49m\n\u001b[1;32m    441\u001b[0m \u001b[43m    \u001b[49m\u001b[43myearfirst\u001b[49m\u001b[38;5;241;43m=\u001b[39;49m\u001b[43myearfirst\u001b[49m\u001b[43m,\u001b[49m\n\u001b[1;32m    442\u001b[0m \u001b[43m    \u001b[49m\u001b[43mutc\u001b[49m\u001b[38;5;241;43m=\u001b[39;49m\u001b[43mutc\u001b[49m\u001b[43m,\u001b[49m\n\u001b[1;32m    443\u001b[0m \u001b[43m    \u001b[49m\u001b[43merrors\u001b[49m\u001b[38;5;241;43m=\u001b[39;49m\u001b[43merrors\u001b[49m\u001b[43m,\u001b[49m\n\u001b[1;32m    444\u001b[0m \u001b[43m    \u001b[49m\u001b[43mrequire_iso8601\u001b[49m\u001b[38;5;241;43m=\u001b[39;49m\u001b[43mrequire_iso8601\u001b[49m\u001b[43m,\u001b[49m\n\u001b[1;32m    445\u001b[0m \u001b[43m    \u001b[49m\u001b[43mallow_object\u001b[49m\u001b[38;5;241;43m=\u001b[39;49m\u001b[38;5;28;43;01mTrue\u001b[39;49;00m\u001b[43m,\u001b[49m\n\u001b[1;32m    446\u001b[0m \u001b[43m\u001b[49m\u001b[43m)\u001b[49m\n\u001b[1;32m    448\u001b[0m \u001b[38;5;28;01mif\u001b[39;00m tz_parsed \u001b[38;5;129;01mis\u001b[39;00m \u001b[38;5;129;01mnot\u001b[39;00m \u001b[38;5;28;01mNone\u001b[39;00m:\n\u001b[1;32m    449\u001b[0m     \u001b[38;5;66;03m# We can take a shortcut since the datetime64 numpy array\u001b[39;00m\n\u001b[1;32m    450\u001b[0m     \u001b[38;5;66;03m# is in UTC\u001b[39;00m\n\u001b[1;32m    451\u001b[0m     dta \u001b[38;5;241m=\u001b[39m DatetimeArray(result, dtype\u001b[38;5;241m=\u001b[39mtz_to_dtype(tz_parsed))\n",
            "File \u001b[0;32m/opt/conda/lib/python3.9/site-packages/pandas/core/arrays/datetimes.py:2177\u001b[0m, in \u001b[0;36mobjects_to_datetime64ns\u001b[0;34m(data, dayfirst, yearfirst, utc, errors, require_iso8601, allow_object, allow_mixed)\u001b[0m\n\u001b[1;32m   2175\u001b[0m order: Literal[\u001b[38;5;124m\"\u001b[39m\u001b[38;5;124mF\u001b[39m\u001b[38;5;124m\"\u001b[39m, \u001b[38;5;124m\"\u001b[39m\u001b[38;5;124mC\u001b[39m\u001b[38;5;124m\"\u001b[39m] \u001b[38;5;241m=\u001b[39m \u001b[38;5;124m\"\u001b[39m\u001b[38;5;124mF\u001b[39m\u001b[38;5;124m\"\u001b[39m \u001b[38;5;28;01mif\u001b[39;00m flags\u001b[38;5;241m.\u001b[39mf_contiguous \u001b[38;5;28;01melse\u001b[39;00m \u001b[38;5;124m\"\u001b[39m\u001b[38;5;124mC\u001b[39m\u001b[38;5;124m\"\u001b[39m\n\u001b[1;32m   2176\u001b[0m \u001b[38;5;28;01mtry\u001b[39;00m:\n\u001b[0;32m-> 2177\u001b[0m     result, tz_parsed \u001b[38;5;241m=\u001b[39m \u001b[43mtslib\u001b[49m\u001b[38;5;241;43m.\u001b[39;49m\u001b[43marray_to_datetime\u001b[49m\u001b[43m(\u001b[49m\n\u001b[1;32m   2178\u001b[0m \u001b[43m        \u001b[49m\u001b[43mdata\u001b[49m\u001b[38;5;241;43m.\u001b[39;49m\u001b[43mravel\u001b[49m\u001b[43m(\u001b[49m\u001b[38;5;124;43m\"\u001b[39;49m\u001b[38;5;124;43mK\u001b[39;49m\u001b[38;5;124;43m\"\u001b[39;49m\u001b[43m)\u001b[49m\u001b[43m,\u001b[49m\n\u001b[1;32m   2179\u001b[0m \u001b[43m        \u001b[49m\u001b[43merrors\u001b[49m\u001b[38;5;241;43m=\u001b[39;49m\u001b[43merrors\u001b[49m\u001b[43m,\u001b[49m\n\u001b[1;32m   2180\u001b[0m \u001b[43m        \u001b[49m\u001b[43mutc\u001b[49m\u001b[38;5;241;43m=\u001b[39;49m\u001b[43mutc\u001b[49m\u001b[43m,\u001b[49m\n\u001b[1;32m   2181\u001b[0m \u001b[43m        \u001b[49m\u001b[43mdayfirst\u001b[49m\u001b[38;5;241;43m=\u001b[39;49m\u001b[43mdayfirst\u001b[49m\u001b[43m,\u001b[49m\n\u001b[1;32m   2182\u001b[0m \u001b[43m        \u001b[49m\u001b[43myearfirst\u001b[49m\u001b[38;5;241;43m=\u001b[39;49m\u001b[43myearfirst\u001b[49m\u001b[43m,\u001b[49m\n\u001b[1;32m   2183\u001b[0m \u001b[43m        \u001b[49m\u001b[43mrequire_iso8601\u001b[49m\u001b[38;5;241;43m=\u001b[39;49m\u001b[43mrequire_iso8601\u001b[49m\u001b[43m,\u001b[49m\n\u001b[1;32m   2184\u001b[0m \u001b[43m        \u001b[49m\u001b[43mallow_mixed\u001b[49m\u001b[38;5;241;43m=\u001b[39;49m\u001b[43mallow_mixed\u001b[49m\u001b[43m,\u001b[49m\n\u001b[1;32m   2185\u001b[0m \u001b[43m    \u001b[49m\u001b[43m)\u001b[49m\n\u001b[1;32m   2186\u001b[0m     result \u001b[38;5;241m=\u001b[39m result\u001b[38;5;241m.\u001b[39mreshape(data\u001b[38;5;241m.\u001b[39mshape, order\u001b[38;5;241m=\u001b[39morder)\n\u001b[1;32m   2187\u001b[0m \u001b[38;5;28;01mexcept\u001b[39;00m \u001b[38;5;167;01mOverflowError\u001b[39;00m \u001b[38;5;28;01mas\u001b[39;00m err:\n\u001b[1;32m   2188\u001b[0m     \u001b[38;5;66;03m# Exception is raised when a part of date is greater than 32 bit signed int\u001b[39;00m\n",
            "File \u001b[0;32m/opt/conda/lib/python3.9/site-packages/pandas/_libs/tslib.pyx:427\u001b[0m, in \u001b[0;36mpandas._libs.tslib.array_to_datetime\u001b[0;34m()\u001b[0m\n",
            "File \u001b[0;32m/opt/conda/lib/python3.9/site-packages/pandas/_libs/tslib.pyx:698\u001b[0m, in \u001b[0;36mpandas._libs.tslib.array_to_datetime\u001b[0;34m()\u001b[0m\n",
            "\u001b[0;31mValueError\u001b[0m: mixed datetimes and integers in passed array"
          ]
        }
      ],
      "source": [
        "# Attempting to generate an overview summary of the event log again\n",
        "event_log_summary = credit_data.describe(include='all')\n",
        "event_log_summary"
      ]
    },
    {
      "cell_type": "code",
      "execution_count": null,
      "id": "3fae2879-1bc9-4245-b7a7-e081e5f001b7",
      "metadata": {
        "ExecuteTime": {
          "end_time": "2023-10-10T00:20:06.233947+00:00",
          "start_time": "2023-10-10T00:20:06.021313+00:00"
        },
        "datalink": {
          "4ef2a092-5a71-4f1f-a601-5f815573e0fd": {
            "applied_filters": [],
            "dataframe_info": {
              "default_index_used": false,
              "orig_num_cols": 1,
              "orig_num_rows": 2,
              "orig_size_bytes": 32,
              "truncated_num_cols": 1,
              "truncated_num_rows": 2,
              "truncated_size_bytes": 32,
              "truncated_string_columns": []
            },
            "display_id": "4ef2a092-5a71-4f1f-a601-5f815573e0fd",
            "dx_settings": {
              "ALLOW_NOTEABLE_ATTRS": true,
              "COLUMN_SAMPLING_METHOD": "outer",
              "DB_LOCATION": ":memory:",
              "DEV_MODE": false,
              "DISPLAY_MAX_COLUMNS": 100,
              "DISPLAY_MAX_ROWS": 50000,
              "DISPLAY_MODE": "simple",
              "ENABLE_ASSIGNMENT": true,
              "ENABLE_DATALINK": true,
              "FLATTEN_COLUMN_VALUES": true,
              "FLATTEN_INDEX_VALUES": false,
              "GENERATE_DEX_METADATA": false,
              "HTML_TABLE_SCHEMA": false,
              "LOG_LEVEL": 30,
              "MAX_RENDER_SIZE_BYTES": 104857600,
              "MAX_STRING_LENGTH": 250,
              "NUM_PAST_SAMPLES_TRACKED": 3,
              "RANDOM_STATE": 12648430,
              "RESET_INDEX_VALUES": false,
              "ROW_SAMPLING_METHOD": "random",
              "SAMPLING_FACTOR": 0.1,
              "SAMPLING_METHOD": "random",
              "STRINGIFY_COLUMN_VALUES": true,
              "STRINGIFY_INDEX_VALUES": false
            },
            "sample_history": [],
            "sampling_time": "2023-10-10T00:20:06.076280",
            "user_variable_name": "mixed_data_types_columns",
            "variable_name": "mixed_data_types_columns"
          }
        },
        "noteable": {
          "cell_type": "code"
        }
      },
      "outputs": [
        {
          "data": {
            "application/vnd.dataresource+json": {
              "data": [
                {
                  "0": 2,
                  "index": "FirstWithdrawalAmount"
                },
                {
                  "0": 2,
                  "index": "OfferedAmount"
                }
              ],
              "datalink": {
                "display_id": "4ef2a092-5a71-4f1f-a601-5f815573e0fd"
              },
              "schema": {
                "fields": [
                  {
                    "name": "index",
                    "type": "string"
                  },
                  {
                    "name": "0",
                    "type": "integer"
                  }
                ],
                "pandas_version": "1.4.0",
                "primaryKey": [
                  "index"
                ]
              }
            }
          },
          "metadata": {
            "application/vnd.dataresource+json": {
              "datalink": {
                "applied_filters": [],
                "dataframe_info": {
                  "default_index_used": false,
                  "orig_num_cols": 1,
                  "orig_num_rows": 2,
                  "orig_size_bytes": 32,
                  "truncated_num_cols": 1,
                  "truncated_num_rows": 2,
                  "truncated_size_bytes": 32,
                  "truncated_string_columns": []
                },
                "display_id": "4ef2a092-5a71-4f1f-a601-5f815573e0fd",
                "dx_settings": {
                  "ALLOW_NOTEABLE_ATTRS": true,
                  "COLUMN_SAMPLING_METHOD": "outer",
                  "DB_LOCATION": ":memory:",
                  "DEV_MODE": false,
                  "DISPLAY_MAX_COLUMNS": 100,
                  "DISPLAY_MAX_ROWS": 50000,
                  "DISPLAY_MODE": "simple",
                  "ENABLE_ASSIGNMENT": true,
                  "ENABLE_DATALINK": true,
                  "FLATTEN_COLUMN_VALUES": true,
                  "FLATTEN_INDEX_VALUES": false,
                  "GENERATE_DEX_METADATA": false,
                  "HTML_TABLE_SCHEMA": false,
                  "LOG_LEVEL": 30,
                  "MAX_RENDER_SIZE_BYTES": 104857600,
                  "MAX_STRING_LENGTH": 250,
                  "NUM_PAST_SAMPLES_TRACKED": 3,
                  "RANDOM_STATE": 12648430,
                  "RESET_INDEX_VALUES": false,
                  "ROW_SAMPLING_METHOD": "random",
                  "SAMPLING_FACTOR": 0.1,
                  "SAMPLING_METHOD": "random",
                  "STRINGIFY_COLUMN_VALUES": true,
                  "STRINGIFY_INDEX_VALUES": false
                },
                "sample_history": [],
                "sampling_time": "2023-10-10T00:20:06.076280",
                "user_variable_name": "mixed_data_types_columns",
                "variable_name": "mixed_data_types_columns"
              },
              "display_id": "4ef2a092-5a71-4f1f-a601-5f815573e0fd"
            }
          },
          "output_type": "display_data"
        }
      ],
      "source": [
        "# Identifying columns with mixed data types\n",
        "mixed_data_types_columns = credit_data.apply(lambda x: len(x.dropna().apply(type).value_counts()))\n",
        "mixed_data_types_columns = mixed_data_types_columns[mixed_data_types_columns > 1]\n",
        "\n",
        "# Displaying columns with mixed data types\n",
        "mixed_data_types_columns"
      ]
    },
    {
      "cell_type": "code",
      "execution_count": null,
      "id": "3dd9051e-423a-45ac-a2cd-42654191baef",
      "metadata": {
        "ExecuteTime": {
          "end_time": "2023-10-10T00:22:36.073840+00:00",
          "start_time": "2023-10-10T00:22:35.707056+00:00"
        },
        "noteable": {
          "cell_type": "code"
        }
      },
      "outputs": [
        {
          "ename": "ValueError",
          "evalue": "mixed datetimes and integers in passed array",
          "output_type": "error",
          "traceback": [
            "\u001b[0;31m---------------------------------------------------------------------------\u001b[0m",
            "\u001b[0;31mValueError\u001b[0m                                Traceback (most recent call last)",
            "File \u001b[0;32m/opt/conda/lib/python3.9/site-packages/dx/formatters/main.py:101\u001b[0m, in \u001b[0;36mhandle_format\u001b[0;34m(obj, with_ipython_display, ipython_shell, extra_metadata)\u001b[0m\n\u001b[1;32m    100\u001b[0m \u001b[38;5;28;01mtry\u001b[39;00m:\n\u001b[0;32m--> 101\u001b[0m     payload, metadata \u001b[38;5;241m=\u001b[39m \u001b[43mdatalink_processing\u001b[49m\u001b[43m(\u001b[49m\n\u001b[1;32m    102\u001b[0m \u001b[43m        \u001b[49m\u001b[43mdf\u001b[49m\u001b[43m,\u001b[49m\n\u001b[1;32m    103\u001b[0m \u001b[43m        \u001b[49m\u001b[43mdefault_index_used\u001b[49m\u001b[43m,\u001b[49m\n\u001b[1;32m    104\u001b[0m \u001b[43m        \u001b[49m\u001b[43mipython_shell\u001b[49m\u001b[38;5;241;43m=\u001b[39;49m\u001b[43mipython\u001b[49m\u001b[43m,\u001b[49m\n\u001b[1;32m    105\u001b[0m \u001b[43m        \u001b[49m\u001b[43mwith_ipython_display\u001b[49m\u001b[38;5;241;43m=\u001b[39;49m\u001b[43mwith_ipython_display\u001b[49m\u001b[43m,\u001b[49m\n\u001b[1;32m    106\u001b[0m \u001b[43m        \u001b[49m\u001b[43mextra_metadata\u001b[49m\u001b[38;5;241;43m=\u001b[39;49m\u001b[43mextra_metadata\u001b[49m\u001b[43m,\u001b[49m\n\u001b[1;32m    107\u001b[0m \u001b[43m    \u001b[49m\u001b[43m)\u001b[49m\n\u001b[1;32m    108\u001b[0m \u001b[38;5;28;01mexcept\u001b[39;00m \u001b[38;5;167;01mException\u001b[39;00m \u001b[38;5;28;01mas\u001b[39;00m e:\n",
            "File \u001b[0;32m/opt/conda/lib/python3.9/site-packages/dx/formatters/main.py:50\u001b[0m, in \u001b[0;36mdatalink_processing\u001b[0;34m(df, default_index_used, ipython_shell, with_ipython_display, extra_metadata)\u001b[0m\n\u001b[1;32m     43\u001b[0m \u001b[38;5;28;01mdef\u001b[39;00m \u001b[38;5;21mdatalink_processing\u001b[39m(\n\u001b[1;32m     44\u001b[0m     df: pd\u001b[38;5;241m.\u001b[39mDataFrame,\n\u001b[1;32m     45\u001b[0m     default_index_used: \u001b[38;5;28mbool\u001b[39m,\n\u001b[0;32m   (...)\u001b[0m\n\u001b[1;32m     48\u001b[0m     extra_metadata: Optional[\u001b[38;5;28mdict\u001b[39m] \u001b[38;5;241m=\u001b[39m \u001b[38;5;28;01mNone\u001b[39;00m,\n\u001b[1;32m     49\u001b[0m ):\n\u001b[0;32m---> 50\u001b[0m     dxdf \u001b[38;5;241m=\u001b[39m \u001b[43mDXDataFrame\u001b[49m\u001b[43m(\u001b[49m\u001b[43mdf\u001b[49m\u001b[43m)\u001b[49m\n\u001b[1;32m     51\u001b[0m     parent_display_id \u001b[38;5;241m=\u001b[39m determine_parent_display_id(dxdf)\n",
            "File \u001b[0;32m/opt/conda/lib/python3.9/site-packages/dx/utils/tracking.py:73\u001b[0m, in \u001b[0;36mDXDataFrame.__init__\u001b[0;34m(self, df, ipython_shell)\u001b[0m\n\u001b[1;32m     71\u001b[0m \u001b[38;5;28mself\u001b[39m\u001b[38;5;241m.\u001b[39mindex_name \u001b[38;5;241m=\u001b[39m get_df_index(df\u001b[38;5;241m.\u001b[39mindex)\n\u001b[0;32m---> 73\u001b[0m \u001b[38;5;28mself\u001b[39m\u001b[38;5;241m.\u001b[39mdf \u001b[38;5;241m=\u001b[39m \u001b[43mnormalize_index_and_columns\u001b[49m\u001b[43m(\u001b[49m\u001b[43mdf\u001b[49m\u001b[43m)\u001b[49m\n\u001b[1;32m     74\u001b[0m \u001b[38;5;28mself\u001b[39m\u001b[38;5;241m.\u001b[39mhash \u001b[38;5;241m=\u001b[39m generate_df_hash(\u001b[38;5;28mself\u001b[39m\u001b[38;5;241m.\u001b[39mdf)\n",
            "File \u001b[0;32m/opt/conda/lib/python3.9/site-packages/dx/utils/formatting.py:188\u001b[0m, in \u001b[0;36mnormalize_index_and_columns\u001b[0;34m(df)\u001b[0m\n\u001b[1;32m    187\u001b[0m df \u001b[38;5;241m=\u001b[39m normalize_index(df)\n\u001b[0;32m--> 188\u001b[0m df \u001b[38;5;241m=\u001b[39m \u001b[43mnormalize_columns\u001b[49m\u001b[43m(\u001b[49m\u001b[43mdf\u001b[49m\u001b[43m)\u001b[49m\n\u001b[1;32m    189\u001b[0m df \u001b[38;5;241m=\u001b[39m deconflict_index_and_column_names(df)\n",
            "File \u001b[0;32m/opt/conda/lib/python3.9/site-packages/dx/utils/formatting.py:254\u001b[0m, in \u001b[0;36mnormalize_columns\u001b[0;34m(df)\u001b[0m\n\u001b[1;32m    253\u001b[0m \u001b[38;5;28;01mfor\u001b[39;00m column \u001b[38;5;129;01min\u001b[39;00m df\u001b[38;5;241m.\u001b[39mcolumns:\n\u001b[0;32m--> 254\u001b[0m     df[column] \u001b[38;5;241m=\u001b[39m \u001b[43mclean_series_values\u001b[49m\u001b[43m(\u001b[49m\u001b[43mdf\u001b[49m\u001b[43m[\u001b[49m\u001b[43mcolumn\u001b[49m\u001b[43m]\u001b[49m\u001b[43m)\u001b[49m\n\u001b[1;32m    255\u001b[0m \u001b[38;5;28;01mreturn\u001b[39;00m df\n",
            "File \u001b[0;32m/opt/conda/lib/python3.9/site-packages/dx/utils/formatting.py:291\u001b[0m, in \u001b[0;36mclean_series_values\u001b[0;34m(s)\u001b[0m\n\u001b[1;32m    290\u001b[0m s \u001b[38;5;241m=\u001b[39m date_time\u001b[38;5;241m.\u001b[39mhandle_time_delta_series(s)\n\u001b[0;32m--> 291\u001b[0m s \u001b[38;5;241m=\u001b[39m \u001b[43mdate_time\u001b[49m\u001b[38;5;241;43m.\u001b[39;49m\u001b[43mhandle_datetime_series\u001b[49m\u001b[43m(\u001b[49m\u001b[43ms\u001b[49m\u001b[43m)\u001b[49m\n\u001b[1;32m    293\u001b[0m s \u001b[38;5;241m=\u001b[39m numeric\u001b[38;5;241m.\u001b[39mhandle_decimal_series(s)\n",
            "File \u001b[0;32m/opt/conda/lib/python3.9/site-packages/dx/datatypes/date_time.py:186\u001b[0m, in \u001b[0;36mhandle_datetime_series\u001b[0;34m(s)\u001b[0m\n\u001b[1;32m    182\u001b[0m     logger\u001b[38;5;241m.\u001b[39mdebug(\n\u001b[1;32m    183\u001b[0m         \u001b[38;5;124mf\u001b[39m\u001b[38;5;124m\"\u001b[39m\u001b[38;5;124mseries `\u001b[39m\u001b[38;5;132;01m{\u001b[39;00ms\u001b[38;5;241m.\u001b[39mname\u001b[38;5;132;01m}\u001b[39;00m\u001b[38;5;124m` has datetime values; converting with pd.to_datetime()\u001b[39m\u001b[38;5;124m\"\u001b[39m,\n\u001b[1;32m    184\u001b[0m         utc\u001b[38;5;241m=\u001b[39mhas_tzinfo\u001b[38;5;241m.\u001b[39many(),\n\u001b[1;32m    185\u001b[0m     )\n\u001b[0;32m--> 186\u001b[0m     s \u001b[38;5;241m=\u001b[39m \u001b[43mpd\u001b[49m\u001b[38;5;241;43m.\u001b[39;49m\u001b[43mto_datetime\u001b[49m\u001b[43m(\u001b[49m\u001b[43ms\u001b[49m\u001b[43m,\u001b[49m\u001b[43m \u001b[49m\u001b[43mutc\u001b[49m\u001b[38;5;241;43m=\u001b[39;49m\u001b[43mhas_tzinfo\u001b[49m\u001b[38;5;241;43m.\u001b[39;49m\u001b[43many\u001b[49m\u001b[43m(\u001b[49m\u001b[43m)\u001b[49m\u001b[43m)\u001b[49m\n\u001b[1;32m    187\u001b[0m \u001b[38;5;28;01mreturn\u001b[39;00m s\n",
            "File \u001b[0;32m/opt/conda/lib/python3.9/site-packages/pandas/core/tools/datetimes.py:1068\u001b[0m, in \u001b[0;36mto_datetime\u001b[0;34m(arg, errors, dayfirst, yearfirst, utc, format, exact, unit, infer_datetime_format, origin, cache)\u001b[0m\n\u001b[1;32m   1067\u001b[0m \u001b[38;5;28;01melse\u001b[39;00m:\n\u001b[0;32m-> 1068\u001b[0m     values \u001b[38;5;241m=\u001b[39m \u001b[43mconvert_listlike\u001b[49m\u001b[43m(\u001b[49m\u001b[43marg\u001b[49m\u001b[38;5;241;43m.\u001b[39;49m\u001b[43m_values\u001b[49m\u001b[43m,\u001b[49m\u001b[43m \u001b[49m\u001b[38;5;28;43mformat\u001b[39;49m\u001b[43m)\u001b[49m\n\u001b[1;32m   1069\u001b[0m     result \u001b[38;5;241m=\u001b[39m arg\u001b[38;5;241m.\u001b[39m_constructor(values, index\u001b[38;5;241m=\u001b[39marg\u001b[38;5;241m.\u001b[39mindex, name\u001b[38;5;241m=\u001b[39marg\u001b[38;5;241m.\u001b[39mname)\n",
            "File \u001b[0;32m/opt/conda/lib/python3.9/site-packages/pandas/core/tools/datetimes.py:438\u001b[0m, in \u001b[0;36m_convert_listlike_datetimes\u001b[0;34m(arg, format, name, tz, unit, errors, infer_datetime_format, dayfirst, yearfirst, exact)\u001b[0m\n\u001b[1;32m    437\u001b[0m utc \u001b[38;5;241m=\u001b[39m tz \u001b[38;5;241m==\u001b[39m \u001b[38;5;124m\"\u001b[39m\u001b[38;5;124mutc\u001b[39m\u001b[38;5;124m\"\u001b[39m\n\u001b[0;32m--> 438\u001b[0m result, tz_parsed \u001b[38;5;241m=\u001b[39m \u001b[43mobjects_to_datetime64ns\u001b[49m\u001b[43m(\u001b[49m\n\u001b[1;32m    439\u001b[0m \u001b[43m    \u001b[49m\u001b[43marg\u001b[49m\u001b[43m,\u001b[49m\n\u001b[1;32m    440\u001b[0m \u001b[43m    \u001b[49m\u001b[43mdayfirst\u001b[49m\u001b[38;5;241;43m=\u001b[39;49m\u001b[43mdayfirst\u001b[49m\u001b[43m,\u001b[49m\n\u001b[1;32m    441\u001b[0m \u001b[43m    \u001b[49m\u001b[43myearfirst\u001b[49m\u001b[38;5;241;43m=\u001b[39;49m\u001b[43myearfirst\u001b[49m\u001b[43m,\u001b[49m\n\u001b[1;32m    442\u001b[0m \u001b[43m    \u001b[49m\u001b[43mutc\u001b[49m\u001b[38;5;241;43m=\u001b[39;49m\u001b[43mutc\u001b[49m\u001b[43m,\u001b[49m\n\u001b[1;32m    443\u001b[0m \u001b[43m    \u001b[49m\u001b[43merrors\u001b[49m\u001b[38;5;241;43m=\u001b[39;49m\u001b[43merrors\u001b[49m\u001b[43m,\u001b[49m\n\u001b[1;32m    444\u001b[0m \u001b[43m    \u001b[49m\u001b[43mrequire_iso8601\u001b[49m\u001b[38;5;241;43m=\u001b[39;49m\u001b[43mrequire_iso8601\u001b[49m\u001b[43m,\u001b[49m\n\u001b[1;32m    445\u001b[0m \u001b[43m    \u001b[49m\u001b[43mallow_object\u001b[49m\u001b[38;5;241;43m=\u001b[39;49m\u001b[38;5;28;43;01mTrue\u001b[39;49;00m\u001b[43m,\u001b[49m\n\u001b[1;32m    446\u001b[0m \u001b[43m\u001b[49m\u001b[43m)\u001b[49m\n\u001b[1;32m    448\u001b[0m \u001b[38;5;28;01mif\u001b[39;00m tz_parsed \u001b[38;5;129;01mis\u001b[39;00m \u001b[38;5;129;01mnot\u001b[39;00m \u001b[38;5;28;01mNone\u001b[39;00m:\n\u001b[1;32m    449\u001b[0m     \u001b[38;5;66;03m# We can take a shortcut since the datetime64 numpy array\u001b[39;00m\n\u001b[1;32m    450\u001b[0m     \u001b[38;5;66;03m# is in UTC\u001b[39;00m\n",
            "File \u001b[0;32m/opt/conda/lib/python3.9/site-packages/pandas/core/arrays/datetimes.py:2177\u001b[0m, in \u001b[0;36mobjects_to_datetime64ns\u001b[0;34m(data, dayfirst, yearfirst, utc, errors, require_iso8601, allow_object, allow_mixed)\u001b[0m\n\u001b[1;32m   2176\u001b[0m \u001b[38;5;28;01mtry\u001b[39;00m:\n\u001b[0;32m-> 2177\u001b[0m     result, tz_parsed \u001b[38;5;241m=\u001b[39m \u001b[43mtslib\u001b[49m\u001b[38;5;241;43m.\u001b[39;49m\u001b[43marray_to_datetime\u001b[49m\u001b[43m(\u001b[49m\n\u001b[1;32m   2178\u001b[0m \u001b[43m        \u001b[49m\u001b[43mdata\u001b[49m\u001b[38;5;241;43m.\u001b[39;49m\u001b[43mravel\u001b[49m\u001b[43m(\u001b[49m\u001b[38;5;124;43m\"\u001b[39;49m\u001b[38;5;124;43mK\u001b[39;49m\u001b[38;5;124;43m\"\u001b[39;49m\u001b[43m)\u001b[49m\u001b[43m,\u001b[49m\n\u001b[1;32m   2179\u001b[0m \u001b[43m        \u001b[49m\u001b[43merrors\u001b[49m\u001b[38;5;241;43m=\u001b[39;49m\u001b[43merrors\u001b[49m\u001b[43m,\u001b[49m\n\u001b[1;32m   2180\u001b[0m \u001b[43m        \u001b[49m\u001b[43mutc\u001b[49m\u001b[38;5;241;43m=\u001b[39;49m\u001b[43mutc\u001b[49m\u001b[43m,\u001b[49m\n\u001b[1;32m   2181\u001b[0m \u001b[43m        \u001b[49m\u001b[43mdayfirst\u001b[49m\u001b[38;5;241;43m=\u001b[39;49m\u001b[43mdayfirst\u001b[49m\u001b[43m,\u001b[49m\n\u001b[1;32m   2182\u001b[0m \u001b[43m        \u001b[49m\u001b[43myearfirst\u001b[49m\u001b[38;5;241;43m=\u001b[39;49m\u001b[43myearfirst\u001b[49m\u001b[43m,\u001b[49m\n\u001b[1;32m   2183\u001b[0m \u001b[43m        \u001b[49m\u001b[43mrequire_iso8601\u001b[49m\u001b[38;5;241;43m=\u001b[39;49m\u001b[43mrequire_iso8601\u001b[49m\u001b[43m,\u001b[49m\n\u001b[1;32m   2184\u001b[0m \u001b[43m        \u001b[49m\u001b[43mallow_mixed\u001b[49m\u001b[38;5;241;43m=\u001b[39;49m\u001b[43mallow_mixed\u001b[49m\u001b[43m,\u001b[49m\n\u001b[1;32m   2185\u001b[0m \u001b[43m    \u001b[49m\u001b[43m)\u001b[49m\n\u001b[1;32m   2186\u001b[0m     result \u001b[38;5;241m=\u001b[39m result\u001b[38;5;241m.\u001b[39mreshape(data\u001b[38;5;241m.\u001b[39mshape, order\u001b[38;5;241m=\u001b[39morder)\n",
            "File \u001b[0;32m/opt/conda/lib/python3.9/site-packages/pandas/_libs/tslib.pyx:427\u001b[0m, in \u001b[0;36mpandas._libs.tslib.array_to_datetime\u001b[0;34m()\u001b[0m\n",
            "File \u001b[0;32m/opt/conda/lib/python3.9/site-packages/pandas/_libs/tslib.pyx:698\u001b[0m, in \u001b[0;36mpandas._libs.tslib.array_to_datetime\u001b[0;34m()\u001b[0m\n",
            "\u001b[0;31mValueError\u001b[0m: mixed datetimes and integers in passed array",
            "\nDuring handling of the above exception, another exception occurred:\n",
            "\u001b[0;31mValueError\u001b[0m                                Traceback (most recent call last)",
            "Cell \u001b[0;32mIn[18], line 14\u001b[0m\n\u001b[1;32m     12\u001b[0m \u001b[38;5;66;03m# Generating an overview summary of the cleaned event log\u001b[39;00m\n\u001b[1;32m     13\u001b[0m event_log_summary_cleaned \u001b[38;5;241m=\u001b[39m credit_data\u001b[38;5;241m.\u001b[39mdescribe(include\u001b[38;5;241m=\u001b[39m\u001b[38;5;124m'\u001b[39m\u001b[38;5;124mall\u001b[39m\u001b[38;5;124m'\u001b[39m)\n\u001b[0;32m---> 14\u001b[0m event_log_summary_cleaned\n",
            "File \u001b[0;32m/opt/conda/lib/python3.9/site-packages/IPython/core/displayhook.py:268\u001b[0m, in \u001b[0;36mDisplayHook.__call__\u001b[0;34m(self, result)\u001b[0m\n\u001b[1;32m    266\u001b[0m \u001b[38;5;28mself\u001b[39m\u001b[38;5;241m.\u001b[39mstart_displayhook()\n\u001b[1;32m    267\u001b[0m \u001b[38;5;28mself\u001b[39m\u001b[38;5;241m.\u001b[39mwrite_output_prompt()\n\u001b[0;32m--> 268\u001b[0m format_dict, md_dict \u001b[38;5;241m=\u001b[39m \u001b[38;5;28;43mself\u001b[39;49m\u001b[38;5;241;43m.\u001b[39;49m\u001b[43mcompute_format_data\u001b[49m\u001b[43m(\u001b[49m\u001b[43mresult\u001b[49m\u001b[43m)\u001b[49m\n\u001b[1;32m    269\u001b[0m \u001b[38;5;28mself\u001b[39m\u001b[38;5;241m.\u001b[39mupdate_user_ns(result)\n\u001b[1;32m    270\u001b[0m \u001b[38;5;28mself\u001b[39m\u001b[38;5;241m.\u001b[39mfill_exec_result(result)\n",
            "File \u001b[0;32m/opt/conda/lib/python3.9/site-packages/IPython/core/displayhook.py:157\u001b[0m, in \u001b[0;36mDisplayHook.compute_format_data\u001b[0;34m(self, result)\u001b[0m\n\u001b[1;32m    127\u001b[0m \u001b[38;5;28;01mdef\u001b[39;00m \u001b[38;5;21mcompute_format_data\u001b[39m(\u001b[38;5;28mself\u001b[39m, result):\n\u001b[1;32m    128\u001b[0m \u001b[38;5;250m    \u001b[39m\u001b[38;5;124;03m\"\"\"Compute format data of the object to be displayed.\u001b[39;00m\n\u001b[1;32m    129\u001b[0m \n\u001b[1;32m    130\u001b[0m \u001b[38;5;124;03m    The format data is a generalization of the :func:`repr` of an object.\u001b[39;00m\n\u001b[0;32m   (...)\u001b[0m\n\u001b[1;32m    155\u001b[0m \n\u001b[1;32m    156\u001b[0m \u001b[38;5;124;03m    \"\"\"\u001b[39;00m\n\u001b[0;32m--> 157\u001b[0m     \u001b[38;5;28;01mreturn\u001b[39;00m \u001b[38;5;28;43mself\u001b[39;49m\u001b[38;5;241;43m.\u001b[39;49m\u001b[43mshell\u001b[49m\u001b[38;5;241;43m.\u001b[39;49m\u001b[43mdisplay_formatter\u001b[49m\u001b[38;5;241;43m.\u001b[39;49m\u001b[43mformat\u001b[49m\u001b[43m(\u001b[49m\u001b[43mresult\u001b[49m\u001b[43m)\u001b[49m\n",
            "File \u001b[0;32m/opt/conda/lib/python3.9/site-packages/dx/formatters/main.py:127\u001b[0m, in \u001b[0;36mDXDisplayFormatter.format\u001b[0;34m(self, obj, **kwargs)\u001b[0m\n\u001b[1;32m    125\u001b[0m \u001b[38;5;28;01mdef\u001b[39;00m \u001b[38;5;21mformat\u001b[39m(\u001b[38;5;28mself\u001b[39m, obj, \u001b[38;5;241m*\u001b[39m\u001b[38;5;241m*\u001b[39mkwargs):\n\u001b[1;32m    126\u001b[0m     \u001b[38;5;28;01mif\u001b[39;00m IN_NOTEBOOK_ENV \u001b[38;5;129;01mand\u001b[39;00m \u001b[38;5;28misinstance\u001b[39m(obj, \u001b[38;5;28mtuple\u001b[39m(settings\u001b[38;5;241m.\u001b[39mget_renderable_types())):\n\u001b[0;32m--> 127\u001b[0m         \u001b[43mhandle_format\u001b[49m\u001b[43m(\u001b[49m\u001b[43mobj\u001b[49m\u001b[43m)\u001b[49m\n\u001b[1;32m    128\u001b[0m         \u001b[38;5;28;01mreturn\u001b[39;00m ({}, {})\n\u001b[1;32m    130\u001b[0m     \u001b[38;5;28;01mreturn\u001b[39;00m DEFAULT_IPYTHON_DISPLAY_FORMATTER\u001b[38;5;241m.\u001b[39mformat(obj, \u001b[38;5;241m*\u001b[39m\u001b[38;5;241m*\u001b[39mkwargs)\n",
            "File \u001b[0;32m/opt/conda/lib/python3.9/site-packages/dx/formatters/main.py:111\u001b[0m, in \u001b[0;36mhandle_format\u001b[0;34m(obj, with_ipython_display, ipython_shell, extra_metadata)\u001b[0m\n\u001b[1;32m    109\u001b[0m     logger\u001b[38;5;241m.\u001b[39mdebug(\u001b[38;5;124mf\u001b[39m\u001b[38;5;124m\"\u001b[39m\u001b[38;5;124mError in datalink_processing: \u001b[39m\u001b[38;5;132;01m{\u001b[39;00me\u001b[38;5;132;01m}\u001b[39;00m\u001b[38;5;124m\"\u001b[39m)\n\u001b[1;32m    110\u001b[0m     \u001b[38;5;66;03m# fall back to default processing\u001b[39;00m\n\u001b[0;32m--> 111\u001b[0m     df \u001b[38;5;241m=\u001b[39m \u001b[43mnormalize_index_and_columns\u001b[49m\u001b[43m(\u001b[49m\u001b[43mdf\u001b[49m\u001b[43m)\u001b[49m\n\u001b[1;32m    112\u001b[0m     payload, metadata \u001b[38;5;241m=\u001b[39m format_output(\n\u001b[1;32m    113\u001b[0m         df,\n\u001b[1;32m    114\u001b[0m         default_index_used\u001b[38;5;241m=\u001b[39mdefault_index_used,\n\u001b[1;32m    115\u001b[0m         with_ipython_display\u001b[38;5;241m=\u001b[39mwith_ipython_display,\n\u001b[1;32m    116\u001b[0m         extra_metadata\u001b[38;5;241m=\u001b[39mextra_metadata,\n\u001b[1;32m    117\u001b[0m     )\n\u001b[1;32m    119\u001b[0m \u001b[38;5;28;01mreturn\u001b[39;00m payload, metadata\n",
            "File \u001b[0;32m/opt/conda/lib/python3.9/site-packages/dx/utils/formatting.py:188\u001b[0m, in \u001b[0;36mnormalize_index_and_columns\u001b[0;34m(df)\u001b[0m\n\u001b[1;32m    183\u001b[0m \u001b[38;5;250m\u001b[39m\u001b[38;5;124;03m\"\"\"\u001b[39;00m\n\u001b[1;32m    184\u001b[0m \u001b[38;5;124;03mAny additional formatting that needs to happen to the index,\u001b[39;00m\n\u001b[1;32m    185\u001b[0m \u001b[38;5;124;03mthe columns, or the data itself should be done here.\u001b[39;00m\n\u001b[1;32m    186\u001b[0m \u001b[38;5;124;03m\"\"\"\u001b[39;00m\n\u001b[1;32m    187\u001b[0m df \u001b[38;5;241m=\u001b[39m normalize_index(df)\n\u001b[0;32m--> 188\u001b[0m df \u001b[38;5;241m=\u001b[39m \u001b[43mnormalize_columns\u001b[49m\u001b[43m(\u001b[49m\u001b[43mdf\u001b[49m\u001b[43m)\u001b[49m\n\u001b[1;32m    189\u001b[0m df \u001b[38;5;241m=\u001b[39m deconflict_index_and_column_names(df)\n\u001b[1;32m    190\u001b[0m \u001b[38;5;28;01mreturn\u001b[39;00m df\n",
            "File \u001b[0;32m/opt/conda/lib/python3.9/site-packages/dx/utils/formatting.py:254\u001b[0m, in \u001b[0;36mnormalize_columns\u001b[0;34m(df)\u001b[0m\n\u001b[1;32m    252\u001b[0m logger\u001b[38;5;241m.\u001b[39mdebug(\u001b[38;5;124m\"\u001b[39m\u001b[38;5;124m-- cleaning columns before display --\u001b[39m\u001b[38;5;124m\"\u001b[39m)\n\u001b[1;32m    253\u001b[0m \u001b[38;5;28;01mfor\u001b[39;00m column \u001b[38;5;129;01min\u001b[39;00m df\u001b[38;5;241m.\u001b[39mcolumns:\n\u001b[0;32m--> 254\u001b[0m     df[column] \u001b[38;5;241m=\u001b[39m \u001b[43mclean_series_values\u001b[49m\u001b[43m(\u001b[49m\u001b[43mdf\u001b[49m\u001b[43m[\u001b[49m\u001b[43mcolumn\u001b[49m\u001b[43m]\u001b[49m\u001b[43m)\u001b[49m\n\u001b[1;32m    255\u001b[0m \u001b[38;5;28;01mreturn\u001b[39;00m df\n",
            "File \u001b[0;32m/opt/conda/lib/python3.9/site-packages/dx/utils/formatting.py:291\u001b[0m, in \u001b[0;36mclean_series_values\u001b[0;34m(s)\u001b[0m\n\u001b[1;32m    289\u001b[0m s \u001b[38;5;241m=\u001b[39m date_time\u001b[38;5;241m.\u001b[39mhandle_time_period_series(s)\n\u001b[1;32m    290\u001b[0m s \u001b[38;5;241m=\u001b[39m date_time\u001b[38;5;241m.\u001b[39mhandle_time_delta_series(s)\n\u001b[0;32m--> 291\u001b[0m s \u001b[38;5;241m=\u001b[39m \u001b[43mdate_time\u001b[49m\u001b[38;5;241;43m.\u001b[39;49m\u001b[43mhandle_datetime_series\u001b[49m\u001b[43m(\u001b[49m\u001b[43ms\u001b[49m\u001b[43m)\u001b[49m\n\u001b[1;32m    293\u001b[0m s \u001b[38;5;241m=\u001b[39m numeric\u001b[38;5;241m.\u001b[39mhandle_decimal_series(s)\n\u001b[1;32m    294\u001b[0m s \u001b[38;5;241m=\u001b[39m numeric\u001b[38;5;241m.\u001b[39mhandle_complex_number_series(s)\n",
            "File \u001b[0;32m/opt/conda/lib/python3.9/site-packages/dx/datatypes/date_time.py:186\u001b[0m, in \u001b[0;36mhandle_datetime_series\u001b[0;34m(s)\u001b[0m\n\u001b[1;32m    181\u001b[0m \u001b[38;5;28;01mif\u001b[39;00m \u001b[38;5;28many\u001b[39m(\u001b[38;5;28misinstance\u001b[39m(v, types) \u001b[38;5;28;01mfor\u001b[39;00m v \u001b[38;5;129;01min\u001b[39;00m sample_rows\u001b[38;5;241m.\u001b[39mvalues):\n\u001b[1;32m    182\u001b[0m     logger\u001b[38;5;241m.\u001b[39mdebug(\n\u001b[1;32m    183\u001b[0m         \u001b[38;5;124mf\u001b[39m\u001b[38;5;124m\"\u001b[39m\u001b[38;5;124mseries `\u001b[39m\u001b[38;5;132;01m{\u001b[39;00ms\u001b[38;5;241m.\u001b[39mname\u001b[38;5;132;01m}\u001b[39;00m\u001b[38;5;124m` has datetime values; converting with pd.to_datetime()\u001b[39m\u001b[38;5;124m\"\u001b[39m,\n\u001b[1;32m    184\u001b[0m         utc\u001b[38;5;241m=\u001b[39mhas_tzinfo\u001b[38;5;241m.\u001b[39many(),\n\u001b[1;32m    185\u001b[0m     )\n\u001b[0;32m--> 186\u001b[0m     s \u001b[38;5;241m=\u001b[39m \u001b[43mpd\u001b[49m\u001b[38;5;241;43m.\u001b[39;49m\u001b[43mto_datetime\u001b[49m\u001b[43m(\u001b[49m\u001b[43ms\u001b[49m\u001b[43m,\u001b[49m\u001b[43m \u001b[49m\u001b[43mutc\u001b[49m\u001b[38;5;241;43m=\u001b[39;49m\u001b[43mhas_tzinfo\u001b[49m\u001b[38;5;241;43m.\u001b[39;49m\u001b[43many\u001b[49m\u001b[43m(\u001b[49m\u001b[43m)\u001b[49m\u001b[43m)\u001b[49m\n\u001b[1;32m    187\u001b[0m \u001b[38;5;28;01mreturn\u001b[39;00m s\n",
            "File \u001b[0;32m/opt/conda/lib/python3.9/site-packages/pandas/core/tools/datetimes.py:1068\u001b[0m, in \u001b[0;36mto_datetime\u001b[0;34m(arg, errors, dayfirst, yearfirst, utc, format, exact, unit, infer_datetime_format, origin, cache)\u001b[0m\n\u001b[1;32m   1066\u001b[0m         result \u001b[38;5;241m=\u001b[39m arg\u001b[38;5;241m.\u001b[39mmap(cache_array)\n\u001b[1;32m   1067\u001b[0m     \u001b[38;5;28;01melse\u001b[39;00m:\n\u001b[0;32m-> 1068\u001b[0m         values \u001b[38;5;241m=\u001b[39m \u001b[43mconvert_listlike\u001b[49m\u001b[43m(\u001b[49m\u001b[43marg\u001b[49m\u001b[38;5;241;43m.\u001b[39;49m\u001b[43m_values\u001b[49m\u001b[43m,\u001b[49m\u001b[43m \u001b[49m\u001b[38;5;28;43mformat\u001b[39;49m\u001b[43m)\u001b[49m\n\u001b[1;32m   1069\u001b[0m         result \u001b[38;5;241m=\u001b[39m arg\u001b[38;5;241m.\u001b[39m_constructor(values, index\u001b[38;5;241m=\u001b[39marg\u001b[38;5;241m.\u001b[39mindex, name\u001b[38;5;241m=\u001b[39marg\u001b[38;5;241m.\u001b[39mname)\n\u001b[1;32m   1070\u001b[0m \u001b[38;5;28;01melif\u001b[39;00m \u001b[38;5;28misinstance\u001b[39m(arg, (ABCDataFrame, abc\u001b[38;5;241m.\u001b[39mMutableMapping)):\n",
            "File \u001b[0;32m/opt/conda/lib/python3.9/site-packages/pandas/core/tools/datetimes.py:438\u001b[0m, in \u001b[0;36m_convert_listlike_datetimes\u001b[0;34m(arg, format, name, tz, unit, errors, infer_datetime_format, dayfirst, yearfirst, exact)\u001b[0m\n\u001b[1;32m    436\u001b[0m \u001b[38;5;28;01massert\u001b[39;00m \u001b[38;5;28mformat\u001b[39m \u001b[38;5;129;01mis\u001b[39;00m \u001b[38;5;28;01mNone\u001b[39;00m \u001b[38;5;129;01mor\u001b[39;00m infer_datetime_format\n\u001b[1;32m    437\u001b[0m utc \u001b[38;5;241m=\u001b[39m tz \u001b[38;5;241m==\u001b[39m \u001b[38;5;124m\"\u001b[39m\u001b[38;5;124mutc\u001b[39m\u001b[38;5;124m\"\u001b[39m\n\u001b[0;32m--> 438\u001b[0m result, tz_parsed \u001b[38;5;241m=\u001b[39m \u001b[43mobjects_to_datetime64ns\u001b[49m\u001b[43m(\u001b[49m\n\u001b[1;32m    439\u001b[0m \u001b[43m    \u001b[49m\u001b[43marg\u001b[49m\u001b[43m,\u001b[49m\n\u001b[1;32m    440\u001b[0m \u001b[43m    \u001b[49m\u001b[43mdayfirst\u001b[49m\u001b[38;5;241;43m=\u001b[39;49m\u001b[43mdayfirst\u001b[49m\u001b[43m,\u001b[49m\n\u001b[1;32m    441\u001b[0m \u001b[43m    \u001b[49m\u001b[43myearfirst\u001b[49m\u001b[38;5;241;43m=\u001b[39;49m\u001b[43myearfirst\u001b[49m\u001b[43m,\u001b[49m\n\u001b[1;32m    442\u001b[0m \u001b[43m    \u001b[49m\u001b[43mutc\u001b[49m\u001b[38;5;241;43m=\u001b[39;49m\u001b[43mutc\u001b[49m\u001b[43m,\u001b[49m\n\u001b[1;32m    443\u001b[0m \u001b[43m    \u001b[49m\u001b[43merrors\u001b[49m\u001b[38;5;241;43m=\u001b[39;49m\u001b[43merrors\u001b[49m\u001b[43m,\u001b[49m\n\u001b[1;32m    444\u001b[0m \u001b[43m    \u001b[49m\u001b[43mrequire_iso8601\u001b[49m\u001b[38;5;241;43m=\u001b[39;49m\u001b[43mrequire_iso8601\u001b[49m\u001b[43m,\u001b[49m\n\u001b[1;32m    445\u001b[0m \u001b[43m    \u001b[49m\u001b[43mallow_object\u001b[49m\u001b[38;5;241;43m=\u001b[39;49m\u001b[38;5;28;43;01mTrue\u001b[39;49;00m\u001b[43m,\u001b[49m\n\u001b[1;32m    446\u001b[0m \u001b[43m\u001b[49m\u001b[43m)\u001b[49m\n\u001b[1;32m    448\u001b[0m \u001b[38;5;28;01mif\u001b[39;00m tz_parsed \u001b[38;5;129;01mis\u001b[39;00m \u001b[38;5;129;01mnot\u001b[39;00m \u001b[38;5;28;01mNone\u001b[39;00m:\n\u001b[1;32m    449\u001b[0m     \u001b[38;5;66;03m# We can take a shortcut since the datetime64 numpy array\u001b[39;00m\n\u001b[1;32m    450\u001b[0m     \u001b[38;5;66;03m# is in UTC\u001b[39;00m\n\u001b[1;32m    451\u001b[0m     dta \u001b[38;5;241m=\u001b[39m DatetimeArray(result, dtype\u001b[38;5;241m=\u001b[39mtz_to_dtype(tz_parsed))\n",
            "File \u001b[0;32m/opt/conda/lib/python3.9/site-packages/pandas/core/arrays/datetimes.py:2177\u001b[0m, in \u001b[0;36mobjects_to_datetime64ns\u001b[0;34m(data, dayfirst, yearfirst, utc, errors, require_iso8601, allow_object, allow_mixed)\u001b[0m\n\u001b[1;32m   2175\u001b[0m order: Literal[\u001b[38;5;124m\"\u001b[39m\u001b[38;5;124mF\u001b[39m\u001b[38;5;124m\"\u001b[39m, \u001b[38;5;124m\"\u001b[39m\u001b[38;5;124mC\u001b[39m\u001b[38;5;124m\"\u001b[39m] \u001b[38;5;241m=\u001b[39m \u001b[38;5;124m\"\u001b[39m\u001b[38;5;124mF\u001b[39m\u001b[38;5;124m\"\u001b[39m \u001b[38;5;28;01mif\u001b[39;00m flags\u001b[38;5;241m.\u001b[39mf_contiguous \u001b[38;5;28;01melse\u001b[39;00m \u001b[38;5;124m\"\u001b[39m\u001b[38;5;124mC\u001b[39m\u001b[38;5;124m\"\u001b[39m\n\u001b[1;32m   2176\u001b[0m \u001b[38;5;28;01mtry\u001b[39;00m:\n\u001b[0;32m-> 2177\u001b[0m     result, tz_parsed \u001b[38;5;241m=\u001b[39m \u001b[43mtslib\u001b[49m\u001b[38;5;241;43m.\u001b[39;49m\u001b[43marray_to_datetime\u001b[49m\u001b[43m(\u001b[49m\n\u001b[1;32m   2178\u001b[0m \u001b[43m        \u001b[49m\u001b[43mdata\u001b[49m\u001b[38;5;241;43m.\u001b[39;49m\u001b[43mravel\u001b[49m\u001b[43m(\u001b[49m\u001b[38;5;124;43m\"\u001b[39;49m\u001b[38;5;124;43mK\u001b[39;49m\u001b[38;5;124;43m\"\u001b[39;49m\u001b[43m)\u001b[49m\u001b[43m,\u001b[49m\n\u001b[1;32m   2179\u001b[0m \u001b[43m        \u001b[49m\u001b[43merrors\u001b[49m\u001b[38;5;241;43m=\u001b[39;49m\u001b[43merrors\u001b[49m\u001b[43m,\u001b[49m\n\u001b[1;32m   2180\u001b[0m \u001b[43m        \u001b[49m\u001b[43mutc\u001b[49m\u001b[38;5;241;43m=\u001b[39;49m\u001b[43mutc\u001b[49m\u001b[43m,\u001b[49m\n\u001b[1;32m   2181\u001b[0m \u001b[43m        \u001b[49m\u001b[43mdayfirst\u001b[49m\u001b[38;5;241;43m=\u001b[39;49m\u001b[43mdayfirst\u001b[49m\u001b[43m,\u001b[49m\n\u001b[1;32m   2182\u001b[0m \u001b[43m        \u001b[49m\u001b[43myearfirst\u001b[49m\u001b[38;5;241;43m=\u001b[39;49m\u001b[43myearfirst\u001b[49m\u001b[43m,\u001b[49m\n\u001b[1;32m   2183\u001b[0m \u001b[43m        \u001b[49m\u001b[43mrequire_iso8601\u001b[49m\u001b[38;5;241;43m=\u001b[39;49m\u001b[43mrequire_iso8601\u001b[49m\u001b[43m,\u001b[49m\n\u001b[1;32m   2184\u001b[0m \u001b[43m        \u001b[49m\u001b[43mallow_mixed\u001b[49m\u001b[38;5;241;43m=\u001b[39;49m\u001b[43mallow_mixed\u001b[49m\u001b[43m,\u001b[49m\n\u001b[1;32m   2185\u001b[0m \u001b[43m    \u001b[49m\u001b[43m)\u001b[49m\n\u001b[1;32m   2186\u001b[0m     result \u001b[38;5;241m=\u001b[39m result\u001b[38;5;241m.\u001b[39mreshape(data\u001b[38;5;241m.\u001b[39mshape, order\u001b[38;5;241m=\u001b[39morder)\n\u001b[1;32m   2187\u001b[0m \u001b[38;5;28;01mexcept\u001b[39;00m \u001b[38;5;167;01mOverflowError\u001b[39;00m \u001b[38;5;28;01mas\u001b[39;00m err:\n\u001b[1;32m   2188\u001b[0m     \u001b[38;5;66;03m# Exception is raised when a part of date is greater than 32 bit signed int\u001b[39;00m\n",
            "File \u001b[0;32m/opt/conda/lib/python3.9/site-packages/pandas/_libs/tslib.pyx:427\u001b[0m, in \u001b[0;36mpandas._libs.tslib.array_to_datetime\u001b[0;34m()\u001b[0m\n",
            "File \u001b[0;32m/opt/conda/lib/python3.9/site-packages/pandas/_libs/tslib.pyx:698\u001b[0m, in \u001b[0;36mpandas._libs.tslib.array_to_datetime\u001b[0;34m()\u001b[0m\n",
            "\u001b[0;31mValueError\u001b[0m: mixed datetimes and integers in passed array"
          ]
        }
      ],
      "source": [
        "# Cleaning the 'FirstWithdrawalAmount' and 'OfferedAmount' columns\n",
        "# Converting scientific notation to numerical values and handling nulls\n",
        "def clean_mixed_data_types(value):\n",
        "    try:\n",
        "        return float(value)\n",
        "    except:\n",
        "        return 0.0  # Replacing nulls and unconvertible values with 0\n",
        "\n",
        "credit_data['FirstWithdrawalAmount'] = credit_data['FirstWithdrawalAmount'].apply(clean_mixed_data_types)\n",
        "credit_data['OfferedAmount'] = credit_data['OfferedAmount'].apply(clean_mixed_data_types)\n",
        "\n",
        "# Generating an overview summary of the cleaned event log\n",
        "event_log_summary_cleaned = credit_data.describe(include='all')\n",
        "event_log_summary_cleaned"
      ]
    },
    {
      "cell_type": "code",
      "execution_count": null,
      "id": "226cd311-e4e0-4b6e-9fe6-e183985618de",
      "metadata": {
        "ExecuteTime": {
          "end_time": "2023-10-10T00:24:37.367135+00:00",
          "start_time": "2023-10-10T00:24:37.207898+00:00"
        },
        "noteable": {
          "cell_type": "code"
        }
      },
      "outputs": [
        {
          "data": {
            "text/plain": [
              "(<class 'float'>    169\n",
              " Name: FirstWithdrawalAmount, dtype: int64,\n",
              " <class 'float'>    169\n",
              " Name: OfferedAmount, dtype: int64)"
            ]
          },
          "execution_count": null,
          "metadata": {},
          "output_type": "execute_result"
        }
      ],
      "source": [
        "# Examining the 'FirstWithdrawalAmount' and 'OfferedAmount' columns to identify the root cause of the issue\n",
        "first_withdrawal_amount_values = credit_data['FirstWithdrawalAmount'].apply(lambda x: type(x)).value_counts()\n",
        "offered_amount_values = credit_data['OfferedAmount'].apply(lambda x: type(x)).value_counts()\n",
        "\n",
        "first_withdrawal_amount_values, offered_amount_values"
      ]
    },
    {
      "cell_type": "code",
      "execution_count": null,
      "id": "943c33e5-3328-498f-b08b-d2b3b2e9fe37",
      "metadata": {
        "ExecuteTime": {
          "end_time": "2023-10-10T00:26:56.708018+00:00",
          "start_time": "2023-10-10T00:26:56.326344+00:00"
        },
        "noteable": {
          "cell_type": "code"
        }
      },
      "outputs": [
        {
          "ename": "ValueError",
          "evalue": "mixed datetimes and integers in passed array",
          "output_type": "error",
          "traceback": [
            "\u001b[0;31m---------------------------------------------------------------------------\u001b[0m",
            "\u001b[0;31mValueError\u001b[0m                                Traceback (most recent call last)",
            "File \u001b[0;32m/opt/conda/lib/python3.9/site-packages/dx/formatters/main.py:101\u001b[0m, in \u001b[0;36mhandle_format\u001b[0;34m(obj, with_ipython_display, ipython_shell, extra_metadata)\u001b[0m\n\u001b[1;32m    100\u001b[0m \u001b[38;5;28;01mtry\u001b[39;00m:\n\u001b[0;32m--> 101\u001b[0m     payload, metadata \u001b[38;5;241m=\u001b[39m \u001b[43mdatalink_processing\u001b[49m\u001b[43m(\u001b[49m\n\u001b[1;32m    102\u001b[0m \u001b[43m        \u001b[49m\u001b[43mdf\u001b[49m\u001b[43m,\u001b[49m\n\u001b[1;32m    103\u001b[0m \u001b[43m        \u001b[49m\u001b[43mdefault_index_used\u001b[49m\u001b[43m,\u001b[49m\n\u001b[1;32m    104\u001b[0m \u001b[43m        \u001b[49m\u001b[43mipython_shell\u001b[49m\u001b[38;5;241;43m=\u001b[39;49m\u001b[43mipython\u001b[49m\u001b[43m,\u001b[49m\n\u001b[1;32m    105\u001b[0m \u001b[43m        \u001b[49m\u001b[43mwith_ipython_display\u001b[49m\u001b[38;5;241;43m=\u001b[39;49m\u001b[43mwith_ipython_display\u001b[49m\u001b[43m,\u001b[49m\n\u001b[1;32m    106\u001b[0m \u001b[43m        \u001b[49m\u001b[43mextra_metadata\u001b[49m\u001b[38;5;241;43m=\u001b[39;49m\u001b[43mextra_metadata\u001b[49m\u001b[43m,\u001b[49m\n\u001b[1;32m    107\u001b[0m \u001b[43m    \u001b[49m\u001b[43m)\u001b[49m\n\u001b[1;32m    108\u001b[0m \u001b[38;5;28;01mexcept\u001b[39;00m \u001b[38;5;167;01mException\u001b[39;00m \u001b[38;5;28;01mas\u001b[39;00m e:\n",
            "File \u001b[0;32m/opt/conda/lib/python3.9/site-packages/dx/formatters/main.py:50\u001b[0m, in \u001b[0;36mdatalink_processing\u001b[0;34m(df, default_index_used, ipython_shell, with_ipython_display, extra_metadata)\u001b[0m\n\u001b[1;32m     43\u001b[0m \u001b[38;5;28;01mdef\u001b[39;00m \u001b[38;5;21mdatalink_processing\u001b[39m(\n\u001b[1;32m     44\u001b[0m     df: pd\u001b[38;5;241m.\u001b[39mDataFrame,\n\u001b[1;32m     45\u001b[0m     default_index_used: \u001b[38;5;28mbool\u001b[39m,\n\u001b[0;32m   (...)\u001b[0m\n\u001b[1;32m     48\u001b[0m     extra_metadata: Optional[\u001b[38;5;28mdict\u001b[39m] \u001b[38;5;241m=\u001b[39m \u001b[38;5;28;01mNone\u001b[39;00m,\n\u001b[1;32m     49\u001b[0m ):\n\u001b[0;32m---> 50\u001b[0m     dxdf \u001b[38;5;241m=\u001b[39m \u001b[43mDXDataFrame\u001b[49m\u001b[43m(\u001b[49m\u001b[43mdf\u001b[49m\u001b[43m)\u001b[49m\n\u001b[1;32m     51\u001b[0m     parent_display_id \u001b[38;5;241m=\u001b[39m determine_parent_display_id(dxdf)\n",
            "File \u001b[0;32m/opt/conda/lib/python3.9/site-packages/dx/utils/tracking.py:73\u001b[0m, in \u001b[0;36mDXDataFrame.__init__\u001b[0;34m(self, df, ipython_shell)\u001b[0m\n\u001b[1;32m     71\u001b[0m \u001b[38;5;28mself\u001b[39m\u001b[38;5;241m.\u001b[39mindex_name \u001b[38;5;241m=\u001b[39m get_df_index(df\u001b[38;5;241m.\u001b[39mindex)\n\u001b[0;32m---> 73\u001b[0m \u001b[38;5;28mself\u001b[39m\u001b[38;5;241m.\u001b[39mdf \u001b[38;5;241m=\u001b[39m \u001b[43mnormalize_index_and_columns\u001b[49m\u001b[43m(\u001b[49m\u001b[43mdf\u001b[49m\u001b[43m)\u001b[49m\n\u001b[1;32m     74\u001b[0m \u001b[38;5;28mself\u001b[39m\u001b[38;5;241m.\u001b[39mhash \u001b[38;5;241m=\u001b[39m generate_df_hash(\u001b[38;5;28mself\u001b[39m\u001b[38;5;241m.\u001b[39mdf)\n",
            "File \u001b[0;32m/opt/conda/lib/python3.9/site-packages/dx/utils/formatting.py:188\u001b[0m, in \u001b[0;36mnormalize_index_and_columns\u001b[0;34m(df)\u001b[0m\n\u001b[1;32m    187\u001b[0m df \u001b[38;5;241m=\u001b[39m normalize_index(df)\n\u001b[0;32m--> 188\u001b[0m df \u001b[38;5;241m=\u001b[39m \u001b[43mnormalize_columns\u001b[49m\u001b[43m(\u001b[49m\u001b[43mdf\u001b[49m\u001b[43m)\u001b[49m\n\u001b[1;32m    189\u001b[0m df \u001b[38;5;241m=\u001b[39m deconflict_index_and_column_names(df)\n",
            "File \u001b[0;32m/opt/conda/lib/python3.9/site-packages/dx/utils/formatting.py:254\u001b[0m, in \u001b[0;36mnormalize_columns\u001b[0;34m(df)\u001b[0m\n\u001b[1;32m    253\u001b[0m \u001b[38;5;28;01mfor\u001b[39;00m column \u001b[38;5;129;01min\u001b[39;00m df\u001b[38;5;241m.\u001b[39mcolumns:\n\u001b[0;32m--> 254\u001b[0m     df[column] \u001b[38;5;241m=\u001b[39m \u001b[43mclean_series_values\u001b[49m\u001b[43m(\u001b[49m\u001b[43mdf\u001b[49m\u001b[43m[\u001b[49m\u001b[43mcolumn\u001b[49m\u001b[43m]\u001b[49m\u001b[43m)\u001b[49m\n\u001b[1;32m    255\u001b[0m \u001b[38;5;28;01mreturn\u001b[39;00m df\n",
            "File \u001b[0;32m/opt/conda/lib/python3.9/site-packages/dx/utils/formatting.py:291\u001b[0m, in \u001b[0;36mclean_series_values\u001b[0;34m(s)\u001b[0m\n\u001b[1;32m    290\u001b[0m s \u001b[38;5;241m=\u001b[39m date_time\u001b[38;5;241m.\u001b[39mhandle_time_delta_series(s)\n\u001b[0;32m--> 291\u001b[0m s \u001b[38;5;241m=\u001b[39m \u001b[43mdate_time\u001b[49m\u001b[38;5;241;43m.\u001b[39;49m\u001b[43mhandle_datetime_series\u001b[49m\u001b[43m(\u001b[49m\u001b[43ms\u001b[49m\u001b[43m)\u001b[49m\n\u001b[1;32m    293\u001b[0m s \u001b[38;5;241m=\u001b[39m numeric\u001b[38;5;241m.\u001b[39mhandle_decimal_series(s)\n",
            "File \u001b[0;32m/opt/conda/lib/python3.9/site-packages/dx/datatypes/date_time.py:186\u001b[0m, in \u001b[0;36mhandle_datetime_series\u001b[0;34m(s)\u001b[0m\n\u001b[1;32m    182\u001b[0m     logger\u001b[38;5;241m.\u001b[39mdebug(\n\u001b[1;32m    183\u001b[0m         \u001b[38;5;124mf\u001b[39m\u001b[38;5;124m\"\u001b[39m\u001b[38;5;124mseries `\u001b[39m\u001b[38;5;132;01m{\u001b[39;00ms\u001b[38;5;241m.\u001b[39mname\u001b[38;5;132;01m}\u001b[39;00m\u001b[38;5;124m` has datetime values; converting with pd.to_datetime()\u001b[39m\u001b[38;5;124m\"\u001b[39m,\n\u001b[1;32m    184\u001b[0m         utc\u001b[38;5;241m=\u001b[39mhas_tzinfo\u001b[38;5;241m.\u001b[39many(),\n\u001b[1;32m    185\u001b[0m     )\n\u001b[0;32m--> 186\u001b[0m     s \u001b[38;5;241m=\u001b[39m \u001b[43mpd\u001b[49m\u001b[38;5;241;43m.\u001b[39;49m\u001b[43mto_datetime\u001b[49m\u001b[43m(\u001b[49m\u001b[43ms\u001b[49m\u001b[43m,\u001b[49m\u001b[43m \u001b[49m\u001b[43mutc\u001b[49m\u001b[38;5;241;43m=\u001b[39;49m\u001b[43mhas_tzinfo\u001b[49m\u001b[38;5;241;43m.\u001b[39;49m\u001b[43many\u001b[49m\u001b[43m(\u001b[49m\u001b[43m)\u001b[49m\u001b[43m)\u001b[49m\n\u001b[1;32m    187\u001b[0m \u001b[38;5;28;01mreturn\u001b[39;00m s\n",
            "File \u001b[0;32m/opt/conda/lib/python3.9/site-packages/pandas/core/tools/datetimes.py:1068\u001b[0m, in \u001b[0;36mto_datetime\u001b[0;34m(arg, errors, dayfirst, yearfirst, utc, format, exact, unit, infer_datetime_format, origin, cache)\u001b[0m\n\u001b[1;32m   1067\u001b[0m \u001b[38;5;28;01melse\u001b[39;00m:\n\u001b[0;32m-> 1068\u001b[0m     values \u001b[38;5;241m=\u001b[39m \u001b[43mconvert_listlike\u001b[49m\u001b[43m(\u001b[49m\u001b[43marg\u001b[49m\u001b[38;5;241;43m.\u001b[39;49m\u001b[43m_values\u001b[49m\u001b[43m,\u001b[49m\u001b[43m \u001b[49m\u001b[38;5;28;43mformat\u001b[39;49m\u001b[43m)\u001b[49m\n\u001b[1;32m   1069\u001b[0m     result \u001b[38;5;241m=\u001b[39m arg\u001b[38;5;241m.\u001b[39m_constructor(values, index\u001b[38;5;241m=\u001b[39marg\u001b[38;5;241m.\u001b[39mindex, name\u001b[38;5;241m=\u001b[39marg\u001b[38;5;241m.\u001b[39mname)\n",
            "File \u001b[0;32m/opt/conda/lib/python3.9/site-packages/pandas/core/tools/datetimes.py:438\u001b[0m, in \u001b[0;36m_convert_listlike_datetimes\u001b[0;34m(arg, format, name, tz, unit, errors, infer_datetime_format, dayfirst, yearfirst, exact)\u001b[0m\n\u001b[1;32m    437\u001b[0m utc \u001b[38;5;241m=\u001b[39m tz \u001b[38;5;241m==\u001b[39m \u001b[38;5;124m\"\u001b[39m\u001b[38;5;124mutc\u001b[39m\u001b[38;5;124m\"\u001b[39m\n\u001b[0;32m--> 438\u001b[0m result, tz_parsed \u001b[38;5;241m=\u001b[39m \u001b[43mobjects_to_datetime64ns\u001b[49m\u001b[43m(\u001b[49m\n\u001b[1;32m    439\u001b[0m \u001b[43m    \u001b[49m\u001b[43marg\u001b[49m\u001b[43m,\u001b[49m\n\u001b[1;32m    440\u001b[0m \u001b[43m    \u001b[49m\u001b[43mdayfirst\u001b[49m\u001b[38;5;241;43m=\u001b[39;49m\u001b[43mdayfirst\u001b[49m\u001b[43m,\u001b[49m\n\u001b[1;32m    441\u001b[0m \u001b[43m    \u001b[49m\u001b[43myearfirst\u001b[49m\u001b[38;5;241;43m=\u001b[39;49m\u001b[43myearfirst\u001b[49m\u001b[43m,\u001b[49m\n\u001b[1;32m    442\u001b[0m \u001b[43m    \u001b[49m\u001b[43mutc\u001b[49m\u001b[38;5;241;43m=\u001b[39;49m\u001b[43mutc\u001b[49m\u001b[43m,\u001b[49m\n\u001b[1;32m    443\u001b[0m \u001b[43m    \u001b[49m\u001b[43merrors\u001b[49m\u001b[38;5;241;43m=\u001b[39;49m\u001b[43merrors\u001b[49m\u001b[43m,\u001b[49m\n\u001b[1;32m    444\u001b[0m \u001b[43m    \u001b[49m\u001b[43mrequire_iso8601\u001b[49m\u001b[38;5;241;43m=\u001b[39;49m\u001b[43mrequire_iso8601\u001b[49m\u001b[43m,\u001b[49m\n\u001b[1;32m    445\u001b[0m \u001b[43m    \u001b[49m\u001b[43mallow_object\u001b[49m\u001b[38;5;241;43m=\u001b[39;49m\u001b[38;5;28;43;01mTrue\u001b[39;49;00m\u001b[43m,\u001b[49m\n\u001b[1;32m    446\u001b[0m \u001b[43m\u001b[49m\u001b[43m)\u001b[49m\n\u001b[1;32m    448\u001b[0m \u001b[38;5;28;01mif\u001b[39;00m tz_parsed \u001b[38;5;129;01mis\u001b[39;00m \u001b[38;5;129;01mnot\u001b[39;00m \u001b[38;5;28;01mNone\u001b[39;00m:\n\u001b[1;32m    449\u001b[0m     \u001b[38;5;66;03m# We can take a shortcut since the datetime64 numpy array\u001b[39;00m\n\u001b[1;32m    450\u001b[0m     \u001b[38;5;66;03m# is in UTC\u001b[39;00m\n",
            "File \u001b[0;32m/opt/conda/lib/python3.9/site-packages/pandas/core/arrays/datetimes.py:2177\u001b[0m, in \u001b[0;36mobjects_to_datetime64ns\u001b[0;34m(data, dayfirst, yearfirst, utc, errors, require_iso8601, allow_object, allow_mixed)\u001b[0m\n\u001b[1;32m   2176\u001b[0m \u001b[38;5;28;01mtry\u001b[39;00m:\n\u001b[0;32m-> 2177\u001b[0m     result, tz_parsed \u001b[38;5;241m=\u001b[39m \u001b[43mtslib\u001b[49m\u001b[38;5;241;43m.\u001b[39;49m\u001b[43marray_to_datetime\u001b[49m\u001b[43m(\u001b[49m\n\u001b[1;32m   2178\u001b[0m \u001b[43m        \u001b[49m\u001b[43mdata\u001b[49m\u001b[38;5;241;43m.\u001b[39;49m\u001b[43mravel\u001b[49m\u001b[43m(\u001b[49m\u001b[38;5;124;43m\"\u001b[39;49m\u001b[38;5;124;43mK\u001b[39;49m\u001b[38;5;124;43m\"\u001b[39;49m\u001b[43m)\u001b[49m\u001b[43m,\u001b[49m\n\u001b[1;32m   2179\u001b[0m \u001b[43m        \u001b[49m\u001b[43merrors\u001b[49m\u001b[38;5;241;43m=\u001b[39;49m\u001b[43merrors\u001b[49m\u001b[43m,\u001b[49m\n\u001b[1;32m   2180\u001b[0m \u001b[43m        \u001b[49m\u001b[43mutc\u001b[49m\u001b[38;5;241;43m=\u001b[39;49m\u001b[43mutc\u001b[49m\u001b[43m,\u001b[49m\n\u001b[1;32m   2181\u001b[0m \u001b[43m        \u001b[49m\u001b[43mdayfirst\u001b[49m\u001b[38;5;241;43m=\u001b[39;49m\u001b[43mdayfirst\u001b[49m\u001b[43m,\u001b[49m\n\u001b[1;32m   2182\u001b[0m \u001b[43m        \u001b[49m\u001b[43myearfirst\u001b[49m\u001b[38;5;241;43m=\u001b[39;49m\u001b[43myearfirst\u001b[49m\u001b[43m,\u001b[49m\n\u001b[1;32m   2183\u001b[0m \u001b[43m        \u001b[49m\u001b[43mrequire_iso8601\u001b[49m\u001b[38;5;241;43m=\u001b[39;49m\u001b[43mrequire_iso8601\u001b[49m\u001b[43m,\u001b[49m\n\u001b[1;32m   2184\u001b[0m \u001b[43m        \u001b[49m\u001b[43mallow_mixed\u001b[49m\u001b[38;5;241;43m=\u001b[39;49m\u001b[43mallow_mixed\u001b[49m\u001b[43m,\u001b[49m\n\u001b[1;32m   2185\u001b[0m \u001b[43m    \u001b[49m\u001b[43m)\u001b[49m\n\u001b[1;32m   2186\u001b[0m     result \u001b[38;5;241m=\u001b[39m result\u001b[38;5;241m.\u001b[39mreshape(data\u001b[38;5;241m.\u001b[39mshape, order\u001b[38;5;241m=\u001b[39morder)\n",
            "File \u001b[0;32m/opt/conda/lib/python3.9/site-packages/pandas/_libs/tslib.pyx:427\u001b[0m, in \u001b[0;36mpandas._libs.tslib.array_to_datetime\u001b[0;34m()\u001b[0m\n",
            "File \u001b[0;32m/opt/conda/lib/python3.9/site-packages/pandas/_libs/tslib.pyx:698\u001b[0m, in \u001b[0;36mpandas._libs.tslib.array_to_datetime\u001b[0;34m()\u001b[0m\n",
            "\u001b[0;31mValueError\u001b[0m: mixed datetimes and integers in passed array",
            "\nDuring handling of the above exception, another exception occurred:\n",
            "\u001b[0;31mValueError\u001b[0m                                Traceback (most recent call last)",
            "Cell \u001b[0;32mIn[20], line 12\u001b[0m\n\u001b[1;32m     10\u001b[0m \u001b[38;5;66;03m# Generating an overview summary of the cleaned event log\u001b[39;00m\n\u001b[1;32m     11\u001b[0m event_log_summary_cleaned \u001b[38;5;241m=\u001b[39m credit_data\u001b[38;5;241m.\u001b[39mdescribe(include\u001b[38;5;241m=\u001b[39m\u001b[38;5;124m'\u001b[39m\u001b[38;5;124mall\u001b[39m\u001b[38;5;124m'\u001b[39m)\n\u001b[0;32m---> 12\u001b[0m event_log_summary_cleaned\n",
            "File \u001b[0;32m/opt/conda/lib/python3.9/site-packages/IPython/core/displayhook.py:268\u001b[0m, in \u001b[0;36mDisplayHook.__call__\u001b[0;34m(self, result)\u001b[0m\n\u001b[1;32m    266\u001b[0m \u001b[38;5;28mself\u001b[39m\u001b[38;5;241m.\u001b[39mstart_displayhook()\n\u001b[1;32m    267\u001b[0m \u001b[38;5;28mself\u001b[39m\u001b[38;5;241m.\u001b[39mwrite_output_prompt()\n\u001b[0;32m--> 268\u001b[0m format_dict, md_dict \u001b[38;5;241m=\u001b[39m \u001b[38;5;28;43mself\u001b[39;49m\u001b[38;5;241;43m.\u001b[39;49m\u001b[43mcompute_format_data\u001b[49m\u001b[43m(\u001b[49m\u001b[43mresult\u001b[49m\u001b[43m)\u001b[49m\n\u001b[1;32m    269\u001b[0m \u001b[38;5;28mself\u001b[39m\u001b[38;5;241m.\u001b[39mupdate_user_ns(result)\n\u001b[1;32m    270\u001b[0m \u001b[38;5;28mself\u001b[39m\u001b[38;5;241m.\u001b[39mfill_exec_result(result)\n",
            "File \u001b[0;32m/opt/conda/lib/python3.9/site-packages/IPython/core/displayhook.py:157\u001b[0m, in \u001b[0;36mDisplayHook.compute_format_data\u001b[0;34m(self, result)\u001b[0m\n\u001b[1;32m    127\u001b[0m \u001b[38;5;28;01mdef\u001b[39;00m \u001b[38;5;21mcompute_format_data\u001b[39m(\u001b[38;5;28mself\u001b[39m, result):\n\u001b[1;32m    128\u001b[0m \u001b[38;5;250m    \u001b[39m\u001b[38;5;124;03m\"\"\"Compute format data of the object to be displayed.\u001b[39;00m\n\u001b[1;32m    129\u001b[0m \n\u001b[1;32m    130\u001b[0m \u001b[38;5;124;03m    The format data is a generalization of the :func:`repr` of an object.\u001b[39;00m\n\u001b[0;32m   (...)\u001b[0m\n\u001b[1;32m    155\u001b[0m \n\u001b[1;32m    156\u001b[0m \u001b[38;5;124;03m    \"\"\"\u001b[39;00m\n\u001b[0;32m--> 157\u001b[0m     \u001b[38;5;28;01mreturn\u001b[39;00m \u001b[38;5;28;43mself\u001b[39;49m\u001b[38;5;241;43m.\u001b[39;49m\u001b[43mshell\u001b[49m\u001b[38;5;241;43m.\u001b[39;49m\u001b[43mdisplay_formatter\u001b[49m\u001b[38;5;241;43m.\u001b[39;49m\u001b[43mformat\u001b[49m\u001b[43m(\u001b[49m\u001b[43mresult\u001b[49m\u001b[43m)\u001b[49m\n",
            "File \u001b[0;32m/opt/conda/lib/python3.9/site-packages/dx/formatters/main.py:127\u001b[0m, in \u001b[0;36mDXDisplayFormatter.format\u001b[0;34m(self, obj, **kwargs)\u001b[0m\n\u001b[1;32m    125\u001b[0m \u001b[38;5;28;01mdef\u001b[39;00m \u001b[38;5;21mformat\u001b[39m(\u001b[38;5;28mself\u001b[39m, obj, \u001b[38;5;241m*\u001b[39m\u001b[38;5;241m*\u001b[39mkwargs):\n\u001b[1;32m    126\u001b[0m     \u001b[38;5;28;01mif\u001b[39;00m IN_NOTEBOOK_ENV \u001b[38;5;129;01mand\u001b[39;00m \u001b[38;5;28misinstance\u001b[39m(obj, \u001b[38;5;28mtuple\u001b[39m(settings\u001b[38;5;241m.\u001b[39mget_renderable_types())):\n\u001b[0;32m--> 127\u001b[0m         \u001b[43mhandle_format\u001b[49m\u001b[43m(\u001b[49m\u001b[43mobj\u001b[49m\u001b[43m)\u001b[49m\n\u001b[1;32m    128\u001b[0m         \u001b[38;5;28;01mreturn\u001b[39;00m ({}, {})\n\u001b[1;32m    130\u001b[0m     \u001b[38;5;28;01mreturn\u001b[39;00m DEFAULT_IPYTHON_DISPLAY_FORMATTER\u001b[38;5;241m.\u001b[39mformat(obj, \u001b[38;5;241m*\u001b[39m\u001b[38;5;241m*\u001b[39mkwargs)\n",
            "File \u001b[0;32m/opt/conda/lib/python3.9/site-packages/dx/formatters/main.py:111\u001b[0m, in \u001b[0;36mhandle_format\u001b[0;34m(obj, with_ipython_display, ipython_shell, extra_metadata)\u001b[0m\n\u001b[1;32m    109\u001b[0m     logger\u001b[38;5;241m.\u001b[39mdebug(\u001b[38;5;124mf\u001b[39m\u001b[38;5;124m\"\u001b[39m\u001b[38;5;124mError in datalink_processing: \u001b[39m\u001b[38;5;132;01m{\u001b[39;00me\u001b[38;5;132;01m}\u001b[39;00m\u001b[38;5;124m\"\u001b[39m)\n\u001b[1;32m    110\u001b[0m     \u001b[38;5;66;03m# fall back to default processing\u001b[39;00m\n\u001b[0;32m--> 111\u001b[0m     df \u001b[38;5;241m=\u001b[39m \u001b[43mnormalize_index_and_columns\u001b[49m\u001b[43m(\u001b[49m\u001b[43mdf\u001b[49m\u001b[43m)\u001b[49m\n\u001b[1;32m    112\u001b[0m     payload, metadata \u001b[38;5;241m=\u001b[39m format_output(\n\u001b[1;32m    113\u001b[0m         df,\n\u001b[1;32m    114\u001b[0m         default_index_used\u001b[38;5;241m=\u001b[39mdefault_index_used,\n\u001b[1;32m    115\u001b[0m         with_ipython_display\u001b[38;5;241m=\u001b[39mwith_ipython_display,\n\u001b[1;32m    116\u001b[0m         extra_metadata\u001b[38;5;241m=\u001b[39mextra_metadata,\n\u001b[1;32m    117\u001b[0m     )\n\u001b[1;32m    119\u001b[0m \u001b[38;5;28;01mreturn\u001b[39;00m payload, metadata\n",
            "File \u001b[0;32m/opt/conda/lib/python3.9/site-packages/dx/utils/formatting.py:188\u001b[0m, in \u001b[0;36mnormalize_index_and_columns\u001b[0;34m(df)\u001b[0m\n\u001b[1;32m    183\u001b[0m \u001b[38;5;250m\u001b[39m\u001b[38;5;124;03m\"\"\"\u001b[39;00m\n\u001b[1;32m    184\u001b[0m \u001b[38;5;124;03mAny additional formatting that needs to happen to the index,\u001b[39;00m\n\u001b[1;32m    185\u001b[0m \u001b[38;5;124;03mthe columns, or the data itself should be done here.\u001b[39;00m\n\u001b[1;32m    186\u001b[0m \u001b[38;5;124;03m\"\"\"\u001b[39;00m\n\u001b[1;32m    187\u001b[0m df \u001b[38;5;241m=\u001b[39m normalize_index(df)\n\u001b[0;32m--> 188\u001b[0m df \u001b[38;5;241m=\u001b[39m \u001b[43mnormalize_columns\u001b[49m\u001b[43m(\u001b[49m\u001b[43mdf\u001b[49m\u001b[43m)\u001b[49m\n\u001b[1;32m    189\u001b[0m df \u001b[38;5;241m=\u001b[39m deconflict_index_and_column_names(df)\n\u001b[1;32m    190\u001b[0m \u001b[38;5;28;01mreturn\u001b[39;00m df\n",
            "File \u001b[0;32m/opt/conda/lib/python3.9/site-packages/dx/utils/formatting.py:254\u001b[0m, in \u001b[0;36mnormalize_columns\u001b[0;34m(df)\u001b[0m\n\u001b[1;32m    252\u001b[0m logger\u001b[38;5;241m.\u001b[39mdebug(\u001b[38;5;124m\"\u001b[39m\u001b[38;5;124m-- cleaning columns before display --\u001b[39m\u001b[38;5;124m\"\u001b[39m)\n\u001b[1;32m    253\u001b[0m \u001b[38;5;28;01mfor\u001b[39;00m column \u001b[38;5;129;01min\u001b[39;00m df\u001b[38;5;241m.\u001b[39mcolumns:\n\u001b[0;32m--> 254\u001b[0m     df[column] \u001b[38;5;241m=\u001b[39m \u001b[43mclean_series_values\u001b[49m\u001b[43m(\u001b[49m\u001b[43mdf\u001b[49m\u001b[43m[\u001b[49m\u001b[43mcolumn\u001b[49m\u001b[43m]\u001b[49m\u001b[43m)\u001b[49m\n\u001b[1;32m    255\u001b[0m \u001b[38;5;28;01mreturn\u001b[39;00m df\n",
            "File \u001b[0;32m/opt/conda/lib/python3.9/site-packages/dx/utils/formatting.py:291\u001b[0m, in \u001b[0;36mclean_series_values\u001b[0;34m(s)\u001b[0m\n\u001b[1;32m    289\u001b[0m s \u001b[38;5;241m=\u001b[39m date_time\u001b[38;5;241m.\u001b[39mhandle_time_period_series(s)\n\u001b[1;32m    290\u001b[0m s \u001b[38;5;241m=\u001b[39m date_time\u001b[38;5;241m.\u001b[39mhandle_time_delta_series(s)\n\u001b[0;32m--> 291\u001b[0m s \u001b[38;5;241m=\u001b[39m \u001b[43mdate_time\u001b[49m\u001b[38;5;241;43m.\u001b[39;49m\u001b[43mhandle_datetime_series\u001b[49m\u001b[43m(\u001b[49m\u001b[43ms\u001b[49m\u001b[43m)\u001b[49m\n\u001b[1;32m    293\u001b[0m s \u001b[38;5;241m=\u001b[39m numeric\u001b[38;5;241m.\u001b[39mhandle_decimal_series(s)\n\u001b[1;32m    294\u001b[0m s \u001b[38;5;241m=\u001b[39m numeric\u001b[38;5;241m.\u001b[39mhandle_complex_number_series(s)\n",
            "File \u001b[0;32m/opt/conda/lib/python3.9/site-packages/dx/datatypes/date_time.py:186\u001b[0m, in \u001b[0;36mhandle_datetime_series\u001b[0;34m(s)\u001b[0m\n\u001b[1;32m    181\u001b[0m \u001b[38;5;28;01mif\u001b[39;00m \u001b[38;5;28many\u001b[39m(\u001b[38;5;28misinstance\u001b[39m(v, types) \u001b[38;5;28;01mfor\u001b[39;00m v \u001b[38;5;129;01min\u001b[39;00m sample_rows\u001b[38;5;241m.\u001b[39mvalues):\n\u001b[1;32m    182\u001b[0m     logger\u001b[38;5;241m.\u001b[39mdebug(\n\u001b[1;32m    183\u001b[0m         \u001b[38;5;124mf\u001b[39m\u001b[38;5;124m\"\u001b[39m\u001b[38;5;124mseries `\u001b[39m\u001b[38;5;132;01m{\u001b[39;00ms\u001b[38;5;241m.\u001b[39mname\u001b[38;5;132;01m}\u001b[39;00m\u001b[38;5;124m` has datetime values; converting with pd.to_datetime()\u001b[39m\u001b[38;5;124m\"\u001b[39m,\n\u001b[1;32m    184\u001b[0m         utc\u001b[38;5;241m=\u001b[39mhas_tzinfo\u001b[38;5;241m.\u001b[39many(),\n\u001b[1;32m    185\u001b[0m     )\n\u001b[0;32m--> 186\u001b[0m     s \u001b[38;5;241m=\u001b[39m \u001b[43mpd\u001b[49m\u001b[38;5;241;43m.\u001b[39;49m\u001b[43mto_datetime\u001b[49m\u001b[43m(\u001b[49m\u001b[43ms\u001b[49m\u001b[43m,\u001b[49m\u001b[43m \u001b[49m\u001b[43mutc\u001b[49m\u001b[38;5;241;43m=\u001b[39;49m\u001b[43mhas_tzinfo\u001b[49m\u001b[38;5;241;43m.\u001b[39;49m\u001b[43many\u001b[49m\u001b[43m(\u001b[49m\u001b[43m)\u001b[49m\u001b[43m)\u001b[49m\n\u001b[1;32m    187\u001b[0m \u001b[38;5;28;01mreturn\u001b[39;00m s\n",
            "File \u001b[0;32m/opt/conda/lib/python3.9/site-packages/pandas/core/tools/datetimes.py:1068\u001b[0m, in \u001b[0;36mto_datetime\u001b[0;34m(arg, errors, dayfirst, yearfirst, utc, format, exact, unit, infer_datetime_format, origin, cache)\u001b[0m\n\u001b[1;32m   1066\u001b[0m         result \u001b[38;5;241m=\u001b[39m arg\u001b[38;5;241m.\u001b[39mmap(cache_array)\n\u001b[1;32m   1067\u001b[0m     \u001b[38;5;28;01melse\u001b[39;00m:\n\u001b[0;32m-> 1068\u001b[0m         values \u001b[38;5;241m=\u001b[39m \u001b[43mconvert_listlike\u001b[49m\u001b[43m(\u001b[49m\u001b[43marg\u001b[49m\u001b[38;5;241;43m.\u001b[39;49m\u001b[43m_values\u001b[49m\u001b[43m,\u001b[49m\u001b[43m \u001b[49m\u001b[38;5;28;43mformat\u001b[39;49m\u001b[43m)\u001b[49m\n\u001b[1;32m   1069\u001b[0m         result \u001b[38;5;241m=\u001b[39m arg\u001b[38;5;241m.\u001b[39m_constructor(values, index\u001b[38;5;241m=\u001b[39marg\u001b[38;5;241m.\u001b[39mindex, name\u001b[38;5;241m=\u001b[39marg\u001b[38;5;241m.\u001b[39mname)\n\u001b[1;32m   1070\u001b[0m \u001b[38;5;28;01melif\u001b[39;00m \u001b[38;5;28misinstance\u001b[39m(arg, (ABCDataFrame, abc\u001b[38;5;241m.\u001b[39mMutableMapping)):\n",
            "File \u001b[0;32m/opt/conda/lib/python3.9/site-packages/pandas/core/tools/datetimes.py:438\u001b[0m, in \u001b[0;36m_convert_listlike_datetimes\u001b[0;34m(arg, format, name, tz, unit, errors, infer_datetime_format, dayfirst, yearfirst, exact)\u001b[0m\n\u001b[1;32m    436\u001b[0m \u001b[38;5;28;01massert\u001b[39;00m \u001b[38;5;28mformat\u001b[39m \u001b[38;5;129;01mis\u001b[39;00m \u001b[38;5;28;01mNone\u001b[39;00m \u001b[38;5;129;01mor\u001b[39;00m infer_datetime_format\n\u001b[1;32m    437\u001b[0m utc \u001b[38;5;241m=\u001b[39m tz \u001b[38;5;241m==\u001b[39m \u001b[38;5;124m\"\u001b[39m\u001b[38;5;124mutc\u001b[39m\u001b[38;5;124m\"\u001b[39m\n\u001b[0;32m--> 438\u001b[0m result, tz_parsed \u001b[38;5;241m=\u001b[39m \u001b[43mobjects_to_datetime64ns\u001b[49m\u001b[43m(\u001b[49m\n\u001b[1;32m    439\u001b[0m \u001b[43m    \u001b[49m\u001b[43marg\u001b[49m\u001b[43m,\u001b[49m\n\u001b[1;32m    440\u001b[0m \u001b[43m    \u001b[49m\u001b[43mdayfirst\u001b[49m\u001b[38;5;241;43m=\u001b[39;49m\u001b[43mdayfirst\u001b[49m\u001b[43m,\u001b[49m\n\u001b[1;32m    441\u001b[0m \u001b[43m    \u001b[49m\u001b[43myearfirst\u001b[49m\u001b[38;5;241;43m=\u001b[39;49m\u001b[43myearfirst\u001b[49m\u001b[43m,\u001b[49m\n\u001b[1;32m    442\u001b[0m \u001b[43m    \u001b[49m\u001b[43mutc\u001b[49m\u001b[38;5;241;43m=\u001b[39;49m\u001b[43mutc\u001b[49m\u001b[43m,\u001b[49m\n\u001b[1;32m    443\u001b[0m \u001b[43m    \u001b[49m\u001b[43merrors\u001b[49m\u001b[38;5;241;43m=\u001b[39;49m\u001b[43merrors\u001b[49m\u001b[43m,\u001b[49m\n\u001b[1;32m    444\u001b[0m \u001b[43m    \u001b[49m\u001b[43mrequire_iso8601\u001b[49m\u001b[38;5;241;43m=\u001b[39;49m\u001b[43mrequire_iso8601\u001b[49m\u001b[43m,\u001b[49m\n\u001b[1;32m    445\u001b[0m \u001b[43m    \u001b[49m\u001b[43mallow_object\u001b[49m\u001b[38;5;241;43m=\u001b[39;49m\u001b[38;5;28;43;01mTrue\u001b[39;49;00m\u001b[43m,\u001b[49m\n\u001b[1;32m    446\u001b[0m \u001b[43m\u001b[49m\u001b[43m)\u001b[49m\n\u001b[1;32m    448\u001b[0m \u001b[38;5;28;01mif\u001b[39;00m tz_parsed \u001b[38;5;129;01mis\u001b[39;00m \u001b[38;5;129;01mnot\u001b[39;00m \u001b[38;5;28;01mNone\u001b[39;00m:\n\u001b[1;32m    449\u001b[0m     \u001b[38;5;66;03m# We can take a shortcut since the datetime64 numpy array\u001b[39;00m\n\u001b[1;32m    450\u001b[0m     \u001b[38;5;66;03m# is in UTC\u001b[39;00m\n\u001b[1;32m    451\u001b[0m     dta \u001b[38;5;241m=\u001b[39m DatetimeArray(result, dtype\u001b[38;5;241m=\u001b[39mtz_to_dtype(tz_parsed))\n",
            "File \u001b[0;32m/opt/conda/lib/python3.9/site-packages/pandas/core/arrays/datetimes.py:2177\u001b[0m, in \u001b[0;36mobjects_to_datetime64ns\u001b[0;34m(data, dayfirst, yearfirst, utc, errors, require_iso8601, allow_object, allow_mixed)\u001b[0m\n\u001b[1;32m   2175\u001b[0m order: Literal[\u001b[38;5;124m\"\u001b[39m\u001b[38;5;124mF\u001b[39m\u001b[38;5;124m\"\u001b[39m, \u001b[38;5;124m\"\u001b[39m\u001b[38;5;124mC\u001b[39m\u001b[38;5;124m\"\u001b[39m] \u001b[38;5;241m=\u001b[39m \u001b[38;5;124m\"\u001b[39m\u001b[38;5;124mF\u001b[39m\u001b[38;5;124m\"\u001b[39m \u001b[38;5;28;01mif\u001b[39;00m flags\u001b[38;5;241m.\u001b[39mf_contiguous \u001b[38;5;28;01melse\u001b[39;00m \u001b[38;5;124m\"\u001b[39m\u001b[38;5;124mC\u001b[39m\u001b[38;5;124m\"\u001b[39m\n\u001b[1;32m   2176\u001b[0m \u001b[38;5;28;01mtry\u001b[39;00m:\n\u001b[0;32m-> 2177\u001b[0m     result, tz_parsed \u001b[38;5;241m=\u001b[39m \u001b[43mtslib\u001b[49m\u001b[38;5;241;43m.\u001b[39;49m\u001b[43marray_to_datetime\u001b[49m\u001b[43m(\u001b[49m\n\u001b[1;32m   2178\u001b[0m \u001b[43m        \u001b[49m\u001b[43mdata\u001b[49m\u001b[38;5;241;43m.\u001b[39;49m\u001b[43mravel\u001b[49m\u001b[43m(\u001b[49m\u001b[38;5;124;43m\"\u001b[39;49m\u001b[38;5;124;43mK\u001b[39;49m\u001b[38;5;124;43m\"\u001b[39;49m\u001b[43m)\u001b[49m\u001b[43m,\u001b[49m\n\u001b[1;32m   2179\u001b[0m \u001b[43m        \u001b[49m\u001b[43merrors\u001b[49m\u001b[38;5;241;43m=\u001b[39;49m\u001b[43merrors\u001b[49m\u001b[43m,\u001b[49m\n\u001b[1;32m   2180\u001b[0m \u001b[43m        \u001b[49m\u001b[43mutc\u001b[49m\u001b[38;5;241;43m=\u001b[39;49m\u001b[43mutc\u001b[49m\u001b[43m,\u001b[49m\n\u001b[1;32m   2181\u001b[0m \u001b[43m        \u001b[49m\u001b[43mdayfirst\u001b[49m\u001b[38;5;241;43m=\u001b[39;49m\u001b[43mdayfirst\u001b[49m\u001b[43m,\u001b[49m\n\u001b[1;32m   2182\u001b[0m \u001b[43m        \u001b[49m\u001b[43myearfirst\u001b[49m\u001b[38;5;241;43m=\u001b[39;49m\u001b[43myearfirst\u001b[49m\u001b[43m,\u001b[49m\n\u001b[1;32m   2183\u001b[0m \u001b[43m        \u001b[49m\u001b[43mrequire_iso8601\u001b[49m\u001b[38;5;241;43m=\u001b[39;49m\u001b[43mrequire_iso8601\u001b[49m\u001b[43m,\u001b[49m\n\u001b[1;32m   2184\u001b[0m \u001b[43m        \u001b[49m\u001b[43mallow_mixed\u001b[49m\u001b[38;5;241;43m=\u001b[39;49m\u001b[43mallow_mixed\u001b[49m\u001b[43m,\u001b[49m\n\u001b[1;32m   2185\u001b[0m \u001b[43m    \u001b[49m\u001b[43m)\u001b[49m\n\u001b[1;32m   2186\u001b[0m     result \u001b[38;5;241m=\u001b[39m result\u001b[38;5;241m.\u001b[39mreshape(data\u001b[38;5;241m.\u001b[39mshape, order\u001b[38;5;241m=\u001b[39morder)\n\u001b[1;32m   2187\u001b[0m \u001b[38;5;28;01mexcept\u001b[39;00m \u001b[38;5;167;01mOverflowError\u001b[39;00m \u001b[38;5;28;01mas\u001b[39;00m err:\n\u001b[1;32m   2188\u001b[0m     \u001b[38;5;66;03m# Exception is raised when a part of date is greater than 32 bit signed int\u001b[39;00m\n",
            "File \u001b[0;32m/opt/conda/lib/python3.9/site-packages/pandas/_libs/tslib.pyx:427\u001b[0m, in \u001b[0;36mpandas._libs.tslib.array_to_datetime\u001b[0;34m()\u001b[0m\n",
            "File \u001b[0;32m/opt/conda/lib/python3.9/site-packages/pandas/_libs/tslib.pyx:698\u001b[0m, in \u001b[0;36mpandas._libs.tslib.array_to_datetime\u001b[0;34m()\u001b[0m\n",
            "\u001b[0;31mValueError\u001b[0m: mixed datetimes and integers in passed array"
          ]
        }
      ],
      "source": [
        "# Converting European-formatted numbers to American-formatted numbers\n",
        "def convert_european_to_american(value):\n",
        "    if isinstance(value, str):\n",
        "        return float(value.replace(',', '.'))\n",
        "    return value  # If it's already a number, return as is\n",
        "\n",
        "credit_data['FirstWithdrawalAmount'] = credit_data['FirstWithdrawalAmount'].apply(convert_european_to_american)\n",
        "credit_data['OfferedAmount'] = credit_data['OfferedAmount'].apply(convert_european_to_american)\n",
        "\n",
        "# Generating an overview summary of the cleaned event log\n",
        "event_log_summary_cleaned = credit_data.describe(include='all')\n",
        "event_log_summary_cleaned"
      ]
    },
    {
      "cell_type": "code",
      "execution_count": null,
      "id": "6c14fc1f-bfe7-4500-8ece-252f12c21f06",
      "metadata": {
        "ExecuteTime": {
          "end_time": "2023-10-10T00:30:01.685174+00:00",
          "start_time": "2023-10-10T00:30:00.698319+00:00"
        },
        "noteable": {
          "cell_type": "code"
        }
      },
      "outputs": [
        {
          "data": {
            "image/png": "[encoded data removed]"
          },
          "metadata": {},
          "output_type": "display_data"
        }
      ],
      "source": [
        "# Importing required libraries for data visualization\n",
        "import matplotlib.pyplot as plt\n",
        "import seaborn as sns\n",
        "\n",
        "# Generating a frequency distribution of activities\n",
        "activity_frequency = credit_data['Activity'].value_counts()\n",
        "\n",
        "# Plotting the frequency distribution\n",
        "plt.figure(figsize=(12, 8))\n",
        "sns.barplot(x=activity_frequency.index, y=activity_frequency.values, palette='viridis')\n",
        "plt.title('Frequency Distribution of Activities')\n",
        "plt.xlabel('Activity')\n",
        "plt.ylabel('Frequency')\n",
        "plt.xticks(rotation=90)\n",
        "plt.show()"
      ]
    },
    {
      "cell_type": "code",
      "execution_count": null,
      "id": "28197ed3-b2f8-44e7-ac87-47f9cfba9ef0",
      "metadata": {
        "ExecuteTime": {
          "end_time": "2023-10-10T00:34:11.586296+00:00",
          "start_time": "2023-10-10T00:34:11.390309+00:00"
        },
        "datalink": {
          "b14124d0-0529-4fd2-9c9c-4e1936c49e47": {
            "applied_filters": [],
            "dataframe_info": {
              "default_index_used": false,
              "orig_num_cols": 1,
              "orig_num_rows": 24,
              "orig_size_bytes": 384,
              "truncated_num_cols": 1,
              "truncated_num_rows": 24,
              "truncated_size_bytes": 384,
              "truncated_string_columns": []
            },
            "display_id": "b14124d0-0529-4fd2-9c9c-4e1936c49e47",
            "dx_settings": {
              "ALLOW_NOTEABLE_ATTRS": true,
              "COLUMN_SAMPLING_METHOD": "outer",
              "DB_LOCATION": ":memory:",
              "DEV_MODE": false,
              "DISPLAY_MAX_COLUMNS": 100,
              "DISPLAY_MAX_ROWS": 50000,
              "DISPLAY_MODE": "simple",
              "ENABLE_ASSIGNMENT": true,
              "ENABLE_DATALINK": true,
              "FLATTEN_COLUMN_VALUES": true,
              "FLATTEN_INDEX_VALUES": false,
              "GENERATE_DEX_METADATA": false,
              "HTML_TABLE_SCHEMA": false,
              "LOG_LEVEL": 30,
              "MAX_RENDER_SIZE_BYTES": 104857600,
              "MAX_STRING_LENGTH": 250,
              "NUM_PAST_SAMPLES_TRACKED": 3,
              "RANDOM_STATE": 12648430,
              "RESET_INDEX_VALUES": false,
              "ROW_SAMPLING_METHOD": "random",
              "SAMPLING_FACTOR": 0.1,
              "SAMPLING_METHOD": "random",
              "STRINGIFY_COLUMN_VALUES": true,
              "STRINGIFY_INDEX_VALUES": false
            },
            "sample_history": [],
            "sampling_time": "2023-10-10T00:34:11.428634",
            "user_variable_name": null,
            "variable_name": "unk_dataframe_8d77ce9176ca431fac72c17f2cf7337e"
          }
        },
        "noteable": {
          "cell_type": "code"
        }
      },
      "outputs": [
        {
          "data": {
            "application/vnd.dataresource+json": {
              "data": [
                {
                  "0": "object",
                  "index": "Case_ID"
                },
                {
                  "0": "object",
                  "index": "Activity"
                },
                {
                  "0": "object",
                  "index": "Resource"
                },
                {
                  "0": "datetime64[ns]",
                  "index": "Start_Timestamp"
                },
                {
                  "0": "datetime64[ns]",
                  "index": "Complete_Timestamp"
                },
                {
                  "0": "object",
                  "index": "Variant"
                },
                {
                  "0": "int64",
                  "index": "Variant_index"
                },
                {
                  "0": "object",
                  "index": "case_ApplicationType"
                },
                {
                  "0": "object",
                  "index": "case_creditGoal"
                },
                {
                  "0": "object",
                  "index": "case_RequestedAmount"
                },
                {
                  "0": "float64",
                  "index": "Accepted"
                },
                {
                  "0": "object",
                  "index": "Action"
                },
                {
                  "0": "float64",
                  "index": "CreditScore"
                },
                {
                  "0": "object",
                  "index": "EventID"
                },
                {
                  "0": "object",
                  "index": "EventOrigin"
                },
                {
                  "0": "float64",
                  "index": "FirstWithdrawalAmount"
                },
                {
                  "0": "float64",
                  "index": "MonthlyCost"
                },
                {
                  "0": "float64",
                  "index": "NumberOfTerms"
                },
                {
                  "0": "object",
                  "index": "OfferID"
                },
                {
                  "0": "float64",
                  "index": "OfferedAmount"
                },
                {
                  "0": "float64",
                  "index": "Selected"
                },
                {
                  "0": "object",
                  "index": "lifecycle:transition"
                },
                {
                  "0": "object",
                  "index": "starttimestamp"
                },
                {
                  "0": "object",
                  "index": "endtimestamp"
                }
              ],
              "datalink": {
                "display_id": "b14124d0-0529-4fd2-9c9c-4e1936c49e47"
              },
              "schema": {
                "fields": [
                  {
                    "name": "index",
                    "type": "string"
                  },
                  {
                    "name": "0",
                    "type": "string"
                  }
                ],
                "pandas_version": "1.4.0",
                "primaryKey": [
                  "index"
                ]
              }
            }
          },
          "metadata": {
            "application/vnd.dataresource+json": {
              "datalink": {
                "applied_filters": [],
                "dataframe_info": {
                  "default_index_used": false,
                  "orig_num_cols": 1,
                  "orig_num_rows": 24,
                  "orig_size_bytes": 384,
                  "truncated_num_cols": 1,
                  "truncated_num_rows": 24,
                  "truncated_size_bytes": 384,
                  "truncated_string_columns": []
                },
                "display_id": "b14124d0-0529-4fd2-9c9c-4e1936c49e47",
                "dx_settings": {
                  "ALLOW_NOTEABLE_ATTRS": true,
                  "COLUMN_SAMPLING_METHOD": "outer",
                  "DB_LOCATION": ":memory:",
                  "DEV_MODE": false,
                  "DISPLAY_MAX_COLUMNS": 100,
                  "DISPLAY_MAX_ROWS": 50000,
                  "DISPLAY_MODE": "simple",
                  "ENABLE_ASSIGNMENT": true,
                  "ENABLE_DATALINK": true,
                  "FLATTEN_COLUMN_VALUES": true,
                  "FLATTEN_INDEX_VALUES": false,
                  "GENERATE_DEX_METADATA": false,
                  "HTML_TABLE_SCHEMA": false,
                  "LOG_LEVEL": 30,
                  "MAX_RENDER_SIZE_BYTES": 104857600,
                  "MAX_STRING_LENGTH": 250,
                  "NUM_PAST_SAMPLES_TRACKED": 3,
                  "RANDOM_STATE": 12648430,
                  "RESET_INDEX_VALUES": false,
                  "ROW_SAMPLING_METHOD": "random",
                  "SAMPLING_FACTOR": 0.1,
                  "SAMPLING_METHOD": "random",
                  "STRINGIFY_COLUMN_VALUES": true,
                  "STRINGIFY_INDEX_VALUES": false
                },
                "sample_history": [],
                "sampling_time": "2023-10-10T00:34:11.428634",
                "user_variable_name": null,
                "variable_name": "unk_dataframe_8d77ce9176ca431fac72c17f2cf7337e"
              },
              "display_id": "b14124d0-0529-4fd2-9c9c-4e1936c49e47"
            }
          },
          "output_type": "display_data"
        }
      ],
      "source": [
        "# Converting European-formatted numbers to American-formatted numbers\n",
        "# Replacing ',' with '.' and converting to numerical type\n",
        "credit_data['FirstWithdrawalAmount'] = credit_data['FirstWithdrawalAmount'].apply(lambda x: str(x).replace(',', '.')).astype(float)\n",
        "credit_data['OfferedAmount'] = credit_data['OfferedAmount'].apply(lambda x: str(x).replace(',', '.')).astype(float)\n",
        "\n",
        "# Verifying the conversion by checking data types\n",
        "credit_data.dtypes"
      ]
    },
    {
      "cell_type": "code",
      "execution_count": null,
      "id": "4f79ac65-fc73-468c-b9ed-5aa92f1a752f",
      "metadata": {
        "ExecuteTime": {
          "end_time": "2023-10-10T00:35:08.149288+00:00",
          "start_time": "2023-10-10T00:35:07.782363+00:00"
        },
        "noteable": {
          "cell_type": "code"
        }
      },
      "outputs": [
        {
          "ename": "ValueError",
          "evalue": "mixed datetimes and integers in passed array",
          "output_type": "error",
          "traceback": [
            "\u001b[0;31m---------------------------------------------------------------------------\u001b[0m",
            "\u001b[0;31mValueError\u001b[0m                                Traceback (most recent call last)",
            "File \u001b[0;32m/opt/conda/lib/python3.9/site-packages/dx/formatters/main.py:101\u001b[0m, in \u001b[0;36mhandle_format\u001b[0;34m(obj, with_ipython_display, ipython_shell, extra_metadata)\u001b[0m\n\u001b[1;32m    100\u001b[0m \u001b[38;5;28;01mtry\u001b[39;00m:\n\u001b[0;32m--> 101\u001b[0m     payload, metadata \u001b[38;5;241m=\u001b[39m \u001b[43mdatalink_processing\u001b[49m\u001b[43m(\u001b[49m\n\u001b[1;32m    102\u001b[0m \u001b[43m        \u001b[49m\u001b[43mdf\u001b[49m\u001b[43m,\u001b[49m\n\u001b[1;32m    103\u001b[0m \u001b[43m        \u001b[49m\u001b[43mdefault_index_used\u001b[49m\u001b[43m,\u001b[49m\n\u001b[1;32m    104\u001b[0m \u001b[43m        \u001b[49m\u001b[43mipython_shell\u001b[49m\u001b[38;5;241;43m=\u001b[39;49m\u001b[43mipython\u001b[49m\u001b[43m,\u001b[49m\n\u001b[1;32m    105\u001b[0m \u001b[43m        \u001b[49m\u001b[43mwith_ipython_display\u001b[49m\u001b[38;5;241;43m=\u001b[39;49m\u001b[43mwith_ipython_display\u001b[49m\u001b[43m,\u001b[49m\n\u001b[1;32m    106\u001b[0m \u001b[43m        \u001b[49m\u001b[43mextra_metadata\u001b[49m\u001b[38;5;241;43m=\u001b[39;49m\u001b[43mextra_metadata\u001b[49m\u001b[43m,\u001b[49m\n\u001b[1;32m    107\u001b[0m \u001b[43m    \u001b[49m\u001b[43m)\u001b[49m\n\u001b[1;32m    108\u001b[0m \u001b[38;5;28;01mexcept\u001b[39;00m \u001b[38;5;167;01mException\u001b[39;00m \u001b[38;5;28;01mas\u001b[39;00m e:\n",
            "File \u001b[0;32m/opt/conda/lib/python3.9/site-packages/dx/formatters/main.py:50\u001b[0m, in \u001b[0;36mdatalink_processing\u001b[0;34m(df, default_index_used, ipython_shell, with_ipython_display, extra_metadata)\u001b[0m\n\u001b[1;32m     43\u001b[0m \u001b[38;5;28;01mdef\u001b[39;00m \u001b[38;5;21mdatalink_processing\u001b[39m(\n\u001b[1;32m     44\u001b[0m     df: pd\u001b[38;5;241m.\u001b[39mDataFrame,\n\u001b[1;32m     45\u001b[0m     default_index_used: \u001b[38;5;28mbool\u001b[39m,\n\u001b[0;32m   (...)\u001b[0m\n\u001b[1;32m     48\u001b[0m     extra_metadata: Optional[\u001b[38;5;28mdict\u001b[39m] \u001b[38;5;241m=\u001b[39m \u001b[38;5;28;01mNone\u001b[39;00m,\n\u001b[1;32m     49\u001b[0m ):\n\u001b[0;32m---> 50\u001b[0m     dxdf \u001b[38;5;241m=\u001b[39m \u001b[43mDXDataFrame\u001b[49m\u001b[43m(\u001b[49m\u001b[43mdf\u001b[49m\u001b[43m)\u001b[49m\n\u001b[1;32m     51\u001b[0m     parent_display_id \u001b[38;5;241m=\u001b[39m determine_parent_display_id(dxdf)\n",
            "File \u001b[0;32m/opt/conda/lib/python3.9/site-packages/dx/utils/tracking.py:73\u001b[0m, in \u001b[0;36mDXDataFrame.__init__\u001b[0;34m(self, df, ipython_shell)\u001b[0m\n\u001b[1;32m     71\u001b[0m \u001b[38;5;28mself\u001b[39m\u001b[38;5;241m.\u001b[39mindex_name \u001b[38;5;241m=\u001b[39m get_df_index(df\u001b[38;5;241m.\u001b[39mindex)\n\u001b[0;32m---> 73\u001b[0m \u001b[38;5;28mself\u001b[39m\u001b[38;5;241m.\u001b[39mdf \u001b[38;5;241m=\u001b[39m \u001b[43mnormalize_index_and_columns\u001b[49m\u001b[43m(\u001b[49m\u001b[43mdf\u001b[49m\u001b[43m)\u001b[49m\n\u001b[1;32m     74\u001b[0m \u001b[38;5;28mself\u001b[39m\u001b[38;5;241m.\u001b[39mhash \u001b[38;5;241m=\u001b[39m generate_df_hash(\u001b[38;5;28mself\u001b[39m\u001b[38;5;241m.\u001b[39mdf)\n",
            "File \u001b[0;32m/opt/conda/lib/python3.9/site-packages/dx/utils/formatting.py:188\u001b[0m, in \u001b[0;36mnormalize_index_and_columns\u001b[0;34m(df)\u001b[0m\n\u001b[1;32m    187\u001b[0m df \u001b[38;5;241m=\u001b[39m normalize_index(df)\n\u001b[0;32m--> 188\u001b[0m df \u001b[38;5;241m=\u001b[39m \u001b[43mnormalize_columns\u001b[49m\u001b[43m(\u001b[49m\u001b[43mdf\u001b[49m\u001b[43m)\u001b[49m\n\u001b[1;32m    189\u001b[0m df \u001b[38;5;241m=\u001b[39m deconflict_index_and_column_names(df)\n",
            "File \u001b[0;32m/opt/conda/lib/python3.9/site-packages/dx/utils/formatting.py:254\u001b[0m, in \u001b[0;36mnormalize_columns\u001b[0;34m(df)\u001b[0m\n\u001b[1;32m    253\u001b[0m \u001b[38;5;28;01mfor\u001b[39;00m column \u001b[38;5;129;01min\u001b[39;00m df\u001b[38;5;241m.\u001b[39mcolumns:\n\u001b[0;32m--> 254\u001b[0m     df[column] \u001b[38;5;241m=\u001b[39m \u001b[43mclean_series_values\u001b[49m\u001b[43m(\u001b[49m\u001b[43mdf\u001b[49m\u001b[43m[\u001b[49m\u001b[43mcolumn\u001b[49m\u001b[43m]\u001b[49m\u001b[43m)\u001b[49m\n\u001b[1;32m    255\u001b[0m \u001b[38;5;28;01mreturn\u001b[39;00m df\n",
            "File \u001b[0;32m/opt/conda/lib/python3.9/site-packages/dx/utils/formatting.py:291\u001b[0m, in \u001b[0;36mclean_series_values\u001b[0;34m(s)\u001b[0m\n\u001b[1;32m    290\u001b[0m s \u001b[38;5;241m=\u001b[39m date_time\u001b[38;5;241m.\u001b[39mhandle_time_delta_series(s)\n\u001b[0;32m--> 291\u001b[0m s \u001b[38;5;241m=\u001b[39m \u001b[43mdate_time\u001b[49m\u001b[38;5;241;43m.\u001b[39;49m\u001b[43mhandle_datetime_series\u001b[49m\u001b[43m(\u001b[49m\u001b[43ms\u001b[49m\u001b[43m)\u001b[49m\n\u001b[1;32m    293\u001b[0m s \u001b[38;5;241m=\u001b[39m numeric\u001b[38;5;241m.\u001b[39mhandle_decimal_series(s)\n",
            "File \u001b[0;32m/opt/conda/lib/python3.9/site-packages/dx/datatypes/date_time.py:186\u001b[0m, in \u001b[0;36mhandle_datetime_series\u001b[0;34m(s)\u001b[0m\n\u001b[1;32m    182\u001b[0m     logger\u001b[38;5;241m.\u001b[39mdebug(\n\u001b[1;32m    183\u001b[0m         \u001b[38;5;124mf\u001b[39m\u001b[38;5;124m\"\u001b[39m\u001b[38;5;124mseries `\u001b[39m\u001b[38;5;132;01m{\u001b[39;00ms\u001b[38;5;241m.\u001b[39mname\u001b[38;5;132;01m}\u001b[39;00m\u001b[38;5;124m` has datetime values; converting with pd.to_datetime()\u001b[39m\u001b[38;5;124m\"\u001b[39m,\n\u001b[1;32m    184\u001b[0m         utc\u001b[38;5;241m=\u001b[39mhas_tzinfo\u001b[38;5;241m.\u001b[39many(),\n\u001b[1;32m    185\u001b[0m     )\n\u001b[0;32m--> 186\u001b[0m     s \u001b[38;5;241m=\u001b[39m \u001b[43mpd\u001b[49m\u001b[38;5;241;43m.\u001b[39;49m\u001b[43mto_datetime\u001b[49m\u001b[43m(\u001b[49m\u001b[43ms\u001b[49m\u001b[43m,\u001b[49m\u001b[43m \u001b[49m\u001b[43mutc\u001b[49m\u001b[38;5;241;43m=\u001b[39;49m\u001b[43mhas_tzinfo\u001b[49m\u001b[38;5;241;43m.\u001b[39;49m\u001b[43many\u001b[49m\u001b[43m(\u001b[49m\u001b[43m)\u001b[49m\u001b[43m)\u001b[49m\n\u001b[1;32m    187\u001b[0m \u001b[38;5;28;01mreturn\u001b[39;00m s\n",
            "File \u001b[0;32m/opt/conda/lib/python3.9/site-packages/pandas/core/tools/datetimes.py:1068\u001b[0m, in \u001b[0;36mto_datetime\u001b[0;34m(arg, errors, dayfirst, yearfirst, utc, format, exact, unit, infer_datetime_format, origin, cache)\u001b[0m\n\u001b[1;32m   1067\u001b[0m \u001b[38;5;28;01melse\u001b[39;00m:\n\u001b[0;32m-> 1068\u001b[0m     values \u001b[38;5;241m=\u001b[39m \u001b[43mconvert_listlike\u001b[49m\u001b[43m(\u001b[49m\u001b[43marg\u001b[49m\u001b[38;5;241;43m.\u001b[39;49m\u001b[43m_values\u001b[49m\u001b[43m,\u001b[49m\u001b[43m \u001b[49m\u001b[38;5;28;43mformat\u001b[39;49m\u001b[43m)\u001b[49m\n\u001b[1;32m   1069\u001b[0m     result \u001b[38;5;241m=\u001b[39m arg\u001b[38;5;241m.\u001b[39m_constructor(values, index\u001b[38;5;241m=\u001b[39marg\u001b[38;5;241m.\u001b[39mindex, name\u001b[38;5;241m=\u001b[39marg\u001b[38;5;241m.\u001b[39mname)\n",
            "File \u001b[0;32m/opt/conda/lib/python3.9/site-packages/pandas/core/tools/datetimes.py:438\u001b[0m, in \u001b[0;36m_convert_listlike_datetimes\u001b[0;34m(arg, format, name, tz, unit, errors, infer_datetime_format, dayfirst, yearfirst, exact)\u001b[0m\n\u001b[1;32m    437\u001b[0m utc \u001b[38;5;241m=\u001b[39m tz \u001b[38;5;241m==\u001b[39m \u001b[38;5;124m\"\u001b[39m\u001b[38;5;124mutc\u001b[39m\u001b[38;5;124m\"\u001b[39m\n\u001b[0;32m--> 438\u001b[0m result, tz_parsed \u001b[38;5;241m=\u001b[39m \u001b[43mobjects_to_datetime64ns\u001b[49m\u001b[43m(\u001b[49m\n\u001b[1;32m    439\u001b[0m \u001b[43m    \u001b[49m\u001b[43marg\u001b[49m\u001b[43m,\u001b[49m\n\u001b[1;32m    440\u001b[0m \u001b[43m    \u001b[49m\u001b[43mdayfirst\u001b[49m\u001b[38;5;241;43m=\u001b[39;49m\u001b[43mdayfirst\u001b[49m\u001b[43m,\u001b[49m\n\u001b[1;32m    441\u001b[0m \u001b[43m    \u001b[49m\u001b[43myearfirst\u001b[49m\u001b[38;5;241;43m=\u001b[39;49m\u001b[43myearfirst\u001b[49m\u001b[43m,\u001b[49m\n\u001b[1;32m    442\u001b[0m \u001b[43m    \u001b[49m\u001b[43mutc\u001b[49m\u001b[38;5;241;43m=\u001b[39;49m\u001b[43mutc\u001b[49m\u001b[43m,\u001b[49m\n\u001b[1;32m    443\u001b[0m \u001b[43m    \u001b[49m\u001b[43merrors\u001b[49m\u001b[38;5;241;43m=\u001b[39;49m\u001b[43merrors\u001b[49m\u001b[43m,\u001b[49m\n\u001b[1;32m    444\u001b[0m \u001b[43m    \u001b[49m\u001b[43mrequire_iso8601\u001b[49m\u001b[38;5;241;43m=\u001b[39;49m\u001b[43mrequire_iso8601\u001b[49m\u001b[43m,\u001b[49m\n\u001b[1;32m    445\u001b[0m \u001b[43m    \u001b[49m\u001b[43mallow_object\u001b[49m\u001b[38;5;241;43m=\u001b[39;49m\u001b[38;5;28;43;01mTrue\u001b[39;49;00m\u001b[43m,\u001b[49m\n\u001b[1;32m    446\u001b[0m \u001b[43m\u001b[49m\u001b[43m)\u001b[49m\n\u001b[1;32m    448\u001b[0m \u001b[38;5;28;01mif\u001b[39;00m tz_parsed \u001b[38;5;129;01mis\u001b[39;00m \u001b[38;5;129;01mnot\u001b[39;00m \u001b[38;5;28;01mNone\u001b[39;00m:\n\u001b[1;32m    449\u001b[0m     \u001b[38;5;66;03m# We can take a shortcut since the datetime64 numpy array\u001b[39;00m\n\u001b[1;32m    450\u001b[0m     \u001b[38;5;66;03m# is in UTC\u001b[39;00m\n",
            "File \u001b[0;32m/opt/conda/lib/python3.9/site-packages/pandas/core/arrays/datetimes.py:2177\u001b[0m, in \u001b[0;36mobjects_to_datetime64ns\u001b[0;34m(data, dayfirst, yearfirst, utc, errors, require_iso8601, allow_object, allow_mixed)\u001b[0m\n\u001b[1;32m   2176\u001b[0m \u001b[38;5;28;01mtry\u001b[39;00m:\n\u001b[0;32m-> 2177\u001b[0m     result, tz_parsed \u001b[38;5;241m=\u001b[39m \u001b[43mtslib\u001b[49m\u001b[38;5;241;43m.\u001b[39;49m\u001b[43marray_to_datetime\u001b[49m\u001b[43m(\u001b[49m\n\u001b[1;32m   2178\u001b[0m \u001b[43m        \u001b[49m\u001b[43mdata\u001b[49m\u001b[38;5;241;43m.\u001b[39;49m\u001b[43mravel\u001b[49m\u001b[43m(\u001b[49m\u001b[38;5;124;43m\"\u001b[39;49m\u001b[38;5;124;43mK\u001b[39;49m\u001b[38;5;124;43m\"\u001b[39;49m\u001b[43m)\u001b[49m\u001b[43m,\u001b[49m\n\u001b[1;32m   2179\u001b[0m \u001b[43m        \u001b[49m\u001b[43merrors\u001b[49m\u001b[38;5;241;43m=\u001b[39;49m\u001b[43merrors\u001b[49m\u001b[43m,\u001b[49m\n\u001b[1;32m   2180\u001b[0m \u001b[43m        \u001b[49m\u001b[43mutc\u001b[49m\u001b[38;5;241;43m=\u001b[39;49m\u001b[43mutc\u001b[49m\u001b[43m,\u001b[49m\n\u001b[1;32m   2181\u001b[0m \u001b[43m        \u001b[49m\u001b[43mdayfirst\u001b[49m\u001b[38;5;241;43m=\u001b[39;49m\u001b[43mdayfirst\u001b[49m\u001b[43m,\u001b[49m\n\u001b[1;32m   2182\u001b[0m \u001b[43m        \u001b[49m\u001b[43myearfirst\u001b[49m\u001b[38;5;241;43m=\u001b[39;49m\u001b[43myearfirst\u001b[49m\u001b[43m,\u001b[49m\n\u001b[1;32m   2183\u001b[0m \u001b[43m        \u001b[49m\u001b[43mrequire_iso8601\u001b[49m\u001b[38;5;241;43m=\u001b[39;49m\u001b[43mrequire_iso8601\u001b[49m\u001b[43m,\u001b[49m\n\u001b[1;32m   2184\u001b[0m \u001b[43m        \u001b[49m\u001b[43mallow_mixed\u001b[49m\u001b[38;5;241;43m=\u001b[39;49m\u001b[43mallow_mixed\u001b[49m\u001b[43m,\u001b[49m\n\u001b[1;32m   2185\u001b[0m \u001b[43m    \u001b[49m\u001b[43m)\u001b[49m\n\u001b[1;32m   2186\u001b[0m     result \u001b[38;5;241m=\u001b[39m result\u001b[38;5;241m.\u001b[39mreshape(data\u001b[38;5;241m.\u001b[39mshape, order\u001b[38;5;241m=\u001b[39morder)\n",
            "File \u001b[0;32m/opt/conda/lib/python3.9/site-packages/pandas/_libs/tslib.pyx:427\u001b[0m, in \u001b[0;36mpandas._libs.tslib.array_to_datetime\u001b[0;34m()\u001b[0m\n",
            "File \u001b[0;32m/opt/conda/lib/python3.9/site-packages/pandas/_libs/tslib.pyx:698\u001b[0m, in \u001b[0;36mpandas._libs.tslib.array_to_datetime\u001b[0;34m()\u001b[0m\n",
            "\u001b[0;31mValueError\u001b[0m: mixed datetimes and integers in passed array",
            "\nDuring handling of the above exception, another exception occurred:\n",
            "\u001b[0;31mValueError\u001b[0m                                Traceback (most recent call last)",
            "Cell \u001b[0;32mIn[23], line 3\u001b[0m\n\u001b[1;32m      1\u001b[0m \u001b[38;5;66;03m# Generating an overview summary of the cleaned event log\u001b[39;00m\n\u001b[1;32m      2\u001b[0m event_log_summary_cleaned \u001b[38;5;241m=\u001b[39m credit_data\u001b[38;5;241m.\u001b[39mdescribe(include\u001b[38;5;241m=\u001b[39m\u001b[38;5;124m'\u001b[39m\u001b[38;5;124mall\u001b[39m\u001b[38;5;124m'\u001b[39m)\n\u001b[0;32m----> 3\u001b[0m event_log_summary_cleaned\n",
            "File \u001b[0;32m/opt/conda/lib/python3.9/site-packages/IPython/core/displayhook.py:268\u001b[0m, in \u001b[0;36mDisplayHook.__call__\u001b[0;34m(self, result)\u001b[0m\n\u001b[1;32m    266\u001b[0m \u001b[38;5;28mself\u001b[39m\u001b[38;5;241m.\u001b[39mstart_displayhook()\n\u001b[1;32m    267\u001b[0m \u001b[38;5;28mself\u001b[39m\u001b[38;5;241m.\u001b[39mwrite_output_prompt()\n\u001b[0;32m--> 268\u001b[0m format_dict, md_dict \u001b[38;5;241m=\u001b[39m \u001b[38;5;28;43mself\u001b[39;49m\u001b[38;5;241;43m.\u001b[39;49m\u001b[43mcompute_format_data\u001b[49m\u001b[43m(\u001b[49m\u001b[43mresult\u001b[49m\u001b[43m)\u001b[49m\n\u001b[1;32m    269\u001b[0m \u001b[38;5;28mself\u001b[39m\u001b[38;5;241m.\u001b[39mupdate_user_ns(result)\n\u001b[1;32m    270\u001b[0m \u001b[38;5;28mself\u001b[39m\u001b[38;5;241m.\u001b[39mfill_exec_result(result)\n",
            "File \u001b[0;32m/opt/conda/lib/python3.9/site-packages/IPython/core/displayhook.py:157\u001b[0m, in \u001b[0;36mDisplayHook.compute_format_data\u001b[0;34m(self, result)\u001b[0m\n\u001b[1;32m    127\u001b[0m \u001b[38;5;28;01mdef\u001b[39;00m \u001b[38;5;21mcompute_format_data\u001b[39m(\u001b[38;5;28mself\u001b[39m, result):\n\u001b[1;32m    128\u001b[0m \u001b[38;5;250m    \u001b[39m\u001b[38;5;124;03m\"\"\"Compute format data of the object to be displayed.\u001b[39;00m\n\u001b[1;32m    129\u001b[0m \n\u001b[1;32m    130\u001b[0m \u001b[38;5;124;03m    The format data is a generalization of the :func:`repr` of an object.\u001b[39;00m\n\u001b[0;32m   (...)\u001b[0m\n\u001b[1;32m    155\u001b[0m \n\u001b[1;32m    156\u001b[0m \u001b[38;5;124;03m    \"\"\"\u001b[39;00m\n\u001b[0;32m--> 157\u001b[0m     \u001b[38;5;28;01mreturn\u001b[39;00m \u001b[38;5;28;43mself\u001b[39;49m\u001b[38;5;241;43m.\u001b[39;49m\u001b[43mshell\u001b[49m\u001b[38;5;241;43m.\u001b[39;49m\u001b[43mdisplay_formatter\u001b[49m\u001b[38;5;241;43m.\u001b[39;49m\u001b[43mformat\u001b[49m\u001b[43m(\u001b[49m\u001b[43mresult\u001b[49m\u001b[43m)\u001b[49m\n",
            "File \u001b[0;32m/opt/conda/lib/python3.9/site-packages/dx/formatters/main.py:127\u001b[0m, in \u001b[0;36mDXDisplayFormatter.format\u001b[0;34m(self, obj, **kwargs)\u001b[0m\n\u001b[1;32m    125\u001b[0m \u001b[38;5;28;01mdef\u001b[39;00m \u001b[38;5;21mformat\u001b[39m(\u001b[38;5;28mself\u001b[39m, obj, \u001b[38;5;241m*\u001b[39m\u001b[38;5;241m*\u001b[39mkwargs):\n\u001b[1;32m    126\u001b[0m     \u001b[38;5;28;01mif\u001b[39;00m IN_NOTEBOOK_ENV \u001b[38;5;129;01mand\u001b[39;00m \u001b[38;5;28misinstance\u001b[39m(obj, \u001b[38;5;28mtuple\u001b[39m(settings\u001b[38;5;241m.\u001b[39mget_renderable_types())):\n\u001b[0;32m--> 127\u001b[0m         \u001b[43mhandle_format\u001b[49m\u001b[43m(\u001b[49m\u001b[43mobj\u001b[49m\u001b[43m)\u001b[49m\n\u001b[1;32m    128\u001b[0m         \u001b[38;5;28;01mreturn\u001b[39;00m ({}, {})\n\u001b[1;32m    130\u001b[0m     \u001b[38;5;28;01mreturn\u001b[39;00m DEFAULT_IPYTHON_DISPLAY_FORMATTER\u001b[38;5;241m.\u001b[39mformat(obj, \u001b[38;5;241m*\u001b[39m\u001b[38;5;241m*\u001b[39mkwargs)\n",
            "File \u001b[0;32m/opt/conda/lib/python3.9/site-packages/dx/formatters/main.py:111\u001b[0m, in \u001b[0;36mhandle_format\u001b[0;34m(obj, with_ipython_display, ipython_shell, extra_metadata)\u001b[0m\n\u001b[1;32m    109\u001b[0m     logger\u001b[38;5;241m.\u001b[39mdebug(\u001b[38;5;124mf\u001b[39m\u001b[38;5;124m\"\u001b[39m\u001b[38;5;124mError in datalink_processing: \u001b[39m\u001b[38;5;132;01m{\u001b[39;00me\u001b[38;5;132;01m}\u001b[39;00m\u001b[38;5;124m\"\u001b[39m)\n\u001b[1;32m    110\u001b[0m     \u001b[38;5;66;03m# fall back to default processing\u001b[39;00m\n\u001b[0;32m--> 111\u001b[0m     df \u001b[38;5;241m=\u001b[39m \u001b[43mnormalize_index_and_columns\u001b[49m\u001b[43m(\u001b[49m\u001b[43mdf\u001b[49m\u001b[43m)\u001b[49m\n\u001b[1;32m    112\u001b[0m     payload, metadata \u001b[38;5;241m=\u001b[39m format_output(\n\u001b[1;32m    113\u001b[0m         df,\n\u001b[1;32m    114\u001b[0m         default_index_used\u001b[38;5;241m=\u001b[39mdefault_index_used,\n\u001b[1;32m    115\u001b[0m         with_ipython_display\u001b[38;5;241m=\u001b[39mwith_ipython_display,\n\u001b[1;32m    116\u001b[0m         extra_metadata\u001b[38;5;241m=\u001b[39mextra_metadata,\n\u001b[1;32m    117\u001b[0m     )\n\u001b[1;32m    119\u001b[0m \u001b[38;5;28;01mreturn\u001b[39;00m payload, metadata\n",
            "File \u001b[0;32m/opt/conda/lib/python3.9/site-packages/dx/utils/formatting.py:188\u001b[0m, in \u001b[0;36mnormalize_index_and_columns\u001b[0;34m(df)\u001b[0m\n\u001b[1;32m    183\u001b[0m \u001b[38;5;250m\u001b[39m\u001b[38;5;124;03m\"\"\"\u001b[39;00m\n\u001b[1;32m    184\u001b[0m \u001b[38;5;124;03mAny additional formatting that needs to happen to the index,\u001b[39;00m\n\u001b[1;32m    185\u001b[0m \u001b[38;5;124;03mthe columns, or the data itself should be done here.\u001b[39;00m\n\u001b[1;32m    186\u001b[0m \u001b[38;5;124;03m\"\"\"\u001b[39;00m\n\u001b[1;32m    187\u001b[0m df \u001b[38;5;241m=\u001b[39m normalize_index(df)\n\u001b[0;32m--> 188\u001b[0m df \u001b[38;5;241m=\u001b[39m \u001b[43mnormalize_columns\u001b[49m\u001b[43m(\u001b[49m\u001b[43mdf\u001b[49m\u001b[43m)\u001b[49m\n\u001b[1;32m    189\u001b[0m df \u001b[38;5;241m=\u001b[39m deconflict_index_and_column_names(df)\n\u001b[1;32m    190\u001b[0m \u001b[38;5;28;01mreturn\u001b[39;00m df\n",
            "File \u001b[0;32m/opt/conda/lib/python3.9/site-packages/dx/utils/formatting.py:254\u001b[0m, in \u001b[0;36mnormalize_columns\u001b[0;34m(df)\u001b[0m\n\u001b[1;32m    252\u001b[0m logger\u001b[38;5;241m.\u001b[39mdebug(\u001b[38;5;124m\"\u001b[39m\u001b[38;5;124m-- cleaning columns before display --\u001b[39m\u001b[38;5;124m\"\u001b[39m)\n\u001b[1;32m    253\u001b[0m \u001b[38;5;28;01mfor\u001b[39;00m column \u001b[38;5;129;01min\u001b[39;00m df\u001b[38;5;241m.\u001b[39mcolumns:\n\u001b[0;32m--> 254\u001b[0m     df[column] \u001b[38;5;241m=\u001b[39m \u001b[43mclean_series_values\u001b[49m\u001b[43m(\u001b[49m\u001b[43mdf\u001b[49m\u001b[43m[\u001b[49m\u001b[43mcolumn\u001b[49m\u001b[43m]\u001b[49m\u001b[43m)\u001b[49m\n\u001b[1;32m    255\u001b[0m \u001b[38;5;28;01mreturn\u001b[39;00m df\n",
            "File \u001b[0;32m/opt/conda/lib/python3.9/site-packages/dx/utils/formatting.py:291\u001b[0m, in \u001b[0;36mclean_series_values\u001b[0;34m(s)\u001b[0m\n\u001b[1;32m    289\u001b[0m s \u001b[38;5;241m=\u001b[39m date_time\u001b[38;5;241m.\u001b[39mhandle_time_period_series(s)\n\u001b[1;32m    290\u001b[0m s \u001b[38;5;241m=\u001b[39m date_time\u001b[38;5;241m.\u001b[39mhandle_time_delta_series(s)\n\u001b[0;32m--> 291\u001b[0m s \u001b[38;5;241m=\u001b[39m \u001b[43mdate_time\u001b[49m\u001b[38;5;241;43m.\u001b[39;49m\u001b[43mhandle_datetime_series\u001b[49m\u001b[43m(\u001b[49m\u001b[43ms\u001b[49m\u001b[43m)\u001b[49m\n\u001b[1;32m    293\u001b[0m s \u001b[38;5;241m=\u001b[39m numeric\u001b[38;5;241m.\u001b[39mhandle_decimal_series(s)\n\u001b[1;32m    294\u001b[0m s \u001b[38;5;241m=\u001b[39m numeric\u001b[38;5;241m.\u001b[39mhandle_complex_number_series(s)\n",
            "File \u001b[0;32m/opt/conda/lib/python3.9/site-packages/dx/datatypes/date_time.py:186\u001b[0m, in \u001b[0;36mhandle_datetime_series\u001b[0;34m(s)\u001b[0m\n\u001b[1;32m    181\u001b[0m \u001b[38;5;28;01mif\u001b[39;00m \u001b[38;5;28many\u001b[39m(\u001b[38;5;28misinstance\u001b[39m(v, types) \u001b[38;5;28;01mfor\u001b[39;00m v \u001b[38;5;129;01min\u001b[39;00m sample_rows\u001b[38;5;241m.\u001b[39mvalues):\n\u001b[1;32m    182\u001b[0m     logger\u001b[38;5;241m.\u001b[39mdebug(\n\u001b[1;32m    183\u001b[0m         \u001b[38;5;124mf\u001b[39m\u001b[38;5;124m\"\u001b[39m\u001b[38;5;124mseries `\u001b[39m\u001b[38;5;132;01m{\u001b[39;00ms\u001b[38;5;241m.\u001b[39mname\u001b[38;5;132;01m}\u001b[39;00m\u001b[38;5;124m` has datetime values; converting with pd.to_datetime()\u001b[39m\u001b[38;5;124m\"\u001b[39m,\n\u001b[1;32m    184\u001b[0m         utc\u001b[38;5;241m=\u001b[39mhas_tzinfo\u001b[38;5;241m.\u001b[39many(),\n\u001b[1;32m    185\u001b[0m     )\n\u001b[0;32m--> 186\u001b[0m     s \u001b[38;5;241m=\u001b[39m \u001b[43mpd\u001b[49m\u001b[38;5;241;43m.\u001b[39;49m\u001b[43mto_datetime\u001b[49m\u001b[43m(\u001b[49m\u001b[43ms\u001b[49m\u001b[43m,\u001b[49m\u001b[43m \u001b[49m\u001b[43mutc\u001b[49m\u001b[38;5;241;43m=\u001b[39;49m\u001b[43mhas_tzinfo\u001b[49m\u001b[38;5;241;43m.\u001b[39;49m\u001b[43many\u001b[49m\u001b[43m(\u001b[49m\u001b[43m)\u001b[49m\u001b[43m)\u001b[49m\n\u001b[1;32m    187\u001b[0m \u001b[38;5;28;01mreturn\u001b[39;00m s\n",
            "File \u001b[0;32m/opt/conda/lib/python3.9/site-packages/pandas/core/tools/datetimes.py:1068\u001b[0m, in \u001b[0;36mto_datetime\u001b[0;34m(arg, errors, dayfirst, yearfirst, utc, format, exact, unit, infer_datetime_format, origin, cache)\u001b[0m\n\u001b[1;32m   1066\u001b[0m         result \u001b[38;5;241m=\u001b[39m arg\u001b[38;5;241m.\u001b[39mmap(cache_array)\n\u001b[1;32m   1067\u001b[0m     \u001b[38;5;28;01melse\u001b[39;00m:\n\u001b[0;32m-> 1068\u001b[0m         values \u001b[38;5;241m=\u001b[39m \u001b[43mconvert_listlike\u001b[49m\u001b[43m(\u001b[49m\u001b[43marg\u001b[49m\u001b[38;5;241;43m.\u001b[39;49m\u001b[43m_values\u001b[49m\u001b[43m,\u001b[49m\u001b[43m \u001b[49m\u001b[38;5;28;43mformat\u001b[39;49m\u001b[43m)\u001b[49m\n\u001b[1;32m   1069\u001b[0m         result \u001b[38;5;241m=\u001b[39m arg\u001b[38;5;241m.\u001b[39m_constructor(values, index\u001b[38;5;241m=\u001b[39marg\u001b[38;5;241m.\u001b[39mindex, name\u001b[38;5;241m=\u001b[39marg\u001b[38;5;241m.\u001b[39mname)\n\u001b[1;32m   1070\u001b[0m \u001b[38;5;28;01melif\u001b[39;00m \u001b[38;5;28misinstance\u001b[39m(arg, (ABCDataFrame, abc\u001b[38;5;241m.\u001b[39mMutableMapping)):\n",
            "File \u001b[0;32m/opt/conda/lib/python3.9/site-packages/pandas/core/tools/datetimes.py:438\u001b[0m, in \u001b[0;36m_convert_listlike_datetimes\u001b[0;34m(arg, format, name, tz, unit, errors, infer_datetime_format, dayfirst, yearfirst, exact)\u001b[0m\n\u001b[1;32m    436\u001b[0m \u001b[38;5;28;01massert\u001b[39;00m \u001b[38;5;28mformat\u001b[39m \u001b[38;5;129;01mis\u001b[39;00m \u001b[38;5;28;01mNone\u001b[39;00m \u001b[38;5;129;01mor\u001b[39;00m infer_datetime_format\n\u001b[1;32m    437\u001b[0m utc \u001b[38;5;241m=\u001b[39m tz \u001b[38;5;241m==\u001b[39m \u001b[38;5;124m\"\u001b[39m\u001b[38;5;124mutc\u001b[39m\u001b[38;5;124m\"\u001b[39m\n\u001b[0;32m--> 438\u001b[0m result, tz_parsed \u001b[38;5;241m=\u001b[39m \u001b[43mobjects_to_datetime64ns\u001b[49m\u001b[43m(\u001b[49m\n\u001b[1;32m    439\u001b[0m \u001b[43m    \u001b[49m\u001b[43marg\u001b[49m\u001b[43m,\u001b[49m\n\u001b[1;32m    440\u001b[0m \u001b[43m    \u001b[49m\u001b[43mdayfirst\u001b[49m\u001b[38;5;241;43m=\u001b[39;49m\u001b[43mdayfirst\u001b[49m\u001b[43m,\u001b[49m\n\u001b[1;32m    441\u001b[0m \u001b[43m    \u001b[49m\u001b[43myearfirst\u001b[49m\u001b[38;5;241;43m=\u001b[39;49m\u001b[43myearfirst\u001b[49m\u001b[43m,\u001b[49m\n\u001b[1;32m    442\u001b[0m \u001b[43m    \u001b[49m\u001b[43mutc\u001b[49m\u001b[38;5;241;43m=\u001b[39;49m\u001b[43mutc\u001b[49m\u001b[43m,\u001b[49m\n\u001b[1;32m    443\u001b[0m \u001b[43m    \u001b[49m\u001b[43merrors\u001b[49m\u001b[38;5;241;43m=\u001b[39;49m\u001b[43merrors\u001b[49m\u001b[43m,\u001b[49m\n\u001b[1;32m    444\u001b[0m \u001b[43m    \u001b[49m\u001b[43mrequire_iso8601\u001b[49m\u001b[38;5;241;43m=\u001b[39;49m\u001b[43mrequire_iso8601\u001b[49m\u001b[43m,\u001b[49m\n\u001b[1;32m    445\u001b[0m \u001b[43m    \u001b[49m\u001b[43mallow_object\u001b[49m\u001b[38;5;241;43m=\u001b[39;49m\u001b[38;5;28;43;01mTrue\u001b[39;49;00m\u001b[43m,\u001b[49m\n\u001b[1;32m    446\u001b[0m \u001b[43m\u001b[49m\u001b[43m)\u001b[49m\n\u001b[1;32m    448\u001b[0m \u001b[38;5;28;01mif\u001b[39;00m tz_parsed \u001b[38;5;129;01mis\u001b[39;00m \u001b[38;5;129;01mnot\u001b[39;00m \u001b[38;5;28;01mNone\u001b[39;00m:\n\u001b[1;32m    449\u001b[0m     \u001b[38;5;66;03m# We can take a shortcut since the datetime64 numpy array\u001b[39;00m\n\u001b[1;32m    450\u001b[0m     \u001b[38;5;66;03m# is in UTC\u001b[39;00m\n\u001b[1;32m    451\u001b[0m     dta \u001b[38;5;241m=\u001b[39m DatetimeArray(result, dtype\u001b[38;5;241m=\u001b[39mtz_to_dtype(tz_parsed))\n",
            "File \u001b[0;32m/opt/conda/lib/python3.9/site-packages/pandas/core/arrays/datetimes.py:2177\u001b[0m, in \u001b[0;36mobjects_to_datetime64ns\u001b[0;34m(data, dayfirst, yearfirst, utc, errors, require_iso8601, allow_object, allow_mixed)\u001b[0m\n\u001b[1;32m   2175\u001b[0m order: Literal[\u001b[38;5;124m\"\u001b[39m\u001b[38;5;124mF\u001b[39m\u001b[38;5;124m\"\u001b[39m, \u001b[38;5;124m\"\u001b[39m\u001b[38;5;124mC\u001b[39m\u001b[38;5;124m\"\u001b[39m] \u001b[38;5;241m=\u001b[39m \u001b[38;5;124m\"\u001b[39m\u001b[38;5;124mF\u001b[39m\u001b[38;5;124m\"\u001b[39m \u001b[38;5;28;01mif\u001b[39;00m flags\u001b[38;5;241m.\u001b[39mf_contiguous \u001b[38;5;28;01melse\u001b[39;00m \u001b[38;5;124m\"\u001b[39m\u001b[38;5;124mC\u001b[39m\u001b[38;5;124m\"\u001b[39m\n\u001b[1;32m   2176\u001b[0m \u001b[38;5;28;01mtry\u001b[39;00m:\n\u001b[0;32m-> 2177\u001b[0m     result, tz_parsed \u001b[38;5;241m=\u001b[39m \u001b[43mtslib\u001b[49m\u001b[38;5;241;43m.\u001b[39;49m\u001b[43marray_to_datetime\u001b[49m\u001b[43m(\u001b[49m\n\u001b[1;32m   2178\u001b[0m \u001b[43m        \u001b[49m\u001b[43mdata\u001b[49m\u001b[38;5;241;43m.\u001b[39;49m\u001b[43mravel\u001b[49m\u001b[43m(\u001b[49m\u001b[38;5;124;43m\"\u001b[39;49m\u001b[38;5;124;43mK\u001b[39;49m\u001b[38;5;124;43m\"\u001b[39;49m\u001b[43m)\u001b[49m\u001b[43m,\u001b[49m\n\u001b[1;32m   2179\u001b[0m \u001b[43m        \u001b[49m\u001b[43merrors\u001b[49m\u001b[38;5;241;43m=\u001b[39;49m\u001b[43merrors\u001b[49m\u001b[43m,\u001b[49m\n\u001b[1;32m   2180\u001b[0m \u001b[43m        \u001b[49m\u001b[43mutc\u001b[49m\u001b[38;5;241;43m=\u001b[39;49m\u001b[43mutc\u001b[49m\u001b[43m,\u001b[49m\n\u001b[1;32m   2181\u001b[0m \u001b[43m        \u001b[49m\u001b[43mdayfirst\u001b[49m\u001b[38;5;241;43m=\u001b[39;49m\u001b[43mdayfirst\u001b[49m\u001b[43m,\u001b[49m\n\u001b[1;32m   2182\u001b[0m \u001b[43m        \u001b[49m\u001b[43myearfirst\u001b[49m\u001b[38;5;241;43m=\u001b[39;49m\u001b[43myearfirst\u001b[49m\u001b[43m,\u001b[49m\n\u001b[1;32m   2183\u001b[0m \u001b[43m        \u001b[49m\u001b[43mrequire_iso8601\u001b[49m\u001b[38;5;241;43m=\u001b[39;49m\u001b[43mrequire_iso8601\u001b[49m\u001b[43m,\u001b[49m\n\u001b[1;32m   2184\u001b[0m \u001b[43m        \u001b[49m\u001b[43mallow_mixed\u001b[49m\u001b[38;5;241;43m=\u001b[39;49m\u001b[43mallow_mixed\u001b[49m\u001b[43m,\u001b[49m\n\u001b[1;32m   2185\u001b[0m \u001b[43m    \u001b[49m\u001b[43m)\u001b[49m\n\u001b[1;32m   2186\u001b[0m     result \u001b[38;5;241m=\u001b[39m result\u001b[38;5;241m.\u001b[39mreshape(data\u001b[38;5;241m.\u001b[39mshape, order\u001b[38;5;241m=\u001b[39morder)\n\u001b[1;32m   2187\u001b[0m \u001b[38;5;28;01mexcept\u001b[39;00m \u001b[38;5;167;01mOverflowError\u001b[39;00m \u001b[38;5;28;01mas\u001b[39;00m err:\n\u001b[1;32m   2188\u001b[0m     \u001b[38;5;66;03m# Exception is raised when a part of date is greater than 32 bit signed int\u001b[39;00m\n",
            "File \u001b[0;32m/opt/conda/lib/python3.9/site-packages/pandas/_libs/tslib.pyx:427\u001b[0m, in \u001b[0;36mpandas._libs.tslib.array_to_datetime\u001b[0;34m()\u001b[0m\n",
            "File \u001b[0;32m/opt/conda/lib/python3.9/site-packages/pandas/_libs/tslib.pyx:698\u001b[0m, in \u001b[0;36mpandas._libs.tslib.array_to_datetime\u001b[0;34m()\u001b[0m\n",
            "\u001b[0;31mValueError\u001b[0m: mixed datetimes and integers in passed array"
          ]
        }
      ],
      "source": [
        "# Generating an overview summary of the cleaned event log\n",
        "event_log_summary_cleaned = credit_data.describe(include='all')\n",
        "event_log_summary_cleaned"
      ]
    },
    {
      "cell_type": "code",
      "execution_count": null,
      "id": "5cc25ce8-087c-4307-9c99-eab644df7292",
      "metadata": {
        "ExecuteTime": {
          "end_time": "2023-10-10T00:36:56.508870+00:00",
          "start_time": "2023-10-10T00:36:56.333009+00:00"
        },
        "noteable": {
          "cell_type": "code"
        }
      },
      "outputs": [
        {
          "ename": "KeyError",
          "evalue": "'Case ID'",
          "output_type": "error",
          "traceback": [
            "\u001b[0;31m---------------------------------------------------------------------------\u001b[0m",
            "\u001b[0;31mKeyError\u001b[0m                                  Traceback (most recent call last)",
            "\u001b[0;32m/tmp/ipykernel_7/424406738.py\u001b[0m in \u001b[0;36m?\u001b[0;34m()\u001b[0m\n\u001b[0;32m----> 5\u001b[0;31m \u001b[0;31m# Importing required libraries for time-based analysis\u001b[0m\u001b[0;34m\u001b[0m\u001b[0;34m\u001b[0m\u001b[0m\n\u001b[0m\u001b[1;32m      6\u001b[0m \u001b[0;32mimport\u001b[0m \u001b[0mpandas\u001b[0m \u001b[0;32mas\u001b[0m \u001b[0mpd\u001b[0m\u001b[0;34m\u001b[0m\u001b[0;34m\u001b[0m\u001b[0m\n\u001b[1;32m      7\u001b[0m \u001b[0;34m\u001b[0m\u001b[0m\n\u001b[1;32m      8\u001b[0m \u001b[0;31m# Sorting the data by Case ID and Timestamp\u001b[0m\u001b[0;34m\u001b[0m\u001b[0;34m\u001b[0m\u001b[0m\n",
            "\u001b[0;32m/opt/conda/lib/python3.9/site-packages/pandas/util/_decorators.py\u001b[0m in \u001b[0;36m?\u001b[0;34m(*args, **kwargs)\u001b[0m\n\u001b[1;32m    327\u001b[0m                     \u001b[0mmsg\u001b[0m\u001b[0;34m.\u001b[0m\u001b[0mformat\u001b[0m\u001b[0;34m(\u001b[0m\u001b[0marguments\u001b[0m\u001b[0;34m=\u001b[0m\u001b[0m_format_argument_list\u001b[0m\u001b[0;34m(\u001b[0m\u001b[0mallow_args\u001b[0m\u001b[0;34m)\u001b[0m\u001b[0;34m)\u001b[0m\u001b[0;34m,\u001b[0m\u001b[0;34m\u001b[0m\u001b[0;34m\u001b[0m\u001b[0m\n\u001b[1;32m    328\u001b[0m                     \u001b[0mFutureWarning\u001b[0m\u001b[0;34m,\u001b[0m\u001b[0;34m\u001b[0m\u001b[0;34m\u001b[0m\u001b[0m\n\u001b[1;32m    329\u001b[0m                     \u001b[0mstacklevel\u001b[0m\u001b[0;34m=\u001b[0m\u001b[0mfind_stack_level\u001b[0m\u001b[0;34m(\u001b[0m\u001b[0;34m)\u001b[0m\u001b[0;34m,\u001b[0m\u001b[0;34m\u001b[0m\u001b[0;34m\u001b[0m\u001b[0m\n\u001b[1;32m    330\u001b[0m                 )\n\u001b[0;32m--> 331\u001b[0;31m             \u001b[0;32mreturn\u001b[0m \u001b[0mfunc\u001b[0m\u001b[0;34m(\u001b[0m\u001b[0;34m*\u001b[0m\u001b[0margs\u001b[0m\u001b[0;34m,\u001b[0m \u001b[0;34m**\u001b[0m\u001b[0mkwargs\u001b[0m\u001b[0;34m)\u001b[0m\u001b[0;34m\u001b[0m\u001b[0;34m\u001b[0m\u001b[0m\n\u001b[0m",
            "\u001b[0;32m/opt/conda/lib/python3.9/site-packages/pandas/core/frame.py\u001b[0m in \u001b[0;36m?\u001b[0;34m(self, by, axis, ascending, inplace, kind, na_position, ignore_index, key)\u001b[0m\n\u001b[1;32m   6890\u001b[0m                 \u001b[0;34mf\" != length of by ({len(by)})\"\u001b[0m\u001b[0;34m\u001b[0m\u001b[0;34m\u001b[0m\u001b[0m\n\u001b[1;32m   6891\u001b[0m             )\n\u001b[1;32m   6892\u001b[0m         \u001b[0;32mif\u001b[0m \u001b[0mlen\u001b[0m\u001b[0;34m(\u001b[0m\u001b[0mby\u001b[0m\u001b[0;34m)\u001b[0m \u001b[0;34m>\u001b[0m \u001b[0;36m1\u001b[0m\u001b[0;34m:\u001b[0m\u001b[0;34m\u001b[0m\u001b[0;34m\u001b[0m\u001b[0m\n\u001b[1;32m   6893\u001b[0m \u001b[0;34m\u001b[0m\u001b[0m\n\u001b[0;32m-> 6894\u001b[0;31m             \u001b[0mkeys\u001b[0m \u001b[0;34m=\u001b[0m \u001b[0;34m[\u001b[0m\u001b[0mself\u001b[0m\u001b[0;34m.\u001b[0m\u001b[0m_get_label_or_level_values\u001b[0m\u001b[0;34m(\u001b[0m\u001b[0mx\u001b[0m\u001b[0;34m,\u001b[0m \u001b[0maxis\u001b[0m\u001b[0;34m=\u001b[0m\u001b[0maxis\u001b[0m\u001b[0;34m)\u001b[0m \u001b[0;32mfor\u001b[0m \u001b[0mx\u001b[0m \u001b[0;32min\u001b[0m \u001b[0mby\u001b[0m\u001b[0;34m]\u001b[0m\u001b[0;34m\u001b[0m\u001b[0;34m\u001b[0m\u001b[0m\n\u001b[0m\u001b[1;32m   6895\u001b[0m \u001b[0;34m\u001b[0m\u001b[0m\n\u001b[1;32m   6896\u001b[0m             \u001b[0;31m# need to rewrap columns in Series to apply key function\u001b[0m\u001b[0;34m\u001b[0m\u001b[0;34m\u001b[0m\u001b[0m\n\u001b[1;32m   6897\u001b[0m             \u001b[0;32mif\u001b[0m \u001b[0mkey\u001b[0m \u001b[0;32mis\u001b[0m \u001b[0;32mnot\u001b[0m \u001b[0;32mNone\u001b[0m\u001b[0;34m:\u001b[0m\u001b[0;34m\u001b[0m\u001b[0;34m\u001b[0m\u001b[0m\n",
            "\u001b[0;32m/opt/conda/lib/python3.9/site-packages/pandas/core/frame.py\u001b[0m in \u001b[0;36m?\u001b[0;34m(.0)\u001b[0m\n\u001b[0;32m-> 6894\u001b[0;31m     def sort_values(  # type: ignore[override]\n\u001b[0m\u001b[1;32m   6895\u001b[0m         \u001b[0mself\u001b[0m\u001b[0;34m,\u001b[0m\u001b[0;34m\u001b[0m\u001b[0;34m\u001b[0m\u001b[0m\n\u001b[1;32m   6896\u001b[0m         \u001b[0mby\u001b[0m\u001b[0;34m:\u001b[0m \u001b[0mIndexLabel\u001b[0m\u001b[0;34m,\u001b[0m\u001b[0;34m\u001b[0m\u001b[0;34m\u001b[0m\u001b[0m\n\u001b[1;32m   6897\u001b[0m         \u001b[0maxis\u001b[0m\u001b[0;34m:\u001b[0m \u001b[0mAxis\u001b[0m \u001b[0;34m=\u001b[0m \u001b[0;36m0\u001b[0m\u001b[0;34m,\u001b[0m\u001b[0;34m\u001b[0m\u001b[0;34m\u001b[0m\u001b[0m\n",
            "\u001b[0;32m/opt/conda/lib/python3.9/site-packages/pandas/core/generic.py\u001b[0m in \u001b[0;36m?\u001b[0;34m(self, key, axis)\u001b[0m\n\u001b[1;32m   1846\u001b[0m                 \u001b[0;34m.\u001b[0m\u001b[0mget_level_values\u001b[0m\u001b[0;34m(\u001b[0m\u001b[0mkey\u001b[0m\u001b[0;34m)\u001b[0m  \u001b[0;31m# type: ignore[assignment]\u001b[0m\u001b[0;34m\u001b[0m\u001b[0;34m\u001b[0m\u001b[0m\n\u001b[1;32m   1847\u001b[0m                 \u001b[0;34m.\u001b[0m\u001b[0m_values\u001b[0m\u001b[0;34m\u001b[0m\u001b[0;34m\u001b[0m\u001b[0m\n\u001b[1;32m   1848\u001b[0m             )\n\u001b[1;32m   1849\u001b[0m         \u001b[0;32melse\u001b[0m\u001b[0;34m:\u001b[0m\u001b[0;34m\u001b[0m\u001b[0;34m\u001b[0m\u001b[0m\n\u001b[0;32m-> 1850\u001b[0;31m             \u001b[0;32mraise\u001b[0m \u001b[0mKeyError\u001b[0m\u001b[0;34m(\u001b[0m\u001b[0mkey\u001b[0m\u001b[0;34m)\u001b[0m\u001b[0;34m\u001b[0m\u001b[0;34m\u001b[0m\u001b[0m\n\u001b[0m\u001b[1;32m   1851\u001b[0m \u001b[0;34m\u001b[0m\u001b[0m\n\u001b[1;32m   1852\u001b[0m         \u001b[0;31m# Check for duplicates\u001b[0m\u001b[0;34m\u001b[0m\u001b[0;34m\u001b[0m\u001b[0m\n\u001b[1;32m   1853\u001b[0m         \u001b[0;32mif\u001b[0m \u001b[0mvalues\u001b[0m\u001b[0;34m.\u001b[0m\u001b[0mndim\u001b[0m \u001b[0;34m>\u001b[0m \u001b[0;36m1\u001b[0m\u001b[0;34m:\u001b[0m\u001b[0;34m\u001b[0m\u001b[0;34m\u001b[0m\u001b[0m\n",
            "\u001b[0;31mKeyError\u001b[0m: 'Case ID'"
          ]
        }
      ],
      "source": [
        "# Importing required libraries for time-based analysis\n",
        "import pandas as pd\n",
        "\n",
        "# Sorting the data by Case ID and Timestamp\n",
        "credit_data_sorted = credit_data.sort_values(by=['Case ID', 'Timestamp'])\n",
        "\n",
        "# Calculating the duration between activities for each case\n",
        "credit_data_sorted['Duration'] = credit_data_sorted.groupby('Case ID')['Timestamp'].diff()\n",
        "\n",
        "# Converting the duration to hours for easier interpretation\n",
        "credit_data_sorted['Duration'] = credit_data_sorted['Duration'].dt.total_seconds() / 3600\n",
        "\n",
        "# Generating a summary of the duration between activities\n",
        "duration_summary = credit_data_sorted['Duration'].describe()\n",
        "duration_summary"
      ]
    },
    {
      "cell_type": "code",
      "execution_count": null,
      "id": "8c87577d-5c7b-4105-8957-478635cf8f59",
      "metadata": {
        "ExecuteTime": {
          "end_time": "2023-10-10T00:38:39.850567+00:00",
          "start_time": "2023-10-10T00:38:39.694430+00:00"
        },
        "noteable": {
          "cell_type": "code"
        }
      },
      "outputs": [
        {
          "data": {
            "text/plain": [
              "['Case_ID',\n",
              " 'Activity',\n",
              " 'Resource',\n",
              " 'Start_Timestamp',\n",
              " 'Complete_Timestamp',\n",
              " 'Variant',\n",
              " 'Variant_index',\n",
              " 'case_ApplicationType',\n",
              " 'case_creditGoal',\n",
              " 'case_RequestedAmount',\n",
              " 'Accepted',\n",
              " 'Action',\n",
              " 'CreditScore',\n",
              " 'EventID',\n",
              " 'EventOrigin',\n",
              " 'FirstWithdrawalAmount',\n",
              " 'MonthlyCost',\n",
              " 'NumberOfTerms',\n",
              " 'OfferID',\n",
              " 'OfferedAmount',\n",
              " 'Selected',\n",
              " 'lifecycle:transition',\n",
              " 'starttimestamp',\n",
              " 'endtimestamp']"
            ]
          },
          "execution_count": null,
          "metadata": {},
          "output_type": "execute_result"
        }
      ],
      "source": [
        "# Checking the column names in the dataset\n",
        "column_names = credit_data.columns.tolist()\n",
        "column_names"
      ]
    },
    {
      "cell_type": "code",
      "execution_count": null,
      "id": "3c4efd35-0659-448f-b187-b069f5381582",
      "metadata": {
        "ExecuteTime": {
          "end_time": "2023-10-10T00:39:23.434116+00:00",
          "start_time": "2023-10-10T00:39:23.236744+00:00"
        },
        "datalink": {
          "7bebe0bb-61ef-46e0-a23d-25876523e75f": {
            "applied_filters": [],
            "dataframe_info": {
              "default_index_used": false,
              "orig_num_cols": 1,
              "orig_num_rows": 8,
              "orig_size_bytes": 128,
              "truncated_num_cols": 1,
              "truncated_num_rows": 8,
              "truncated_size_bytes": 128,
              "truncated_string_columns": []
            },
            "display_id": "7bebe0bb-61ef-46e0-a23d-25876523e75f",
            "dx_settings": {
              "ALLOW_NOTEABLE_ATTRS": true,
              "COLUMN_SAMPLING_METHOD": "outer",
              "DB_LOCATION": ":memory:",
              "DEV_MODE": false,
              "DISPLAY_MAX_COLUMNS": 100,
              "DISPLAY_MAX_ROWS": 50000,
              "DISPLAY_MODE": "simple",
              "ENABLE_ASSIGNMENT": true,
              "ENABLE_DATALINK": true,
              "FLATTEN_COLUMN_VALUES": true,
              "FLATTEN_INDEX_VALUES": false,
              "GENERATE_DEX_METADATA": false,
              "HTML_TABLE_SCHEMA": false,
              "LOG_LEVEL": 30,
              "MAX_RENDER_SIZE_BYTES": 104857600,
              "MAX_STRING_LENGTH": 250,
              "NUM_PAST_SAMPLES_TRACKED": 3,
              "RANDOM_STATE": 12648430,
              "RESET_INDEX_VALUES": false,
              "ROW_SAMPLING_METHOD": "random",
              "SAMPLING_FACTOR": 0.1,
              "SAMPLING_METHOD": "random",
              "STRINGIFY_COLUMN_VALUES": true,
              "STRINGIFY_INDEX_VALUES": false
            },
            "sample_history": [],
            "sampling_time": "2023-10-10T00:39:23.276739",
            "user_variable_name": "duration_summary",
            "variable_name": "duration_summary"
          }
        },
        "noteable": {
          "cell_type": "code"
        }
      },
      "outputs": [
        {
          "data": {
            "application/vnd.dataresource+json": {
              "data": [
                {
                  "Duration": 159,
                  "index": "count"
                },
                {
                  "Duration": 28.59240997554158,
                  "index": "mean"
                },
                {
                  "Duration": 108.41741960426003,
                  "index": "std"
                },
                {
                  "Duration": 5.555555555555555e-7,
                  "index": "min"
                },
                {
                  "Duration": 0.000013194444444444444,
                  "index": "25%"
                },
                {
                  "Duration": 0.005742222222222222,
                  "index": "50%"
                },
                {
                  "Duration": 0.9682331944444444,
                  "index": "75%"
                },
                {
                  "Duration": 741.414903888889,
                  "index": "max"
                }
              ],
              "datalink": {
                "display_id": "7bebe0bb-61ef-46e0-a23d-25876523e75f"
              },
              "schema": {
                "fields": [
                  {
                    "name": "index",
                    "type": "string"
                  },
                  {
                    "name": "Duration",
                    "type": "number"
                  }
                ],
                "pandas_version": "1.4.0",
                "primaryKey": [
                  "index"
                ]
              }
            }
          },
          "metadata": {
            "application/vnd.dataresource+json": {
              "datalink": {
                "applied_filters": [],
                "dataframe_info": {
                  "default_index_used": false,
                  "orig_num_cols": 1,
                  "orig_num_rows": 8,
                  "orig_size_bytes": 128,
                  "truncated_num_cols": 1,
                  "truncated_num_rows": 8,
                  "truncated_size_bytes": 128,
                  "truncated_string_columns": []
                },
                "display_id": "7bebe0bb-61ef-46e0-a23d-25876523e75f",
                "dx_settings": {
                  "ALLOW_NOTEABLE_ATTRS": true,
                  "COLUMN_SAMPLING_METHOD": "outer",
                  "DB_LOCATION": ":memory:",
                  "DEV_MODE": false,
                  "DISPLAY_MAX_COLUMNS": 100,
                  "DISPLAY_MAX_ROWS": 50000,
                  "DISPLAY_MODE": "simple",
                  "ENABLE_ASSIGNMENT": true,
                  "ENABLE_DATALINK": true,
                  "FLATTEN_COLUMN_VALUES": true,
                  "FLATTEN_INDEX_VALUES": false,
                  "GENERATE_DEX_METADATA": false,
                  "HTML_TABLE_SCHEMA": false,
                  "LOG_LEVEL": 30,
                  "MAX_RENDER_SIZE_BYTES": 104857600,
                  "MAX_STRING_LENGTH": 250,
                  "NUM_PAST_SAMPLES_TRACKED": 3,
                  "RANDOM_STATE": 12648430,
                  "RESET_INDEX_VALUES": false,
                  "ROW_SAMPLING_METHOD": "random",
                  "SAMPLING_FACTOR": 0.1,
                  "SAMPLING_METHOD": "random",
                  "STRINGIFY_COLUMN_VALUES": true,
                  "STRINGIFY_INDEX_VALUES": false
                },
                "sample_history": [],
                "sampling_time": "2023-10-10T00:39:23.276739",
                "user_variable_name": "duration_summary",
                "variable_name": "duration_summary"
              },
              "display_id": "7bebe0bb-61ef-46e0-a23d-25876523e75f"
            }
          },
          "output_type": "display_data"
        }
      ],
      "source": [
        "# Sorting the data by Case_ID and Timestamp\n",
        "credit_data_sorted = credit_data.sort_values(by=['Case_ID', 'Start_Timestamp'])\n",
        "\n",
        "# Calculating the duration between activities for each case\n",
        "credit_data_sorted['Duration'] = credit_data_sorted.groupby('Case_ID')['Start_Timestamp'].diff()\n",
        "\n",
        "# Converting the duration to hours for easier interpretation\n",
        "credit_data_sorted['Duration'] = credit_data_sorted['Duration'].dt.total_seconds() / 3600\n",
        "\n",
        "# Generating a summary of the duration between activities\n",
        "duration_summary = credit_data_sorted['Duration'].describe()\n",
        "duration_summary"
      ]
    },
    {
      "cell_type": "code",
      "execution_count": null,
      "id": "17c01048-37be-46f5-a6f2-57d4c1da4f4e",
      "metadata": {
        "ExecuteTime": {
          "end_time": "2023-10-10T00:40:24.728604+00:00",
          "start_time": "2023-10-10T00:40:24.327578+00:00"
        },
        "noteable": {
          "cell_type": "code"
        }
      },
      "outputs": [
        {
          "data": {
            "image/png": "[encoded data removed]"
          },
          "metadata": {},
          "output_type": "display_data"
        }
      ],
      "source": [
        "# Visualizing the duration between activities\n",
        "plt.figure(figsize=(12, 8))\n",
        "sns.histplot(credit_data_sorted['Duration'], bins=50, kde=True, color='skyblue')\n",
        "plt.title('Distribution of Duration Between Activities')\n",
        "plt.xlabel('Duration (Hours)')\n",
        "plt.ylabel('Frequency')\n",
        "plt.show()"
      ]
    },
    {
      "cell_type": "markdown",
      "id": "0f492874-0e3b-436b-a589-d6b01ed56fd8",
      "metadata": {
        "noteable": {
          "cell_type": "markdown"
        }
      },
      "source": [
        "## Summary Report\n",
        "\n",
        "### Duration Between Activities: Summary Statistics\n",
        "- **Mean Duration**: Approximately 28.6 hours\n",
        "- **Minimum Duration**: Almost instantaneous (around 5.56e-07 hours)\n",
        "- **Maximum Duration**: Not shown in the summary but likely varies significantly given the standard deviation of 108.4 hours\n",
        "- **Median Duration**: Approximately 0.006 hours\n",
        "\n",
        "### Distribution of Duration Between Activities: Plot Summary\n",
        "The distribution of the duration between activities is highly skewed towards the left, indicating that most activities have short durations between them. However, there are some outliers with significantly longer durations."
      ]
    },
    {
      "cell_type": "code",
      "execution_count": null,
      "id": "5259312d-e0ff-483c-a584-5b5635e4f3bb",
      "metadata": {
        "ExecuteTime": {
          "end_time": "2023-10-10T00:44:44.397374+00:00",
          "start_time": "2023-10-10T00:44:44.200140+00:00"
        },
        "datalink": {
          "98f1c497-553d-499d-96b0-7a206be7e183": {
            "applied_filters": [],
            "dataframe_info": {
              "default_index_used": false,
              "orig_num_cols": 1,
              "orig_num_rows": 10,
              "orig_size_bytes": 160,
              "truncated_num_cols": 1,
              "truncated_num_rows": 10,
              "truncated_size_bytes": 160,
              "truncated_string_columns": []
            },
            "display_id": "98f1c497-553d-499d-96b0-7a206be7e183",
            "dx_settings": {
              "ALLOW_NOTEABLE_ATTRS": true,
              "COLUMN_SAMPLING_METHOD": "outer",
              "DB_LOCATION": ":memory:",
              "DEV_MODE": false,
              "DISPLAY_MAX_COLUMNS": 100,
              "DISPLAY_MAX_ROWS": 50000,
              "DISPLAY_MODE": "simple",
              "ENABLE_ASSIGNMENT": true,
              "ENABLE_DATALINK": true,
              "FLATTEN_COLUMN_VALUES": true,
              "FLATTEN_INDEX_VALUES": false,
              "GENERATE_DEX_METADATA": false,
              "HTML_TABLE_SCHEMA": false,
              "LOG_LEVEL": 30,
              "MAX_RENDER_SIZE_BYTES": 104857600,
              "MAX_STRING_LENGTH": 250,
              "NUM_PAST_SAMPLES_TRACKED": 3,
              "RANDOM_STATE": 12648430,
              "RESET_INDEX_VALUES": false,
              "ROW_SAMPLING_METHOD": "random",
              "SAMPLING_FACTOR": 0.1,
              "SAMPLING_METHOD": "random",
              "STRINGIFY_COLUMN_VALUES": true,
              "STRINGIFY_INDEX_VALUES": false
            },
            "sample_history": [],
            "sampling_time": "2023-10-10T00:44:44.239868",
            "user_variable_name": "unique_paths",
            "variable_name": "unique_paths"
          }
        },
        "noteable": {
          "cell_type": "code"
        }
      },
      "outputs": [
        {
          "data": {
            "application/vnd.dataresource+json": {
              "data": [
                {
                  "Activity_Path": 1,
                  "index": "A_Create Application->A_Submitted->A_Concept->W_Complete application->A_Accepted->O_Create Offer->O_Created->O_Sent (mail and online)->W_Call after offers->A_Complete->O_Create Offer->O_Created->O_Sent (mail and online)->A_Cancelled->O_Cancelled->O_Cancelled"
                },
                {
                  "Activity_Path": 1,
                  "index": "A_Create Application->A_Submitted->A_Concept->W_Complete application->A_Accepted->O_Create Offer->O_Created->O_Sent (mail and online)->W_Call after offers->A_Complete->W_Validate application->A_Validating->O_Returned->W_Call incomplete files->A_Incomplete->A_Cancelled->O_Cancelled"
                },
                {
                  "Activity_Path": 1,
                  "index": "A_Create Application->A_Submitted->A_Concept->W_Complete application->A_Accepted->O_Create Offer->O_Created->O_Sent (mail and online)->W_Call after offers->A_Complete->W_Validate application->A_Validating->A_Denied->O_Refused"
                },
                {
                  "Activity_Path": 1,
                  "index": "A_Create Application->A_Submitted->A_Concept->W_Complete application->A_Accepted->O_Create Offer->O_Created->O_Sent (mail and online)"
                },
                {
                  "Activity_Path": 1,
                  "index": "A_Create Application->A_Submitted->W_Handle leads->W_Complete application->A_Concept->A_Accepted->O_Create Offer->O_Created->O_Sent (mail and online)->W_Call after offers->A_Complete->O_Create Offer->O_Created->O_Sent (mail and online)->W_Validate application->A_Validating->O_Returned->W_Call incomplete files->A_Incomplete->W_Validate application->A_Validating->W_Call incomplete files->A_Incomplete->W_Validate application->A_Validating->O_Accepted->A_Pending->O_Cancelled"
                },
                {
                  "Activity_Path": 1,
                  "index": "A_Create Application->A_Submitted->A_Concept->W_Complete application->A_Accepted->O_Create Offer->O_Created->O_Sent (mail and online)->W_Call after offers->A_Complete->W_Validate application->A_Validating->O_Returned->A_Denied->O_Refused"
                },
                {
                  "Activity_Path": 1,
                  "index": "A_Create Application->A_Submitted->A_Concept->W_Complete application->A_Accepted->O_Create Offer->O_Created->O_Sent (mail and online)->W_Call after offers->A_Complete->O_Create Offer->O_Created->O_Cancelled->O_Sent (mail and online)->W_Validate application->A_Validating->O_Returned->W_Call incomplete files->A_Incomplete->W_Validate application->A_Validating->O_Accepted->A_Pending"
                },
                {
                  "Activity_Path": 1,
                  "index": "A_Create Application->A_Submitted->A_Concept->W_Complete application->A_Accepted->O_Create Offer->O_Created->O_Sent (mail and online)->W_Call after offers->A_Complete->W_Validate application->A_Validating->O_Returned->W_Call incomplete files->A_Incomplete->O_Accepted->A_Pending"
                },
                {
                  "Activity_Path": 1,
                  "index": "A_Create Application->A_Submitted->A_Concept->W_Complete application->A_Accepted->O_Create Offer->O_Created->O_Sent (mail and online)->W_Call after offers->A_Complete->W_Validate application->A_Validating->O_Returned->W_Call incomplete files->A_Incomplete->W_Validate application->A_Validating->O_Accepted->A_Pending"
                },
                {
                  "Activity_Path": 1,
                  "index": "A_Create Application->A_Submitted->A_Concept->W_Complete application->A_Accepted->O_Create Offer->O_Created->O_Sent (mail and online)->W_Call after offers->A_Complete->A_Cancelled->O_Cancelled"
                }
              ],
              "datalink": {
                "display_id": "98f1c497-553d-499d-96b0-7a206be7e183"
              },
              "schema": {
                "fields": [
                  {
                    "name": "index",
                    "type": "string"
                  },
                  {
                    "name": "Activity_Path",
                    "type": "integer"
                  }
                ],
                "pandas_version": "1.4.0",
                "primaryKey": [
                  "index"
                ]
              }
            }
          },
          "metadata": {
            "application/vnd.dataresource+json": {
              "datalink": {
                "applied_filters": [],
                "dataframe_info": {
                  "default_index_used": false,
                  "orig_num_cols": 1,
                  "orig_num_rows": 10,
                  "orig_size_bytes": 160,
                  "truncated_num_cols": 1,
                  "truncated_num_rows": 10,
                  "truncated_size_bytes": 160,
                  "truncated_string_columns": []
                },
                "display_id": "98f1c497-553d-499d-96b0-7a206be7e183",
                "dx_settings": {
                  "ALLOW_NOTEABLE_ATTRS": true,
                  "COLUMN_SAMPLING_METHOD": "outer",
                  "DB_LOCATION": ":memory:",
                  "DEV_MODE": false,
                  "DISPLAY_MAX_COLUMNS": 100,
                  "DISPLAY_MAX_ROWS": 50000,
                  "DISPLAY_MODE": "simple",
                  "ENABLE_ASSIGNMENT": true,
                  "ENABLE_DATALINK": true,
                  "FLATTEN_COLUMN_VALUES": true,
                  "FLATTEN_INDEX_VALUES": false,
                  "GENERATE_DEX_METADATA": false,
                  "HTML_TABLE_SCHEMA": false,
                  "LOG_LEVEL": 30,
                  "MAX_RENDER_SIZE_BYTES": 104857600,
                  "MAX_STRING_LENGTH": 250,
                  "NUM_PAST_SAMPLES_TRACKED": 3,
                  "RANDOM_STATE": 12648430,
                  "RESET_INDEX_VALUES": false,
                  "ROW_SAMPLING_METHOD": "random",
                  "SAMPLING_FACTOR": 0.1,
                  "SAMPLING_METHOD": "random",
                  "STRINGIFY_COLUMN_VALUES": true,
                  "STRINGIFY_INDEX_VALUES": false
                },
                "sample_history": [],
                "sampling_time": "2023-10-10T00:44:44.239868",
                "user_variable_name": "unique_paths",
                "variable_name": "unique_paths"
              },
              "display_id": "98f1c497-553d-499d-96b0-7a206be7e183"
            }
          },
          "output_type": "display_data"
        }
      ],
      "source": [
        "# Analyzing the frequency of different paths taken by cases through the process\n",
        "credit_data_sorted['Activity_Path'] = credit_data_sorted.groupby('Case_ID')['Activity'].transform(lambda x: '->'.join(x))\n",
        "\n",
        "# Getting unique paths and their frequencies\n",
        "unique_paths = credit_data_sorted.drop_duplicates(subset='Case_ID')['Activity_Path'].value_counts()\n",
        "\n",
        "# Displaying the top 10 most frequent paths\n",
        "unique_paths.head(10)"
      ]
    },
    {
      "cell_type": "code",
      "execution_count": null,
      "id": "f5b7e851-50bb-4f89-aa36-2fe6dd3af795",
      "metadata": {
        "ExecuteTime": {
          "end_time": "2023-10-10T00:46:50.145655+00:00",
          "start_time": "2023-10-10T00:46:49.502620+00:00"
        },
        "noteable": {
          "cell_type": "code"
        }
      },
      "outputs": [
        {
          "data": {
            "image/png": "[encoded data removed]"
          },
          "metadata": {},
          "output_type": "display_data"
        }
      ],
      "source": [
        "# Visualizing the frequency of different paths taken by cases\n",
        "plt.figure(figsize=(12, 8))\n",
        "sns.barplot(y=unique_paths.index, x=unique_paths.values, orient='h')\n",
        "plt.title('Frequency of Different Paths Taken by Cases')\n",
        "plt.xlabel('Frequency')\n",
        "plt.ylabel('Paths')\n",
        "plt.show()"
      ]
    },
    {
      "cell_type": "markdown",
      "id": "03f29c6d-09e8-41e5-9d96-3ec50ab6484c",
      "metadata": {
        "noteable": {
          "cell_type": "markdown"
        }
      },
      "source": [
        "## Frequency of Different Paths Taken by Cases: Plot Summary\n",
        "\n",
        "The plot shows that each path occurs only once in the dataset, making them all unique. This could be due to the complexity of the process or the granularity of the activities."
      ]
    },
    {
      "cell_type": "code",
      "execution_count": null,
      "id": "fd46c268-e2a7-408e-9848-500938a4449e",
      "metadata": {
        "ExecuteTime": {
          "end_time": "2023-10-10T17:43:41.448827+00:00",
          "start_time": "2023-10-10T17:43:41.027060+00:00"
        },
        "noteable": {
          "cell_type": "code"
        }
      },
      "outputs": [
        {
          "ename": "NameError",
          "evalue": "name 'credit_data_sorted' is not defined",
          "output_type": "error",
          "traceback": [
            "\u001b[0;31m---------------------------------------------------------------------------\u001b[0m",
            "\u001b[0;31mNameError\u001b[0m                                 Traceback (most recent call last)",
            "Cell \u001b[0;32mIn[1], line 8\u001b[0m\n\u001b[1;32m      5\u001b[0m G \u001b[38;5;241m=\u001b[39m nx\u001b[38;5;241m.\u001b[39mDiGraph()\n\u001b[1;32m      7\u001b[0m \u001b[38;5;66;03m# Adding edges to the graph based on the sequence of activities for each case\u001b[39;00m\n\u001b[0;32m----> 8\u001b[0m \u001b[38;5;28;01mfor\u001b[39;00m path \u001b[38;5;129;01min\u001b[39;00m \u001b[43mcredit_data_sorted\u001b[49m[\u001b[38;5;124m'\u001b[39m\u001b[38;5;124mActivity_Path\u001b[39m\u001b[38;5;124m'\u001b[39m]\u001b[38;5;241m.\u001b[39munique():\n\u001b[1;32m      9\u001b[0m     activities \u001b[38;5;241m=\u001b[39m path\u001b[38;5;241m.\u001b[39msplit(\u001b[38;5;124m'\u001b[39m\u001b[38;5;124m->\u001b[39m\u001b[38;5;124m'\u001b[39m)\n\u001b[1;32m     10\u001b[0m     \u001b[38;5;28;01mfor\u001b[39;00m i \u001b[38;5;129;01min\u001b[39;00m \u001b[38;5;28mrange\u001b[39m(\u001b[38;5;28mlen\u001b[39m(activities) \u001b[38;5;241m-\u001b[39m \u001b[38;5;241m1\u001b[39m):\n",
            "\u001b[0;31mNameError\u001b[0m: name 'credit_data_sorted' is not defined"
          ]
        }
      ],
      "source": [
        "# Importing required libraries for creating a flowchart\n",
        "import networkx as nx\n",
        "\n",
        "# Creating a directed graph\n",
        "G = nx.DiGraph()\n",
        "\n",
        "# Adding edges to the graph based on the sequence of activities for each case\n",
        "for path in credit_data_sorted['Activity_Path'].unique():\n",
        "    activities = path.split('->')\n",
        "    for i in range(len(activities) - 1):\n",
        "        G.add_edge(activities[i], activities[i + 1])\n",
        "\n",
        "# Drawing the flowchart\n",
        "plt.figure(figsize=(12, 12))\n",
        "pos = nx.spring_layout(G, seed=42)\n",
        "nx.draw(G, pos, with_labels=True, node_color='skyblue', node_size=2000, font_size=10, font_color='black', font_weight='bold', arrows=True)\n",
        "plt.title('Flowchart of Paths Taken by Cases')\n",
        "plt.show()"
      ]
    },
    {
      "cell_type": "code",
      "execution_count": null,
      "id": "5718dbd4-a378-4fe2-ac3a-adf3de6d9f71",
      "metadata": {
        "ExecuteTime": {
          "end_time": "2023-10-10T17:44:52.392240+00:00",
          "start_time": "2023-10-10T17:44:52.213141+00:00"
        },
        "noteable": {
          "cell_type": "code"
        }
      },
      "outputs": [
        {
          "ename": "NameError",
          "evalue": "name 'credit_data' is not defined",
          "output_type": "error",
          "traceback": [
            "\u001b[0;31m---------------------------------------------------------------------------\u001b[0m",
            "\u001b[0;31mNameError\u001b[0m                                 Traceback (most recent call last)",
            "Cell \u001b[0;32mIn[2], line 2\u001b[0m\n\u001b[1;32m      1\u001b[0m \u001b[38;5;66;03m# Sorting the data by Case_ID and Timestamp for flowchart preparation\u001b[39;00m\n\u001b[0;32m----> 2\u001b[0m credit_data_sorted \u001b[38;5;241m=\u001b[39m \u001b[43mcredit_data\u001b[49m\u001b[38;5;241m.\u001b[39msort_values(by\u001b[38;5;241m=\u001b[39m[\u001b[38;5;124m'\u001b[39m\u001b[38;5;124mCase_ID\u001b[39m\u001b[38;5;124m'\u001b[39m, \u001b[38;5;124m'\u001b[39m\u001b[38;5;124mStart_Timestamp\u001b[39m\u001b[38;5;124m'\u001b[39m])\n\u001b[1;32m      4\u001b[0m \u001b[38;5;66;03m# Creating a new column to store the activity path for each case\u001b[39;00m\n\u001b[1;32m      5\u001b[0m credit_data_sorted[\u001b[38;5;124m'\u001b[39m\u001b[38;5;124mActivity_Path\u001b[39m\u001b[38;5;124m'\u001b[39m] \u001b[38;5;241m=\u001b[39m credit_data_sorted\u001b[38;5;241m.\u001b[39mgroupby(\u001b[38;5;124m'\u001b[39m\u001b[38;5;124mCase_ID\u001b[39m\u001b[38;5;124m'\u001b[39m)[\u001b[38;5;124m'\u001b[39m\u001b[38;5;124mActivity\u001b[39m\u001b[38;5;124m'\u001b[39m]\u001b[38;5;241m.\u001b[39mtransform(\u001b[38;5;28;01mlambda\u001b[39;00m x: \u001b[38;5;124m'\u001b[39m\u001b[38;5;124m->\u001b[39m\u001b[38;5;124m'\u001b[39m\u001b[38;5;241m.\u001b[39mjoin(x))\n",
            "\u001b[0;31mNameError\u001b[0m: name 'credit_data' is not defined"
          ]
        }
      ],
      "source": [
        "# Sorting the data by Case_ID and Timestamp for flowchart preparation\n",
        "credit_data_sorted = credit_data.sort_values(by=['Case_ID', 'Start_Timestamp'])\n",
        "\n",
        "# Creating a new column to store the activity path for each case\n",
        "credit_data_sorted['Activity_Path'] = credit_data_sorted.groupby('Case_ID')['Activity'].transform(lambda x: '->'.join(x))\n",
        "credit_data_sorted.head()"
      ]
    },
    {
      "cell_type": "code",
      "execution_count": null,
      "id": "09eb890f-41fd-4708-bb45-ff52e7964647",
      "metadata": {
        "ExecuteTime": {
          "end_time": "2023-10-10T17:46:10.508190+00:00",
          "start_time": "2023-10-10T17:46:09.040121+00:00"
        },
        "noteable": {
          "cell_type": "code"
        }
      },
      "outputs": [
        {
          "ename": "KeyError",
          "evalue": "'Start Timestamp'",
          "output_type": "error",
          "traceback": [
            "\u001b[0;31m---------------------------------------------------------------------------\u001b[0m",
            "\u001b[0;31mKeyError\u001b[0m                                  Traceback (most recent call last)",
            "File \u001b[0;32m/opt/conda/lib/python3.9/site-packages/pandas/core/indexes/base.py:3802\u001b[0m, in \u001b[0;36mIndex.get_loc\u001b[0;34m(self, key, method, tolerance)\u001b[0m\n\u001b[1;32m   3801\u001b[0m \u001b[38;5;28;01mtry\u001b[39;00m:\n\u001b[0;32m-> 3802\u001b[0m     \u001b[38;5;28;01mreturn\u001b[39;00m \u001b[38;5;28;43mself\u001b[39;49m\u001b[38;5;241;43m.\u001b[39;49m\u001b[43m_engine\u001b[49m\u001b[38;5;241;43m.\u001b[39;49m\u001b[43mget_loc\u001b[49m\u001b[43m(\u001b[49m\u001b[43mcasted_key\u001b[49m\u001b[43m)\u001b[49m\n\u001b[1;32m   3803\u001b[0m \u001b[38;5;28;01mexcept\u001b[39;00m \u001b[38;5;167;01mKeyError\u001b[39;00m \u001b[38;5;28;01mas\u001b[39;00m err:\n",
            "File \u001b[0;32m/opt/conda/lib/python3.9/site-packages/pandas/_libs/index.pyx:138\u001b[0m, in \u001b[0;36mpandas._libs.index.IndexEngine.get_loc\u001b[0;34m()\u001b[0m\n",
            "File \u001b[0;32m/opt/conda/lib/python3.9/site-packages/pandas/_libs/index.pyx:165\u001b[0m, in \u001b[0;36mpandas._libs.index.IndexEngine.get_loc\u001b[0;34m()\u001b[0m\n",
            "File \u001b[0;32mpandas/_libs/hashtable_class_helper.pxi:5745\u001b[0m, in \u001b[0;36mpandas._libs.hashtable.PyObjectHashTable.get_item\u001b[0;34m()\u001b[0m\n",
            "File \u001b[0;32mpandas/_libs/hashtable_class_helper.pxi:5753\u001b[0m, in \u001b[0;36mpandas._libs.hashtable.PyObjectHashTable.get_item\u001b[0;34m()\u001b[0m\n",
            "\u001b[0;31mKeyError\u001b[0m: 'Start Timestamp'",
            "\nThe above exception was the direct cause of the following exception:\n",
            "\u001b[0;31mKeyError\u001b[0m                                  Traceback (most recent call last)",
            "Cell \u001b[0;32mIn[3], line 10\u001b[0m\n\u001b[1;32m      7\u001b[0m credit_data \u001b[38;5;241m=\u001b[39m pd\u001b[38;5;241m.\u001b[39mread_excel(\u001b[38;5;124m'\u001b[39m\u001b[38;5;124mcredit_fil.xlsx\u001b[39m\u001b[38;5;124m'\u001b[39m)\n\u001b[1;32m      9\u001b[0m \u001b[38;5;66;03m# Converting 'Start Timestamp' and 'Complete Timestamp' to datetime format\u001b[39;00m\n\u001b[0;32m---> 10\u001b[0m credit_data[\u001b[38;5;124m'\u001b[39m\u001b[38;5;124mStart Timestamp\u001b[39m\u001b[38;5;124m'\u001b[39m] \u001b[38;5;241m=\u001b[39m pd\u001b[38;5;241m.\u001b[39mto_datetime(\u001b[43mcredit_data\u001b[49m\u001b[43m[\u001b[49m\u001b[38;5;124;43m'\u001b[39;49m\u001b[38;5;124;43mStart Timestamp\u001b[39;49m\u001b[38;5;124;43m'\u001b[39;49m\u001b[43m]\u001b[49m)\n\u001b[1;32m     11\u001b[0m credit_data[\u001b[38;5;124m'\u001b[39m\u001b[38;5;124mComplete Timestamp\u001b[39m\u001b[38;5;124m'\u001b[39m] \u001b[38;5;241m=\u001b[39m pd\u001b[38;5;241m.\u001b[39mto_datetime(credit_data[\u001b[38;5;124m'\u001b[39m\u001b[38;5;124mComplete Timestamp\u001b[39m\u001b[38;5;124m'\u001b[39m])\n\u001b[1;32m     13\u001b[0m \u001b[38;5;66;03m# Sorting the data by Case_ID and Start Timestamp\u001b[39;00m\n",
            "File \u001b[0;32m/opt/conda/lib/python3.9/site-packages/pandas/core/frame.py:3807\u001b[0m, in \u001b[0;36mDataFrame.__getitem__\u001b[0;34m(self, key)\u001b[0m\n\u001b[1;32m   3805\u001b[0m \u001b[38;5;28;01mif\u001b[39;00m \u001b[38;5;28mself\u001b[39m\u001b[38;5;241m.\u001b[39mcolumns\u001b[38;5;241m.\u001b[39mnlevels \u001b[38;5;241m>\u001b[39m \u001b[38;5;241m1\u001b[39m:\n\u001b[1;32m   3806\u001b[0m     \u001b[38;5;28;01mreturn\u001b[39;00m \u001b[38;5;28mself\u001b[39m\u001b[38;5;241m.\u001b[39m_getitem_multilevel(key)\n\u001b[0;32m-> 3807\u001b[0m indexer \u001b[38;5;241m=\u001b[39m \u001b[38;5;28;43mself\u001b[39;49m\u001b[38;5;241;43m.\u001b[39;49m\u001b[43mcolumns\u001b[49m\u001b[38;5;241;43m.\u001b[39;49m\u001b[43mget_loc\u001b[49m\u001b[43m(\u001b[49m\u001b[43mkey\u001b[49m\u001b[43m)\u001b[49m\n\u001b[1;32m   3808\u001b[0m \u001b[38;5;28;01mif\u001b[39;00m is_integer(indexer):\n\u001b[1;32m   3809\u001b[0m     indexer \u001b[38;5;241m=\u001b[39m [indexer]\n",
            "File \u001b[0;32m/opt/conda/lib/python3.9/site-packages/pandas/core/indexes/base.py:3804\u001b[0m, in \u001b[0;36mIndex.get_loc\u001b[0;34m(self, key, method, tolerance)\u001b[0m\n\u001b[1;32m   3802\u001b[0m     \u001b[38;5;28;01mreturn\u001b[39;00m \u001b[38;5;28mself\u001b[39m\u001b[38;5;241m.\u001b[39m_engine\u001b[38;5;241m.\u001b[39mget_loc(casted_key)\n\u001b[1;32m   3803\u001b[0m \u001b[38;5;28;01mexcept\u001b[39;00m \u001b[38;5;167;01mKeyError\u001b[39;00m \u001b[38;5;28;01mas\u001b[39;00m err:\n\u001b[0;32m-> 3804\u001b[0m     \u001b[38;5;28;01mraise\u001b[39;00m \u001b[38;5;167;01mKeyError\u001b[39;00m(key) \u001b[38;5;28;01mfrom\u001b[39;00m \u001b[38;5;21;01merr\u001b[39;00m\n\u001b[1;32m   3805\u001b[0m \u001b[38;5;28;01mexcept\u001b[39;00m \u001b[38;5;167;01mTypeError\u001b[39;00m:\n\u001b[1;32m   3806\u001b[0m     \u001b[38;5;66;03m# If we have a listlike key, _check_indexing_error will raise\u001b[39;00m\n\u001b[1;32m   3807\u001b[0m     \u001b[38;5;66;03m#  InvalidIndexError. Otherwise we fall through and re-raise\u001b[39;00m\n\u001b[1;32m   3808\u001b[0m     \u001b[38;5;66;03m#  the TypeError.\u001b[39;00m\n\u001b[1;32m   3809\u001b[0m     \u001b[38;5;28mself\u001b[39m\u001b[38;5;241m.\u001b[39m_check_indexing_error(key)\n",
            "\u001b[0;31mKeyError\u001b[0m: 'Start Timestamp'"
          ]
        }
      ],
      "source": [
        "# Importing required libraries\n",
        "import pandas as pd\n",
        "import matplotlib.pyplot as plt\n",
        "import seaborn as sns\n",
        "\n",
        "# Reading the Excel file into a DataFrame\n",
        "credit_data = pd.read_excel('credit_fil.xlsx')\n",
        "\n",
        "# Converting 'Start Timestamp' and 'Complete Timestamp' to datetime format\n",
        "credit_data['Start Timestamp'] = pd.to_datetime(credit_data['Start Timestamp'])\n",
        "credit_data['Complete Timestamp'] = pd.to_datetime(credit_data['Complete Timestamp'])\n",
        "\n",
        "# Sorting the data by Case_ID and Start Timestamp\n",
        "credit_data_sorted = credit_data.sort_values(by=['Case_ID', 'Start Timestamp'])\n",
        "\n",
        "# Creating a new column to store the activity path for each case\n",
        "credit_data_sorted['Activity_Path'] = credit_data_sorted.groupby('Case_ID')['Activity'].transform(lambda x: '->'.join(x))\n",
        "credit_data_sorted.head()"
      ]
    },
    {
      "cell_type": "code",
      "execution_count": null,
      "id": "86814609-7a50-4506-824d-c6e9030330e5",
      "metadata": {
        "ExecuteTime": {
          "end_time": "2023-10-10T17:47:24.101066+00:00",
          "start_time": "2023-10-10T17:47:23.943194+00:00"
        },
        "noteable": {
          "cell_type": "code"
        }
      },
      "outputs": [
        {
          "data": {
            "text/plain": [
              "Index(['Case_ID', 'Activity', 'Resource', 'Start_Timestamp',\n",
              "       'Complete_Timestamp', 'Variant', 'Variant_index',\n",
              "       'case_ApplicationType', 'case_creditGoal', 'case_RequestedAmount',\n",
              "       'Accepted', 'Action', 'CreditScore', 'EventID', 'EventOrigin',\n",
              "       'FirstWithdrawalAmount', 'MonthlyCost', 'NumberOfTerms', 'OfferID',\n",
              "       'OfferedAmount', 'Selected', 'lifecycle:transition', 'starttimestamp',\n",
              "       'endtimestamp'],\n",
              "      dtype='object')"
            ]
          },
          "execution_count": null,
          "metadata": {},
          "output_type": "execute_result"
        }
      ],
      "source": [
        "# Checking the column names in the dataset\n",
        "credit_data.columns"
      ]
    },
    {
      "cell_type": "code",
      "execution_count": null,
      "id": "780c71ac-b955-41db-80c2-e0b51b4f46ed",
      "metadata": {
        "ExecuteTime": {
          "end_time": "2023-10-10T17:48:50.746894+00:00",
          "start_time": "2023-10-10T17:48:50.422246+00:00"
        },
        "datalink": {
          "40cf6408-c00c-43a2-98b4-554275959353": {
            "applied_filters": [],
            "dataframe_info": {
              "default_index_used": true,
              "orig_num_cols": 25,
              "orig_num_rows": 5,
              "orig_size_bytes": 1040,
              "truncated_num_cols": 25,
              "truncated_num_rows": 5,
              "truncated_size_bytes": 1040,
              "truncated_string_columns": [
                "Activity_Path"
              ]
            },
            "display_id": "40cf6408-c00c-43a2-98b4-554275959353",
            "dx_settings": {
              "ALLOW_NOTEABLE_ATTRS": true,
              "COLUMN_SAMPLING_METHOD": "outer",
              "DB_LOCATION": ":memory:",
              "DEV_MODE": false,
              "DISPLAY_MAX_COLUMNS": 100,
              "DISPLAY_MAX_ROWS": 50000,
              "DISPLAY_MODE": "simple",
              "ENABLE_ASSIGNMENT": true,
              "ENABLE_DATALINK": true,
              "FLATTEN_COLUMN_VALUES": true,
              "FLATTEN_INDEX_VALUES": false,
              "GENERATE_DEX_METADATA": false,
              "HTML_TABLE_SCHEMA": false,
              "LOG_LEVEL": 30,
              "MAX_RENDER_SIZE_BYTES": 104857600,
              "MAX_STRING_LENGTH": 250,
              "NUM_PAST_SAMPLES_TRACKED": 3,
              "RANDOM_STATE": 12648430,
              "RESET_INDEX_VALUES": false,
              "ROW_SAMPLING_METHOD": "random",
              "SAMPLING_FACTOR": 0.1,
              "SAMPLING_METHOD": "random",
              "STRINGIFY_COLUMN_VALUES": true,
              "STRINGIFY_INDEX_VALUES": false
            },
            "sample_history": [],
            "sampling_time": "2023-10-10T17:48:50.573982",
            "user_variable_name": null,
            "variable_name": "unk_dataframe_858bd55ded55466f809b423abc182981"
          }
        },
        "noteable": {
          "cell_type": "code"
        }
      },
      "outputs": [
        {
          "data": {
            "application/vnd.dataresource+json": {
              "data": [
                {
                  "Accepted": null,
                  "Action": "Created",
                  "Activity": "A_Create Application",
                  "Activity_Path": "A_Create Application->A_Submitted->A_Concept->W_Complete application->A_Accepted->O_Create Offer->O_Created->O_Sent (mail and online)->W_Call after offers->A_Complete->O_Create Offer->O_Created->O_Sent (mail and online)->A_Cancelled->O_Cancelled->O_C",
                  "Case_ID": "Application_1085880569",
                  "Complete_Timestamp": "2016-01-01T14:05:19.866000Z",
                  "CreditScore": null,
                  "EventID": "Application_1085880569",
                  "EventOrigin": "Application",
                  "FirstWithdrawalAmount": null,
                  "MonthlyCost": null,
                  "NumberOfTerms": null,
                  "OfferID": null,
                  "OfferedAmount": null,
                  "Resource": "User_1",
                  "Selected": null,
                  "Start_Timestamp": "2016-01-01T14:05:19.866000Z",
                  "Variant": "Variant 19",
                  "Variant_index": 19,
                  "case_ApplicationType": "New credit",
                  "case_RequestedAmount": "1,30E+04",
                  "case_creditGoal": "Existing credit takeover",
                  "endtimestamp": "2016-01-01T13:05:19Z",
                  "index": 96,
                  "lifecycle:transition": "complete",
                  "starttimestamp": "2016-01-01T13:05:19Z"
                },
                {
                  "Accepted": null,
                  "Action": "statechange",
                  "Activity": "A_Submitted",
                  "Activity_Path": "A_Create Application->A_Submitted->A_Concept->W_Complete application->A_Accepted->O_Create Offer->O_Created->O_Sent (mail and online)->W_Call after offers->A_Complete->O_Create Offer->O_Created->O_Sent (mail and online)->A_Cancelled->O_Cancelled->O_C",
                  "Case_ID": "Application_1085880569",
                  "Complete_Timestamp": "2016-01-01T14:05:19.901000Z",
                  "CreditScore": null,
                  "EventID": "ApplState_736842791",
                  "EventOrigin": "Application",
                  "FirstWithdrawalAmount": null,
                  "MonthlyCost": null,
                  "NumberOfTerms": null,
                  "OfferID": null,
                  "OfferedAmount": null,
                  "Resource": "User_1",
                  "Selected": null,
                  "Start_Timestamp": "2016-01-01T14:05:19.901000Z",
                  "Variant": "Variant 19",
                  "Variant_index": 19,
                  "case_ApplicationType": "New credit",
                  "case_RequestedAmount": "1,30E+04",
                  "case_creditGoal": "Existing credit takeover",
                  "endtimestamp": "2016-01-01T13:05:19Z",
                  "index": 97,
                  "lifecycle:transition": "complete",
                  "starttimestamp": "2016-01-01T13:05:19Z"
                },
                {
                  "Accepted": null,
                  "Action": "statechange",
                  "Activity": "A_Concept",
                  "Activity_Path": "A_Create Application->A_Submitted->A_Concept->W_Complete application->A_Accepted->O_Create Offer->O_Created->O_Sent (mail and online)->W_Call after offers->A_Complete->O_Create Offer->O_Created->O_Sent (mail and online)->A_Cancelled->O_Cancelled->O_C",
                  "Case_ID": "Application_1085880569",
                  "Complete_Timestamp": "2016-01-01T14:06:26.321000Z",
                  "CreditScore": null,
                  "EventID": "ApplState_1145436902",
                  "EventOrigin": "Application",
                  "FirstWithdrawalAmount": null,
                  "MonthlyCost": null,
                  "NumberOfTerms": null,
                  "OfferID": null,
                  "OfferedAmount": null,
                  "Resource": "User_1",
                  "Selected": null,
                  "Start_Timestamp": "2016-01-01T14:06:26.321000Z",
                  "Variant": "Variant 19",
                  "Variant_index": 19,
                  "case_ApplicationType": "New credit",
                  "case_RequestedAmount": "1,30E+04",
                  "case_creditGoal": "Existing credit takeover",
                  "endtimestamp": "2016-01-01T13:06:26Z",
                  "index": 98,
                  "lifecycle:transition": "complete",
                  "starttimestamp": "2016-01-01T13:06:26Z"
                },
                {
                  "Accepted": null,
                  "Action": "Deleted",
                  "Activity": "W_Complete application",
                  "Activity_Path": "A_Create Application->A_Submitted->A_Concept->W_Complete application->A_Accepted->O_Create Offer->O_Created->O_Sent (mail and online)->W_Call after offers->A_Complete->O_Create Offer->O_Created->O_Sent (mail and online)->A_Cancelled->O_Cancelled->O_C",
                  "Case_ID": "Application_1085880569",
                  "Complete_Timestamp": "2016-01-02T12:45:11.179000Z",
                  "CreditScore": null,
                  "EventID": "Workitem_1190824769",
                  "EventOrigin": "Workflow",
                  "FirstWithdrawalAmount": null,
                  "MonthlyCost": null,
                  "NumberOfTerms": null,
                  "OfferID": null,
                  "OfferedAmount": null,
                  "Resource": "User_17",
                  "Selected": null,
                  "Start_Timestamp": "2016-01-02T12:22:55.931000Z",
                  "Variant": "Variant 19",
                  "Variant_index": 19,
                  "case_ApplicationType": "New credit",
                  "case_RequestedAmount": "1,30E+04",
                  "case_creditGoal": "Existing credit takeover",
                  "endtimestamp": "2016-01-02T11:45:11Z",
                  "index": 99,
                  "lifecycle:transition": "complete",
                  "starttimestamp": "2016-01-02T11:22:55Z"
                },
                {
                  "Accepted": null,
                  "Action": "statechange",
                  "Activity": "A_Accepted",
                  "Activity_Path": "A_Create Application->A_Submitted->A_Concept->W_Complete application->A_Accepted->O_Create Offer->O_Created->O_Sent (mail and online)->W_Call after offers->A_Complete->O_Create Offer->O_Created->O_Sent (mail and online)->A_Cancelled->O_Cancelled->O_C",
                  "Case_ID": "Application_1085880569",
                  "Complete_Timestamp": "2016-01-02T12:40:28.520000Z",
                  "CreditScore": null,
                  "EventID": "ApplState_515475781",
                  "EventOrigin": "Application",
                  "FirstWithdrawalAmount": null,
                  "MonthlyCost": null,
                  "NumberOfTerms": null,
                  "OfferID": null,
                  "OfferedAmount": null,
                  "Resource": "User_17",
                  "Selected": null,
                  "Start_Timestamp": "2016-01-02T12:40:28.520000Z",
                  "Variant": "Variant 19",
                  "Variant_index": 19,
                  "case_ApplicationType": "New credit",
                  "case_RequestedAmount": "1,30E+04",
                  "case_creditGoal": "Existing credit takeover",
                  "endtimestamp": "2016-01-02T11:40:28Z",
                  "index": 100,
                  "lifecycle:transition": "complete",
                  "starttimestamp": "2016-01-02T11:40:28Z"
                }
              ],
              "datalink": {
                "display_id": "40cf6408-c00c-43a2-98b4-554275959353"
              },
              "schema": {
                "fields": [
                  {
                    "name": "index",
                    "type": "integer"
                  },
                  {
                    "name": "Case_ID",
                    "type": "string"
                  },
                  {
                    "name": "Activity",
                    "type": "string"
                  },
                  {
                    "name": "Resource",
                    "type": "string"
                  },
                  {
                    "name": "Start_Timestamp",
                    "type": "datetime"
                  },
                  {
                    "name": "Complete_Timestamp",
                    "type": "datetime"
                  },
                  {
                    "name": "Variant",
                    "type": "string"
                  },
                  {
                    "name": "Variant_index",
                    "type": "integer"
                  },
                  {
                    "name": "case_ApplicationType",
                    "type": "string"
                  },
                  {
                    "name": "case_creditGoal",
                    "type": "string"
                  },
                  {
                    "name": "case_RequestedAmount",
                    "type": "string"
                  },
                  {
                    "name": "Accepted",
                    "type": "number"
                  },
                  {
                    "name": "Action",
                    "type": "string"
                  },
                  {
                    "name": "CreditScore",
                    "type": "number"
                  },
                  {
                    "name": "EventID",
                    "type": "string"
                  },
                  {
                    "name": "EventOrigin",
                    "type": "string"
                  },
                  {
                    "name": "FirstWithdrawalAmount",
                    "type": "string"
                  },
                  {
                    "name": "MonthlyCost",
                    "type": "number"
                  },
                  {
                    "name": "NumberOfTerms",
                    "type": "number"
                  },
                  {
                    "name": "OfferID",
                    "type": "string"
                  },
                  {
                    "name": "OfferedAmount",
                    "type": "string"
                  },
                  {
                    "name": "Selected",
                    "type": "number"
                  },
                  {
                    "name": "lifecycle:transition",
                    "type": "string"
                  },
                  {
                    "name": "starttimestamp",
                    "type": "string"
                  },
                  {
                    "name": "endtimestamp",
                    "type": "string"
                  },
                  {
                    "name": "Activity_Path",
                    "type": "string"
                  }
                ],
                "pandas_version": "1.4.0",
                "primaryKey": [
                  "index"
                ]
              }
            }
          },
          "metadata": {
            "application/vnd.dataresource+json": {
              "datalink": {
                "applied_filters": [],
                "dataframe_info": {
                  "default_index_used": true,
                  "orig_num_cols": 25,
                  "orig_num_rows": 5,
                  "orig_size_bytes": 1040,
                  "truncated_num_cols": 25,
                  "truncated_num_rows": 5,
                  "truncated_size_bytes": 1040,
                  "truncated_string_columns": [
                    "Activity_Path"
                  ]
                },
                "display_id": "40cf6408-c00c-43a2-98b4-554275959353",
                "dx_settings": {
                  "ALLOW_NOTEABLE_ATTRS": true,
                  "COLUMN_SAMPLING_METHOD": "outer",
                  "DB_LOCATION": ":memory:",
                  "DEV_MODE": false,
                  "DISPLAY_MAX_COLUMNS": 100,
                  "DISPLAY_MAX_ROWS": 50000,
                  "DISPLAY_MODE": "simple",
                  "ENABLE_ASSIGNMENT": true,
                  "ENABLE_DATALINK": true,
                  "FLATTEN_COLUMN_VALUES": true,
                  "FLATTEN_INDEX_VALUES": false,
                  "GENERATE_DEX_METADATA": false,
                  "HTML_TABLE_SCHEMA": false,
                  "LOG_LEVEL": 30,
                  "MAX_RENDER_SIZE_BYTES": 104857600,
                  "MAX_STRING_LENGTH": 250,
                  "NUM_PAST_SAMPLES_TRACKED": 3,
                  "RANDOM_STATE": 12648430,
                  "RESET_INDEX_VALUES": false,
                  "ROW_SAMPLING_METHOD": "random",
                  "SAMPLING_FACTOR": 0.1,
                  "SAMPLING_METHOD": "random",
                  "STRINGIFY_COLUMN_VALUES": true,
                  "STRINGIFY_INDEX_VALUES": false
                },
                "sample_history": [],
                "sampling_time": "2023-10-10T17:48:50.573982",
                "user_variable_name": null,
                "variable_name": "unk_dataframe_858bd55ded55466f809b423abc182981"
              },
              "display_id": "40cf6408-c00c-43a2-98b4-554275959353"
            }
          },
          "output_type": "display_data"
        }
      ],
      "source": [
        "# Reading the Excel file into a DataFrame\n",
        "credit_data = pd.read_excel('credit_fil.xlsx')\n",
        "\n",
        "# Converting 'Start_Timestamp' and 'Complete_Timestamp' to datetime format\n",
        "credit_data['Start_Timestamp'] = pd.to_datetime(credit_data['Start_Timestamp'])\n",
        "credit_data['Complete_Timestamp'] = pd.to_datetime(credit_data['Complete_Timestamp'])\n",
        "\n",
        "# Sorting the data by Case_ID and Start_Timestamp\n",
        "credit_data_sorted = credit_data.sort_values(by=['Case_ID', 'Start_Timestamp'])\n",
        "\n",
        "# Creating a new column to store the activity path for each case\n",
        "credit_data_sorted['Activity_Path'] = credit_data_sorted.groupby('Case_ID')['Activity'].transform(lambda x: '->'.join(x))\n",
        "credit_data_sorted.head()"
      ]
    },
    {
      "cell_type": "code",
      "execution_count": null,
      "id": "1d244d0d-dd23-4bfb-a1ed-7a5cd6c9c541",
      "metadata": {
        "ExecuteTime": {
          "end_time": "2023-10-10T17:52:11.791333+00:00",
          "start_time": "2023-10-10T17:52:10.926975+00:00"
        },
        "noteable": {
          "cell_type": "code"
        }
      },
      "outputs": [
        {
          "data": {
            "image/png": "[encoded data removed]"
          },
          "metadata": {},
          "output_type": "display_data"
        }
      ],
      "source": [
        "# Drawing the graph with an even more spread-out layout\n",
        "plt.figure(figsize=(16, 12))\n",
        "pos = nx.spring_layout(G, seed=42, iterations=200, k=0.5)\n",
        "nx.draw(G, pos, with_labels=True, node_color='skyblue', node_size=2000, font_size=10, font_color='black', font_weight='bold', arrows=True)\n",
        "plt.title('Activity Flowchart (Further Spread Out)')\n",
        "plt.show()"
      ]
    },
    {
      "cell_type": "markdown",
      "id": "18852e1e-c768-4e37-bc77-47efde9001f8",
      "metadata": {
        "noteable": {
          "cell_type": "markdown"
        }
      },
      "source": [
        "## Activity Flowchart: Further Spread Out\n",
        "\n",
        "The flowchart provides a visual representation of the different paths taken by cases in the dataset. Each node represents an activity, and the arrows indicate the flow from one activity to another. The nodes are spread out for better visibility."
      ]
    },
    {
      "cell_type": "code",
      "execution_count": null,
      "id": "d156fe38-4746-4694-8392-b5cead8e0a7b",
      "metadata": {
        "ExecuteTime": {
          "end_time": "2023-10-10T17:57:24.907010+00:00",
          "start_time": "2023-10-10T17:57:24.749744+00:00"
        },
        "noteable": {
          "cell_type": "code"
        }
      },
      "outputs": [
        {
          "data": {
            "text/plain": [
              "(array(['A_Create Application', 'A_Submitted', 'A_Concept',\n",
              "        'W_Complete application', 'A_Accepted', 'O_Create Offer',\n",
              "        'O_Created', 'O_Sent (mail and online)', 'W_Call after offers',\n",
              "        'A_Complete', 'A_Cancelled', 'O_Cancelled',\n",
              "        'W_Validate application', 'A_Validating', 'O_Returned',\n",
              "        'W_Call incomplete files', 'A_Incomplete', 'A_Denied', 'O_Refused',\n",
              "        'W_Handle leads', 'O_Accepted', 'A_Pending'], dtype=object),\n",
              " array(['User_1', 'User_17', 'User_8', 'User_19', 'User_3', 'User_113',\n",
              "        'User_100', 'User_27', 'User_38', 'User_68', 'User_119', 'User_12',\n",
              "        'User_95', 'User_114', 'User_118', 'User_116', 'User_99',\n",
              "        'User_101', 'User_31', 'User_90', 'User_52', 'User_117',\n",
              "        'User_115'], dtype=object))"
            ]
          },
          "execution_count": null,
          "metadata": {},
          "output_type": "execute_result"
        }
      ],
      "source": [
        "# Listing all unique activities and resources in the dataset\n",
        "unique_activities = credit_data_sorted['Activity'].unique()\n",
        "unique_resources = credit_data_sorted['Resource'].unique()\n",
        "\n",
        "unique_activities, unique_resources"
      ]
    },
    {
      "cell_type": "code",
      "execution_count": null,
      "id": "40da04f8-42d5-4479-8acf-3e2cdfd50fae",
      "metadata": {
        "ExecuteTime": {
          "end_time": "2023-10-10T17:59:18.959940+00:00",
          "start_time": "2023-10-10T17:59:18.801912+00:00"
        },
        "noteable": {
          "cell_type": "code"
        }
      },
      "outputs": [
        {
          "data": {
            "text/plain": [
              "(O_Create Offer              13\n",
              " O_Created                   13\n",
              " O_Sent (mail and online)    13\n",
              " W_Validate application      11\n",
              " A_Validating                11\n",
              " A_Create Application        10\n",
              " A_Concept                   10\n",
              " W_Complete application      10\n",
              " A_Accepted                  10\n",
              " A_Submitted                 10\n",
              " W_Call after offers          9\n",
              " A_Complete                   9\n",
              " W_Call incomplete files      6\n",
              " A_Incomplete                 6\n",
              " O_Cancelled                  6\n",
              " O_Returned                   6\n",
              " O_Accepted                   4\n",
              " A_Pending                    4\n",
              " A_Cancelled                  3\n",
              " A_Denied                     2\n",
              " O_Refused                    2\n",
              " W_Handle leads               1\n",
              " Name: Activity, dtype: int64,\n",
              " User_1      34\n",
              " User_19     33\n",
              " User_3      17\n",
              " User_17     11\n",
              " User_95      7\n",
              " User_38      7\n",
              " User_52      6\n",
              " User_117     5\n",
              " User_113     5\n",
              " User_116     5\n",
              " User_119     5\n",
              " User_118     4\n",
              " User_115     4\n",
              " User_100     4\n",
              " User_68      3\n",
              " User_99      3\n",
              " User_8       3\n",
              " User_12      3\n",
              " User_114     2\n",
              " User_27      2\n",
              " User_101     2\n",
              " User_31      2\n",
              " User_90      2\n",
              " Name: Resource, dtype: int64)"
            ]
          },
          "execution_count": null,
          "metadata": {},
          "output_type": "execute_result"
        }
      ],
      "source": [
        "# Generating frequency distributions for activities and resources\n",
        "activity_frequency = credit_data_sorted['Activity'].value_counts()\n",
        "resource_frequency = credit_data_sorted['Resource'].value_counts()\n",
        "\n",
        "activity_frequency, resource_frequency"
      ]
    },
    {
      "cell_type": "code",
      "execution_count": null,
      "id": "48b1e2d0-b126-4829-b285-e06f52e0d603",
      "metadata": {
        "ExecuteTime": {
          "end_time": "2023-10-10T18:02:46.532948+00:00",
          "start_time": "2023-10-10T18:02:45.767033+00:00"
        },
        "noteable": {
          "cell_type": "code"
        }
      },
      "outputs": [
        {
          "data": {
            "image/png": "[encoded data removed]"
          },
          "metadata": {},
          "output_type": "display_data"
        }
      ],
      "source": [
        "# Creating bar charts to visualize the frequency distributions\n",
        "fig, axes = plt.subplots(1, 2, figsize=(18, 6))\n",
        "\n",
        "# Bar chart for activities\n",
        "activity_frequency.plot(kind='bar', ax=axes[0], color='blue')\n",
        "axes[0].set_title('Frequency of Activities')\n",
        "axes[0].set_xlabel('Activities')\n",
        "axes[0].set_ylabel('Frequency')\n",
        "\n",
        "# Bar chart for resources\n",
        "resource_frequency.plot(kind='bar', ax=axes[1], color='green')\n",
        "axes[1].set_title('Frequency of Resources')\n",
        "axes[1].set_xlabel('Resources')\n",
        "axes[1].set_ylabel('Frequency')\n",
        "\n",
        "plt.tight_layout()\n",
        "plt.show()"
      ]
    },
    {
      "cell_type": "markdown",
      "id": "bd452914-9b3e-4cae-acb3-d73d02e70017",
      "metadata": {
        "noteable": {
          "cell_type": "markdown"
        }
      },
      "source": [
        "## Frequency Distributions: Summary\n",
        "\n",
        "### Activities\n",
        "The bar chart for activities shows that some activities occur more frequently than others. For instance, `O_Create Offer`, `O_Created`, and `O_Sent (mail and online)` each occur 13 times, making them the most frequent activities in the dataset.\n",
        "\n",
        "### Resources\n",
        "The bar chart for resources indicates that `User_1` and `User_19` are the most frequently occurring resources, with 34 and 33 occurrences respectively. This suggests that these resources are heavily involved in the process.\n",
        "\n",
        "These visualizations provide a comprehensive overview of the frequency of activities and resources, which can be useful for understanding process flows and resource allocation."
      ]
    },
    {
      "cell_type": "code",
      "execution_count": null,
      "id": "308479c2-2372-40b1-9a11-d52142892adc",
      "metadata": {
        "ExecuteTime": {
          "end_time": "2023-10-10T18:13:07.974931+00:00",
          "start_time": "2023-10-10T18:13:07.736577+00:00"
        },
        "noteable": {
          "cell_type": "code"
        }
      },
      "outputs": [
        {
          "ename": "KeyError",
          "evalue": "'Case ID'",
          "output_type": "error",
          "traceback": [
            "\u001b[0;31m---------------------------------------------------------------------------\u001b[0m",
            "\u001b[0;31mKeyError\u001b[0m                                  Traceback (most recent call last)",
            "File \u001b[0;32m/opt/conda/lib/python3.9/site-packages/pandas/core/indexes/base.py:3802\u001b[0m, in \u001b[0;36mIndex.get_loc\u001b[0;34m(self, key, method, tolerance)\u001b[0m\n\u001b[1;32m   3801\u001b[0m \u001b[38;5;28;01mtry\u001b[39;00m:\n\u001b[0;32m-> 3802\u001b[0m     \u001b[38;5;28;01mreturn\u001b[39;00m \u001b[38;5;28;43mself\u001b[39;49m\u001b[38;5;241;43m.\u001b[39;49m\u001b[43m_engine\u001b[49m\u001b[38;5;241;43m.\u001b[39;49m\u001b[43mget_loc\u001b[49m\u001b[43m(\u001b[49m\u001b[43mcasted_key\u001b[49m\u001b[43m)\u001b[49m\n\u001b[1;32m   3803\u001b[0m \u001b[38;5;28;01mexcept\u001b[39;00m \u001b[38;5;167;01mKeyError\u001b[39;00m \u001b[38;5;28;01mas\u001b[39;00m err:\n",
            "File \u001b[0;32m/opt/conda/lib/python3.9/site-packages/pandas/_libs/index.pyx:138\u001b[0m, in \u001b[0;36mpandas._libs.index.IndexEngine.get_loc\u001b[0;34m()\u001b[0m\n",
            "File \u001b[0;32m/opt/conda/lib/python3.9/site-packages/pandas/_libs/index.pyx:165\u001b[0m, in \u001b[0;36mpandas._libs.index.IndexEngine.get_loc\u001b[0;34m()\u001b[0m\n",
            "File \u001b[0;32mpandas/_libs/hashtable_class_helper.pxi:5745\u001b[0m, in \u001b[0;36mpandas._libs.hashtable.PyObjectHashTable.get_item\u001b[0;34m()\u001b[0m\n",
            "File \u001b[0;32mpandas/_libs/hashtable_class_helper.pxi:5753\u001b[0m, in \u001b[0;36mpandas._libs.hashtable.PyObjectHashTable.get_item\u001b[0;34m()\u001b[0m\n",
            "\u001b[0;31mKeyError\u001b[0m: 'Case ID'",
            "\nThe above exception was the direct cause of the following exception:\n",
            "\u001b[0;31mKeyError\u001b[0m                                  Traceback (most recent call last)",
            "Cell \u001b[0;32mIn[12], line 2\u001b[0m\n\u001b[1;32m      1\u001b[0m \u001b[38;5;66;03m# Step 1: Identify mandatory activities by checking their presence in all unique cases\u001b[39;00m\n\u001b[0;32m----> 2\u001b[0m cases \u001b[38;5;241m=\u001b[39m \u001b[43mcredit_data_sorted\u001b[49m\u001b[43m[\u001b[49m\u001b[38;5;124;43m'\u001b[39;49m\u001b[38;5;124;43mCase ID\u001b[39;49m\u001b[38;5;124;43m'\u001b[39;49m\u001b[43m]\u001b[49m\u001b[38;5;241m.\u001b[39munique()\n\u001b[1;32m      3\u001b[0m mandatory_activities \u001b[38;5;241m=\u001b[39m []\n\u001b[1;32m      5\u001b[0m \u001b[38;5;28;01mfor\u001b[39;00m activity \u001b[38;5;129;01min\u001b[39;00m unique_activities:\n",
            "File \u001b[0;32m/opt/conda/lib/python3.9/site-packages/pandas/core/frame.py:3807\u001b[0m, in \u001b[0;36mDataFrame.__getitem__\u001b[0;34m(self, key)\u001b[0m\n\u001b[1;32m   3805\u001b[0m \u001b[38;5;28;01mif\u001b[39;00m \u001b[38;5;28mself\u001b[39m\u001b[38;5;241m.\u001b[39mcolumns\u001b[38;5;241m.\u001b[39mnlevels \u001b[38;5;241m>\u001b[39m \u001b[38;5;241m1\u001b[39m:\n\u001b[1;32m   3806\u001b[0m     \u001b[38;5;28;01mreturn\u001b[39;00m \u001b[38;5;28mself\u001b[39m\u001b[38;5;241m.\u001b[39m_getitem_multilevel(key)\n\u001b[0;32m-> 3807\u001b[0m indexer \u001b[38;5;241m=\u001b[39m \u001b[38;5;28;43mself\u001b[39;49m\u001b[38;5;241;43m.\u001b[39;49m\u001b[43mcolumns\u001b[49m\u001b[38;5;241;43m.\u001b[39;49m\u001b[43mget_loc\u001b[49m\u001b[43m(\u001b[49m\u001b[43mkey\u001b[49m\u001b[43m)\u001b[49m\n\u001b[1;32m   3808\u001b[0m \u001b[38;5;28;01mif\u001b[39;00m is_integer(indexer):\n\u001b[1;32m   3809\u001b[0m     indexer \u001b[38;5;241m=\u001b[39m [indexer]\n",
            "File \u001b[0;32m/opt/conda/lib/python3.9/site-packages/pandas/core/indexes/base.py:3804\u001b[0m, in \u001b[0;36mIndex.get_loc\u001b[0;34m(self, key, method, tolerance)\u001b[0m\n\u001b[1;32m   3802\u001b[0m     \u001b[38;5;28;01mreturn\u001b[39;00m \u001b[38;5;28mself\u001b[39m\u001b[38;5;241m.\u001b[39m_engine\u001b[38;5;241m.\u001b[39mget_loc(casted_key)\n\u001b[1;32m   3803\u001b[0m \u001b[38;5;28;01mexcept\u001b[39;00m \u001b[38;5;167;01mKeyError\u001b[39;00m \u001b[38;5;28;01mas\u001b[39;00m err:\n\u001b[0;32m-> 3804\u001b[0m     \u001b[38;5;28;01mraise\u001b[39;00m \u001b[38;5;167;01mKeyError\u001b[39;00m(key) \u001b[38;5;28;01mfrom\u001b[39;00m \u001b[38;5;21;01merr\u001b[39;00m\n\u001b[1;32m   3805\u001b[0m \u001b[38;5;28;01mexcept\u001b[39;00m \u001b[38;5;167;01mTypeError\u001b[39;00m:\n\u001b[1;32m   3806\u001b[0m     \u001b[38;5;66;03m# If we have a listlike key, _check_indexing_error will raise\u001b[39;00m\n\u001b[1;32m   3807\u001b[0m     \u001b[38;5;66;03m#  InvalidIndexError. Otherwise we fall through and re-raise\u001b[39;00m\n\u001b[1;32m   3808\u001b[0m     \u001b[38;5;66;03m#  the TypeError.\u001b[39;00m\n\u001b[1;32m   3809\u001b[0m     \u001b[38;5;28mself\u001b[39m\u001b[38;5;241m.\u001b[39m_check_indexing_error(key)\n",
            "\u001b[0;31mKeyError\u001b[0m: 'Case ID'"
          ]
        }
      ],
      "source": [
        "# Step 1: Identify mandatory activities by checking their presence in all unique cases\n",
        "cases = credit_data_sorted['Case ID'].unique()\n",
        "mandatory_activities = []\n",
        "\n",
        "for activity in unique_activities:\n",
        "    if all(credit_data_sorted[credit_data_sorted['Case ID'] == case].Activity.str.contains(activity).any() for case in cases):\n",
        "        mandatory_activities.append(activity)\n",
        "\n",
        "mandatory_activities"
      ]
    },
    {
      "cell_type": "code",
      "execution_count": null,
      "id": "fe2fdc93-ca69-43cd-a229-763f0a3b7475",
      "metadata": {
        "ExecuteTime": {
          "end_time": "2023-10-10T18:16:24.688340+00:00",
          "start_time": "2023-10-10T18:16:24.530423+00:00"
        },
        "noteable": {
          "cell_type": "code"
        }
      },
      "outputs": [
        {
          "data": {
            "text/plain": [
              "Index(['Case_ID', 'Activity', 'Resource', 'Start_Timestamp',\n",
              "       'Complete_Timestamp', 'Variant', 'Variant_index',\n",
              "       'case_ApplicationType', 'case_creditGoal', 'case_RequestedAmount',\n",
              "       'Accepted', 'Action', 'CreditScore', 'EventID', 'EventOrigin',\n",
              "       'FirstWithdrawalAmount', 'MonthlyCost', 'NumberOfTerms', 'OfferID',\n",
              "       'OfferedAmount', 'Selected', 'lifecycle:transition', 'starttimestamp',\n",
              "       'endtimestamp', 'Activity_Path'],\n",
              "      dtype='object')"
            ]
          },
          "execution_count": null,
          "metadata": {},
          "output_type": "execute_result"
        }
      ],
      "source": [
        "# Debugging: Checking the column names in the dataset to identify the issue\n",
        "credit_data_sorted.columns"
      ]
    },
    {
      "cell_type": "code",
      "execution_count": null,
      "id": "4959ff7b-3224-4cfc-858d-7650f4373b01",
      "metadata": {
        "ExecuteTime": {
          "end_time": "2023-10-10T18:25:41.560938+00:00",
          "start_time": "2023-10-10T18:25:41.347449+00:00"
        },
        "noteable": {
          "cell_type": "code"
        }
      },
      "outputs": [
        {
          "data": {
            "text/plain": [
              "['A_Create Application',\n",
              " 'A_Submitted',\n",
              " 'A_Concept',\n",
              " 'W_Complete application',\n",
              " 'A_Accepted',\n",
              " 'O_Create Offer',\n",
              " 'O_Created']"
            ]
          },
          "execution_count": null,
          "metadata": {},
          "output_type": "execute_result"
        }
      ],
      "source": [
        "# Step 1: Identify mandatory activities by checking their presence in all unique cases (Corrected)\n",
        "cases = credit_data_sorted['Case_ID'].unique()\n",
        "mandatory_activities = []\n",
        "\n",
        "for activity in unique_activities:\n",
        "    if all(credit_data_sorted[credit_data_sorted['Case_ID'] == case].Activity.str.contains(activity).any() for case in cases):\n",
        "        mandatory_activities.append(activity)\n",
        "\n",
        "mandatory_activities"
      ]
    },
    {
      "cell_type": "code",
      "execution_count": null,
      "id": "77f738ec-d597-45d0-a0d5-4cab690208a8",
      "metadata": {
        "ExecuteTime": {
          "end_time": "2023-10-10T18:30:51.081115+00:00",
          "start_time": "2023-10-10T18:30:50.767200+00:00"
        },
        "datalink": {
          "bdd8a148-af5c-4dfb-bb50-3035b7acc83d": {
            "applied_filters": [],
            "dataframe_info": {
              "default_index_used": true,
              "orig_num_cols": 24,
              "orig_num_rows": 5,
              "orig_size_bytes": 1000,
              "truncated_num_cols": 24,
              "truncated_num_rows": 5,
              "truncated_size_bytes": 1000,
              "truncated_string_columns": []
            },
            "display_id": "bdd8a148-af5c-4dfb-bb50-3035b7acc83d",
            "dx_settings": {
              "ALLOW_NOTEABLE_ATTRS": true,
              "COLUMN_SAMPLING_METHOD": "outer",
              "DB_LOCATION": ":memory:",
              "DEV_MODE": false,
              "DISPLAY_MAX_COLUMNS": 100,
              "DISPLAY_MAX_ROWS": 50000,
              "DISPLAY_MODE": "simple",
              "ENABLE_ASSIGNMENT": true,
              "ENABLE_DATALINK": true,
              "FLATTEN_COLUMN_VALUES": true,
              "FLATTEN_INDEX_VALUES": false,
              "GENERATE_DEX_METADATA": false,
              "HTML_TABLE_SCHEMA": false,
              "LOG_LEVEL": 30,
              "MAX_RENDER_SIZE_BYTES": 104857600,
              "MAX_STRING_LENGTH": 250,
              "NUM_PAST_SAMPLES_TRACKED": 3,
              "RANDOM_STATE": 12648430,
              "RESET_INDEX_VALUES": false,
              "ROW_SAMPLING_METHOD": "random",
              "SAMPLING_FACTOR": 0.1,
              "SAMPLING_METHOD": "random",
              "STRINGIFY_COLUMN_VALUES": true,
              "STRINGIFY_INDEX_VALUES": false
            },
            "sample_history": [],
            "sampling_time": "2023-10-10T18:30:50.910544",
            "user_variable_name": null,
            "variable_name": "unk_dataframe_41d3149973f14b1ea9567b8a6d4079bd"
          }
        },
        "noteable": {
          "cell_type": "code"
        }
      },
      "outputs": [
        {
          "data": {
            "application/vnd.dataresource+json": {
              "data": [
                {
                  "Activity": "A_Create Application",
                  "Selected": null,
                  "accepted": null,
                  "action": "Created",
                  "case_application_type": "New credit",
                  "case_credit_goal": "Existing credit takeover",
                  "case_id": "Application_652823628",
                  "case_requested_amount": null,
                  "complete_timestamp": "2016-01-01T10:51:15.304000Z",
                  "credit_score": null,
                  "endtimestamp": "2016-01-01T09:51:15Z",
                  "event_id": "Application_652823628",
                  "event_origin": "Application",
                  "first_wthdrawal_amount": null,
                  "index": 0,
                  "lifecycle_transition": "complete",
                  "monthly_cost": null,
                  "number_of_terms": null,
                  "offer_id": null,
                  "offered_amount": null,
                  "resource": "User_1",
                  "start_timestamp": "2016-01-01T10:51:15.304000Z",
                  "starttimestamp": "2016-01-01T09:51:15Z",
                  "variant": "Variant 2",
                  "variant_index": 2
                },
                {
                  "Activity": "A_Submitted",
                  "Selected": null,
                  "accepted": null,
                  "action": "statechange",
                  "case_application_type": "New credit",
                  "case_credit_goal": "Existing credit takeover",
                  "case_id": "Application_652823628",
                  "case_requested_amount": 20000,
                  "complete_timestamp": "2016-01-01T10:51:15.352000Z",
                  "credit_score": null,
                  "endtimestamp": "2016-01-01T09:51:15Z",
                  "event_id": "ApplState_1582051990",
                  "event_origin": "Application",
                  "first_wthdrawal_amount": null,
                  "index": 1,
                  "lifecycle_transition": "complete",
                  "monthly_cost": null,
                  "number_of_terms": null,
                  "offer_id": null,
                  "offered_amount": null,
                  "resource": "User_1",
                  "start_timestamp": "2016-01-01T10:51:15.352000Z",
                  "starttimestamp": "2016-01-01T09:51:15Z",
                  "variant": "Variant 2",
                  "variant_index": 2
                },
                {
                  "Activity": "A_Concept",
                  "Selected": null,
                  "accepted": null,
                  "action": "statechange",
                  "case_application_type": "New credit",
                  "case_credit_goal": "Existing credit takeover",
                  "case_id": "Application_652823628",
                  "case_requested_amount": 20000,
                  "complete_timestamp": "2016-01-01T10:52:36.413000Z",
                  "credit_score": null,
                  "endtimestamp": "2016-01-01T09:52:36Z",
                  "event_id": "ApplState_642383566",
                  "event_origin": "Application",
                  "first_wthdrawal_amount": null,
                  "index": 2,
                  "lifecycle_transition": "complete",
                  "monthly_cost": null,
                  "number_of_terms": null,
                  "offer_id": null,
                  "offered_amount": null,
                  "resource": "User_1",
                  "start_timestamp": "2016-01-01T10:52:36.413000Z",
                  "starttimestamp": "2016-01-01T09:52:36Z",
                  "variant": "Variant 2",
                  "variant_index": 2
                },
                {
                  "Activity": "W_Complete application",
                  "Selected": null,
                  "accepted": null,
                  "action": "Obtained",
                  "case_application_type": "New credit",
                  "case_credit_goal": "Existing credit takeover",
                  "case_id": "Application_652823628",
                  "case_requested_amount": 20000,
                  "complete_timestamp": "2016-01-02T11:45:22.429000Z",
                  "credit_score": null,
                  "endtimestamp": "2016-01-02T10:45:22Z",
                  "event_id": "Workitem_1875340971",
                  "event_origin": "Workflow",
                  "first_wthdrawal_amount": null,
                  "index": 3,
                  "lifecycle_transition": "start",
                  "monthly_cost": null,
                  "number_of_terms": null,
                  "offer_id": null,
                  "offered_amount": null,
                  "resource": "User_17",
                  "start_timestamp": "2016-01-02T11:45:22.429000Z",
                  "starttimestamp": "2016-01-02T10:45:22Z",
                  "variant": "Variant 2",
                  "variant_index": 2
                },
                {
                  "Activity": "A_Accepted",
                  "Selected": null,
                  "accepted": null,
                  "action": "statechange",
                  "case_application_type": "New credit",
                  "case_credit_goal": "Existing credit takeover",
                  "case_id": "Application_652823628",
                  "case_requested_amount": 20000,
                  "complete_timestamp": "2016-01-02T12:23:04.299000Z",
                  "credit_score": null,
                  "endtimestamp": "2016-01-02T11:23:04Z",
                  "event_id": "ApplState_99568828",
                  "event_origin": "Application",
                  "first_wthdrawal_amount": null,
                  "index": 4,
                  "lifecycle_transition": "complete",
                  "monthly_cost": null,
                  "number_of_terms": null,
                  "offer_id": null,
                  "offered_amount": null,
                  "resource": "User_52",
                  "start_timestamp": "2016-01-02T12:23:04.299000Z",
                  "starttimestamp": "2016-01-02T11:23:04Z",
                  "variant": "Variant 2",
                  "variant_index": 2
                }
              ],
              "datalink": {
                "display_id": "bdd8a148-af5c-4dfb-bb50-3035b7acc83d"
              },
              "schema": {
                "fields": [
                  {
                    "name": "index",
                    "type": "integer"
                  },
                  {
                    "name": "case_id",
                    "type": "string"
                  },
                  {
                    "name": "Activity",
                    "type": "string"
                  },
                  {
                    "name": "resource",
                    "type": "string"
                  },
                  {
                    "name": "start_timestamp",
                    "type": "datetime"
                  },
                  {
                    "name": "complete_timestamp",
                    "type": "datetime"
                  },
                  {
                    "name": "variant",
                    "type": "string"
                  },
                  {
                    "name": "variant_index",
                    "type": "integer"
                  },
                  {
                    "name": "case_application_type",
                    "type": "string"
                  },
                  {
                    "name": "case_credit_goal",
                    "type": "string"
                  },
                  {
                    "name": "case_requested_amount",
                    "type": "number"
                  },
                  {
                    "name": "accepted",
                    "type": "number"
                  },
                  {
                    "name": "action",
                    "type": "string"
                  },
                  {
                    "name": "credit_score",
                    "type": "number"
                  },
                  {
                    "name": "event_id",
                    "type": "string"
                  },
                  {
                    "name": "event_origin",
                    "type": "string"
                  },
                  {
                    "name": "first_wthdrawal_amount",
                    "type": "number"
                  },
                  {
                    "name": "monthly_cost",
                    "type": "number"
                  },
                  {
                    "name": "number_of_terms",
                    "type": "number"
                  },
                  {
                    "name": "offer_id",
                    "type": "string"
                  },
                  {
                    "name": "offered_amount",
                    "type": "number"
                  },
                  {
                    "name": "Selected",
                    "type": "number"
                  },
                  {
                    "name": "lifecycle_transition",
                    "type": "string"
                  },
                  {
                    "name": "starttimestamp",
                    "type": "string"
                  },
                  {
                    "name": "endtimestamp",
                    "type": "string"
                  }
                ],
                "pandas_version": "1.4.0",
                "primaryKey": [
                  "index"
                ]
              }
            }
          },
          "metadata": {
            "application/vnd.dataresource+json": {
              "datalink": {
                "applied_filters": [],
                "dataframe_info": {
                  "default_index_used": true,
                  "orig_num_cols": 24,
                  "orig_num_rows": 5,
                  "orig_size_bytes": 1000,
                  "truncated_num_cols": 24,
                  "truncated_num_rows": 5,
                  "truncated_size_bytes": 1000,
                  "truncated_string_columns": []
                },
                "display_id": "bdd8a148-af5c-4dfb-bb50-3035b7acc83d",
                "dx_settings": {
                  "ALLOW_NOTEABLE_ATTRS": true,
                  "COLUMN_SAMPLING_METHOD": "outer",
                  "DB_LOCATION": ":memory:",
                  "DEV_MODE": false,
                  "DISPLAY_MAX_COLUMNS": 100,
                  "DISPLAY_MAX_ROWS": 50000,
                  "DISPLAY_MODE": "simple",
                  "ENABLE_ASSIGNMENT": true,
                  "ENABLE_DATALINK": true,
                  "FLATTEN_COLUMN_VALUES": true,
                  "FLATTEN_INDEX_VALUES": false,
                  "GENERATE_DEX_METADATA": false,
                  "HTML_TABLE_SCHEMA": false,
                  "LOG_LEVEL": 30,
                  "MAX_RENDER_SIZE_BYTES": 104857600,
                  "MAX_STRING_LENGTH": 250,
                  "NUM_PAST_SAMPLES_TRACKED": 3,
                  "RANDOM_STATE": 12648430,
                  "RESET_INDEX_VALUES": false,
                  "ROW_SAMPLING_METHOD": "random",
                  "SAMPLING_FACTOR": 0.1,
                  "SAMPLING_METHOD": "random",
                  "STRINGIFY_COLUMN_VALUES": true,
                  "STRINGIFY_INDEX_VALUES": false
                },
                "sample_history": [],
                "sampling_time": "2023-10-10T18:30:50.910544",
                "user_variable_name": null,
                "variable_name": "unk_dataframe_41d3149973f14b1ea9567b8a6d4079bd"
              },
              "display_id": "bdd8a148-af5c-4dfb-bb50-3035b7acc83d"
            }
          },
          "output_type": "display_data"
        }
      ],
      "source": [
        "# Load the new cleaned-up Excel file 'credit_cleaned.xlsx' and the sheet 'cleaned'\n",
        "import pandas as pd\n",
        "\n",
        "credit_data_cleaned = pd.read_excel('credit_cleaned.xlsx', sheet_name='cleaned')\n",
        "credit_data_cleaned.head()"
      ]
    },
    {
      "cell_type": "code",
      "execution_count": null,
      "id": "f8b8c952-44bb-4546-9d60-1a5723b866d4",
      "metadata": {
        "ExecuteTime": {
          "end_time": "2023-10-10T18:31:41.835767+00:00",
          "start_time": "2023-10-10T18:31:41.616481+00:00"
        },
        "noteable": {
          "cell_type": "code"
        }
      },
      "outputs": [
        {
          "data": {
            "text/plain": [
              "['A_Create Application',\n",
              " 'A_Submitted',\n",
              " 'A_Concept',\n",
              " 'W_Complete application',\n",
              " 'A_Accepted',\n",
              " 'O_Create Offer',\n",
              " 'O_Created']"
            ]
          },
          "execution_count": null,
          "metadata": {},
          "output_type": "execute_result"
        }
      ],
      "source": [
        "# Step 1: Identify mandatory activities in the cleaned-up dataset by checking their presence in all unique cases\n",
        "cases_cleaned = credit_data_cleaned['case_id'].unique()\n",
        "unique_activities_cleaned = credit_data_cleaned['Activity'].unique()\n",
        "mandatory_activities_cleaned = []\n",
        "\n",
        "for activity in unique_activities_cleaned:\n",
        "    if all(credit_data_cleaned[credit_data_cleaned['case_id'] == case].Activity.str.contains(activity).any() for case in cases_cleaned):\n",
        "        mandatory_activities_cleaned.append(activity)\n",
        "\n",
        "mandatory_activities_cleaned"
      ]
    },
    {
      "cell_type": "code",
      "execution_count": null,
      "id": "1e1595c5-69cd-4dc0-83b1-b71008bd32cc",
      "metadata": {
        "ExecuteTime": {
          "end_time": "2023-10-10T18:33:55.566029+00:00",
          "start_time": "2023-10-10T18:33:55.282836+00:00"
        },
        "datalink": {
          "79be1585-4d03-4a65-8afe-6be5ed6825ac": {
            "applied_filters": [],
            "dataframe_info": {
              "default_index_used": true,
              "orig_num_cols": 24,
              "orig_num_rows": 5,
              "orig_size_bytes": 1000,
              "truncated_num_cols": 24,
              "truncated_num_rows": 5,
              "truncated_size_bytes": 1000,
              "truncated_string_columns": []
            },
            "display_id": "79be1585-4d03-4a65-8afe-6be5ed6825ac",
            "dx_settings": {
              "ALLOW_NOTEABLE_ATTRS": true,
              "COLUMN_SAMPLING_METHOD": "outer",
              "DB_LOCATION": ":memory:",
              "DEV_MODE": false,
              "DISPLAY_MAX_COLUMNS": 100,
              "DISPLAY_MAX_ROWS": 50000,
              "DISPLAY_MODE": "simple",
              "ENABLE_ASSIGNMENT": true,
              "ENABLE_DATALINK": true,
              "FLATTEN_COLUMN_VALUES": true,
              "FLATTEN_INDEX_VALUES": false,
              "GENERATE_DEX_METADATA": false,
              "HTML_TABLE_SCHEMA": false,
              "LOG_LEVEL": 30,
              "MAX_RENDER_SIZE_BYTES": 104857600,
              "MAX_STRING_LENGTH": 250,
              "NUM_PAST_SAMPLES_TRACKED": 3,
              "RANDOM_STATE": 12648430,
              "RESET_INDEX_VALUES": false,
              "ROW_SAMPLING_METHOD": "random",
              "SAMPLING_FACTOR": 0.1,
              "SAMPLING_METHOD": "random",
              "STRINGIFY_COLUMN_VALUES": true,
              "STRINGIFY_INDEX_VALUES": false
            },
            "sample_history": [],
            "sampling_time": "2023-10-10T18:33:55.393939",
            "user_variable_name": null,
            "variable_name": "unk_dataframe_7e57b475f5b649979c84e1d49d31d2b0"
          }
        },
        "noteable": {
          "cell_type": "code"
        }
      },
      "outputs": [
        {
          "data": {
            "application/vnd.dataresource+json": {
              "data": [
                {
                  "Activity": "A_Create Application",
                  "Selected": null,
                  "accepted": null,
                  "action": "Created",
                  "case_application_type": "New credit",
                  "case_credit_goal": "Existing credit takeover",
                  "case_id": "Application_652823628",
                  "case_requested_amount": null,
                  "complete_timestamp": "2016-01-01T10:51:15.304000Z",
                  "credit_score": null,
                  "endtimestamp": "2016-01-01T09:51:15Z",
                  "event_id": "Application_652823628",
                  "event_origin": "Application",
                  "first_wthdrawal_amount": null,
                  "index": 0,
                  "lifecycle_transition": "complete",
                  "monthly_cost": null,
                  "number_of_terms": null,
                  "offer_id": null,
                  "offered_amount": null,
                  "resource": "User_1",
                  "start_timestamp": "2016-01-01T10:51:15.304000Z",
                  "starttimestamp": "2016-01-01T09:51:15Z",
                  "variant": "Variant 2",
                  "variant_index": 2
                },
                {
                  "Activity": "A_Submitted",
                  "Selected": null,
                  "accepted": null,
                  "action": "statechange",
                  "case_application_type": "New credit",
                  "case_credit_goal": "Existing credit takeover",
                  "case_id": "Application_652823628",
                  "case_requested_amount": 20000,
                  "complete_timestamp": "2016-01-01T10:51:15.352000Z",
                  "credit_score": null,
                  "endtimestamp": "2016-01-01T09:51:15Z",
                  "event_id": "ApplState_1582051990",
                  "event_origin": "Application",
                  "first_wthdrawal_amount": null,
                  "index": 1,
                  "lifecycle_transition": "complete",
                  "monthly_cost": null,
                  "number_of_terms": null,
                  "offer_id": null,
                  "offered_amount": null,
                  "resource": "User_1",
                  "start_timestamp": "2016-01-01T10:51:15.352000Z",
                  "starttimestamp": "2016-01-01T09:51:15Z",
                  "variant": "Variant 2",
                  "variant_index": 2
                },
                {
                  "Activity": "A_Concept",
                  "Selected": null,
                  "accepted": null,
                  "action": "statechange",
                  "case_application_type": "New credit",
                  "case_credit_goal": "Existing credit takeover",
                  "case_id": "Application_652823628",
                  "case_requested_amount": 20000,
                  "complete_timestamp": "2016-01-01T10:52:36.413000Z",
                  "credit_score": null,
                  "endtimestamp": "2016-01-01T09:52:36Z",
                  "event_id": "ApplState_642383566",
                  "event_origin": "Application",
                  "first_wthdrawal_amount": null,
                  "index": 2,
                  "lifecycle_transition": "complete",
                  "monthly_cost": null,
                  "number_of_terms": null,
                  "offer_id": null,
                  "offered_amount": null,
                  "resource": "User_1",
                  "start_timestamp": "2016-01-01T10:52:36.413000Z",
                  "starttimestamp": "2016-01-01T09:52:36Z",
                  "variant": "Variant 2",
                  "variant_index": 2
                },
                {
                  "Activity": "W_Complete application",
                  "Selected": null,
                  "accepted": null,
                  "action": "Obtained",
                  "case_application_type": "New credit",
                  "case_credit_goal": "Existing credit takeover",
                  "case_id": "Application_652823628",
                  "case_requested_amount": 20000,
                  "complete_timestamp": "2016-01-02T11:45:22.429000Z",
                  "credit_score": null,
                  "endtimestamp": "2016-01-02T10:45:22Z",
                  "event_id": "Workitem_1875340971",
                  "event_origin": "Workflow",
                  "first_wthdrawal_amount": null,
                  "index": 3,
                  "lifecycle_transition": "start",
                  "monthly_cost": null,
                  "number_of_terms": null,
                  "offer_id": null,
                  "offered_amount": null,
                  "resource": "User_17",
                  "start_timestamp": "2016-01-02T11:45:22.429000Z",
                  "starttimestamp": "2016-01-02T10:45:22Z",
                  "variant": "Variant 2",
                  "variant_index": 2
                },
                {
                  "Activity": "A_Accepted",
                  "Selected": null,
                  "accepted": null,
                  "action": "statechange",
                  "case_application_type": "New credit",
                  "case_credit_goal": "Existing credit takeover",
                  "case_id": "Application_652823628",
                  "case_requested_amount": 20000,
                  "complete_timestamp": "2016-01-02T12:23:04.299000Z",
                  "credit_score": null,
                  "endtimestamp": "2016-01-02T11:23:04Z",
                  "event_id": "ApplState_99568828",
                  "event_origin": "Application",
                  "first_wthdrawal_amount": null,
                  "index": 4,
                  "lifecycle_transition": "complete",
                  "monthly_cost": null,
                  "number_of_terms": null,
                  "offer_id": null,
                  "offered_amount": null,
                  "resource": "User_52",
                  "start_timestamp": "2016-01-02T12:23:04.299000Z",
                  "starttimestamp": "2016-01-02T11:23:04Z",
                  "variant": "Variant 2",
                  "variant_index": 2
                }
              ],
              "datalink": {
                "display_id": "79be1585-4d03-4a65-8afe-6be5ed6825ac"
              },
              "schema": {
                "fields": [
                  {
                    "name": "index",
                    "type": "integer"
                  },
                  {
                    "name": "case_id",
                    "type": "string"
                  },
                  {
                    "name": "Activity",
                    "type": "string"
                  },
                  {
                    "name": "resource",
                    "type": "string"
                  },
                  {
                    "name": "start_timestamp",
                    "type": "datetime"
                  },
                  {
                    "name": "complete_timestamp",
                    "type": "datetime"
                  },
                  {
                    "name": "variant",
                    "type": "string"
                  },
                  {
                    "name": "variant_index",
                    "type": "integer"
                  },
                  {
                    "name": "case_application_type",
                    "type": "string"
                  },
                  {
                    "name": "case_credit_goal",
                    "type": "string"
                  },
                  {
                    "name": "case_requested_amount",
                    "type": "number"
                  },
                  {
                    "name": "accepted",
                    "type": "number"
                  },
                  {
                    "name": "action",
                    "type": "string"
                  },
                  {
                    "name": "credit_score",
                    "type": "number"
                  },
                  {
                    "name": "event_id",
                    "type": "string"
                  },
                  {
                    "name": "event_origin",
                    "type": "string"
                  },
                  {
                    "name": "first_wthdrawal_amount",
                    "type": "number"
                  },
                  {
                    "name": "monthly_cost",
                    "type": "number"
                  },
                  {
                    "name": "number_of_terms",
                    "type": "number"
                  },
                  {
                    "name": "offer_id",
                    "type": "string"
                  },
                  {
                    "name": "offered_amount",
                    "type": "number"
                  },
                  {
                    "name": "Selected",
                    "type": "number"
                  },
                  {
                    "name": "lifecycle_transition",
                    "type": "string"
                  },
                  {
                    "name": "starttimestamp",
                    "type": "string"
                  },
                  {
                    "name": "endtimestamp",
                    "type": "string"
                  }
                ],
                "pandas_version": "1.4.0",
                "primaryKey": [
                  "index"
                ]
              }
            }
          },
          "metadata": {
            "application/vnd.dataresource+json": {
              "datalink": {
                "applied_filters": [],
                "dataframe_info": {
                  "default_index_used": true,
                  "orig_num_cols": 24,
                  "orig_num_rows": 5,
                  "orig_size_bytes": 1000,
                  "truncated_num_cols": 24,
                  "truncated_num_rows": 5,
                  "truncated_size_bytes": 1000,
                  "truncated_string_columns": []
                },
                "display_id": "79be1585-4d03-4a65-8afe-6be5ed6825ac",
                "dx_settings": {
                  "ALLOW_NOTEABLE_ATTRS": true,
                  "COLUMN_SAMPLING_METHOD": "outer",
                  "DB_LOCATION": ":memory:",
                  "DEV_MODE": false,
                  "DISPLAY_MAX_COLUMNS": 100,
                  "DISPLAY_MAX_ROWS": 50000,
                  "DISPLAY_MODE": "simple",
                  "ENABLE_ASSIGNMENT": true,
                  "ENABLE_DATALINK": true,
                  "FLATTEN_COLUMN_VALUES": true,
                  "FLATTEN_INDEX_VALUES": false,
                  "GENERATE_DEX_METADATA": false,
                  "HTML_TABLE_SCHEMA": false,
                  "LOG_LEVEL": 30,
                  "MAX_RENDER_SIZE_BYTES": 104857600,
                  "MAX_STRING_LENGTH": 250,
                  "NUM_PAST_SAMPLES_TRACKED": 3,
                  "RANDOM_STATE": 12648430,
                  "RESET_INDEX_VALUES": false,
                  "ROW_SAMPLING_METHOD": "random",
                  "SAMPLING_FACTOR": 0.1,
                  "SAMPLING_METHOD": "random",
                  "STRINGIFY_COLUMN_VALUES": true,
                  "STRINGIFY_INDEX_VALUES": false
                },
                "sample_history": [],
                "sampling_time": "2023-10-10T18:33:55.393939",
                "user_variable_name": null,
                "variable_name": "unk_dataframe_7e57b475f5b649979c84e1d49d31d2b0"
              },
              "display_id": "79be1585-4d03-4a65-8afe-6be5ed6825ac"
            }
          },
          "output_type": "display_data"
        }
      ],
      "source": [
        "# Step 2: Filter the event log to only include cases where mandatory activities are present\n",
        "filtered_cases = []\n",
        "\n",
        "for case in cases_cleaned:\n",
        "    if all(credit_data_cleaned[credit_data_cleaned['case_id'] == case].Activity.isin(mandatory_activities_cleaned).any() for activity in mandatory_activities_cleaned):\n",
        "        filtered_cases.append(case)\n",
        "\n",
        "# Create a filtered DataFrame\n",
        "credit_data_filtered = credit_data_cleaned[credit_data_cleaned['case_id'].isin(filtered_cases)]\n",
        "\n",
        "credit_data_filtered.head()"
      ]
    },
    {
      "cell_type": "code",
      "execution_count": null,
      "id": "71044dfe-4709-47b1-a21d-8c76b58fd818",
      "metadata": {
        "ExecuteTime": {
          "end_time": "2023-10-10T18:36:36.047114+00:00",
          "start_time": "2023-10-10T18:36:35.868999+00:00"
        },
        "noteable": {
          "cell_type": "code"
        }
      },
      "outputs": [
        {
          "ename": "ModuleNotFoundError",
          "evalue": "No module named 'pm4py.visualization.petrinet'",
          "output_type": "error",
          "traceback": [
            "\u001b[0;31m---------------------------------------------------------------------------\u001b[0m",
            "\u001b[0;31mModuleNotFoundError\u001b[0m                       Traceback (most recent call last)",
            "Cell \u001b[0;32mIn[21], line 4\u001b[0m\n\u001b[1;32m      2\u001b[0m \u001b[38;5;28;01mfrom\u001b[39;00m \u001b[38;5;21;01mpm4py\u001b[39;00m\u001b[38;5;21;01m.\u001b[39;00m\u001b[38;5;21;01mobjects\u001b[39;00m\u001b[38;5;21;01m.\u001b[39;00m\u001b[38;5;21;01mconversion\u001b[39;00m\u001b[38;5;21;01m.\u001b[39;00m\u001b[38;5;21;01mlog\u001b[39;00m \u001b[38;5;28;01mimport\u001b[39;00m converter \u001b[38;5;28;01mas\u001b[39;00m log_converter\n\u001b[1;32m      3\u001b[0m \u001b[38;5;28;01mfrom\u001b[39;00m \u001b[38;5;21;01mpm4py\u001b[39;00m\u001b[38;5;21;01m.\u001b[39;00m\u001b[38;5;21;01mobjects\u001b[39;00m\u001b[38;5;21;01m.\u001b[39;00m\u001b[38;5;21;01mlog\u001b[39;00m\u001b[38;5;21;01m.\u001b[39;00m\u001b[38;5;21;01mutil\u001b[39;00m \u001b[38;5;28;01mimport\u001b[39;00m dataframe_utils\n\u001b[0;32m----> 4\u001b[0m \u001b[38;5;28;01mfrom\u001b[39;00m \u001b[38;5;21;01mpm4py\u001b[39;00m\u001b[38;5;21;01m.\u001b[39;00m\u001b[38;5;21;01mvisualization\u001b[39;00m\u001b[38;5;21;01m.\u001b[39;00m\u001b[38;5;21;01mpetrinet\u001b[39;00m \u001b[38;5;28;01mimport\u001b[39;00m visualizer \u001b[38;5;28;01mas\u001b[39;00m pn_visualizer\n\u001b[1;32m      5\u001b[0m \u001b[38;5;28;01mfrom\u001b[39;00m \u001b[38;5;21;01mpm4py\u001b[39;00m\u001b[38;5;21;01m.\u001b[39;00m\u001b[38;5;21;01malgo\u001b[39;00m\u001b[38;5;21;01m.\u001b[39;00m\u001b[38;5;21;01mdiscovery\u001b[39;00m\u001b[38;5;21;01m.\u001b[39;00m\u001b[38;5;21;01malpha\u001b[39;00m \u001b[38;5;28;01mimport\u001b[39;00m algorithm \u001b[38;5;28;01mas\u001b[39;00m alpha_miner\n\u001b[1;32m      7\u001b[0m \u001b[38;5;66;03m# Convert the DataFrame to Event Log format for Process Mining\u001b[39;00m\n",
            "\u001b[0;31mModuleNotFoundError\u001b[0m: No module named 'pm4py.visualization.petrinet'"
          ]
        }
      ],
      "source": [
        "# Step 3: Visualize the processes in the filtered dataset using Process Mining libraries\n",
        "from pm4py.objects.conversion.log import converter as log_converter\n",
        "from pm4py.objects.log.util import dataframe_utils\n",
        "from pm4py.visualization.petrinet import visualizer as pn_visualizer\n",
        "from pm4py.algo.discovery.alpha import algorithm as alpha_miner\n",
        "\n",
        "# Convert the DataFrame to Event Log format for Process Mining\n",
        "log_filtered = dataframe_utils.convert_timestamp_columns_in_df(credit_data_filtered)\n",
        "log_filtered = log_filtered.sort_values('start_timestamp')\n",
        "event_log_filtered = log_converter.apply(log_filtered)\n",
        "\n",
        "# Apply Alpha Miner algorithm to discover the Petri net\n",
        "net, initial_marking, final_marking = alpha_miner.apply(event_log_filtered)\n",
        "\n",
        "# Visualize the Petri net\n",
        "gviz = pn_visualizer.apply(net, initial_marking, final_marking)\n",
        "pn_visualizer.view(gviz)"
      ]
    },
    {
      "cell_type": "code",
      "execution_count": null,
      "id": "366e8d8a-2e46-4835-a9bc-cef8b2066aec",
      "metadata": {
        "ExecuteTime": {
          "end_time": "2023-10-10T18:35:43.343530+00:00",
          "start_time": "2023-10-10T18:35:35.740691+00:00"
        },
        "noteable": {
          "cell_type": "code"
        }
      },
      "outputs": [
        {
          "name": "stdout",
          "output_type": "stream",
          "text": [
            "Collecting pm4py\r\n"
          ]
        },
        {
          "name": "stdout",
          "output_type": "stream",
          "text": [
            "  Downloading pm4py-2.7.8-py3-none-any.whl (1.8 MB)\r\n",
            "\u001b[?25l     \u001b[90m━━━━━━━━━━━━━━━━━━━━━━━━━━━━━━━━━━━━━━━━\u001b[0m \u001b[32m0.0/1.8 MB\u001b[0m \u001b[31m?\u001b[0m eta \u001b[36m-:--:--\u001b[0m"
          ]
        },
        {
          "name": "stdout",
          "output_type": "stream",
          "text": [
            "\r\n",
            "\u001b[2K     \u001b[90m━━━━━━━━━━━━━━━━━━━━━━━━━━━━━━━━━━━━━━━━\u001b[0m \u001b[32m1.8/1.8 MB\u001b[0m \u001b[31m80.8 MB/s\u001b[0m eta \u001b[36m0:00:00\u001b[0m\r\n",
            "\u001b[?25hRequirement already satisfied: pytz in /opt/conda/lib/python3.9/site-packages (from pm4py) (2023.3)\r\n",
            "Requirement already satisfied: numpy in /opt/conda/lib/python3.9/site-packages (from pm4py) (1.23.5)\r\n",
            "Collecting stringdist\r\n",
            "  Downloading StringDist-1.0.9.tar.gz (7.4 kB)\r\n"
          ]
        },
        {
          "name": "stdout",
          "output_type": "stream",
          "text": [
            "  Preparing metadata (setup.py) ... \u001b[?25l-"
          ]
        },
        {
          "name": "stdout",
          "output_type": "stream",
          "text": [
            "\b \b\\\b \bdone\r\n"
          ]
        },
        {
          "name": "stdout",
          "output_type": "stream",
          "text": [
            "\u001b[?25hCollecting cvxopt\r\n",
            "  Downloading cvxopt-1.3.2-cp39-cp39-manylinux_2_17_x86_64.manylinux2014_x86_64.whl (13.6 MB)\r\n",
            "\u001b[?25l     \u001b[90m━━━━━━━━━━━━━━━━━━━━━━━━━━━━━━━━━━━━━━━━\u001b[0m \u001b[32m0.0/13.6 MB\u001b[0m \u001b[31m?\u001b[0m eta \u001b[36m-:--:--\u001b[0m"
          ]
        },
        {
          "name": "stdout",
          "output_type": "stream",
          "text": [
            "\r\u001b[2K     \u001b[91m━━━━━━━━━━━━━━\u001b[0m\u001b[91m╸\u001b[0m\u001b[90m━━━━━━━━━━━━━━━━━━━━━━━━━\u001b[0m \u001b[32m5.0/13.6 MB\u001b[0m \u001b[31m150.9 MB/s\u001b[0m eta \u001b[36m0:00:01\u001b[0m"
          ]
        },
        {
          "name": "stdout",
          "output_type": "stream",
          "text": [
            "\r\u001b[2K     \u001b[91m━━━━━━━━━━━━━━━━━━━━━━━━━━━━━\u001b[0m\u001b[91m╸\u001b[0m\u001b[90m━━━━━━━━━\u001b[0m \u001b[32m10.3/13.6 MB\u001b[0m \u001b[31m149.1 MB/s\u001b[0m eta \u001b[36m0:00:01\u001b[0m\r\u001b[2K     \u001b[91m━━━━━━━━━━━━━━━━━━━━━━━━━━━━━━━━━━━━━━\u001b[0m\u001b[91m╸\u001b[0m \u001b[32m13.6/13.6 MB\u001b[0m \u001b[31m128.5 MB/s\u001b[0m eta \u001b[36m0:00:01\u001b[0m"
          ]
        },
        {
          "name": "stdout",
          "output_type": "stream",
          "text": [
            "\r\u001b[2K     \u001b[91m━━━━━━━━━━━━━━━━━━━━━━━━━━━━━━━━━━━━━━\u001b[0m\u001b[91m╸\u001b[0m \u001b[32m13.6/13.6 MB\u001b[0m \u001b[31m128.5 MB/s\u001b[0m eta \u001b[36m0:00:01\u001b[0m\r\n",
            "\u001b[2K     \u001b[90m━━━━━━━━━━━━━━━━━━━━━━━━━━━━━━━━━━━━━━━━\u001b[0m \u001b[32m13.6/13.6 MB\u001b[0m \u001b[31m71.1 MB/s\u001b[0m eta \u001b[36m0:00:00\u001b[0m\r\n",
            "\u001b[?25h"
          ]
        },
        {
          "name": "stdout",
          "output_type": "stream",
          "text": [
            "Requirement already satisfied: tqdm in /opt/conda/lib/python3.9/site-packages (from pm4py) (4.65.0)\r\n",
            "Requirement already satisfied: scipy in /opt/conda/lib/python3.9/site-packages (from pm4py) (1.9.1)\r\n",
            "Collecting pydotplus\r\n",
            "  Downloading pydotplus-2.0.2.tar.gz (278 kB)\r\n",
            "\u001b[?25l     \u001b[90m━━━━━━━━━━━━━━━━━━━━━━━━━━━━━━━━━━━━━━━━\u001b[0m \u001b[32m0.0/278.7 kB\u001b[0m \u001b[31m?\u001b[0m eta \u001b[36m-:--:--\u001b[0m\r\n",
            "\u001b[2K     \u001b[90m━━━━━━━━━━━━━━━━━━━━━━━━━━━━━━━━━━━━━━\u001b[0m \u001b[32m278.7/278.7 kB\u001b[0m \u001b[31m49.9 MB/s\u001b[0m eta \u001b[36m0:00:00\u001b[0m\r\n",
            "\u001b[?25h"
          ]
        },
        {
          "name": "stdout",
          "output_type": "stream",
          "text": [
            "  Preparing metadata (setup.py) ... \u001b[?25l-"
          ]
        },
        {
          "name": "stdout",
          "output_type": "stream",
          "text": [
            "\b \bdone\r\n",
            "\u001b[?25hCollecting deprecation\r\n",
            "  Downloading deprecation-2.1.0-py2.py3-none-any.whl (11 kB)\r\n",
            "Requirement already satisfied: matplotlib in /opt/conda/lib/python3.9/site-packages (from pm4py) (3.6.0)\r\n"
          ]
        },
        {
          "name": "stdout",
          "output_type": "stream",
          "text": [
            "Collecting intervaltree\r\n",
            "  Downloading intervaltree-3.1.0.tar.gz (32 kB)\r\n"
          ]
        },
        {
          "name": "stdout",
          "output_type": "stream",
          "text": [
            "  Preparing metadata (setup.py) ... \u001b[?25l-"
          ]
        },
        {
          "name": "stdout",
          "output_type": "stream",
          "text": [
            "\b \bdone\r\n",
            "\u001b[?25hRequirement already satisfied: pandas in /opt/conda/lib/python3.9/site-packages (from pm4py) (1.5.3)\r\n",
            "Requirement already satisfied: lxml in /opt/conda/lib/python3.9/site-packages (from pm4py) (4.9.2)\r\n",
            "Requirement already satisfied: networkx in /opt/conda/lib/python3.9/site-packages (from pm4py) (2.8.7)\r\n",
            "Requirement already satisfied: graphviz in /opt/conda/lib/python3.9/site-packages (from pm4py) (0.20.1)\r\n",
            "Requirement already satisfied: packaging in /opt/conda/lib/python3.9/site-packages (from deprecation->pm4py) (23.1)\r\n"
          ]
        },
        {
          "name": "stdout",
          "output_type": "stream",
          "text": [
            "Requirement already satisfied: sortedcontainers<3.0,>=2.0 in /opt/conda/lib/python3.9/site-packages (from intervaltree->pm4py) (2.4.0)\r\n",
            "Requirement already satisfied: cycler>=0.10 in /opt/conda/lib/python3.9/site-packages (from matplotlib->pm4py) (0.11.0)\r\n",
            "Requirement already satisfied: pillow>=6.2.0 in /opt/conda/lib/python3.9/site-packages (from matplotlib->pm4py) (9.2.0)\r\n",
            "Requirement already satisfied: python-dateutil>=2.7 in /opt/conda/lib/python3.9/site-packages (from matplotlib->pm4py) (2.8.2)\r\n",
            "Requirement already satisfied: fonttools>=4.22.0 in /opt/conda/lib/python3.9/site-packages (from matplotlib->pm4py) (4.37.4)\r\n",
            "Requirement already satisfied: pyparsing>=2.2.1 in /opt/conda/lib/python3.9/site-packages (from matplotlib->pm4py) (3.0.9)\r\n",
            "Requirement already satisfied: contourpy>=1.0.1 in /opt/conda/lib/python3.9/site-packages (from matplotlib->pm4py) (1.0.5)\r\n",
            "Requirement already satisfied: kiwisolver>=1.0.1 in /opt/conda/lib/python3.9/site-packages (from matplotlib->pm4py) (1.4.4)\r\n"
          ]
        },
        {
          "name": "stdout",
          "output_type": "stream",
          "text": [
            "Requirement already satisfied: six>=1.5 in /opt/conda/lib/python3.9/site-packages (from python-dateutil>=2.7->matplotlib->pm4py) (1.16.0)\r\n",
            "Building wheels for collected packages: intervaltree, pydotplus, stringdist\r\n"
          ]
        },
        {
          "name": "stdout",
          "output_type": "stream",
          "text": [
            "  Building wheel for intervaltree (setup.py) ... \u001b[?25l-"
          ]
        },
        {
          "name": "stdout",
          "output_type": "stream",
          "text": [
            "\b \b\\"
          ]
        },
        {
          "name": "stdout",
          "output_type": "stream",
          "text": [
            "\b \b|"
          ]
        },
        {
          "name": "stdout",
          "output_type": "stream",
          "text": [
            "\b \bdone\r\n",
            "\u001b[?25h  Created wheel for intervaltree: filename=intervaltree-3.1.0-py2.py3-none-any.whl size=26099 sha256=1ad8dcb09ffeceea6d416879cdfac54bd6f18c8f862e1021b8c574def759f076\r\n",
            "  Stored in directory: /home/noteable/.cache/pip/wheels/ab/fa/1b/75d9a713279796785711bd0bad8334aaace560c0bd28830c8c\r\n"
          ]
        },
        {
          "name": "stdout",
          "output_type": "stream",
          "text": [
            "  Building wheel for pydotplus (setup.py) ... \u001b[?25l-"
          ]
        },
        {
          "name": "stdout",
          "output_type": "stream",
          "text": [
            "\b \b\\"
          ]
        },
        {
          "name": "stdout",
          "output_type": "stream",
          "text": [
            "\b \bdone\r\n",
            "\u001b[?25h  Created wheel for pydotplus: filename=pydotplus-2.0.2-py3-none-any.whl size=24554 sha256=bf946fcf58d9bb1a736c11d03dc6e7de5f3b85a5d384aa1b68b0128b799b5c4a\r\n",
            "  Stored in directory: /home/noteable/.cache/pip/wheels/89/e5/de/6966007cf223872eedfbebbe0e074534e72e9128c8fd4b55eb\r\n"
          ]
        },
        {
          "name": "stdout",
          "output_type": "stream",
          "text": [
            "  Building wheel for stringdist (setup.py) ... \u001b[?25l-"
          ]
        },
        {
          "name": "stdout",
          "output_type": "stream",
          "text": [
            "\b \b\\"
          ]
        },
        {
          "name": "stdout",
          "output_type": "stream",
          "text": [
            "\b \b|"
          ]
        },
        {
          "name": "stdout",
          "output_type": "stream",
          "text": [
            "\b \b/"
          ]
        },
        {
          "name": "stdout",
          "output_type": "stream",
          "text": [
            "\b \bdone\r\n",
            "\u001b[?25h  Created wheel for stringdist: filename=StringDist-1.0.9-cp39-cp39-linux_x86_64.whl size=9111 sha256=4321258c40c7f3c603dfb259a3f85bde68c847e5527bb2c9d482723ccf936789\r\n",
            "  Stored in directory: /home/noteable/.cache/pip/wheels/77/24/44/b12b9612fd07e141e6b4f1bb2001c621515bd0cac1014a783a\r\n",
            "Successfully built intervaltree pydotplus stringdist\r\n"
          ]
        },
        {
          "name": "stdout",
          "output_type": "stream",
          "text": [
            "Installing collected packages: stringdist, pydotplus, intervaltree, deprecation, cvxopt, pm4py\r\n"
          ]
        },
        {
          "name": "stdout",
          "output_type": "stream",
          "text": [
            "Successfully installed cvxopt-1.3.2 deprecation-2.1.0 intervaltree-3.1.0 pm4py-2.7.8 pydotplus-2.0.2 stringdist-1.0.9\r\n"
          ]
        }
      ],
      "source": [
        "# Install the pm4py library for process mining\n",
        "!pip install pm4py"
      ]
    },
    {
      "cell_type": "code",
      "execution_count": null,
      "id": "de24f7b0-750e-44f7-8fd1-ada7e9ce8a3e",
      "metadata": {
        "ExecuteTime": {
          "end_time": "2023-10-10T18:37:58.065478+00:00",
          "start_time": "2023-10-10T18:37:56.884366+00:00"
        },
        "noteable": {
          "cell_type": "code"
        }
      },
      "outputs": [
        {
          "data": {
            "image/png": "[encoded data removed]"
          },
          "metadata": {},
          "output_type": "display_data"
        }
      ],
      "source": [
        "# Step 3: Alternative approach to visualize the processes using a simple flowchart with networkx\n",
        "import networkx as nx\n",
        "import matplotlib.pyplot as plt\n",
        "\n",
        "# Create a directed graph\n",
        "G = nx.DiGraph()\n",
        "\n",
        "# Add nodes and edges based on the filtered dataset\n",
        "for i, row in credit_data_filtered.iterrows():\n",
        "    G.add_edge(row['case_id'], row['Activity'])\n",
        "\n",
        "# Draw the graph\n",
        "plt.figure(figsize=(12, 8))\n",
        "nx.draw(G, with_labels=True, node_color='lightblue', font_weight='bold', node_size=700, font_size=18)\n",
        "plt.title('Process Flowchart for Mandatory Activities')\n",
        "plt.show()"
      ]
    },
    {
      "cell_type": "code",
      "execution_count": null,
      "id": "d4f1daa3-7d6d-4e53-945b-2f6e942d22ed",
      "metadata": {
        "ExecuteTime": {
          "end_time": "2023-10-10T18:39:51.390698+00:00",
          "start_time": "2023-10-10T18:39:50.271822+00:00"
        },
        "noteable": {
          "cell_type": "code"
        }
      },
      "outputs": [
        {
          "data": {
            "image/png": "[encoded data removed]"
          },
          "metadata": {},
          "output_type": "display_data"
        }
      ],
      "source": [
        "# Step 4: Redraw the graph with adjusted layout to reduce label overlap\n",
        "plt.figure(figsize=(15, 10))\n",
        "pos = nx.spring_layout(G, seed=42)  # positions for all nodes\n",
        "nx.draw(G, pos, with_labels=True, node_color='lightblue', font_weight='bold', node_size=700, font_size=18)\n",
        "plt.title('Process Flowchart for Mandatory Activities (Spread Out)')\n",
        "plt.show()"
      ]
    },
    {
      "cell_type": "code",
      "execution_count": null,
      "id": "9f0a6613-9639-4903-9038-07e3f587b83c",
      "metadata": {
        "ExecuteTime": {
          "end_time": "2023-10-10T18:46:53.110575+00:00",
          "start_time": "2023-10-10T18:46:52.880085+00:00"
        },
        "datalink": {
          "6a882cc7-b33e-457f-ba35-35ba665053e1": {
            "applied_filters": [],
            "dataframe_info": {
              "default_index_used": false,
              "orig_num_cols": 22,
              "orig_num_rows": 5,
              "orig_size_bytes": 920,
              "truncated_num_cols": 22,
              "truncated_num_rows": 5,
              "truncated_size_bytes": 920,
              "truncated_string_columns": []
            },
            "display_id": "6a882cc7-b33e-457f-ba35-35ba665053e1",
            "dx_settings": {
              "ALLOW_NOTEABLE_ATTRS": true,
              "COLUMN_SAMPLING_METHOD": "outer",
              "DB_LOCATION": ":memory:",
              "DEV_MODE": false,
              "DISPLAY_MAX_COLUMNS": 100,
              "DISPLAY_MAX_ROWS": 50000,
              "DISPLAY_MODE": "simple",
              "ENABLE_ASSIGNMENT": true,
              "ENABLE_DATALINK": true,
              "FLATTEN_COLUMN_VALUES": true,
              "FLATTEN_INDEX_VALUES": false,
              "GENERATE_DEX_METADATA": false,
              "HTML_TABLE_SCHEMA": false,
              "LOG_LEVEL": 30,
              "MAX_RENDER_SIZE_BYTES": 104857600,
              "MAX_STRING_LENGTH": 250,
              "NUM_PAST_SAMPLES_TRACKED": 3,
              "RANDOM_STATE": 12648430,
              "RESET_INDEX_VALUES": false,
              "ROW_SAMPLING_METHOD": "random",
              "SAMPLING_FACTOR": 0.1,
              "SAMPLING_METHOD": "random",
              "STRINGIFY_COLUMN_VALUES": true,
              "STRINGIFY_INDEX_VALUES": false
            },
            "sample_history": [],
            "sampling_time": "2023-10-10T18:46:52.948396",
            "user_variable_name": null,
            "variable_name": "unk_dataframe_497418f4cffa453196bc0307a7ecd1a6"
          },
          "e9ca1d96-e9e7-4511-8568-b02b02c9d458": {
            "applied_filters": [],
            "dataframe_info": {
              "default_index_used": false,
              "orig_num_cols": 22,
              "orig_num_rows": 5,
              "orig_size_bytes": 920,
              "truncated_num_cols": 22,
              "truncated_num_rows": 5,
              "truncated_size_bytes": 920,
              "truncated_string_columns": []
            },
            "display_id": "e9ca1d96-e9e7-4511-8568-b02b02c9d458",
            "dx_settings": {
              "ALLOW_NOTEABLE_ATTRS": true,
              "COLUMN_SAMPLING_METHOD": "outer",
              "DB_LOCATION": ":memory:",
              "DEV_MODE": false,
              "DISPLAY_MAX_COLUMNS": 100,
              "DISPLAY_MAX_ROWS": 50000,
              "DISPLAY_MODE": "simple",
              "ENABLE_ASSIGNMENT": true,
              "ENABLE_DATALINK": true,
              "FLATTEN_COLUMN_VALUES": true,
              "FLATTEN_INDEX_VALUES": false,
              "GENERATE_DEX_METADATA": false,
              "HTML_TABLE_SCHEMA": false,
              "LOG_LEVEL": 30,
              "MAX_RENDER_SIZE_BYTES": 104857600,
              "MAX_STRING_LENGTH": 250,
              "NUM_PAST_SAMPLES_TRACKED": 3,
              "RANDOM_STATE": 12648430,
              "RESET_INDEX_VALUES": false,
              "ROW_SAMPLING_METHOD": "random",
              "SAMPLING_FACTOR": 0.1,
              "SAMPLING_METHOD": "random",
              "STRINGIFY_COLUMN_VALUES": true,
              "STRINGIFY_INDEX_VALUES": false
            },
            "sample_history": [],
            "sampling_time": "2023-10-10T18:41:31.999612",
            "user_variable_name": null,
            "variable_name": "unk_dataframe_3de02e056eed4fecacd3d59c79cd126f"
          }
        },
        "noteable": {
          "cell_type": "code"
        }
      },
      "outputs": [
        {
          "data": {
            "application/vnd.dataresource+json": {
              "data": [
                {
                  "A_Accepted": 1,
                  "A_Cancelled": 1,
                  "A_Complete": 1,
                  "A_Concept": 1,
                  "A_Create Application": 1,
                  "A_Denied": 0,
                  "A_Incomplete": 0,
                  "A_Pending": 0,
                  "A_Submitted": 1,
                  "A_Validating": 0,
                  "O_Accepted": 0,
                  "O_Cancelled": 2,
                  "O_Create Offer": 2,
                  "O_Created": 2,
                  "O_Refused": 0,
                  "O_Returned": 0,
                  "O_Sent (mail and online)": 2,
                  "W_Call after offers": 1,
                  "W_Call incomplete files": 0,
                  "W_Complete application": 1,
                  "W_Handle leads": 0,
                  "W_Validate application": 0,
                  "case_id": "Application_1085880569"
                },
                {
                  "A_Accepted": 1,
                  "A_Cancelled": 1,
                  "A_Complete": 1,
                  "A_Concept": 1,
                  "A_Create Application": 1,
                  "A_Denied": 0,
                  "A_Incomplete": 1,
                  "A_Pending": 0,
                  "A_Submitted": 1,
                  "A_Validating": 1,
                  "O_Accepted": 0,
                  "O_Cancelled": 1,
                  "O_Create Offer": 1,
                  "O_Created": 1,
                  "O_Refused": 0,
                  "O_Returned": 1,
                  "O_Sent (mail and online)": 1,
                  "W_Call after offers": 1,
                  "W_Call incomplete files": 1,
                  "W_Complete application": 1,
                  "W_Handle leads": 0,
                  "W_Validate application": 1,
                  "case_id": "Application_1266995739"
                },
                {
                  "A_Accepted": 1,
                  "A_Cancelled": 0,
                  "A_Complete": 1,
                  "A_Concept": 1,
                  "A_Create Application": 1,
                  "A_Denied": 1,
                  "A_Incomplete": 0,
                  "A_Pending": 0,
                  "A_Submitted": 1,
                  "A_Validating": 1,
                  "O_Accepted": 0,
                  "O_Cancelled": 0,
                  "O_Create Offer": 1,
                  "O_Created": 1,
                  "O_Refused": 1,
                  "O_Returned": 0,
                  "O_Sent (mail and online)": 1,
                  "W_Call after offers": 1,
                  "W_Call incomplete files": 0,
                  "W_Complete application": 1,
                  "W_Handle leads": 0,
                  "W_Validate application": 1,
                  "case_id": "Application_1691306052"
                },
                {
                  "A_Accepted": 1,
                  "A_Cancelled": 0,
                  "A_Complete": 0,
                  "A_Concept": 1,
                  "A_Create Application": 1,
                  "A_Denied": 0,
                  "A_Incomplete": 0,
                  "A_Pending": 0,
                  "A_Submitted": 1,
                  "A_Validating": 0,
                  "O_Accepted": 0,
                  "O_Cancelled": 0,
                  "O_Create Offer": 1,
                  "O_Created": 1,
                  "O_Refused": 0,
                  "O_Returned": 0,
                  "O_Sent (mail and online)": 1,
                  "W_Call after offers": 0,
                  "W_Call incomplete files": 0,
                  "W_Complete application": 1,
                  "W_Handle leads": 0,
                  "W_Validate application": 0,
                  "case_id": "Application_1710223761"
                },
                {
                  "A_Accepted": 1,
                  "A_Cancelled": 0,
                  "A_Complete": 1,
                  "A_Concept": 1,
                  "A_Create Application": 1,
                  "A_Denied": 0,
                  "A_Incomplete": 2,
                  "A_Pending": 1,
                  "A_Submitted": 1,
                  "A_Validating": 3,
                  "O_Accepted": 1,
                  "O_Cancelled": 1,
                  "O_Create Offer": 2,
                  "O_Created": 2,
                  "O_Refused": 0,
                  "O_Returned": 1,
                  "O_Sent (mail and online)": 2,
                  "W_Call after offers": 1,
                  "W_Call incomplete files": 2,
                  "W_Complete application": 1,
                  "W_Handle leads": 1,
                  "W_Validate application": 3,
                  "case_id": "Application_1746793196"
                }
              ],
              "datalink": {
                "display_id": "6a882cc7-b33e-457f-ba35-35ba665053e1"
              },
              "schema": {
                "fields": [
                  {
                    "name": "case_id",
                    "type": "string"
                  },
                  {
                    "name": "A_Accepted",
                    "type": "integer"
                  },
                  {
                    "name": "A_Cancelled",
                    "type": "integer"
                  },
                  {
                    "name": "A_Complete",
                    "type": "integer"
                  },
                  {
                    "name": "A_Concept",
                    "type": "integer"
                  },
                  {
                    "name": "A_Create Application",
                    "type": "integer"
                  },
                  {
                    "name": "A_Denied",
                    "type": "integer"
                  },
                  {
                    "name": "A_Incomplete",
                    "type": "integer"
                  },
                  {
                    "name": "A_Pending",
                    "type": "integer"
                  },
                  {
                    "name": "A_Submitted",
                    "type": "integer"
                  },
                  {
                    "name": "A_Validating",
                    "type": "integer"
                  },
                  {
                    "name": "O_Accepted",
                    "type": "integer"
                  },
                  {
                    "name": "O_Cancelled",
                    "type": "integer"
                  },
                  {
                    "name": "O_Create Offer",
                    "type": "integer"
                  },
                  {
                    "name": "O_Created",
                    "type": "integer"
                  },
                  {
                    "name": "O_Refused",
                    "type": "integer"
                  },
                  {
                    "name": "O_Returned",
                    "type": "integer"
                  },
                  {
                    "name": "O_Sent (mail and online)",
                    "type": "integer"
                  },
                  {
                    "name": "W_Call after offers",
                    "type": "integer"
                  },
                  {
                    "name": "W_Call incomplete files",
                    "type": "integer"
                  },
                  {
                    "name": "W_Complete application",
                    "type": "integer"
                  },
                  {
                    "name": "W_Handle leads",
                    "type": "integer"
                  },
                  {
                    "name": "W_Validate application",
                    "type": "integer"
                  }
                ],
                "pandas_version": "1.4.0",
                "primaryKey": [
                  "case_id"
                ]
              }
            }
          },
          "metadata": {
            "application/vnd.dataresource+json": {
              "datalink": {
                "applied_filters": [],
                "dataframe_info": {
                  "default_index_used": false,
                  "orig_num_cols": 22,
                  "orig_num_rows": 5,
                  "orig_size_bytes": 920,
                  "truncated_num_cols": 22,
                  "truncated_num_rows": 5,
                  "truncated_size_bytes": 920,
                  "truncated_string_columns": []
                },
                "display_id": "6a882cc7-b33e-457f-ba35-35ba665053e1",
                "dx_settings": {
                  "ALLOW_NOTEABLE_ATTRS": true,
                  "COLUMN_SAMPLING_METHOD": "outer",
                  "DB_LOCATION": ":memory:",
                  "DEV_MODE": false,
                  "DISPLAY_MAX_COLUMNS": 100,
                  "DISPLAY_MAX_ROWS": 50000,
                  "DISPLAY_MODE": "simple",
                  "ENABLE_ASSIGNMENT": true,
                  "ENABLE_DATALINK": true,
                  "FLATTEN_COLUMN_VALUES": true,
                  "FLATTEN_INDEX_VALUES": false,
                  "GENERATE_DEX_METADATA": false,
                  "HTML_TABLE_SCHEMA": false,
                  "LOG_LEVEL": 30,
                  "MAX_RENDER_SIZE_BYTES": 104857600,
                  "MAX_STRING_LENGTH": 250,
                  "NUM_PAST_SAMPLES_TRACKED": 3,
                  "RANDOM_STATE": 12648430,
                  "RESET_INDEX_VALUES": false,
                  "ROW_SAMPLING_METHOD": "random",
                  "SAMPLING_FACTOR": 0.1,
                  "SAMPLING_METHOD": "random",
                  "STRINGIFY_COLUMN_VALUES": true,
                  "STRINGIFY_INDEX_VALUES": false
                },
                "sample_history": [],
                "sampling_time": "2023-10-10T18:46:52.948396",
                "user_variable_name": null,
                "variable_name": "unk_dataframe_497418f4cffa453196bc0307a7ecd1a6"
              },
              "display_id": "6a882cc7-b33e-457f-ba35-35ba665053e1"
            }
          },
          "output_type": "display_data"
        }
      ],
      "source": [
        "# Step 5: Generate a matrix with an overview of activity tracker frequency\n",
        "activity_frequency_matrix = pd.crosstab(credit_data_filtered['case_id'], credit_data_filtered['Activity'])\n",
        "activity_frequency_matrix.head()"
      ]
    },
    {
      "cell_type": "markdown",
      "id": "3d84036f-888f-4329-959e-d3749a1f6e56",
      "metadata": {
        "noteable": {
          "cell_type": "markdown"
        }
      },
      "source": [
        "## Activity Tracker Frequency Matrix\n",
        "The matrix below provides an overview of the frequency of each activity for each case ID. Each row represents a unique case, and each column represents a unique activity. The values in the matrix indicate the frequency of each activity for each case."
      ]
    },
    {
      "cell_type": "code",
      "execution_count": null,
      "id": "3f53ccf3-f5c4-4b71-a965-b9b69a1e8af3",
      "metadata": {
        "ExecuteTime": {
          "end_time": "2023-10-10T18:50:05.351572+00:00",
          "start_time": "2023-10-10T18:50:05.058656+00:00"
        },
        "datalink": {
          "22fd4161-c5f2-4229-a5ed-66def1236903": {
            "applied_filters": [],
            "dataframe_info": {
              "default_index_used": false,
              "orig_num_cols": 22,
              "orig_num_rows": 5,
              "orig_size_bytes": 920,
              "truncated_num_cols": 22,
              "truncated_num_rows": 5,
              "truncated_size_bytes": 920,
              "truncated_string_columns": []
            },
            "display_id": "22fd4161-c5f2-4229-a5ed-66def1236903",
            "dx_settings": {
              "ALLOW_NOTEABLE_ATTRS": true,
              "COLUMN_SAMPLING_METHOD": "outer",
              "DB_LOCATION": ":memory:",
              "DEV_MODE": false,
              "DISPLAY_MAX_COLUMNS": 100,
              "DISPLAY_MAX_ROWS": 50000,
              "DISPLAY_MODE": "simple",
              "ENABLE_ASSIGNMENT": true,
              "ENABLE_DATALINK": true,
              "FLATTEN_COLUMN_VALUES": true,
              "FLATTEN_INDEX_VALUES": false,
              "GENERATE_DEX_METADATA": false,
              "HTML_TABLE_SCHEMA": false,
              "LOG_LEVEL": 30,
              "MAX_RENDER_SIZE_BYTES": 104857600,
              "MAX_STRING_LENGTH": 250,
              "NUM_PAST_SAMPLES_TRACKED": 3,
              "RANDOM_STATE": 12648430,
              "RESET_INDEX_VALUES": false,
              "ROW_SAMPLING_METHOD": "random",
              "SAMPLING_FACTOR": 0.1,
              "SAMPLING_METHOD": "random",
              "STRINGIFY_COLUMN_VALUES": true,
              "STRINGIFY_INDEX_VALUES": false
            },
            "sample_history": [],
            "sampling_time": "2023-10-10T18:50:05.188864",
            "user_variable_name": null,
            "variable_name": "unk_dataframe_9b1ed19fd9a34ba7a00101ddb95001e7"
          }
        },
        "dx": {
          "fieldMetadata": {},
          "simpleTable": true,
          "updated": 1696963885706,
          "views": []
        },
        "noteable": {
          "cell_type": "code"
        }
      },
      "outputs": [
        {
          "data": {
            "application/vnd.dataresource+json": {
              "data": [
                {
                  "A_Accepted": 1,
                  "A_Cancelled": 1,
                  "A_Complete": 1,
                  "A_Concept": 1,
                  "A_Create Application": 1,
                  "A_Denied": 0,
                  "A_Incomplete": 0,
                  "A_Pending": 0,
                  "A_Submitted": 1,
                  "A_Validating": 0,
                  "O_Accepted": 0,
                  "O_Cancelled": 2,
                  "O_Create Offer": 2,
                  "O_Created": 2,
                  "O_Refused": 0,
                  "O_Returned": 0,
                  "O_Sent (mail and online)": 2,
                  "W_Call after offers": 1,
                  "W_Call incomplete files": 0,
                  "W_Complete application": 1,
                  "W_Handle leads": 0,
                  "W_Validate application": 0,
                  "case_id": "Application_1085880569"
                },
                {
                  "A_Accepted": 1,
                  "A_Cancelled": 1,
                  "A_Complete": 1,
                  "A_Concept": 1,
                  "A_Create Application": 1,
                  "A_Denied": 0,
                  "A_Incomplete": 1,
                  "A_Pending": 0,
                  "A_Submitted": 1,
                  "A_Validating": 1,
                  "O_Accepted": 0,
                  "O_Cancelled": 1,
                  "O_Create Offer": 1,
                  "O_Created": 1,
                  "O_Refused": 0,
                  "O_Returned": 1,
                  "O_Sent (mail and online)": 1,
                  "W_Call after offers": 1,
                  "W_Call incomplete files": 1,
                  "W_Complete application": 1,
                  "W_Handle leads": 0,
                  "W_Validate application": 1,
                  "case_id": "Application_1266995739"
                },
                {
                  "A_Accepted": 1,
                  "A_Cancelled": 0,
                  "A_Complete": 1,
                  "A_Concept": 1,
                  "A_Create Application": 1,
                  "A_Denied": 1,
                  "A_Incomplete": 0,
                  "A_Pending": 0,
                  "A_Submitted": 1,
                  "A_Validating": 1,
                  "O_Accepted": 0,
                  "O_Cancelled": 0,
                  "O_Create Offer": 1,
                  "O_Created": 1,
                  "O_Refused": 1,
                  "O_Returned": 0,
                  "O_Sent (mail and online)": 1,
                  "W_Call after offers": 1,
                  "W_Call incomplete files": 0,
                  "W_Complete application": 1,
                  "W_Handle leads": 0,
                  "W_Validate application": 1,
                  "case_id": "Application_1691306052"
                },
                {
                  "A_Accepted": 1,
                  "A_Cancelled": 0,
                  "A_Complete": 0,
                  "A_Concept": 1,
                  "A_Create Application": 1,
                  "A_Denied": 0,
                  "A_Incomplete": 0,
                  "A_Pending": 0,
                  "A_Submitted": 1,
                  "A_Validating": 0,
                  "O_Accepted": 0,
                  "O_Cancelled": 0,
                  "O_Create Offer": 1,
                  "O_Created": 1,
                  "O_Refused": 0,
                  "O_Returned": 0,
                  "O_Sent (mail and online)": 1,
                  "W_Call after offers": 0,
                  "W_Call incomplete files": 0,
                  "W_Complete application": 1,
                  "W_Handle leads": 0,
                  "W_Validate application": 0,
                  "case_id": "Application_1710223761"
                },
                {
                  "A_Accepted": 1,
                  "A_Cancelled": 0,
                  "A_Complete": 1,
                  "A_Concept": 1,
                  "A_Create Application": 1,
                  "A_Denied": 0,
                  "A_Incomplete": 2,
                  "A_Pending": 1,
                  "A_Submitted": 1,
                  "A_Validating": 3,
                  "O_Accepted": 1,
                  "O_Cancelled": 1,
                  "O_Create Offer": 2,
                  "O_Created": 2,
                  "O_Refused": 0,
                  "O_Returned": 1,
                  "O_Sent (mail and online)": 2,
                  "W_Call after offers": 1,
                  "W_Call incomplete files": 2,
                  "W_Complete application": 1,
                  "W_Handle leads": 1,
                  "W_Validate application": 3,
                  "case_id": "Application_1746793196"
                }
              ],
              "datalink": {
                "display_id": "22fd4161-c5f2-4229-a5ed-66def1236903"
              },
              "schema": {
                "fields": [
                  {
                    "name": "case_id",
                    "type": "string"
                  },
                  {
                    "name": "A_Accepted",
                    "type": "integer"
                  },
                  {
                    "name": "A_Cancelled",
                    "type": "integer"
                  },
                  {
                    "name": "A_Complete",
                    "type": "integer"
                  },
                  {
                    "name": "A_Concept",
                    "type": "integer"
                  },
                  {
                    "name": "A_Create Application",
                    "type": "integer"
                  },
                  {
                    "name": "A_Denied",
                    "type": "integer"
                  },
                  {
                    "name": "A_Incomplete",
                    "type": "integer"
                  },
                  {
                    "name": "A_Pending",
                    "type": "integer"
                  },
                  {
                    "name": "A_Submitted",
                    "type": "integer"
                  },
                  {
                    "name": "A_Validating",
                    "type": "integer"
                  },
                  {
                    "name": "O_Accepted",
                    "type": "integer"
                  },
                  {
                    "name": "O_Cancelled",
                    "type": "integer"
                  },
                  {
                    "name": "O_Create Offer",
                    "type": "integer"
                  },
                  {
                    "name": "O_Created",
                    "type": "integer"
                  },
                  {
                    "name": "O_Refused",
                    "type": "integer"
                  },
                  {
                    "name": "O_Returned",
                    "type": "integer"
                  },
                  {
                    "name": "O_Sent (mail and online)",
                    "type": "integer"
                  },
                  {
                    "name": "W_Call after offers",
                    "type": "integer"
                  },
                  {
                    "name": "W_Call incomplete files",
                    "type": "integer"
                  },
                  {
                    "name": "W_Complete application",
                    "type": "integer"
                  },
                  {
                    "name": "W_Handle leads",
                    "type": "integer"
                  },
                  {
                    "name": "W_Validate application",
                    "type": "integer"
                  }
                ],
                "pandas_version": "1.4.0",
                "primaryKey": [
                  "case_id"
                ]
              }
            }
          },
          "metadata": {
            "application/vnd.dataresource+json": {
              "datalink": {
                "applied_filters": [],
                "dataframe_info": {
                  "default_index_used": false,
                  "orig_num_cols": 22,
                  "orig_num_rows": 5,
                  "orig_size_bytes": 920,
                  "truncated_num_cols": 22,
                  "truncated_num_rows": 5,
                  "truncated_size_bytes": 920,
                  "truncated_string_columns": []
                },
                "display_id": "22fd4161-c5f2-4229-a5ed-66def1236903",
                "dx_settings": {
                  "ALLOW_NOTEABLE_ATTRS": true,
                  "COLUMN_SAMPLING_METHOD": "outer",
                  "DB_LOCATION": ":memory:",
                  "DEV_MODE": false,
                  "DISPLAY_MAX_COLUMNS": 100,
                  "DISPLAY_MAX_ROWS": 50000,
                  "DISPLAY_MODE": "simple",
                  "ENABLE_ASSIGNMENT": true,
                  "ENABLE_DATALINK": true,
                  "FLATTEN_COLUMN_VALUES": true,
                  "FLATTEN_INDEX_VALUES": false,
                  "GENERATE_DEX_METADATA": false,
                  "HTML_TABLE_SCHEMA": false,
                  "LOG_LEVEL": 30,
                  "MAX_RENDER_SIZE_BYTES": 104857600,
                  "MAX_STRING_LENGTH": 250,
                  "NUM_PAST_SAMPLES_TRACKED": 3,
                  "RANDOM_STATE": 12648430,
                  "RESET_INDEX_VALUES": false,
                  "ROW_SAMPLING_METHOD": "random",
                  "SAMPLING_FACTOR": 0.1,
                  "SAMPLING_METHOD": "random",
                  "STRINGIFY_COLUMN_VALUES": true,
                  "STRINGIFY_INDEX_VALUES": false
                },
                "sample_history": [],
                "sampling_time": "2023-10-10T18:50:05.188864",
                "user_variable_name": null,
                "variable_name": "unk_dataframe_9b1ed19fd9a34ba7a00101ddb95001e7"
              },
              "display_id": "22fd4161-c5f2-4229-a5ed-66def1236903"
            }
          },
          "output_type": "display_data"
        }
      ],
      "source": [
        "# Generate a matrix with an overview of activity tracker frequency\n",
        "activity_frequency_matrix = pd.crosstab(credit_data_filtered['case_id'], credit_data_filtered['Activity'])\n",
        "activity_frequency_matrix.head()"
      ]
    },
    {
      "cell_type": "code",
      "execution_count": null,
      "id": "112ca1d7-ac21-4470-bed2-d04bad403a96",
      "metadata": {
        "ExecuteTime": {
          "end_time": "2023-10-10T18:52:23.643180+00:00",
          "start_time": "2023-10-10T18:52:22.831583+00:00"
        },
        "noteable": {
          "cell_type": "code"
        }
      },
      "outputs": [
        {
          "data": {
            "image/png": "[encoded data removed]"
          },
          "metadata": {},
          "output_type": "display_data"
        }
      ],
      "source": [
        "# Importing the required libraries for plotting\n",
        "import matplotlib.pyplot as plt\n",
        "import seaborn as sns\n",
        "\n",
        "# Plotting the activity frequency matrix as a heatmap\n",
        "plt.figure(figsize=(20, 10))\n",
        "sns.heatmap(activity_frequency_matrix, cmap='coolwarm', annot=True, fmt='d')\n",
        "plt.title('Activity Tracker Frequency Matrix')\n",
        "plt.xlabel('Activity')\n",
        "plt.ylabel('Case ID')\n",
        "plt.show()"
      ]
    },
    {
      "cell_type": "markdown",
      "id": "5d85f4d9-9914-4f5e-b2c2-20e95b1a43b7",
      "metadata": {
        "noteable": {
          "cell_type": "markdown"
        }
      },
      "source": [
        "## Activity Tracker Frequency Matrix and Heatmap\n",
        "The matrix and heatmap provide an overview of the frequency of each activity for each case ID. Each row in the matrix represents a unique case, and each column represents a unique activity. The values in the matrix and the color intensity in the heatmap indicate the frequency of each activity for each case."
      ]
    },
    {
      "cell_type": "code",
      "execution_count": null,
      "id": "8aa7ec17-a727-49d5-a9ae-d21854f5176a",
      "metadata": {
        "ExecuteTime": {
          "end_time": "2023-10-10T18:54:04.773995+00:00",
          "start_time": "2023-10-10T18:54:04.491027+00:00"
        },
        "datalink": {
          "325865c3-34c0-473e-afce-eb6d8a224a0f": {
            "applied_filters": [],
            "dataframe_info": {
              "default_index_used": false,
              "orig_num_cols": 1,
              "orig_num_rows": 5,
              "orig_size_bytes": 80,
              "truncated_num_cols": 1,
              "truncated_num_rows": 5,
              "truncated_size_bytes": 80,
              "truncated_string_columns": [
                "Activity"
              ]
            },
            "display_id": "325865c3-34c0-473e-afce-eb6d8a224a0f",
            "dx_settings": {
              "ALLOW_NOTEABLE_ATTRS": true,
              "COLUMN_SAMPLING_METHOD": "outer",
              "DB_LOCATION": ":memory:",
              "DEV_MODE": false,
              "DISPLAY_MAX_COLUMNS": 100,
              "DISPLAY_MAX_ROWS": 50000,
              "DISPLAY_MODE": "simple",
              "ENABLE_ASSIGNMENT": true,
              "ENABLE_DATALINK": true,
              "FLATTEN_COLUMN_VALUES": true,
              "FLATTEN_INDEX_VALUES": false,
              "GENERATE_DEX_METADATA": false,
              "HTML_TABLE_SCHEMA": false,
              "LOG_LEVEL": 30,
              "MAX_RENDER_SIZE_BYTES": 104857600,
              "MAX_STRING_LENGTH": 250,
              "NUM_PAST_SAMPLES_TRACKED": 3,
              "RANDOM_STATE": 12648430,
              "RESET_INDEX_VALUES": false,
              "ROW_SAMPLING_METHOD": "random",
              "SAMPLING_FACTOR": 0.1,
              "SAMPLING_METHOD": "random",
              "STRINGIFY_COLUMN_VALUES": true,
              "STRINGIFY_INDEX_VALUES": false
            },
            "sample_history": [],
            "sampling_time": "2023-10-10T18:54:04.614903",
            "user_variable_name": null,
            "variable_name": "unk_dataframe_ded773608e2e4bfb829288e73df52e0b"
          }
        },
        "noteable": {
          "cell_type": "code"
        }
      },
      "outputs": [
        {
          "data": {
            "application/vnd.dataresource+json": {
              "data": [
                {
                  "Activity": "A_Create Application, A_Submitted, A_Concept, W_Complete application, A_Accepted, O_Create Offer, O_Created, O_Sent (mail and online), W_Call after offers, A_Complete, O_Create Offer, O_Created, O_Sent (mail and online), A_Cancelled, O_Cancelled, O_C",
                  "case_id": "Application_1085880569"
                },
                {
                  "Activity": "A_Create Application, A_Submitted, A_Concept, W_Complete application, A_Accepted, O_Create Offer, O_Created, O_Sent (mail and online), W_Call after offers, A_Complete, W_Validate application, A_Validating, O_Returned, W_Call incomplete files, A_Incom",
                  "case_id": "Application_1266995739"
                },
                {
                  "Activity": "A_Create Application, A_Submitted, A_Concept, W_Complete application, A_Accepted, O_Create Offer, O_Created, O_Sent (mail and online), W_Call after offers, A_Complete, W_Validate application, A_Validating, A_Denied, O_Refused",
                  "case_id": "Application_1691306052"
                },
                {
                  "Activity": "A_Create Application, A_Submitted, A_Concept, W_Complete application, A_Accepted, O_Create Offer, O_Created, O_Sent (mail and online)",
                  "case_id": "Application_1710223761"
                },
                {
                  "Activity": "A_Create Application, A_Submitted, W_Handle leads, W_Complete application, A_Concept, A_Accepted, O_Create Offer, O_Created, O_Sent (mail and online), W_Call after offers, A_Complete, O_Create Offer, O_Created, O_Sent (mail and online), W_Validate ap",
                  "case_id": "Application_1746793196"
                }
              ],
              "datalink": {
                "display_id": "325865c3-34c0-473e-afce-eb6d8a224a0f"
              },
              "schema": {
                "fields": [
                  {
                    "name": "case_id",
                    "type": "string"
                  },
                  {
                    "name": "Activity",
                    "type": "string"
                  }
                ],
                "pandas_version": "1.4.0",
                "primaryKey": [
                  "case_id"
                ]
              }
            }
          },
          "metadata": {
            "application/vnd.dataresource+json": {
              "datalink": {
                "applied_filters": [],
                "dataframe_info": {
                  "default_index_used": false,
                  "orig_num_cols": 1,
                  "orig_num_rows": 5,
                  "orig_size_bytes": 80,
                  "truncated_num_cols": 1,
                  "truncated_num_rows": 5,
                  "truncated_size_bytes": 80,
                  "truncated_string_columns": [
                    "Activity"
                  ]
                },
                "display_id": "325865c3-34c0-473e-afce-eb6d8a224a0f",
                "dx_settings": {
                  "ALLOW_NOTEABLE_ATTRS": true,
                  "COLUMN_SAMPLING_METHOD": "outer",
                  "DB_LOCATION": ":memory:",
                  "DEV_MODE": false,
                  "DISPLAY_MAX_COLUMNS": 100,
                  "DISPLAY_MAX_ROWS": 50000,
                  "DISPLAY_MODE": "simple",
                  "ENABLE_ASSIGNMENT": true,
                  "ENABLE_DATALINK": true,
                  "FLATTEN_COLUMN_VALUES": true,
                  "FLATTEN_INDEX_VALUES": false,
                  "GENERATE_DEX_METADATA": false,
                  "HTML_TABLE_SCHEMA": false,
                  "LOG_LEVEL": 30,
                  "MAX_RENDER_SIZE_BYTES": 104857600,
                  "MAX_STRING_LENGTH": 250,
                  "NUM_PAST_SAMPLES_TRACKED": 3,
                  "RANDOM_STATE": 12648430,
                  "RESET_INDEX_VALUES": false,
                  "ROW_SAMPLING_METHOD": "random",
                  "SAMPLING_FACTOR": 0.1,
                  "SAMPLING_METHOD": "random",
                  "STRINGIFY_COLUMN_VALUES": true,
                  "STRINGIFY_INDEX_VALUES": false
                },
                "sample_history": [],
                "sampling_time": "2023-10-10T18:54:04.614903",
                "user_variable_name": null,
                "variable_name": "unk_dataframe_ded773608e2e4bfb829288e73df52e0b"
              },
              "display_id": "325865c3-34c0-473e-afce-eb6d8a224a0f"
            }
          },
          "output_type": "display_data"
        }
      ],
      "source": [
        "# Generate and explore the activity trace\n",
        "activity_trace = credit_data_filtered.groupby('case_id')['Activity'].apply(list)\n",
        "activity_trace.head()"
      ]
    },
    {
      "cell_type": "markdown",
      "id": "8fa9c584-664a-4ba8-8ef1-6019d8589ea5",
      "metadata": {
        "noteable": {
          "cell_type": "markdown"
        }
      },
      "source": [
        "## Activity Trace\n",
        "The activity trace provides a sequence of activities for each case ID. It shows the flow of activities that each case goes through, from the creation of an application to its final status. This information is crucial for understanding the process flow and identifying bottlenecks or inefficiencies."
      ]
    },
    {
      "cell_type": "code",
      "execution_count": null,
      "id": "9fd73b0d-4084-43ac-b610-c2d23fa75821",
      "metadata": {
        "ExecuteTime": {
          "end_time": "2023-10-10T18:55:54.011049+00:00",
          "start_time": "2023-10-10T18:55:53.752591+00:00"
        },
        "noteable": {
          "cell_type": "code"
        }
      },
      "outputs": [
        {
          "ename": "KeyError",
          "evalue": "'timestamp'",
          "output_type": "error",
          "traceback": [
            "\u001b[0;31m---------------------------------------------------------------------------\u001b[0m",
            "\u001b[0;31mKeyError\u001b[0m                                  Traceback (most recent call last)",
            "File \u001b[0;32m/opt/conda/lib/python3.9/site-packages/pandas/core/indexes/base.py:3802\u001b[0m, in \u001b[0;36mIndex.get_loc\u001b[0;34m(self, key, method, tolerance)\u001b[0m\n\u001b[1;32m   3801\u001b[0m \u001b[38;5;28;01mtry\u001b[39;00m:\n\u001b[0;32m-> 3802\u001b[0m     \u001b[38;5;28;01mreturn\u001b[39;00m \u001b[38;5;28;43mself\u001b[39;49m\u001b[38;5;241;43m.\u001b[39;49m\u001b[43m_engine\u001b[49m\u001b[38;5;241;43m.\u001b[39;49m\u001b[43mget_loc\u001b[49m\u001b[43m(\u001b[49m\u001b[43mcasted_key\u001b[49m\u001b[43m)\u001b[49m\n\u001b[1;32m   3803\u001b[0m \u001b[38;5;28;01mexcept\u001b[39;00m \u001b[38;5;167;01mKeyError\u001b[39;00m \u001b[38;5;28;01mas\u001b[39;00m err:\n",
            "File \u001b[0;32m/opt/conda/lib/python3.9/site-packages/pandas/_libs/index.pyx:138\u001b[0m, in \u001b[0;36mpandas._libs.index.IndexEngine.get_loc\u001b[0;34m()\u001b[0m\n",
            "File \u001b[0;32m/opt/conda/lib/python3.9/site-packages/pandas/_libs/index.pyx:165\u001b[0m, in \u001b[0;36mpandas._libs.index.IndexEngine.get_loc\u001b[0;34m()\u001b[0m\n",
            "File \u001b[0;32mpandas/_libs/hashtable_class_helper.pxi:5745\u001b[0m, in \u001b[0;36mpandas._libs.hashtable.PyObjectHashTable.get_item\u001b[0;34m()\u001b[0m\n",
            "File \u001b[0;32mpandas/_libs/hashtable_class_helper.pxi:5753\u001b[0m, in \u001b[0;36mpandas._libs.hashtable.PyObjectHashTable.get_item\u001b[0;34m()\u001b[0m\n",
            "\u001b[0;31mKeyError\u001b[0m: 'timestamp'",
            "\nThe above exception was the direct cause of the following exception:\n",
            "\u001b[0;31mKeyError\u001b[0m                                  Traceback (most recent call last)",
            "Cell \u001b[0;32mIn[33], line 2\u001b[0m\n\u001b[1;32m      1\u001b[0m \u001b[38;5;66;03m# Calculate processing time in hours by application type\u001b[39;00m\n\u001b[0;32m----> 2\u001b[0m credit_data_filtered[\u001b[38;5;124m'\u001b[39m\u001b[38;5;124mtimestamp\u001b[39m\u001b[38;5;124m'\u001b[39m] \u001b[38;5;241m=\u001b[39m pd\u001b[38;5;241m.\u001b[39mto_datetime(\u001b[43mcredit_data_filtered\u001b[49m\u001b[43m[\u001b[49m\u001b[38;5;124;43m'\u001b[39;49m\u001b[38;5;124;43mtimestamp\u001b[39;49m\u001b[38;5;124;43m'\u001b[39;49m\u001b[43m]\u001b[49m)\n\u001b[1;32m      3\u001b[0m processing_time \u001b[38;5;241m=\u001b[39m credit_data_filtered\u001b[38;5;241m.\u001b[39mgroupby([\u001b[38;5;124m'\u001b[39m\u001b[38;5;124mcase_id\u001b[39m\u001b[38;5;124m'\u001b[39m, \u001b[38;5;124m'\u001b[39m\u001b[38;5;124mapplication_type\u001b[39m\u001b[38;5;124m'\u001b[39m])[\u001b[38;5;124m'\u001b[39m\u001b[38;5;124mtimestamp\u001b[39m\u001b[38;5;124m'\u001b[39m]\u001b[38;5;241m.\u001b[39mapply(\u001b[38;5;28;01mlambda\u001b[39;00m x: (x\u001b[38;5;241m.\u001b[39mmax() \u001b[38;5;241m-\u001b[39m x\u001b[38;5;241m.\u001b[39mmin())\u001b[38;5;241m.\u001b[39mtotal_seconds() \u001b[38;5;241m/\u001b[39m \u001b[38;5;241m3600\u001b[39m)\n\u001b[1;32m      4\u001b[0m processing_time_by_app_type \u001b[38;5;241m=\u001b[39m processing_time\u001b[38;5;241m.\u001b[39mreset_index()\u001b[38;5;241m.\u001b[39mgroupby(\u001b[38;5;124m'\u001b[39m\u001b[38;5;124mapplication_type\u001b[39m\u001b[38;5;124m'\u001b[39m)\u001b[38;5;241m.\u001b[39magg({\u001b[38;5;124m'\u001b[39m\u001b[38;5;124mtimestamp\u001b[39m\u001b[38;5;124m'\u001b[39m: [\u001b[38;5;124m'\u001b[39m\u001b[38;5;124mmean\u001b[39m\u001b[38;5;124m'\u001b[39m, \u001b[38;5;124m'\u001b[39m\u001b[38;5;124mstd\u001b[39m\u001b[38;5;124m'\u001b[39m]})\n",
            "File \u001b[0;32m/opt/conda/lib/python3.9/site-packages/pandas/core/frame.py:3807\u001b[0m, in \u001b[0;36mDataFrame.__getitem__\u001b[0;34m(self, key)\u001b[0m\n\u001b[1;32m   3805\u001b[0m \u001b[38;5;28;01mif\u001b[39;00m \u001b[38;5;28mself\u001b[39m\u001b[38;5;241m.\u001b[39mcolumns\u001b[38;5;241m.\u001b[39mnlevels \u001b[38;5;241m>\u001b[39m \u001b[38;5;241m1\u001b[39m:\n\u001b[1;32m   3806\u001b[0m     \u001b[38;5;28;01mreturn\u001b[39;00m \u001b[38;5;28mself\u001b[39m\u001b[38;5;241m.\u001b[39m_getitem_multilevel(key)\n\u001b[0;32m-> 3807\u001b[0m indexer \u001b[38;5;241m=\u001b[39m \u001b[38;5;28;43mself\u001b[39;49m\u001b[38;5;241;43m.\u001b[39;49m\u001b[43mcolumns\u001b[49m\u001b[38;5;241;43m.\u001b[39;49m\u001b[43mget_loc\u001b[49m\u001b[43m(\u001b[49m\u001b[43mkey\u001b[49m\u001b[43m)\u001b[49m\n\u001b[1;32m   3808\u001b[0m \u001b[38;5;28;01mif\u001b[39;00m is_integer(indexer):\n\u001b[1;32m   3809\u001b[0m     indexer \u001b[38;5;241m=\u001b[39m [indexer]\n",
            "File \u001b[0;32m/opt/conda/lib/python3.9/site-packages/pandas/core/indexes/base.py:3804\u001b[0m, in \u001b[0;36mIndex.get_loc\u001b[0;34m(self, key, method, tolerance)\u001b[0m\n\u001b[1;32m   3802\u001b[0m     \u001b[38;5;28;01mreturn\u001b[39;00m \u001b[38;5;28mself\u001b[39m\u001b[38;5;241m.\u001b[39m_engine\u001b[38;5;241m.\u001b[39mget_loc(casted_key)\n\u001b[1;32m   3803\u001b[0m \u001b[38;5;28;01mexcept\u001b[39;00m \u001b[38;5;167;01mKeyError\u001b[39;00m \u001b[38;5;28;01mas\u001b[39;00m err:\n\u001b[0;32m-> 3804\u001b[0m     \u001b[38;5;28;01mraise\u001b[39;00m \u001b[38;5;167;01mKeyError\u001b[39;00m(key) \u001b[38;5;28;01mfrom\u001b[39;00m \u001b[38;5;21;01merr\u001b[39;00m\n\u001b[1;32m   3805\u001b[0m \u001b[38;5;28;01mexcept\u001b[39;00m \u001b[38;5;167;01mTypeError\u001b[39;00m:\n\u001b[1;32m   3806\u001b[0m     \u001b[38;5;66;03m# If we have a listlike key, _check_indexing_error will raise\u001b[39;00m\n\u001b[1;32m   3807\u001b[0m     \u001b[38;5;66;03m#  InvalidIndexError. Otherwise we fall through and re-raise\u001b[39;00m\n\u001b[1;32m   3808\u001b[0m     \u001b[38;5;66;03m#  the TypeError.\u001b[39;00m\n\u001b[1;32m   3809\u001b[0m     \u001b[38;5;28mself\u001b[39m\u001b[38;5;241m.\u001b[39m_check_indexing_error(key)\n",
            "\u001b[0;31mKeyError\u001b[0m: 'timestamp'"
          ]
        }
      ],
      "source": [
        "# Calculate processing time in hours by application type\n",
        "credit_data_filtered['timestamp'] = pd.to_datetime(credit_data_filtered['timestamp'])\n",
        "processing_time = credit_data_filtered.groupby(['case_id', 'application_type'])['timestamp'].apply(lambda x: (x.max() - x.min()).total_seconds() / 3600)\n",
        "processing_time_by_app_type = processing_time.reset_index().groupby('application_type').agg({'timestamp': ['mean', 'std']})\n",
        "processing_time_by_app_type.columns = ['Mean Processing Time (hrs)', 'Std Dev Processing Time (hrs)']\n",
        "processing_time_by_app_type.reset_index(inplace=True)\n",
        "processing_time_by_app_type"
      ]
    },
    {
      "cell_type": "code",
      "execution_count": null,
      "id": "21767ac5-66c6-45d3-bc50-d740be8a6a01",
      "metadata": {
        "ExecuteTime": {
          "end_time": "2023-10-10T18:56:59.428764+00:00",
          "start_time": "2023-10-10T18:56:59.272870+00:00"
        },
        "noteable": {
          "cell_type": "code"
        }
      },
      "outputs": [
        {
          "data": {
            "text/plain": [
              "Index(['case_id', 'Activity', 'resource', 'start_timestamp',\n",
              "       'complete_timestamp', 'variant', 'variant_index',\n",
              "       'case_application_type', 'case_credit_goal', 'case_requested_amount',\n",
              "       'accepted', 'action', 'credit_score', 'event_id', 'event_origin',\n",
              "       'first_wthdrawal_amount', 'monthly_cost', 'number_of_terms', 'offer_id',\n",
              "       'offered_amount', 'Selected', 'lifecycle_transition', 'starttimestamp',\n",
              "       'endtimestamp'],\n",
              "      dtype='object')"
            ]
          },
          "execution_count": null,
          "metadata": {},
          "output_type": "execute_result"
        }
      ],
      "source": [
        "# Check the column names in the filtered dataset to debug the issue\n",
        "credit_data_filtered.columns"
      ]
    },
    {
      "cell_type": "code",
      "execution_count": null,
      "id": "9828f859-2b0c-416f-92cb-a9fdea6289e2",
      "metadata": {
        "ExecuteTime": {
          "end_time": "2023-10-10T18:58:58.975790+00:00",
          "start_time": "2023-10-10T18:58:58.701654+00:00"
        },
        "datalink": {
          "7527a432-f560-482c-9b84-5ca50a180f1d": {
            "applied_filters": [],
            "dataframe_info": {
              "default_index_used": true,
              "orig_num_cols": 3,
              "orig_num_rows": 1,
              "orig_size_bytes": 32,
              "truncated_num_cols": 3,
              "truncated_num_rows": 1,
              "truncated_size_bytes": 32,
              "truncated_string_columns": []
            },
            "display_id": "7527a432-f560-482c-9b84-5ca50a180f1d",
            "dx_settings": {
              "ALLOW_NOTEABLE_ATTRS": true,
              "COLUMN_SAMPLING_METHOD": "outer",
              "DB_LOCATION": ":memory:",
              "DEV_MODE": false,
              "DISPLAY_MAX_COLUMNS": 100,
              "DISPLAY_MAX_ROWS": 50000,
              "DISPLAY_MODE": "simple",
              "ENABLE_ASSIGNMENT": true,
              "ENABLE_DATALINK": true,
              "FLATTEN_COLUMN_VALUES": true,
              "FLATTEN_INDEX_VALUES": false,
              "GENERATE_DEX_METADATA": false,
              "HTML_TABLE_SCHEMA": false,
              "LOG_LEVEL": 30,
              "MAX_RENDER_SIZE_BYTES": 104857600,
              "MAX_STRING_LENGTH": 250,
              "NUM_PAST_SAMPLES_TRACKED": 3,
              "RANDOM_STATE": 12648430,
              "RESET_INDEX_VALUES": false,
              "ROW_SAMPLING_METHOD": "random",
              "SAMPLING_FACTOR": 0.1,
              "SAMPLING_METHOD": "random",
              "STRINGIFY_COLUMN_VALUES": true,
              "STRINGIFY_INDEX_VALUES": false
            },
            "sample_history": [],
            "sampling_time": "2023-10-10T18:58:58.816176",
            "user_variable_name": "processing_time_by_app_type",
            "variable_name": "processing_time_by_app_type"
          }
        },
        "noteable": {
          "cell_type": "code"
        }
      },
      "outputs": [
        {
          "data": {
            "application/vnd.dataresource+json": {
              "data": [
                {
                  "Application Type": "New credit",
                  "Mean Processing Time (hrs)": 1.3388543178829717,
                  "Std Dev Processing Time (hrs)": 8.86317055908918,
                  "index": 0
                }
              ],
              "datalink": {
                "display_id": "7527a432-f560-482c-9b84-5ca50a180f1d"
              },
              "schema": {
                "fields": [
                  {
                    "name": "index",
                    "type": "integer"
                  },
                  {
                    "name": "Application Type",
                    "type": "string"
                  },
                  {
                    "name": "Mean Processing Time (hrs)",
                    "type": "number"
                  },
                  {
                    "name": "Std Dev Processing Time (hrs)",
                    "type": "number"
                  }
                ],
                "pandas_version": "1.4.0",
                "primaryKey": [
                  "index"
                ]
              }
            }
          },
          "metadata": {
            "application/vnd.dataresource+json": {
              "datalink": {
                "applied_filters": [],
                "dataframe_info": {
                  "default_index_used": true,
                  "orig_num_cols": 3,
                  "orig_num_rows": 1,
                  "orig_size_bytes": 32,
                  "truncated_num_cols": 3,
                  "truncated_num_rows": 1,
                  "truncated_size_bytes": 32,
                  "truncated_string_columns": []
                },
                "display_id": "7527a432-f560-482c-9b84-5ca50a180f1d",
                "dx_settings": {
                  "ALLOW_NOTEABLE_ATTRS": true,
                  "COLUMN_SAMPLING_METHOD": "outer",
                  "DB_LOCATION": ":memory:",
                  "DEV_MODE": false,
                  "DISPLAY_MAX_COLUMNS": 100,
                  "DISPLAY_MAX_ROWS": 50000,
                  "DISPLAY_MODE": "simple",
                  "ENABLE_ASSIGNMENT": true,
                  "ENABLE_DATALINK": true,
                  "FLATTEN_COLUMN_VALUES": true,
                  "FLATTEN_INDEX_VALUES": false,
                  "GENERATE_DEX_METADATA": false,
                  "HTML_TABLE_SCHEMA": false,
                  "LOG_LEVEL": 30,
                  "MAX_RENDER_SIZE_BYTES": 104857600,
                  "MAX_STRING_LENGTH": 250,
                  "NUM_PAST_SAMPLES_TRACKED": 3,
                  "RANDOM_STATE": 12648430,
                  "RESET_INDEX_VALUES": false,
                  "ROW_SAMPLING_METHOD": "random",
                  "SAMPLING_FACTOR": 0.1,
                  "SAMPLING_METHOD": "random",
                  "STRINGIFY_COLUMN_VALUES": true,
                  "STRINGIFY_INDEX_VALUES": false
                },
                "sample_history": [],
                "sampling_time": "2023-10-10T18:58:58.816176",
                "user_variable_name": "processing_time_by_app_type",
                "variable_name": "processing_time_by_app_type"
              },
              "display_id": "7527a432-f560-482c-9b84-5ca50a180f1d"
            }
          },
          "output_type": "display_data"
        }
      ],
      "source": [
        "# Convert 'start_timestamp' and 'complete_timestamp' to datetime format\n",
        "credit_data_filtered['start_timestamp'] = pd.to_datetime(credit_data_filtered['start_timestamp'])\n",
        "credit_data_filtered['complete_timestamp'] = pd.to_datetime(credit_data_filtered['complete_timestamp'])\n",
        "\n",
        "# Calculate processing time in hours by application type\n",
        "credit_data_filtered['processing_time_hours'] = (credit_data_filtered['complete_timestamp'] - credit_data_filtered['start_timestamp']).dt.total_seconds() / 3600\n",
        "processing_time_by_app_type = credit_data_filtered.groupby('case_application_type')['processing_time_hours'].agg(['mean', 'std']).reset_index()\n",
        "processing_time_by_app_type.columns = ['Application Type', 'Mean Processing Time (hrs)', 'Std Dev Processing Time (hrs)']\n",
        "processing_time_by_app_type"
      ]
    },
    {
      "cell_type": "markdown",
      "id": "375a32be-b978-4b57-b539-db79b768c825",
      "metadata": {
        "noteable": {
          "cell_type": "markdown"
        }
      },
      "source": [
        "## Processing Time in Hours by Application Type\n",
        "The table provides an overview of the processing time in hours for different types of applications. It shows the mean and standard deviation of processing time for each application type. For example, the mean processing time for 'New credit' applications is approximately 1.34 hours with a standard deviation of 8.86 hours."
      ]
    }
  ],
  "metadata": {
    "kernel_info": {
      "name": "python3"
    },
    "kernelspec": {
      "display_name": "Python 3.9",
      "language": "python",
      "name": "python3"
    },
    "noteable": {
      "last_delta_id": "cd2b4f3d-ea2c-400e-a281-4be23c64dfcf"
    },
    "noteable-chatgpt": {
      "create_notebook": {
        "openai_conversation_id": "4ca524fe-29f4-5d41-962f-88b982381efa",
        "openai_ephemeral_user_id": "0582ccb1-a444-5e77-87d2-a1608c1555f2",
        "openai_subdivision1_iso_code": "US-OH"
      }
    },
    "nteract": {
      "version": "noteable@2.9.0"
    },
    "selected_hardware_size": "small"
  },
  "nbformat": 4,
  "nbformat_minor": 5
}
